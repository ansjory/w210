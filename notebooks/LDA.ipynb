{
 "cells": [
  {
   "cell_type": "code",
   "execution_count": 1,
   "metadata": {},
   "outputs": [],
   "source": [
    "import pandas as pd"
   ]
  },
  {
   "cell_type": "code",
   "execution_count": 85,
   "metadata": {},
   "outputs": [],
   "source": [
    "questions = pd.read_csv('/Users/cansjory/Downloads/PostQuestionsFiltered.tsv', delimiter='\\t', encoding='utf-8', nrows=1000)"
   ]
  },
  {
   "cell_type": "code",
   "execution_count": 86,
   "metadata": {},
   "outputs": [
    {
     "data": {
      "text/html": [
       "<div>\n",
       "<style scoped>\n",
       "    .dataframe tbody tr th:only-of-type {\n",
       "        vertical-align: middle;\n",
       "    }\n",
       "\n",
       "    .dataframe tbody tr th {\n",
       "        vertical-align: top;\n",
       "    }\n",
       "\n",
       "    .dataframe thead th {\n",
       "        text-align: right;\n",
       "    }\n",
       "</style>\n",
       "<table border=\"1\" class=\"dataframe\">\n",
       "  <thead>\n",
       "    <tr style=\"text-align: right;\">\n",
       "      <th></th>\n",
       "      <th>Unnamed: 0</th>\n",
       "      <th>id</th>\n",
       "      <th>title</th>\n",
       "      <th>body</th>\n",
       "      <th>accepted_answer_id</th>\n",
       "      <th>answer_count</th>\n",
       "      <th>comment_count</th>\n",
       "      <th>community_owned_date</th>\n",
       "      <th>creation_date</th>\n",
       "      <th>favorite_count</th>\n",
       "      <th>...</th>\n",
       "      <th>last_edit_date</th>\n",
       "      <th>last_editor_display_name</th>\n",
       "      <th>last_editor_user_id</th>\n",
       "      <th>owner_display_name</th>\n",
       "      <th>owner_user_id</th>\n",
       "      <th>parent_id</th>\n",
       "      <th>post_type_id</th>\n",
       "      <th>score</th>\n",
       "      <th>tags</th>\n",
       "      <th>view_count</th>\n",
       "    </tr>\n",
       "  </thead>\n",
       "  <tbody>\n",
       "    <tr>\n",
       "      <th>0</th>\n",
       "      <td>0</td>\n",
       "      <td>32514327</td>\n",
       "      <td>Compiling graph-tool on RHEL</td>\n",
       "      <td>&lt;p&gt;I need to use Python's graph-tool on a RHEL...</td>\n",
       "      <td>32525566.0</td>\n",
       "      <td>1</td>\n",
       "      <td>5</td>\n",
       "      <td>NaN</td>\n",
       "      <td>2015-09-11 01:57:28.747000+00:00</td>\n",
       "      <td>NaN</td>\n",
       "      <td>...</td>\n",
       "      <td>2015-09-11 11:59:28.830000+00:00</td>\n",
       "      <td>NaN</td>\n",
       "      <td>1159005.0</td>\n",
       "      <td>NaN</td>\n",
       "      <td>1159005.0</td>\n",
       "      <td>NaN</td>\n",
       "      <td>1</td>\n",
       "      <td>1</td>\n",
       "      <td>boostcompilationconfigurerhelgraph-tool</td>\n",
       "      <td>465</td>\n",
       "    </tr>\n",
       "    <tr>\n",
       "      <th>1</th>\n",
       "      <td>1</td>\n",
       "      <td>32770176</td>\n",
       "      <td>in Java, how can I map String to a Set&lt;String&gt;...</td>\n",
       "      <td>&lt;p&gt;I need a HashMap, which the key is String a...</td>\n",
       "      <td>32770240.0</td>\n",
       "      <td>4</td>\n",
       "      <td>5</td>\n",
       "      <td>NaN</td>\n",
       "      <td>2015-09-24 20:18:56.413000+00:00</td>\n",
       "      <td>NaN</td>\n",
       "      <td>...</td>\n",
       "      <td>NaN</td>\n",
       "      <td>NaN</td>\n",
       "      <td>NaN</td>\n",
       "      <td>NaN</td>\n",
       "      <td>4839810.0</td>\n",
       "      <td>NaN</td>\n",
       "      <td>1</td>\n",
       "      <td>1</td>\n",
       "      <td>javaoopobjecthashmapset</td>\n",
       "      <td>3281</td>\n",
       "    </tr>\n",
       "    <tr>\n",
       "      <th>2</th>\n",
       "      <td>2</td>\n",
       "      <td>32743621</td>\n",
       "      <td>Bypass Google Maps Directions limits</td>\n",
       "      <td>&lt;p&gt;I've to make a map with multiple directions...</td>\n",
       "      <td>32755498.0</td>\n",
       "      <td>1</td>\n",
       "      <td>5</td>\n",
       "      <td>NaN</td>\n",
       "      <td>2015-09-23 15:26:13.510000+00:00</td>\n",
       "      <td>NaN</td>\n",
       "      <td>...</td>\n",
       "      <td>NaN</td>\n",
       "      <td>NaN</td>\n",
       "      <td>NaN</td>\n",
       "      <td>NaN</td>\n",
       "      <td>2435421.0</td>\n",
       "      <td>NaN</td>\n",
       "      <td>1</td>\n",
       "      <td>-1</td>\n",
       "      <td>google-mapsdirectionslimits</td>\n",
       "      <td>468</td>\n",
       "    </tr>\n",
       "    <tr>\n",
       "      <th>3</th>\n",
       "      <td>3</td>\n",
       "      <td>32610422</td>\n",
       "      <td>React and d3.js - attaching event handlers</td>\n",
       "      <td>&lt;p&gt;I'm working on a project using React for my...</td>\n",
       "      <td>NaN</td>\n",
       "      <td>0</td>\n",
       "      <td>5</td>\n",
       "      <td>NaN</td>\n",
       "      <td>2015-09-16 13:45:13.790000+00:00</td>\n",
       "      <td>NaN</td>\n",
       "      <td>...</td>\n",
       "      <td>NaN</td>\n",
       "      <td>NaN</td>\n",
       "      <td>NaN</td>\n",
       "      <td>NaN</td>\n",
       "      <td>645070.0</td>\n",
       "      <td>NaN</td>\n",
       "      <td>1</td>\n",
       "      <td>0</td>\n",
       "      <td>javascriptd3.jsreactjs</td>\n",
       "      <td>473</td>\n",
       "    </tr>\n",
       "    <tr>\n",
       "      <th>4</th>\n",
       "      <td>4</td>\n",
       "      <td>32740005</td>\n",
       "      <td>JavaFX Chart axis label formatting</td>\n",
       "      <td>&lt;p&gt;I wrote a simple program to monitor my ping...</td>\n",
       "      <td>32741170.0</td>\n",
       "      <td>1</td>\n",
       "      <td>5</td>\n",
       "      <td>NaN</td>\n",
       "      <td>2015-09-23 12:45:32.097000+00:00</td>\n",
       "      <td>0.0</td>\n",
       "      <td>...</td>\n",
       "      <td>2015-09-23 16:26:39.820000+00:00</td>\n",
       "      <td>NaN</td>\n",
       "      <td>3941856.0</td>\n",
       "      <td>NaN</td>\n",
       "      <td>3941856.0</td>\n",
       "      <td>NaN</td>\n",
       "      <td>1</td>\n",
       "      <td>3</td>\n",
       "      <td>javachartsjavafxlabellinechart</td>\n",
       "      <td>8952</td>\n",
       "    </tr>\n",
       "  </tbody>\n",
       "</table>\n",
       "<p>5 rows × 21 columns</p>\n",
       "</div>"
      ],
      "text/plain": [
       "   Unnamed: 0        id                                              title  \\\n",
       "0           0  32514327                       Compiling graph-tool on RHEL   \n",
       "1           1  32770176  in Java, how can I map String to a Set<String>...   \n",
       "2           2  32743621               Bypass Google Maps Directions limits   \n",
       "3           3  32610422         React and d3.js - attaching event handlers   \n",
       "4           4  32740005                 JavaFX Chart axis label formatting   \n",
       "\n",
       "                                                body  accepted_answer_id  \\\n",
       "0  <p>I need to use Python's graph-tool on a RHEL...          32525566.0   \n",
       "1  <p>I need a HashMap, which the key is String a...          32770240.0   \n",
       "2  <p>I've to make a map with multiple directions...          32755498.0   \n",
       "3  <p>I'm working on a project using React for my...                 NaN   \n",
       "4  <p>I wrote a simple program to monitor my ping...          32741170.0   \n",
       "\n",
       "   answer_count  comment_count  community_owned_date  \\\n",
       "0             1              5                   NaN   \n",
       "1             4              5                   NaN   \n",
       "2             1              5                   NaN   \n",
       "3             0              5                   NaN   \n",
       "4             1              5                   NaN   \n",
       "\n",
       "                      creation_date  favorite_count    ...      \\\n",
       "0  2015-09-11 01:57:28.747000+00:00             NaN    ...       \n",
       "1  2015-09-24 20:18:56.413000+00:00             NaN    ...       \n",
       "2  2015-09-23 15:26:13.510000+00:00             NaN    ...       \n",
       "3  2015-09-16 13:45:13.790000+00:00             NaN    ...       \n",
       "4  2015-09-23 12:45:32.097000+00:00             0.0    ...       \n",
       "\n",
       "                     last_edit_date last_editor_display_name  \\\n",
       "0  2015-09-11 11:59:28.830000+00:00                      NaN   \n",
       "1                               NaN                      NaN   \n",
       "2                               NaN                      NaN   \n",
       "3                               NaN                      NaN   \n",
       "4  2015-09-23 16:26:39.820000+00:00                      NaN   \n",
       "\n",
       "  last_editor_user_id  owner_display_name owner_user_id  parent_id  \\\n",
       "0           1159005.0                 NaN     1159005.0        NaN   \n",
       "1                 NaN                 NaN     4839810.0        NaN   \n",
       "2                 NaN                 NaN     2435421.0        NaN   \n",
       "3                 NaN                 NaN      645070.0        NaN   \n",
       "4           3941856.0                 NaN     3941856.0        NaN   \n",
       "\n",
       "   post_type_id  score                                     tags view_count  \n",
       "0             1      1  boostcompilationconfigurerhelgraph-tool        465  \n",
       "1             1      1                  javaoopobjecthashmapset       3281  \n",
       "2             1     -1              google-mapsdirectionslimits        468  \n",
       "3             1      0                   javascriptd3.jsreactjs        473  \n",
       "4             1      3           javachartsjavafxlabellinechart       8952  \n",
       "\n",
       "[5 rows x 21 columns]"
      ]
     },
     "execution_count": 86,
     "metadata": {},
     "output_type": "execute_result"
    }
   ],
   "source": [
    "questions.head()"
   ]
  },
  {
   "cell_type": "code",
   "execution_count": 87,
   "metadata": {},
   "outputs": [
    {
     "data": {
      "text/plain": [
       "'<p>I need to use Python\\'s graph-tool on a RHEL6 server.\\r\\nThe system administrator has not been able to install the boost library from a repository that he trusts (or whatever), so has installed it at</p>\\r\\n\\r\\n<p>/usr/local/boost_1_59_0/</p>\\r\\n\\r\\n<p>Inside are two directories, boost/ and libs/  which I am taking to be the header and libs directories.</p>\\r\\n\\r\\n<p>I downloaded the source:</p>\\r\\n\\r\\n<pre><code>wget http://downloads.skewed.de/graph-tool/graph-tool-2.2.44.tar.bz2\\r\\n</code></pre>\\r\\n\\r\\n<p>And unpacking that, I tried:</p>\\r\\n\\r\\n<pre><code>env CPPFLAGS=\\'-I/home/foo/sw/include\\' LDFLAGS=\\'-L/home/foo/sw/lib/\\' ./configure\\r\\n</code></pre>\\r\\n\\r\\n<p>but that didn\\'t give any different result than \"./configure\" by itself.\\r\\nIt says:</p>\\r\\n\\r\\n<blockquote>\\r\\n  <p>checking for boostlib >= 1.53.0... configure: error: We could not\\r\\n  detect the boost libraries (version 1.53 or higher). If you have a\\r\\n  staged boost library (still not installed) please specify $BOOST_ROOT\\r\\n  in your environment and do not give a PATH to --with-boost option.  If\\r\\n  you are sure you have boost installed, then check your version number\\r\\n  looking in . See <a href=\"http://randspringer.de/boost\" rel=\"nofollow\">http://randspringer.de/boost</a> for\\r\\n  more documentation.</p>\\r\\n</blockquote>\\r\\n\\r\\n<p>I also tried:</p>\\r\\n\\r\\n<pre><code>\\\\env BOOST_ROOT=\\'/usr/local/boost_1_59_0\\' CPPFLAGS=\\'-I/usr/local/boost_1_59_0/boost\\' LDFLAGS=\\'-L/usr/local/boost_1_59_0/libs/\\'\\r\\n./configure\\r\\n</code></pre>\\r\\n\\r\\n<p>but that got the same.</p>\\r\\n\\r\\n<p>I also tried:</p>\\r\\n\\r\\n<pre><code>./configure  --with-boost-libdir=/usr/local/boost_1_59_0/libs/ --with-boost=/usr/local/boost_1_59_0\\r\\n</code></pre>\\r\\n\\r\\n<p>I obviously don\\'t know what I\\'m doing.\\r\\nIs this enough to see what I\\'ve done wrong?</p>\\r\\n\\r\\n<p>Update:</p>\\r\\n\\r\\n<p>gcc version:<br>\\r\\ngcc (GCC) 4.4.7 20120313 (Red Hat 4.4.7-11)</p>\\r\\n\\r\\n<p>Looking at config.log from the graph-tool\\'s failed configure, I find the following towards the end:</p>\\r\\n\\r\\n<pre><code>configure:17873: g++ -c -Wall -Wextra -ftemplate-backtrace-limit=0  -DNDEBUG -std=gnu++0x -ftemplate-depth-250 -Wno-deprecated -Wno-unknown-pragmas -O3 -fvisibility=default -fvisibility-inlines-hidden -Wno-unknown-pragmas  -I/usr/include/python2.6  conftest.cpp &gt;&amp;5\\r\\ncc1plus: error: unrecognized command line option \"-ftemplate-backtrace-limit=0\"\\r\\nconfigure:17873: $? = 1\\r\\nconfigure: failed program was:\\r\\n| /* confdefs.h */\\r\\n| #define PACKAGE_NAME \"graph-tool\"\\r\\n| #define PACKAGE_TARNAME \"graph-tool\"\\r\\n| #define PACKAGE_VERSION \"2.2.44\"\\r\\n| #define PACKAGE_STRING \"graph-tool 2.2.44\"\\r\\n| #define PACKAGE_BUGREPORT \"http://graph-tool.skewed.de/tickets\"\\r\\n| #define PACKAGE_URL \"http://graph-tool.skewed.de\"\\r\\n| #define PACKAGE \"graph-tool\"\\r\\n| #define VERSION \"2.2.44\"\\r\\n| #define STDC_HEADERS 1\\r\\n| #define HAVE_SYS_TYPES_H 1\\r\\n| #define HAVE_SYS_STAT_H 1\\r\\n| #define HAVE_STDLIB_H 1\\r\\n| #define HAVE_STRING_H 1\\r\\n| #define HAVE_MEMORY_H 1\\r\\n| #define HAVE_STRINGS_H 1\\r\\n| #define HAVE_INTTYPES_H 1\\r\\n| #define HAVE_STDINT_H 1\\r\\n| #define HAVE_UNISTD_H 1\\r\\n| #define __EXTENSIONS__ 1\\r\\n| #define _ALL_SOURCE 1\\r\\n| #define _GNU_SOURCE 1\\r\\n| #define _POSIX_PTHREAD_SEMANTICS 1\\r\\n| #define _TANDEM_SOURCE 1\\r\\n| #define STDC_HEADERS 1\\r\\n| #define HAVE_DLFCN_H 1\\r\\n| #define LT_OBJDIR \".libs/\"\\r\\n| #define HAVE_PYTHON \"2.6\"\\r\\n| /* end confdefs.h.  */\\r\\n| \\r\\n|   #include &lt;boost/version.hpp&gt;\\r\\n| \\r\\n| int\\r\\n| main ()\\r\\n| {\\r\\n| \\r\\n|   #if BOOST_VERSION &gt;= 105300\\r\\n|   // Everything is okay\\r\\n|   #else\\r\\n|   #  error Boost version is too old\\r\\n|   #endif\\r\\n| \\r\\n|   ;\\r\\n|   return 0;\\r\\n| }\\r\\nconfigure:17972: g++ -c -Wall -Wextra -ftemplate-backtrace-limit=0  -DNDEBUG -std=gnu++0x -ftemplate-depth-250 -Wno-deprecated -Wno-unknown-pragmas -O3 -fvisibility=default -fvisibility-inlines-hidden -Wno-unknown-pragmas  -I/usr/include/python2.6  -I/include/boost-0 conftest.cpp &gt;&amp;5\\r\\ncc1plus: error: unrecognized command line option \"-ftemplate-backtrace-limit=0\"\\r\\nconfigure:17972: $? = 1\\r\\nconfigure: failed program was:\\r\\n| /* confdefs.h */\\r\\n| #define PACKAGE_NAME \"graph-tool\"\\r\\n| #define PACKAGE_TARNAME \"graph-tool\"\\r\\n| #define PACKAGE_VERSION \"2.2.44\"\\r\\n| #define PACKAGE_STRING \"graph-tool 2.2.44\"\\r\\n| #define PACKAGE_BUGREPORT \"http://graph-tool.skewed.de/tickets\"\\r\\n| #define PACKAGE_URL \"http://graph-tool.skewed.de\"\\r\\n| #define PACKAGE \"graph-tool\"\\r\\n| #define VERSION \"2.2.44\"\\r\\n| #define STDC_HEADERS 1\\r\\n| #define HAVE_SYS_TYPES_H 1\\r\\n| #define HAVE_SYS_STAT_H 1\\r\\n| #define HAVE_STDLIB_H 1\\r\\n| #define HAVE_STRING_H 1\\r\\n| #define HAVE_MEMORY_H 1\\r\\n| #define HAVE_STRINGS_H 1\\r\\n| #define HAVE_INTTYPES_H 1\\r\\n| #define HAVE_STDINT_H 1\\r\\n| #define HAVE_UNISTD_H 1\\r\\n| #define __EXTENSIONS__ 1\\r\\n| #define _ALL_SOURCE 1\\r\\n| #define _GNU_SOURCE 1\\r\\n| #define _POSIX_PTHREAD_SEMANTICS 1\\r\\n| #define _TANDEM_SOURCE 1\\r\\n| #define STDC_HEADERS 1\\r\\n| #define HAVE_DLFCN_H 1\\r\\n| #define LT_OBJDIR \".libs/\"\\r\\n| #define HAVE_PYTHON \"2.6\"\\r\\n| /* end confdefs.h.  */\\r\\n| \\r\\n|       #include &lt;boost/version.hpp&gt;\\r\\n| \\r\\n| int\\r\\n| main ()\\r\\n| {\\r\\n| \\r\\n|       #if BOOST_VERSION &gt;= 105300\\r\\n|       // Everything is okay\\r\\n|       #else\\r\\n|       #  error Boost version is too old\\r\\n|       #endif\\r\\n| \\r\\n|   ;\\r\\n|   return 0;\\r\\n| }\\r\\nconfigure:17991: error: We could not detect the boost libraries (version 1.53 or higher). If you have a staged boost library (still not installed) please specify $BOOST_ROOT in your environment and do not give a PATH to --with-boost option.  If you are sure you have boost installed, then check your version number looking in &lt;boost/version.hpp&gt;. See http://randspringer.de/boost for more documentation.\\r\\n</code></pre>'"
      ]
     },
     "execution_count": 87,
     "metadata": {},
     "output_type": "execute_result"
    }
   ],
   "source": [
    "questions['body'][0]"
   ]
  },
  {
   "cell_type": "code",
   "execution_count": 92,
   "metadata": {},
   "outputs": [
    {
     "name": "stdout",
     "output_type": "stream",
     "text": [
      "valid\n"
     ]
    }
   ],
   "source": [
    "from django.core.validators import URLValidator\n",
    "from django.core.exceptions import ValidationError\n",
    "\n",
    "val = URLValidator()\n",
    "try:\n",
    "    val('http://www.google.com')\n",
    "    print ('valid')\n",
    "except ValidationError:\n",
    "    print ('not valid')"
   ]
  },
  {
   "cell_type": "code",
   "execution_count": 93,
   "metadata": {},
   "outputs": [
    {
     "data": {
      "text/plain": [
       "'boostcompilationconfigurerhelgraph-tool'"
      ]
     },
     "execution_count": 93,
     "metadata": {},
     "output_type": "execute_result"
    }
   ],
   "source": [
    "questions['tags'][0]"
   ]
  },
  {
   "cell_type": "code",
   "execution_count": 94,
   "metadata": {},
   "outputs": [],
   "source": [
    "ques_title = questions[['body']]"
   ]
  },
  {
   "cell_type": "code",
   "execution_count": 95,
   "metadata": {},
   "outputs": [
    {
     "name": "stderr",
     "output_type": "stream",
     "text": [
      "/anaconda3/lib/python3.6/site-packages/ipykernel_launcher.py:1: SettingWithCopyWarning: \n",
      "A value is trying to be set on a copy of a slice from a DataFrame.\n",
      "Try using .loc[row_indexer,col_indexer] = value instead\n",
      "\n",
      "See the caveats in the documentation: http://pandas.pydata.org/pandas-docs/stable/indexing.html#indexing-view-versus-copy\n",
      "  \"\"\"Entry point for launching an IPython kernel.\n"
     ]
    }
   ],
   "source": [
    "ques_title['index'] = ques_title.index"
   ]
  },
  {
   "cell_type": "code",
   "execution_count": 96,
   "metadata": {},
   "outputs": [],
   "source": [
    "titles = ques_title"
   ]
  },
  {
   "cell_type": "code",
   "execution_count": 97,
   "metadata": {},
   "outputs": [
    {
     "name": "stdout",
     "output_type": "stream",
     "text": [
      "1000\n"
     ]
    }
   ],
   "source": [
    "print(len(titles))"
   ]
  },
  {
   "cell_type": "code",
   "execution_count": 98,
   "metadata": {},
   "outputs": [
    {
     "name": "stdout",
     "output_type": "stream",
     "text": [
      "                                                body  index\n",
      "0  <p>I need to use Python's graph-tool on a RHEL...      0\n",
      "1  <p>I need a HashMap, which the key is String a...      1\n",
      "2  <p>I've to make a map with multiple directions...      2\n",
      "3  <p>I'm working on a project using React for my...      3\n",
      "4  <p>I wrote a simple program to monitor my ping...      4\n"
     ]
    }
   ],
   "source": [
    "print(titles[:5])"
   ]
  },
  {
   "cell_type": "code",
   "execution_count": 99,
   "metadata": {},
   "outputs": [
    {
     "name": "stdout",
     "output_type": "stream",
     "text": [
      "[nltk_data] Downloading package wordnet to\n",
      "[nltk_data]     /Users/cansjory/nltk_data...\n",
      "[nltk_data]   Package wordnet is already up-to-date!\n"
     ]
    },
    {
     "data": {
      "text/plain": [
       "True"
      ]
     },
     "execution_count": 99,
     "metadata": {},
     "output_type": "execute_result"
    }
   ],
   "source": [
    "import gensim\n",
    "from gensim.utils import simple_preprocess\n",
    "from gensim.parsing.preprocessing import STOPWORDS\n",
    "from nltk.stem import WordNetLemmatizer, SnowballStemmer\n",
    "from nltk.stem.porter import *\n",
    "import numpy as np\n",
    "np.random.seed(2019)\n",
    "\n",
    "import nltk\n",
    "nltk.download('wordnet')"
   ]
  },
  {
   "cell_type": "code",
   "execution_count": 100,
   "metadata": {},
   "outputs": [],
   "source": [
    "def lemmatize_stemming(text):\n",
    "    stemmer = PorterStemmer()\n",
    "    return stemmer.stem(WordNetLemmatizer().lemmatize(text, pos='v'))"
   ]
  },
  {
   "cell_type": "code",
   "execution_count": 101,
   "metadata": {},
   "outputs": [],
   "source": [
    "def preprocess(text):\n",
    "    result = []\n",
    "    for token in gensim.utils.simple_preprocess(text):\n",
    "        if token not in gensim.parsing.preprocessing.STOPWORDS and len(token) > 3:\n",
    "            result.append(lemmatize_stemming(token))\n",
    "    return result"
   ]
  },
  {
   "cell_type": "code",
   "execution_count": 102,
   "metadata": {},
   "outputs": [
    {
     "name": "stdout",
     "output_type": "stream",
     "text": [
      "original title: \n",
      "['<p>I', 'used', 'to', 'get', 'mapping', 'not', 'found', 'for', 'favicon.ico', 'so', 'decided', 'to', 'deal', 'with', 'it.', '</p>\\r\\n\\r\\n<p>Easiest', 'thing', 'for', 'me', 'was', 'to', 'add', 'an', 'action', 'to', 'a', 'controller', 'method,@RequestMapping(\"/favicon.ico\").', '</p>\\r\\n\\r\\n<p>I', 'no', 'longer', 'get', 'these', 'complaints', '(', 'although', 'I', \"don't\", 'request', 'favicon.ico', 'myself', 'in', 'an', 'html', 'file,', 'I', 'guess', 'teh', 'browser', 'does', 'this', 'automatically', ').', '</p>\\r\\n\\r\\n<p><strong>When', 'I', 'visit', '<a', 'href=\"http://localhost:8080/favicon.ico\"', 'rel=\"nofollow\">http://localhost:8080/favicon.ico</a>', 'the', 'action', 'gets', 'hit!</strong></p>\\r\\n\\r\\n<p>I', 'add', 'the', 'following', 'to', 'my', 'html', 'file:', '</p>\\r\\n\\r\\n<pre><code>&lt;link', 'href=\"/favicon.ico\"', 'rel=\"icon\"', 'type=\"image/x-icon\"', '/&gt;\\r\\n</code></pre>\\r\\n\\r\\n<p>But', 'the', 'action', 'never', 'gets', 'hit.', \"</p>\\r\\n\\r\\n<p>I've\", 'also', 'tried', '</p>\\r\\n\\r\\n<pre><code>&lt;link', 'href=\"http://localhost:8080/favicon.ico\"', 'rel=\"icon\"', 'type=\"image/x-icon\"', '/&gt;\\r\\n</code></pre>\\r\\n\\r\\n<p>but', 'action', 'does', 'not', 'get', 'hit.', '</p>\\r\\n\\r\\n<p>I', 'suspect', 'this', 'has', 'to', 'do', 'with', 'get/post', 'request', 'something,', 'and', 'when', 'I', 'request', 'it', 'from', 'the', 'browser', 'manually,', 'a', 'get', 'request', 'is', 'made.', 'When', 'from', 'an', 'html', 'file', 'something', 'else,', 'and', 'Spring', \"won't\", 'recognize', 'this.', '</p>\\r\\n\\r\\n<p>Please', 'do', 'not', 'recommend', 'me', 'doing:', '</p>\\r\\n\\r\\n<pre><code>&lt;mvc:resources', 'mapping=\"/favicon.ico\"', 'location=\"/favicon.ico\"', '/&gt;\\r\\n</code></pre>\\r\\n\\r\\n<p>as', 'I', 'like', 'to', 'do', 'it', 'from', 'my', 'controller', 'as', 'I', 'have', 'some', 'logic', 'there.', '</p>\\r\\n\\r\\n<p>Could', 'there', 'be', 'some', 'cache', 'involved?</p>\\r\\n\\r\\n<p>EDIT:', '</p>\\r\\n\\r\\n<p>I', 'should', 'also', 'mention', 'that', 'i', 'keep', 'getting', 'a', 'tomcat', 'favicon', 'instead.', \"Can't\", 'see', 'any', 'info', 'on', 'a', 'favicon.ico', 'ever', 'being', 'requested.', '\\r\\nIs', 'tomcat', 'supplying', 'it', 'by', 'default', 'and', 'ignoring', 'to', 'hit/forward', 'it', 'to', 'my', 'action?', '</p>']\n",
      "\n",
      "\n",
      " tokenized and lemmatized document: \n",
      "['map', 'favicon', 'decid', 'deal', 'easiest', 'thing', 'action', 'control', 'method', 'requestmap', 'favicon', 'longer', 'complaint', 'request', 'favicon', 'html', 'file', 'guess', 'browser', 'automat', 'strong', 'visit', 'href', 'http', 'localhost', 'favicon', 'nofollow', 'http', 'localhost', 'favicon', 'action', 'get', 'strong', 'follow', 'html', 'file', 'code', 'link', 'href', 'favicon', 'icon', 'type', 'imag', 'icon', 'code', 'action', 'get', 'tri', 'code', 'link', 'href', 'http', 'localhost', 'favicon', 'icon', 'type', 'imag', 'icon', 'code', 'action', 'suspect', 'post', 'request', 'request', 'browser', 'manual', 'request', 'html', 'file', 'spring', 'recogn', 'recommend', 'code', 'resourc', 'map', 'favicon', 'locat', 'favicon', 'code', 'like', 'control', 'logic', 'cach', 'involv', 'edit', 'mention', 'get', 'tomcat', 'favicon', 'instead', 'info', 'favicon', 'request', 'tomcat', 'suppli', 'default', 'ignor', 'forward', 'action']\n"
     ]
    }
   ],
   "source": [
    "title_sample = titles[titles['index'] == 90].values[0][0]\n",
    "print('original title: ')\n",
    "words = []\n",
    "for word in title_sample.split(' '):\n",
    "    words.append(word)\n",
    "print(words)\n",
    "print('\\n\\n tokenized and lemmatized document: ')\n",
    "print(preprocess(title_sample))"
   ]
  },
  {
   "cell_type": "code",
   "execution_count": 103,
   "metadata": {},
   "outputs": [
    {
     "data": {
      "text/plain": [
       "0    [need, python, graph, tool, rhel, server, admi...\n",
       "1    [need, hashmap, string, valu, like, valu, valu...\n",
       "2    [multipl, direct, limit, direct, bypass, pay, ...\n",
       "3    [work, project, react, data, option, chang, ch...\n",
       "4    [write, simpl, program, monitor, ping, current...\n",
       "5    [start, simpl, mathemat, theorem, demonstr, ma...\n",
       "6    [follow, code, work, python, give, error, mess...\n",
       "7    [attempt, python, script, constantli, monitor,...\n",
       "8    [face, strang, issu, applic, method, execut, c...\n",
       "9    [script, name, code, plot, code, read, data, f...\n",
       "Name: body, dtype: object"
      ]
     },
     "execution_count": 103,
     "metadata": {},
     "output_type": "execute_result"
    }
   ],
   "source": [
    "processed_title = titles['body'].map(preprocess)\n",
    "processed_title[:10]"
   ]
  },
  {
   "cell_type": "code",
   "execution_count": 104,
   "metadata": {},
   "outputs": [
    {
     "name": "stdout",
     "output_type": "stream",
     "text": [
      "0 abl\n",
      "1 administr\n",
      "2 backtrac\n",
      "3 blockquot\n",
      "4 boost\n",
      "5 boost_\n",
      "6 boost_root\n",
      "7 boost_vers\n",
      "8 boostlib\n",
      "9 check\n",
      "10 code\n"
     ]
    }
   ],
   "source": [
    "dictionary = gensim.corpora.Dictionary(processed_title)\n",
    "count = 0\n",
    "for k, v in dictionary.iteritems():\n",
    "    print(k, v)\n",
    "    count += 1\n",
    "    if count > 10:\n",
    "        break"
   ]
  },
  {
   "cell_type": "code",
   "execution_count": 105,
   "metadata": {},
   "outputs": [],
   "source": [
    "dictionary.filter_extremes(no_below=15, no_above=0.5, keep_n=100000)"
   ]
  },
  {
   "cell_type": "code",
   "execution_count": 106,
   "metadata": {},
   "outputs": [
    {
     "data": {
      "text/plain": [
       "[(6, 1),\n",
       " (15, 1),\n",
       " (20, 3),\n",
       " (21, 3),\n",
       " (34, 1),\n",
       " (50, 1),\n",
       " (61, 1),\n",
       " (62, 1),\n",
       " (90, 3),\n",
       " (93, 3),\n",
       " (125, 2),\n",
       " (130, 1),\n",
       " (160, 1),\n",
       " (185, 1),\n",
       " (214, 2),\n",
       " (233, 3),\n",
       " (257, 2),\n",
       " (292, 2),\n",
       " (315, 1),\n",
       " (321, 1),\n",
       " (322, 1),\n",
       " (337, 2),\n",
       " (350, 2),\n",
       " (397, 5),\n",
       " (425, 2),\n",
       " (434, 1),\n",
       " (435, 5),\n",
       " (446, 1),\n",
       " (450, 1),\n",
       " (461, 1),\n",
       " (554, 1),\n",
       " (565, 3),\n",
       " (588, 1),\n",
       " (591, 1),\n",
       " (606, 4),\n",
       " (607, 1)]"
      ]
     },
     "execution_count": 106,
     "metadata": {},
     "output_type": "execute_result"
    }
   ],
   "source": [
    "bow_corpus = [dictionary.doc2bow(doc) for doc in processed_title]\n",
    "bow_corpus[90]"
   ]
  },
  {
   "cell_type": "code",
   "execution_count": 107,
   "metadata": {},
   "outputs": [
    {
     "name": "stdout",
     "output_type": "stream",
     "text": [
      "Word 6 (\"default\") appears 1 time.\n",
      "Word 15 (\"follow\") appears 1 time.\n",
      "Word 20 (\"href\") appears 3 time.\n",
      "Word 21 (\"http\") appears 3 time.\n",
      "Word 34 (\"nofollow\") appears 1 time.\n",
      "Word 50 (\"tri\") appears 1 time.\n",
      "Word 61 (\"like\") appears 1 time.\n",
      "Word 62 (\"method\") appears 1 time.\n",
      "Word 90 (\"get\") appears 3 time.\n",
      "Word 93 (\"html\") appears 3 time.\n",
      "Word 125 (\"control\") appears 2 time.\n",
      "Word 130 (\"edit\") appears 1 time.\n",
      "Word 160 (\"post\") appears 1 time.\n",
      "Word 185 (\"thing\") appears 1 time.\n",
      "Word 214 (\"link\") appears 2 time.\n",
      "Word 233 (\"file\") appears 3 time.\n",
      "Word 257 (\"type\") appears 2 time.\n",
      "Word 292 (\"imag\") appears 2 time.\n",
      "Word 315 (\"automat\") appears 1 time.\n",
      "Word 321 (\"guess\") appears 1 time.\n",
      "Word 322 (\"locat\") appears 1 time.\n",
      "Word 337 (\"strong\") appears 2 time.\n",
      "Word 350 (\"map\") appears 2 time.\n",
      "Word 397 (\"action\") appears 5 time.\n",
      "Word 425 (\"browser\") appears 2 time.\n",
      "Word 434 (\"instead\") appears 1 time.\n",
      "Word 435 (\"request\") appears 5 time.\n",
      "Word 446 (\"resourc\") appears 1 time.\n",
      "Word 450 (\"manual\") appears 1 time.\n",
      "Word 461 (\"info\") appears 1 time.\n",
      "Word 554 (\"ignor\") appears 1 time.\n",
      "Word 565 (\"localhost\") appears 3 time.\n",
      "Word 588 (\"logic\") appears 1 time.\n",
      "Word 591 (\"deal\") appears 1 time.\n",
      "Word 606 (\"icon\") appears 4 time.\n",
      "Word 607 (\"mention\") appears 1 time.\n"
     ]
    }
   ],
   "source": [
    "bow_doc_90 = bow_corpus[90]\n",
    "for i in range(len(bow_doc_90)):\n",
    "    print(\"Word {} (\\\"{}\\\") appears {} time.\".format(bow_doc_90[i][0], \n",
    "                                               dictionary[bow_doc_90[i][0]], \n",
    "bow_doc_90[i][1]))"
   ]
  },
  {
   "cell_type": "code",
   "execution_count": 108,
   "metadata": {},
   "outputs": [
    {
     "name": "stdout",
     "output_type": "stream",
     "text": [
      "[(0, 0.01219168024020799),\n",
      " (1, 0.03169158366766287),\n",
      " (2, 0.03852705646124243),\n",
      " (3, 0.028253009344500795),\n",
      " (4, 0.018090843208585745),\n",
      " (5, 0.22864191463913675),\n",
      " (6, 0.029098076425513254),\n",
      " (7, 0.8496082027460039),\n",
      " (8, 0.010666457332666838),\n",
      " (9, 0.03550013464865014),\n",
      " (10, 0.023328870312560077),\n",
      " (11, 0.03550013464865014),\n",
      " (12, 0.04050306735547407),\n",
      " (13, 0.04519160056060314),\n",
      " (14, 0.04561872045632746),\n",
      " (15, 0.007806963636315985),\n",
      " (16, 0.20250436454157064),\n",
      " (17, 0.01684599661084806),\n",
      " (18, 0.03517567917525181),\n",
      " (19, 0.039480265551012805),\n",
      " (20, 0.00724979519170479),\n",
      " (21, 0.04268165918405688),\n",
      " (22, 0.08152883613903143),\n",
      " (23, 0.042918839874174886),\n",
      " (24, 0.015516016480199015),\n",
      " (25, 0.10750568964754995),\n",
      " (26, 0.009024277471225032),\n",
      " (27, 0.06617801705329698),\n",
      " (28, 0.07539692605566159),\n",
      " (29, 0.017189268450479904),\n",
      " (30, 0.1019159902116075),\n",
      " (31, 0.028578752393691075),\n",
      " (32, 0.02460797367600464),\n",
      " (33, 0.007713632374888544),\n",
      " (34, 0.008705720002456672),\n",
      " (35, 0.022373081790891865),\n",
      " (36, 0.0526716947443152),\n",
      " (37, 0.03146697047207422),\n",
      " (38, 0.026608383230037894),\n",
      " (39, 0.02793362431973366),\n",
      " (40, 0.04753737550149431),\n",
      " (41, 0.010082963510386272),\n",
      " (42, 0.013727174004147481),\n",
      " (43, 0.015845791833831436),\n",
      " (44, 0.012477215105329741),\n",
      " (45, 0.014375809945429203),\n",
      " (46, 0.03729764738093152),\n",
      " (47, 0.02507257590809404),\n",
      " (48, 0.01472834589127505),\n",
      " (49, 0.28668183906013317),\n",
      " (50, 0.01600562219402133),\n",
      " (51, 0.011516316249078356),\n",
      " (52, 0.17250971934515044),\n",
      " (53, 0.012361079549317068)]\n"
     ]
    }
   ],
   "source": [
    "from gensim import corpora, models\n",
    "tfidf = models.TfidfModel(bow_corpus)\n",
    "corpus_tfidf = tfidf[bow_corpus]\n",
    "from pprint import pprint\n",
    "for doc in corpus_tfidf:\n",
    "    pprint(doc)\n",
    "    break"
   ]
  },
  {
   "cell_type": "code",
   "execution_count": 109,
   "metadata": {},
   "outputs": [],
   "source": [
    "lda_model = gensim.models.LdaMulticore(bow_corpus, num_topics=10, id2word=dictionary, passes=2, workers=2)"
   ]
  },
  {
   "cell_type": "code",
   "execution_count": 110,
   "metadata": {},
   "outputs": [
    {
     "name": "stdout",
     "output_type": "stream",
     "text": [
      "Topic: 0 \n",
      "Words: 0.024*\"function\" + 0.021*\"class\" + 0.015*\"text\" + 0.015*\"height\" + 0.015*\"info\" + 0.014*\"attr\" + 0.013*\"margin\" + 0.013*\"style\" + 0.013*\"font\" + 0.013*\"return\"\n",
      "Topic: 1 \n",
      "Words: 0.027*\"applic\" + 0.023*\"data\" + 0.021*\"view\" + 0.015*\"function\" + 0.014*\"return\" + 0.013*\"size\" + 0.012*\"local\" + 0.011*\"open\" + 0.011*\"file\" + 0.010*\"posit\"\n",
      "Topic: 2 \n",
      "Words: 0.037*\"java\" + 0.035*\"cell\" + 0.027*\"sheet\" + 0.023*\"file\" + 0.020*\"valu\" + 0.019*\"data\" + 0.019*\"excel\" + 0.018*\"column\" + 0.017*\"rang\" + 0.016*\"string\"\n",
      "Topic: 3 \n",
      "Words: 0.144*\"valu\" + 0.129*\"rang\" + 0.017*\"defin\" + 0.010*\"data\" + 0.010*\"function\" + 0.010*\"product\" + 0.009*\"sheet\" + 0.009*\"line\" + 0.009*\"import\" + 0.009*\"error\"\n",
      "Topic: 4 \n",
      "Words: 0.017*\"applic\" + 0.015*\"public\" + 0.015*\"class\" + 0.014*\"string\" + 0.014*\"googl\" + 0.012*\"null\" + 0.012*\"error\" + 0.012*\"bitmap\" + 0.011*\"float\" + 0.011*\"function\"\n",
      "Topic: 5 \n",
      "Words: 0.021*\"class\" + 0.019*\"http\" + 0.015*\"valu\" + 0.014*\"string\" + 0.013*\"public\" + 0.013*\"button\" + 0.013*\"self\" + 0.012*\"strong\" + 0.011*\"user\" + 0.011*\"true\"\n",
      "Topic: 6 \n",
      "Words: 0.027*\"public\" + 0.026*\"class\" + 0.020*\"http\" + 0.019*\"imag\" + 0.016*\"strong\" + 0.015*\"void\" + 0.014*\"locat\" + 0.014*\"android\" + 0.014*\"self\" + 0.013*\"import\"\n",
      "Topic: 7 \n",
      "Words: 0.029*\"android\" + 0.024*\"googl\" + 0.023*\"chart\" + 0.020*\"data\" + 0.016*\"function\" + 0.016*\"strong\" + 0.015*\"http\" + 0.012*\"map\" + 0.012*\"true\" + 0.012*\"file\"\n",
      "Topic: 8 \n",
      "Words: 0.039*\"valu\" + 0.025*\"data\" + 0.022*\"line\" + 0.018*\"file\" + 0.017*\"function\" + 0.016*\"http\" + 0.014*\"map\" + 0.013*\"googl\" + 0.013*\"marker\" + 0.012*\"point\"\n",
      "Topic: 9 \n",
      "Words: 0.027*\"data\" + 0.025*\"function\" + 0.022*\"plot\" + 0.018*\"return\" + 0.016*\"attr\" + 0.015*\"array\" + 0.015*\"axi\" + 0.013*\"strong\" + 0.013*\"width\" + 0.010*\"height\"\n"
     ]
    }
   ],
   "source": [
    "for idx, topic in lda_model.print_topics(-1):\n",
    "    print('Topic: {} \\nWords: {}'.format(idx, topic))"
   ]
  },
  {
   "cell_type": "code",
   "execution_count": 111,
   "metadata": {},
   "outputs": [],
   "source": [
    "lda_model_tfidf = gensim.models.LdaMulticore(corpus_tfidf, num_topics=10, id2word=dictionary, passes=2, workers=4)"
   ]
  },
  {
   "cell_type": "code",
   "execution_count": 112,
   "metadata": {},
   "outputs": [
    {
     "name": "stdout",
     "output_type": "stream",
     "text": [
      "Topic: 0 Word: 0.009*\"java\" + 0.009*\"self\" + 0.008*\"applic\" + 0.008*\"apach\" + 0.007*\"chart\" + 0.007*\"file\" + 0.007*\"function\" + 0.007*\"thread\" + 0.007*\"user\" + 0.006*\"test\"\n",
      "Topic: 1 Word: 0.012*\"strong\" + 0.010*\"facebook\" + 0.010*\"file\" + 0.009*\"http\" + 0.009*\"imgur\" + 0.009*\"column\" + 0.008*\"stack\" + 0.007*\"group\" + 0.007*\"valu\" + 0.007*\"excel\"\n",
      "Topic: 2 Word: 0.009*\"data\" + 0.009*\"android\" + 0.009*\"class\" + 0.008*\"form\" + 0.008*\"attr\" + 0.007*\"github\" + 0.007*\"http\" + 0.007*\"view\" + 0.006*\"public\" + 0.006*\"strong\"\n",
      "Topic: 3 Word: 0.012*\"column\" + 0.012*\"rang\" + 0.012*\"cell\" + 0.009*\"string\" + 0.009*\"sheet\" + 0.008*\"public\" + 0.008*\"valu\" + 0.007*\"excel\" + 0.007*\"row\" + 0.006*\"field\"\n",
      "Topic: 4 Word: 0.013*\"cell\" + 0.010*\"axi\" + 0.010*\"file\" + 0.010*\"excel\" + 0.009*\"sheet\" + 0.009*\"imag\" + 0.008*\"java\" + 0.008*\"valu\" + 0.007*\"function\" + 0.007*\"number\"\n",
      "Topic: 5 Word: 0.011*\"respons\" + 0.010*\"plot\" + 0.009*\"request\" + 0.008*\"list\" + 0.007*\"function\" + 0.007*\"chart\" + 0.006*\"map\" + 0.006*\"strong\" + 0.006*\"size\" + 0.006*\"queri\"\n",
      "Topic: 6 Word: 0.012*\"valu\" + 0.010*\"self\" + 0.010*\"import\" + 0.010*\"plot\" + 0.010*\"rang\" + 0.009*\"cell\" + 0.007*\"data\" + 0.007*\"worksheet\" + 0.006*\"integ\" + 0.006*\"file\"\n",
      "Topic: 7 Word: 0.007*\"combin\" + 0.007*\"sheet\" + 0.007*\"object\" + 0.007*\"class\" + 0.006*\"valu\" + 0.006*\"print\" + 0.006*\"thread\" + 0.006*\"public\" + 0.006*\"self\" + 0.006*\"return\"\n",
      "Topic: 8 Word: 0.012*\"element\" + 0.010*\"descript\" + 0.010*\"enter\" + 0.010*\"imgur\" + 0.010*\"array\" + 0.009*\"stack\" + 0.009*\"text\" + 0.008*\"imag\" + 0.008*\"http\" + 0.008*\"rang\"\n",
      "Topic: 9 Word: 0.017*\"googl\" + 0.015*\"map\" + 0.013*\"marker\" + 0.012*\"function\" + 0.011*\"graph\" + 0.008*\"line\" + 0.007*\"imag\" + 0.006*\"data\" + 0.006*\"latlng\" + 0.006*\"zoom\"\n"
     ]
    }
   ],
   "source": [
    "for idx, topic in lda_model_tfidf.print_topics(-1):\n",
    "    print('Topic: {} Word: {}'.format(idx, topic))"
   ]
  },
  {
   "cell_type": "code",
   "execution_count": 113,
   "metadata": {},
   "outputs": [
    {
     "name": "stdout",
     "output_type": "stream",
     "text": [
      "\n",
      "Score: 0.7287601232528687\t \n",
      "Topic: 0.039*\"valu\" + 0.025*\"data\" + 0.022*\"line\" + 0.018*\"file\" + 0.017*\"function\" + 0.016*\"http\" + 0.014*\"map\" + 0.013*\"googl\" + 0.013*\"marker\" + 0.012*\"point\"\n",
      "\n",
      "Score: 0.19449633359909058\t \n",
      "Topic: 0.017*\"applic\" + 0.015*\"public\" + 0.015*\"class\" + 0.014*\"string\" + 0.014*\"googl\" + 0.012*\"null\" + 0.012*\"error\" + 0.012*\"bitmap\" + 0.011*\"float\" + 0.011*\"function\"\n",
      "\n",
      "Score: 0.06629209965467453\t \n",
      "Topic: 0.024*\"function\" + 0.021*\"class\" + 0.015*\"text\" + 0.015*\"height\" + 0.015*\"info\" + 0.014*\"attr\" + 0.013*\"margin\" + 0.013*\"style\" + 0.013*\"font\" + 0.013*\"return\"\n"
     ]
    }
   ],
   "source": [
    "for index, score in sorted(lda_model[bow_corpus[90]], key=lambda tup: -1*tup[1]):\n",
    "    print(\"\\nScore: {}\\t \\nTopic: {}\".format(score, lda_model.print_topic(index, 10)))"
   ]
  },
  {
   "cell_type": "code",
   "execution_count": null,
   "metadata": {},
   "outputs": [],
   "source": []
  }
 ],
 "metadata": {
  "kernelspec": {
   "display_name": "Python 3",
   "language": "python",
   "name": "python3"
  },
  "language_info": {
   "codemirror_mode": {
    "name": "ipython",
    "version": 3
   },
   "file_extension": ".py",
   "mimetype": "text/x-python",
   "name": "python",
   "nbconvert_exporter": "python",
   "pygments_lexer": "ipython3",
   "version": "3.6.5"
  }
 },
 "nbformat": 4,
 "nbformat_minor": 2
}
