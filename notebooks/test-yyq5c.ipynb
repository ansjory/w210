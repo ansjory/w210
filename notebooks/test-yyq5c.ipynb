{
 "cells": [
  {
   "cell_type": "markdown",
   "metadata": {},
   "source": [
    "# About\n",
    "\n",
    "See what BERT is all about. This version is meant to run on our server.\n",
    "\n",
    "replication of the following blog post:\n",
    "\n",
    "### News Topic Similarity Measure using Pretrained BERT Model\n",
    "\n",
    "https://medium.com/the-artificial-impostor/news-topic-similarity-measure-using-pretrained-bert-model-1dbfe6a66f1d\n",
    "\n",
    "https://github.com/ceshine/pytorch-pretrained-BERT/blob/master/notebooks/Next%20Sentence%20Prediction.ipynb\n",
    "\n",
    "https://anaconda.org/conda-forge/pytorch-pretrained-bert\n",
    "\n",
    "### various implementations of BERT\n",
    "\n",
    "https://pypi.org/project/pytorch-pretrained-bert/\n",
    "\n",
    "https://github.com/huggingface/transformers\n",
    "\n",
    "https://github.com/tensorflow/models/tree/master/official/nlp/bert\n",
    "\n",
    "https://github.com/google-research/bert\n",
    "\n",
    "https://anaconda.org/akode/bert-tensorflow\n",
    "\n",
    "using the hugging face one, is most popular in conda downloads, and is the one used by the blog author\n",
    "\n",
    "https://github.com/huggingface/pytorch-pretrained-BERT\n",
    "\n",
    "https://anaconda.org/conda-forge/pytorch-pretrained-bert\n",
    "\n",
    "\n",
    "### Understanding searches better than ever before\n",
    "\n",
    "google's white paper\n",
    "\n",
    "https://www.blog.google/products/search/search-language-understanding-bert\n",
    "\n",
    "### bert_en_uncased_L-12_H-768_A-12\n",
    "\n",
    "BERT on tensorflow hub\n",
    "\n",
    "https://tfhub.dev/tensorflow/bert_en_uncased_L-12_H-768_A-12/1"
   ]
  },
  {
   "cell_type": "markdown",
   "metadata": {},
   "source": [
    "# News Topic Similarity Measure using Pretrained BERT Model\n",
    "\n",
    "replication"
   ]
  },
  {
   "attachments": {},
   "cell_type": "markdown",
   "metadata": {},
   "source": [
    "Add a GPU, to the server\n",
    "\n",
    "https://www.infoworld.com/article/3299703/what-is-cuda-parallel-programming-for-gpus.html\n",
    "\n",
    "https://cloud.google.com/compute/docs/gpus/\n",
    "\n",
    "https://cloud.google.com/compute/docs/gpus/add-gpus\n",
    "\n",
    "https://cloud.google.com/products/calculator/\n",
    "\n",
    "Then install the CUDA toolkit\n",
    "\n",
    "https://docs.nvidia.com/cuda/cuda-installation-guide-linux/index.html\n",
    "\n",
    "https://developer.nvidia.com/cuda-downloads?target_os=Linux&target_arch=x86_64&target_distro=Ubuntu&target_version=1804&target_type=deblocal![image.png](attachment:image.png)"
   ]
  },
  {
   "cell_type": "code",
   "execution_count": 1,
   "metadata": {},
   "outputs": [
    {
     "data": {
      "text/plain": [
       "True"
      ]
     },
     "execution_count": 1,
     "metadata": {},
     "output_type": "execute_result"
    }
   ],
   "source": [
    "# checks if GPU is available\n",
    "import torch\n",
    "torch.cuda.is_available()"
   ]
  },
  {
   "cell_type": "markdown",
   "metadata": {},
   "source": [
    "# loads our wrapper classes\n",
    "\n",
    "we're not using NYTimes article feed\n",
    "instead of the News Title vs News Body, we have Question Title vs Question Body\n",
    "\n",
    "and we're going to make it similar to Grace's framework, so it will be easier for Chi to adapt"
   ]
  },
  {
   "cell_type": "code",
   "execution_count": 3,
   "metadata": {},
   "outputs": [],
   "source": [
    "class Suggester_BertTopicSimiliarty():\n",
    "    def __init__(\n",
    "        self\n",
    "        , question_file\n",
    "        , answer_file\n",
    "        , sample_n\n",
    "        , random_state\n",
    "        , bert_cache\n",
    "        , logger\n",
    "        , device\n",
    "        , max_seq_length\n",
    "        , batch_size\n",
    "    ):\n",
    "        # initializes some vars\n",
    "        self.question_file = question_file\n",
    "        self.answer_file = answer_file\n",
    "        self.sample_n = sample_n\n",
    "        self.random_state = random_state\n",
    "        self.bert_cache = bert_cache\n",
    "        self.logger = logger\n",
    "        self.device = device\n",
    "        self.max_seq_length = max_seq_length\n",
    "        self.batch_size = batch_size\n",
    "        \n",
    "        # gets the pre-trained tokenizer\n",
    "        self.tokenizer = BertTokenizer.from_pretrained(\n",
    "            \"bert-base-uncased\"\n",
    "            , do_lower_case = True\n",
    "            , cache_dir = self.bert_cache\n",
    "        )\n",
    "        \n",
    "        # gets the pre-trained model\n",
    "        self.model = BertForNextSentencePrediction.from_pretrained(\n",
    "            \"bert-base-uncased\"\n",
    "            , cache_dir = self.bert_cache\n",
    "        ).to(self.device)\n",
    "        \n",
    "        # instantiates the helper class\n",
    "        self.ceshiner = Ceshiner()\n",
    "    \n",
    "    \n",
    "    def _construct_corpus(self, questions, answers):\n",
    "        '''\n",
    "        helper function that constructs corpus\n",
    "        with question id, title, accepted answer id, answer body\n",
    "        note, implicitly only questions with accepted answers will end up in corpus\n",
    "        '''\n",
    "        t1 = questions[[\n",
    "            \"id\"\n",
    "            , \"title\"\n",
    "            , \"tags\"\n",
    "            , \"accepted_answer_id\"\n",
    "        ]].rename(columns = {\n",
    "            \"id\" : \"q_id\"\n",
    "            , \"title\" : \"q_title\"\n",
    "        })\n",
    "\n",
    "        t2 = answers[[\n",
    "            \"id\"\n",
    "            , \"body\"\n",
    "            , \"images_list\"\n",
    "            , \"code_snippets\"\n",
    "            , \"cleaned_body\"\n",
    "        ]].rename(columns = {\n",
    "            \"id\" : \"a_id\"\n",
    "            , \"body\" : \"a_body\"\n",
    "            , \"images_list\" : \"a_images_list\"\n",
    "            , \"code_snippets\" : \"a_code_snippets\"\n",
    "            , \"cleaned_body\" : \"a_cleaned_body\"\n",
    "        })\n",
    "\n",
    "        t3 = t1.merge(\n",
    "            t2\n",
    "            , left_on = \"accepted_answer_id\"\n",
    "            , right_on = \"a_id\"\n",
    "            , how = \"inner\"\n",
    "        ).drop(columns = \"a_id\")\n",
    "        \n",
    "        # ... removes any cleaned answers that are null\n",
    "        t4 = t3[t3.a_cleaned_body.notnull()]\n",
    "\n",
    "        if self.sample_n is not None:\n",
    "            t5 = t4.sample(self.sample_n, random_state = self.random_state)\n",
    "        else:\n",
    "            t5 = t4\n",
    "\n",
    "        return(t5)\n",
    "    \n",
    "    \n",
    "    def prepare(self):\n",
    "        '''\n",
    "        loads data & makes corpus\n",
    "        '''\n",
    "#         self.questions = pd.read_csv(self.question_file, delimiter = \"\\t\", encoding = \"utf-8\")\n",
    "        self.questions = pd.read_csv(self.question_file, delimiter = \",\", encoding = \"utf-8\")\n",
    "        self.answers = pd.read_csv(self.answer_file, delimiter = \"\\t\", encoding = \"utf-8\")\n",
    "        self.corpus = self._construct_corpus(self.questions, self.answers)\n",
    "        print(self.corpus.shape)\n",
    "    \n",
    "    def get_similar_documents(self, query, num_results = 5, threshold = 0.10):\n",
    "        sentence_pairs = self.ceshiner.convert_sentence_pair(\n",
    "            [query] * self.corpus.shape[0]\n",
    "            , self.corpus.a_cleaned_body.tolist()\n",
    "            , max_seq_length = self.max_seq_length\n",
    "            , tokenizer = self.tokenizer\n",
    "        )\n",
    "        similarity_scores = self.ceshiner.eval_pairs(\n",
    "            sentence_pairs = sentence_pairs\n",
    "            , batch_size = self.batch_size\n",
    "            , model = self.model\n",
    "        )\n",
    "        self.corpus_res = self.corpus.copy()\n",
    "        self.corpus_res[\"similarity\"] = similarity_scores\n",
    "        self.best_matches = self.corpus_res.copy()\n",
    "        self.best_matches = self.best_matches[self.best_matches['similarity'] >= threshold]\n",
    "        self.best_matches = self.best_matches.sort_values('similarity', ascending = False)\n",
    "        self.best_matches = self.best_matches[:num_results]\n",
    "        similar_que = self.best_matches[\"q_title\"]\n",
    "        similar_ans = self.best_matches[\"a_cleaned_body\"]\n",
    "        return(similar_que, similar_ans)\n",
    "\n",
    "\n",
    "class InputFeatures(object):\n",
    "    \"\"\"A single set of features of data.\"\"\"\n",
    "\n",
    "    def __init__(self, input_ids, input_mask, segment_ids, target):\n",
    "        self.input_ids = input_ids\n",
    "        self.input_mask = input_mask\n",
    "        self.segment_ids = segment_ids\n",
    "        self.target = target\n",
    "        \n",
    "        \n",
    "class Ceshiner():\n",
    "    def __init__(self):\n",
    "        pass\n",
    "    \n",
    "    def _truncate_seq_pair(self, tokens_a, tokens_b, max_length):\n",
    "        \"\"\"Truncates a sequence pair in place to the maximum length.\"\"\"\n",
    "        # This is a simple heuristic which will always truncate the longer sequence\n",
    "        # one token at a time. This makes more sense than truncating an equal percent\n",
    "        # of tokens from each, since if one sequence is very short then each token\n",
    "        # that's truncated likely contains more information than a longer sequence.\n",
    "        while True:\n",
    "            total_length = len(tokens_a) + len(tokens_b)\n",
    "            if total_length <= max_length:\n",
    "                break\n",
    "            if len(tokens_a) > len(tokens_b):\n",
    "                tokens_a.pop()\n",
    "            else:\n",
    "                tokens_b.pop()\n",
    "                \n",
    "    def convert_sentence_pair(self, titles, descs, max_seq_length, tokenizer):\n",
    "        features = []\n",
    "        for (ex_index, (title, desc)) in enumerate(zip(titles, descs)):\n",
    "            tokens_a = tokenizer.tokenize(title)\n",
    "            \n",
    "            tokens_b = None\n",
    "            tokens_b = tokenizer.tokenize(desc)\n",
    "            # Modifies `tokens_a` and `tokens_b` in place so that the total\n",
    "            # length is less than the specified length.\n",
    "            # Account for [CLS], [SEP], [SEP] with \"- 3\"\n",
    "            self._truncate_seq_pair(tokens_a, tokens_b, max_seq_length - 3)\n",
    "\n",
    "            # The convention in BERT is:\n",
    "            # (a) For sequence pairs:\n",
    "            #  tokens:   [CLS] is this jack ##son ##ville ? [SEP] no it is not . [SEP]\n",
    "            #  type_ids: 0   0  0    0    0     0       0 0    1  1  1  1   1 1\n",
    "            # (b) For single sequences:\n",
    "            #  tokens:   [CLS] the dog is hairy . [SEP]\n",
    "            #  type_ids: 0   0   0   0  0     0 0\n",
    "            #\n",
    "            # Where \"type_ids\" are used to indicate whether this is the first\n",
    "            # sequence or the second sequence. The embedding vectors for `type=0` and\n",
    "            # `type=1` were learned during pre-training and are added to the wordpiece\n",
    "            # embedding vector (and position vector). This is not *strictly* necessary\n",
    "            # since the [SEP] token unambigiously separates the sequences, but it makes\n",
    "            # it easier for the model to learn the concept of sequences.\n",
    "            #\n",
    "            # For classification tasks, the first vector (corresponding to [CLS]) is\n",
    "            # used as as the \"sentence vector\". Note that this only makes sense because\n",
    "            # the entire model is fine-tuned.\n",
    "            tokens = [\"[CLS]\"] + tokens_a + [\"[SEP]\"]\n",
    "            segment_ids = [0] * len(tokens)\n",
    "\n",
    "            if tokens_b:\n",
    "                tokens += tokens_b + [\"[SEP]\"]\n",
    "                segment_ids += [1] * (len(tokens_b) + 1)\n",
    "\n",
    "            input_ids = tokenizer.convert_tokens_to_ids(tokens)\n",
    "\n",
    "            # The mask has 1 for real tokens and 0 for padding tokens. Only real\n",
    "            # tokens are attended to.\n",
    "            input_mask = [1] * len(input_ids)\n",
    "\n",
    "            # Zero-pad up to the sequence length.\n",
    "            padding = [0] * (max_seq_length - len(input_ids))\n",
    "            input_ids += padding\n",
    "            input_mask += padding\n",
    "            segment_ids += padding\n",
    "\n",
    "            assert len(input_ids) == max_seq_length\n",
    "            assert len(input_mask) == max_seq_length\n",
    "            assert len(segment_ids) == max_seq_length\n",
    "\n",
    "            if ex_index < 5:\n",
    "                logger.info(\"*** Example ***\")\n",
    "                logger.info(\"tokens: %s\" % \" \".join(\n",
    "                        [str(x) for x in tokens]))\n",
    "                logger.info(\"input_ids: %s\" % \" \".join([str(x) for x in input_ids]))\n",
    "                logger.info(\"input_mask: %s\" % \" \".join([str(x) for x in input_mask]))\n",
    "                logger.info(\n",
    "                        \"segment_ids: %s\" % \" \".join([str(x) for x in segment_ids]))\n",
    "\n",
    "            features.append(\n",
    "                    InputFeatures(\n",
    "                        input_ids=input_ids,\n",
    "                        input_mask=input_mask,\n",
    "                        segment_ids=segment_ids,\n",
    "                        target=1\n",
    "            ))\n",
    "        return features\n",
    "    \n",
    "    def eval_pairs(self, sentence_pairs, batch_size, model):\n",
    "        logger.info(\"***** Running evaluation *****\")\n",
    "        all_input_ids = torch.tensor([f.input_ids for f in sentence_pairs], dtype=torch.long)\n",
    "        all_input_mask = torch.tensor([f.input_mask for f in sentence_pairs], dtype=torch.long)\n",
    "        all_segment_ids = torch.tensor([f.segment_ids for f in sentence_pairs], dtype=torch.long)\n",
    "        eval_data = TensorDataset(all_input_ids, all_input_mask, all_segment_ids)\n",
    "        # Run prediction for full data\n",
    "        eval_sampler = SequentialSampler(eval_data)\n",
    "        eval_dataloader = DataLoader(eval_data, sampler = eval_sampler, batch_size = batch_size)\n",
    "\n",
    "        logger.info(\"  Num examples = %d\", len(sentence_pairs))\n",
    "        logger.info(\"  Batch size = %d\", batch_size)\n",
    "\n",
    "        model.eval()\n",
    "\n",
    "        res = []\n",
    "\n",
    "        mb = progress_bar(eval_dataloader)\n",
    "        for input_ids, input_mask, segment_ids in mb:\n",
    "            input_ids = input_ids.to(device)\n",
    "            input_mask = input_mask.to(device)\n",
    "            segment_ids = segment_ids.to(device)\n",
    "\n",
    "            with torch.no_grad():\n",
    "                res.append(nn.functional.softmax(\n",
    "                    model(input_ids, segment_ids, input_mask), dim=1\n",
    "                )[:, 0].detach().cpu().numpy())\n",
    "\n",
    "        res = np.concatenate(res)\n",
    "        return(res)"
   ]
  },
  {
   "cell_type": "code",
   "execution_count": 8,
   "metadata": {},
   "outputs": [
    {
     "name": "stderr",
     "output_type": "stream",
     "text": [
      "11/21/2019 09:03:10 - INFO - pytorch_pretrained_bert.tokenization -   loading vocabulary file https://s3.amazonaws.com/models.huggingface.co/bert/bert-base-uncased-vocab.txt from cache at ../models/bert/26bc1ad6c0ac742e9b52263248f6d0f00068293b33709fae12320c0e35ccfbbb.542ce4285a40d23a559526243235df47c5f75c197f04f37d1a0c124c32c9a084\n",
      "11/21/2019 09:03:10 - INFO - pytorch_pretrained_bert.modeling -   loading archive file https://s3.amazonaws.com/models.huggingface.co/bert/bert-base-uncased.tar.gz from cache at ../models/bert/9c41111e2de84547a463fd39217199738d1e3deb72d4fec4399e6e241983c6f0.ae3cef932725ca7a30cdcb93fc6e09150a55e2a130ec7af63975a16c153ae2ba\n",
      "11/21/2019 09:03:10 - INFO - pytorch_pretrained_bert.modeling -   extracting archive file ../models/bert/9c41111e2de84547a463fd39217199738d1e3deb72d4fec4399e6e241983c6f0.ae3cef932725ca7a30cdcb93fc6e09150a55e2a130ec7af63975a16c153ae2ba to temp dir /tmp/tmp4_eessyj\n",
      "11/21/2019 09:03:14 - INFO - pytorch_pretrained_bert.modeling -   Model config {\n",
      "  \"attention_probs_dropout_prob\": 0.1,\n",
      "  \"hidden_act\": \"gelu\",\n",
      "  \"hidden_dropout_prob\": 0.1,\n",
      "  \"hidden_size\": 768,\n",
      "  \"initializer_range\": 0.02,\n",
      "  \"intermediate_size\": 3072,\n",
      "  \"max_position_embeddings\": 512,\n",
      "  \"num_attention_heads\": 12,\n",
      "  \"num_hidden_layers\": 12,\n",
      "  \"type_vocab_size\": 2,\n",
      "  \"vocab_size\": 30522\n",
      "}\n",
      "\n",
      "11/21/2019 09:03:16 - INFO - pytorch_pretrained_bert.modeling -   Weights from pretrained model not used in BertForNextSentencePrediction: ['cls.predictions.bias', 'cls.predictions.transform.dense.weight', 'cls.predictions.transform.dense.bias', 'cls.predictions.decoder.weight', 'cls.predictions.transform.LayerNorm.weight', 'cls.predictions.transform.LayerNorm.bias']\n"
     ]
    }
   ],
   "source": [
    "# i.e. app.py\n",
    "\n",
    "import gcsfs\n",
    "import os\n",
    "import logging\n",
    "import random\n",
    "import torch\n",
    "import torch.nn as nn\n",
    "import pandas as pd\n",
    "import numpy as np\n",
    "import json\n",
    "import gc\n",
    "import matplotlib.pyplot as plt\n",
    "\n",
    "from torch.utils.data import TensorDataset, DataLoader, SequentialSampler\n",
    "from pytorch_pretrained_bert.modeling import BertForNextSentencePrediction\n",
    "from pytorch_pretrained_bert.tokenization import BertTokenizer\n",
    "from fastprogress import master_bar, progress_bar\n",
    "from sklearn.model_selection import StratifiedShuffleSplit\n",
    "\n",
    "\n",
    "# defines seed for replication\n",
    "SEED = 20191114\n",
    "\n",
    "# defines cache folder for BERT model\n",
    "PYTORCH_PRETRAINED_BERT_CACHE = \"../models/bert/\"\n",
    "\n",
    "# SAMPLE_SIZE = 10\n",
    "SAMPLE_SIZE = None\n",
    "BATCH_SIZE = 128\n",
    "MAX_SEQ_LENGTH = 200\n",
    "\n",
    "# creates a logger\n",
    "logging.basicConfig(format = '%(asctime)s - %(levelname)s - %(name)s -   %(message)s',\n",
    "                    datefmt = '%m/%d/%Y %H:%M:%S',\n",
    "                    level = logging.INFO)\n",
    "logger = logging.getLogger(\"bert\")\n",
    "\n",
    "\n",
    "# detects the device (CPU or GPU)\n",
    "device = torch.device(\"cuda\" if torch.cuda.is_available() else \"cpu\")\n",
    "\n",
    "\n",
    "# sets random states\n",
    "random.seed(SEED)\n",
    "np.random.seed(SEED)\n",
    "torch.manual_seed(SEED)\n",
    "if device == torch.device(\"cuda\"):\n",
    "    torch.cuda.manual_seed_all(SEED)\n",
    "\n",
    "\n",
    "# this uses gcsfs library\n",
    "# fs = gcsfs.GCSFileSystem(project='w210-jcgy-254100')\n",
    "# p_base_dir = \"w210-jcgy-bucket/w210-data-output-new-q-and-a-files-with-separate-cleaned-answer-bodies\"\n",
    "# p_questions = os.path.join(p_base_dir, \"PostQuestionsFiltered_V4_parsed.tsv\")\n",
    "# p_answers = os.path.join(p_base_dir, \"PostAnswersFiltered_V4_cleaned_answer_bodies.tsv\")\n",
    "# with fs.open(p_questions, 'rb') as f_q:\n",
    "#     with fs.open(p_answers, 'rb') as f_a:\n",
    "#         m = tfModel_BertTopicSimiliarty(f_q, f_a)\n",
    "\n",
    "# this relies on bucket being mounted, might be a bit faster to load the files\n",
    "p_base_dir = \"/mnt/disks/w210-jcgy-bucket/w210-data-output-new-q-and-a-files-with-separate-cleaned-answer-bodies\"\n",
    "p_questions = os.path.join(p_base_dir, \"new_qs.csv\")\n",
    "p_answers = os.path.join(p_base_dir, \"PostAnswersFiltered_V4_cleaned_answer_bodies.tsv\")\n",
    "m = Suggester_BertTopicSimiliarty(\n",
    "    p_questions\n",
    "    , p_answers\n",
    "    , sample_n = SAMPLE_SIZE\n",
    "    , random_state = SEED\n",
    "    , bert_cache = PYTORCH_PRETRAINED_BERT_CACHE\n",
    "    , logger = logger\n",
    "    , device = device\n",
    "    , max_seq_length = MAX_SEQ_LENGTH\n",
    "    , batch_size = BATCH_SIZE\n",
    ")"
   ]
  },
  {
   "cell_type": "code",
   "execution_count": 9,
   "metadata": {},
   "outputs": [
    {
     "name": "stdout",
     "output_type": "stream",
     "text": [
      "(3110, 8)\n"
     ]
    }
   ],
   "source": [
    "# loads data and builds a corpus\n",
    "m.prepare()"
   ]
  },
  {
   "cell_type": "code",
   "execution_count": 10,
   "metadata": {},
   "outputs": [
    {
     "name": "stderr",
     "output_type": "stream",
     "text": [
      "11/21/2019 09:03:32 - INFO - bert -   *** Example ***\n",
      "11/21/2019 09:03:32 - INFO - bert -   tokens: [CLS] this is a query [SEP] points in is zero width , so you need to set the width of dod ##ging : [SEP]\n",
      "11/21/2019 09:03:32 - INFO - bert -   input_ids: 101 2023 2003 1037 23032 102 2685 1999 2003 5717 9381 1010 2061 2017 2342 2000 2275 1996 9381 1997 26489 4726 1024 102 0 0 0 0 0 0 0 0 0 0 0 0 0 0 0 0 0 0 0 0 0 0 0 0 0 0 0 0 0 0 0 0 0 0 0 0 0 0 0 0 0 0 0 0 0 0 0 0 0 0 0 0 0 0 0 0 0 0 0 0 0 0 0 0 0 0 0 0 0 0 0 0 0 0 0 0 0 0 0 0 0 0 0 0 0 0 0 0 0 0 0 0 0 0 0 0 0 0 0 0 0 0 0 0 0 0 0 0 0 0 0 0 0 0 0 0 0 0 0 0 0 0 0 0 0 0 0 0 0 0 0 0 0 0 0 0 0 0 0 0 0 0 0 0 0 0 0 0 0 0 0 0 0 0 0 0 0 0 0 0 0 0 0 0 0 0 0 0 0 0 0 0 0 0 0 0\n",
      "11/21/2019 09:03:32 - INFO - bert -   input_mask: 1 1 1 1 1 1 1 1 1 1 1 1 1 1 1 1 1 1 1 1 1 1 1 1 0 0 0 0 0 0 0 0 0 0 0 0 0 0 0 0 0 0 0 0 0 0 0 0 0 0 0 0 0 0 0 0 0 0 0 0 0 0 0 0 0 0 0 0 0 0 0 0 0 0 0 0 0 0 0 0 0 0 0 0 0 0 0 0 0 0 0 0 0 0 0 0 0 0 0 0 0 0 0 0 0 0 0 0 0 0 0 0 0 0 0 0 0 0 0 0 0 0 0 0 0 0 0 0 0 0 0 0 0 0 0 0 0 0 0 0 0 0 0 0 0 0 0 0 0 0 0 0 0 0 0 0 0 0 0 0 0 0 0 0 0 0 0 0 0 0 0 0 0 0 0 0 0 0 0 0 0 0 0 0 0 0 0 0 0 0 0 0 0 0 0 0 0 0 0 0\n",
      "11/21/2019 09:03:32 - INFO - bert -   segment_ids: 0 0 0 0 0 0 1 1 1 1 1 1 1 1 1 1 1 1 1 1 1 1 1 1 0 0 0 0 0 0 0 0 0 0 0 0 0 0 0 0 0 0 0 0 0 0 0 0 0 0 0 0 0 0 0 0 0 0 0 0 0 0 0 0 0 0 0 0 0 0 0 0 0 0 0 0 0 0 0 0 0 0 0 0 0 0 0 0 0 0 0 0 0 0 0 0 0 0 0 0 0 0 0 0 0 0 0 0 0 0 0 0 0 0 0 0 0 0 0 0 0 0 0 0 0 0 0 0 0 0 0 0 0 0 0 0 0 0 0 0 0 0 0 0 0 0 0 0 0 0 0 0 0 0 0 0 0 0 0 0 0 0 0 0 0 0 0 0 0 0 0 0 0 0 0 0 0 0 0 0 0 0 0 0 0 0 0 0 0 0 0 0 0 0 0 0 0 0 0 0\n",
      "11/21/2019 09:03:32 - INFO - bert -   *** Example ***\n",
      "11/21/2019 09:03:32 - INFO - bert -   tokens: [CLS] this is a query [SEP] uno ##con ##v can convert em ##f to pdf and ti ##ff via command - line : for pdf : uno ##con ##v file ##name . em ##f for ti ##ff : uno ##con ##v - f ti ##ff file ##name . em ##f it doesn ' t seem to support ps file export , though . you are still required to install open ##off ##ice . org / libre ##off ##ice because this tool uses them as the back ##end . [SEP]\n",
      "11/21/2019 09:03:32 - INFO - bert -   input_ids: 101 2023 2003 1037 23032 102 27776 8663 2615 2064 10463 7861 2546 2000 11135 1998 14841 4246 3081 3094 1011 2240 1024 2005 11135 1024 27776 8663 2615 5371 18442 1012 7861 2546 2005 14841 4246 1024 27776 8663 2615 1011 1042 14841 4246 5371 18442 1012 7861 2546 2009 2987 1005 1056 4025 2000 2490 8827 5371 9167 1010 2295 1012 2017 2024 2145 3223 2000 16500 2330 7245 6610 1012 8917 1013 21091 7245 6610 2138 2023 6994 3594 2068 2004 1996 2067 10497 1012 102 0 0 0 0 0 0 0 0 0 0 0 0 0 0 0 0 0 0 0 0 0 0 0 0 0 0 0 0 0 0 0 0 0 0 0 0 0 0 0 0 0 0 0 0 0 0 0 0 0 0 0 0 0 0 0 0 0 0 0 0 0 0 0 0 0 0 0 0 0 0 0 0 0 0 0 0 0 0 0 0 0 0 0 0 0 0 0 0 0 0 0 0 0 0 0 0 0 0 0 0 0 0 0 0 0 0 0 0 0 0 0\n",
      "11/21/2019 09:03:32 - INFO - bert -   input_mask: 1 1 1 1 1 1 1 1 1 1 1 1 1 1 1 1 1 1 1 1 1 1 1 1 1 1 1 1 1 1 1 1 1 1 1 1 1 1 1 1 1 1 1 1 1 1 1 1 1 1 1 1 1 1 1 1 1 1 1 1 1 1 1 1 1 1 1 1 1 1 1 1 1 1 1 1 1 1 1 1 1 1 1 1 1 1 1 1 1 0 0 0 0 0 0 0 0 0 0 0 0 0 0 0 0 0 0 0 0 0 0 0 0 0 0 0 0 0 0 0 0 0 0 0 0 0 0 0 0 0 0 0 0 0 0 0 0 0 0 0 0 0 0 0 0 0 0 0 0 0 0 0 0 0 0 0 0 0 0 0 0 0 0 0 0 0 0 0 0 0 0 0 0 0 0 0 0 0 0 0 0 0 0 0 0 0 0 0 0 0 0 0 0 0 0 0 0 0 0 0\n",
      "11/21/2019 09:03:32 - INFO - bert -   segment_ids: 0 0 0 0 0 0 1 1 1 1 1 1 1 1 1 1 1 1 1 1 1 1 1 1 1 1 1 1 1 1 1 1 1 1 1 1 1 1 1 1 1 1 1 1 1 1 1 1 1 1 1 1 1 1 1 1 1 1 1 1 1 1 1 1 1 1 1 1 1 1 1 1 1 1 1 1 1 1 1 1 1 1 1 1 1 1 1 1 1 0 0 0 0 0 0 0 0 0 0 0 0 0 0 0 0 0 0 0 0 0 0 0 0 0 0 0 0 0 0 0 0 0 0 0 0 0 0 0 0 0 0 0 0 0 0 0 0 0 0 0 0 0 0 0 0 0 0 0 0 0 0 0 0 0 0 0 0 0 0 0 0 0 0 0 0 0 0 0 0 0 0 0 0 0 0 0 0 0 0 0 0 0 0 0 0 0 0 0 0 0 0 0 0 0 0 0 0 0 0 0\n",
      "11/21/2019 09:03:32 - INFO - bert -   *** Example ***\n",
      "11/21/2019 09:03:32 - INFO - bert -   tokens: [CLS] this is a query [SEP] looking at the source for fl ##ot 0 . 7 , there is not included functionality to highlight lines . however , if you wanted to extend fl ##ot to do what you want . . . fl ##ot has an \" over ##lay \" canvas which it uses to do effects like highlighting . this has the associated context in the source . if you look at the method you can see how highlighting is done for data ##points . you could write a similar method for lines . the function it ##erate ##s over an array of highlight ##able objects - - you would want to extend that to handle \" line \" objects as well . finally you would need to write a method to add / remove lines from the array of highlight ##able objects , analogous to the existing and methods . notice these methods are made public using the lines : [SEP]\n",
      "11/21/2019 09:03:32 - INFO - bert -   input_ids: 101 2023 2003 1037 23032 102 2559 2012 1996 3120 2005 13109 4140 1014 1012 1021 1010 2045 2003 2025 2443 15380 2000 12944 3210 1012 2174 1010 2065 2017 2359 2000 7949 13109 4140 2000 2079 2054 2017 2215 1012 1012 1012 13109 4140 2038 2019 1000 2058 8485 1000 10683 2029 2009 3594 2000 2079 3896 2066 20655 1012 2023 2038 1996 3378 6123 1999 1996 3120 1012 2065 2017 2298 2012 1996 4118 2017 2064 2156 2129 20655 2003 2589 2005 2951 26521 1012 2017 2071 4339 1037 2714 4118 2005 3210 1012 1996 3853 2009 22139 2015 2058 2019 9140 1997 12944 3085 5200 1011 1011 2017 2052 2215 2000 7949 2008 2000 5047 1000 2240 1000 5200 2004 2092 1012 2633 2017 2052 2342 2000 4339 1037 4118 2000 5587 1013 6366 3210 2013 1996 9140 1997 12944 3085 5200 1010 19639 2000 1996 4493 1998 4725 1012 5060 2122 4725 2024 2081 2270 2478 1996 3210 1024 102 0 0 0 0 0 0 0 0 0 0 0 0 0 0 0 0 0 0 0 0 0 0 0 0 0 0 0 0 0 0 0 0 0 0 0 0\n",
      "11/21/2019 09:03:32 - INFO - bert -   input_mask: 1 1 1 1 1 1 1 1 1 1 1 1 1 1 1 1 1 1 1 1 1 1 1 1 1 1 1 1 1 1 1 1 1 1 1 1 1 1 1 1 1 1 1 1 1 1 1 1 1 1 1 1 1 1 1 1 1 1 1 1 1 1 1 1 1 1 1 1 1 1 1 1 1 1 1 1 1 1 1 1 1 1 1 1 1 1 1 1 1 1 1 1 1 1 1 1 1 1 1 1 1 1 1 1 1 1 1 1 1 1 1 1 1 1 1 1 1 1 1 1 1 1 1 1 1 1 1 1 1 1 1 1 1 1 1 1 1 1 1 1 1 1 1 1 1 1 1 1 1 1 1 1 1 1 1 1 1 1 1 1 1 1 1 1 0 0 0 0 0 0 0 0 0 0 0 0 0 0 0 0 0 0 0 0 0 0 0 0 0 0 0 0 0 0 0 0 0 0 0 0\n",
      "11/21/2019 09:03:32 - INFO - bert -   segment_ids: 0 0 0 0 0 0 1 1 1 1 1 1 1 1 1 1 1 1 1 1 1 1 1 1 1 1 1 1 1 1 1 1 1 1 1 1 1 1 1 1 1 1 1 1 1 1 1 1 1 1 1 1 1 1 1 1 1 1 1 1 1 1 1 1 1 1 1 1 1 1 1 1 1 1 1 1 1 1 1 1 1 1 1 1 1 1 1 1 1 1 1 1 1 1 1 1 1 1 1 1 1 1 1 1 1 1 1 1 1 1 1 1 1 1 1 1 1 1 1 1 1 1 1 1 1 1 1 1 1 1 1 1 1 1 1 1 1 1 1 1 1 1 1 1 1 1 1 1 1 1 1 1 1 1 1 1 1 1 1 1 1 1 1 1 0 0 0 0 0 0 0 0 0 0 0 0 0 0 0 0 0 0 0 0 0 0 0 0 0 0 0 0 0 0 0 0 0 0 0 0\n",
      "11/21/2019 09:03:32 - INFO - bert -   *** Example ***\n",
      "11/21/2019 09:03:32 - INFO - bert -   tokens: [CLS] this is a query [SEP] this question has been sitting long enough , that it is time to document an answer for poster ##ity . the short answer is that highly - customized data visual ##izations cannot be done using function wrap ##pers from the ' lattice ' and ' g ##gp ##lot ##2 ' packages . the purpose of a function wrap ##per is to take some of the decisions out of your hands , so you will always be limited to the decisions originally envisioned by the function code ##r . i highly recommend everyone learn the ' lattice ' or ' g ##gp ##lot ##2 ' packages , but these packages are more useful for data exploration than for being creative with data visual ##izations . this answer is for those who want to create a customized visual . the following process may take half a day , but that is significantly less time than it would take to hack the ' lattice ' or ' g ##gp ##lot ##2 ' packages into the shape you want . this isn ' t a criticism of either of those packages ; it ' s just a [SEP]\n",
      "11/21/2019 09:03:32 - INFO - bert -   input_ids: 101 2023 2003 1037 23032 102 2023 3160 2038 2042 3564 2146 2438 1010 2008 2009 2003 2051 2000 6254 2019 3437 2005 13082 3012 1012 1996 2460 3437 2003 2008 3811 1011 28749 2951 5107 22318 3685 2022 2589 2478 3853 10236 7347 2013 1996 1005 17779 1005 1998 1005 1043 21600 10994 2475 1005 14555 1012 1996 3800 1997 1037 3853 10236 4842 2003 2000 2202 2070 1997 1996 6567 2041 1997 2115 2398 1010 2061 2017 2097 2467 2022 3132 2000 1996 6567 2761 18035 2011 1996 3853 3642 2099 1012 1045 3811 16755 3071 4553 1996 1005 17779 1005 2030 1005 1043 21600 10994 2475 1005 14555 1010 2021 2122 14555 2024 2062 6179 2005 2951 8993 2084 2005 2108 5541 2007 2951 5107 22318 1012 2023 3437 2003 2005 2216 2040 2215 2000 3443 1037 28749 5107 1012 1996 2206 2832 2089 2202 2431 1037 2154 1010 2021 2008 2003 6022 2625 2051 2084 2009 2052 2202 2000 20578 1996 1005 17779 1005 2030 1005 1043 21600 10994 2475 1005 14555 2046 1996 4338 2017 2215 1012 2023 3475 1005 1056 1037 6256 1997 2593 1997 2216 14555 1025 2009 1005 1055 2074 1037 102\n"
     ]
    },
    {
     "name": "stderr",
     "output_type": "stream",
     "text": [
      "11/21/2019 09:03:32 - INFO - bert -   input_mask: 1 1 1 1 1 1 1 1 1 1 1 1 1 1 1 1 1 1 1 1 1 1 1 1 1 1 1 1 1 1 1 1 1 1 1 1 1 1 1 1 1 1 1 1 1 1 1 1 1 1 1 1 1 1 1 1 1 1 1 1 1 1 1 1 1 1 1 1 1 1 1 1 1 1 1 1 1 1 1 1 1 1 1 1 1 1 1 1 1 1 1 1 1 1 1 1 1 1 1 1 1 1 1 1 1 1 1 1 1 1 1 1 1 1 1 1 1 1 1 1 1 1 1 1 1 1 1 1 1 1 1 1 1 1 1 1 1 1 1 1 1 1 1 1 1 1 1 1 1 1 1 1 1 1 1 1 1 1 1 1 1 1 1 1 1 1 1 1 1 1 1 1 1 1 1 1 1 1 1 1 1 1 1 1 1 1 1 1 1 1 1 1 1 1 1 1 1 1 1 1\n",
      "11/21/2019 09:03:32 - INFO - bert -   segment_ids: 0 0 0 0 0 0 1 1 1 1 1 1 1 1 1 1 1 1 1 1 1 1 1 1 1 1 1 1 1 1 1 1 1 1 1 1 1 1 1 1 1 1 1 1 1 1 1 1 1 1 1 1 1 1 1 1 1 1 1 1 1 1 1 1 1 1 1 1 1 1 1 1 1 1 1 1 1 1 1 1 1 1 1 1 1 1 1 1 1 1 1 1 1 1 1 1 1 1 1 1 1 1 1 1 1 1 1 1 1 1 1 1 1 1 1 1 1 1 1 1 1 1 1 1 1 1 1 1 1 1 1 1 1 1 1 1 1 1 1 1 1 1 1 1 1 1 1 1 1 1 1 1 1 1 1 1 1 1 1 1 1 1 1 1 1 1 1 1 1 1 1 1 1 1 1 1 1 1 1 1 1 1 1 1 1 1 1 1 1 1 1 1 1 1 1 1 1 1 1 1\n",
      "11/21/2019 09:03:32 - INFO - bert -   *** Example ***\n",
      "11/21/2019 09:03:32 - INFO - bert -   tokens: [CLS] this is a query [SEP] the authentic ##ode ( t ##m ) times ##tam ##p protocol pre ##dates the time - stamp protocol defined in rfc ##31 ##6 ##1 . however ( and ii ##rc ) there is no direct support for asking a times ##tam ##p built in . net . so you can either : build a ts ##p client to get your times ##tam ##ps ; or pig ##gy ##back the existing free times ##tam ##p servers that are around for code signing . while i would suggest # 1 in most cases ( it ' s a standard and more future proof ) i ' m not sure if there are c # libraries available that supports that today . if you ' re interested in # 2 then i know ( because i ' ve written it ; - ) that the code is available inside mono ( mit . x ##11 licensed ) to support authentic ##ode ( t ##m ) and code signing ( including times ##tam ##ping ) . [SEP]\n",
      "11/21/2019 09:03:32 - INFO - bert -   input_ids: 101 2023 2003 1037 23032 102 1996 14469 10244 1006 1056 2213 1007 2335 15464 2361 8778 3653 27122 1996 2051 1011 11359 8778 4225 1999 14645 21486 2575 2487 1012 2174 1006 1998 2462 11890 1007 2045 2003 2053 3622 2490 2005 4851 1037 2335 15464 2361 2328 1999 1012 5658 1012 2061 2017 2064 2593 1024 3857 1037 24529 2361 7396 2000 2131 2115 2335 15464 4523 1025 2030 10369 6292 5963 1996 4493 2489 2335 15464 2361 14903 2008 2024 2105 2005 3642 6608 1012 2096 1045 2052 6592 1001 1015 1999 2087 3572 1006 2009 1005 1055 1037 3115 1998 2062 2925 6947 1007 1045 1005 1049 2025 2469 2065 2045 2024 1039 1001 8860 2800 2008 6753 2008 2651 1012 2065 2017 1005 2128 4699 1999 1001 1016 2059 1045 2113 1006 2138 1045 1005 2310 2517 2009 1025 1011 1007 2008 1996 3642 2003 2800 2503 18847 1006 10210 1012 1060 14526 7000 1007 2000 2490 14469 10244 1006 1056 2213 1007 1998 3642 6608 1006 2164 2335 15464 4691 1007 1012 102 0 0 0 0 0 0 0 0 0 0 0 0 0 0 0 0 0 0 0 0 0\n",
      "11/21/2019 09:03:32 - INFO - bert -   input_mask: 1 1 1 1 1 1 1 1 1 1 1 1 1 1 1 1 1 1 1 1 1 1 1 1 1 1 1 1 1 1 1 1 1 1 1 1 1 1 1 1 1 1 1 1 1 1 1 1 1 1 1 1 1 1 1 1 1 1 1 1 1 1 1 1 1 1 1 1 1 1 1 1 1 1 1 1 1 1 1 1 1 1 1 1 1 1 1 1 1 1 1 1 1 1 1 1 1 1 1 1 1 1 1 1 1 1 1 1 1 1 1 1 1 1 1 1 1 1 1 1 1 1 1 1 1 1 1 1 1 1 1 1 1 1 1 1 1 1 1 1 1 1 1 1 1 1 1 1 1 1 1 1 1 1 1 1 1 1 1 1 1 1 1 1 1 1 1 1 1 1 1 1 1 1 1 1 1 1 1 0 0 0 0 0 0 0 0 0 0 0 0 0 0 0 0 0 0 0 0 0\n",
      "11/21/2019 09:03:32 - INFO - bert -   segment_ids: 0 0 0 0 0 0 1 1 1 1 1 1 1 1 1 1 1 1 1 1 1 1 1 1 1 1 1 1 1 1 1 1 1 1 1 1 1 1 1 1 1 1 1 1 1 1 1 1 1 1 1 1 1 1 1 1 1 1 1 1 1 1 1 1 1 1 1 1 1 1 1 1 1 1 1 1 1 1 1 1 1 1 1 1 1 1 1 1 1 1 1 1 1 1 1 1 1 1 1 1 1 1 1 1 1 1 1 1 1 1 1 1 1 1 1 1 1 1 1 1 1 1 1 1 1 1 1 1 1 1 1 1 1 1 1 1 1 1 1 1 1 1 1 1 1 1 1 1 1 1 1 1 1 1 1 1 1 1 1 1 1 1 1 1 1 1 1 1 1 1 1 1 1 1 1 1 1 1 1 0 0 0 0 0 0 0 0 0 0 0 0 0 0 0 0 0 0 0 0 0\n",
      "11/21/2019 09:03:36 - INFO - bert -   ***** Running evaluation *****\n",
      "11/21/2019 09:03:36 - INFO - bert -     Num examples = 3110\n",
      "11/21/2019 09:03:36 - INFO - bert -     Batch size = 128\n"
     ]
    },
    {
     "data": {
      "text/html": [
       "\n",
       "    <div>\n",
       "        <style>\n",
       "            /* Turns off some styling */\n",
       "            progress {\n",
       "                /* gets rid of default border in Firefox and Opera. */\n",
       "                border: none;\n",
       "                /* Needs to be in here for Safari polyfill so background images work as expected. */\n",
       "                background-size: auto;\n",
       "            }\n",
       "            .progress-bar-interrupted, .progress-bar-interrupted::-webkit-progress-bar {\n",
       "                background: #F44336;\n",
       "            }\n",
       "        </style>\n",
       "      <progress value='25' class='' max='25', style='width:300px; height:20px; vertical-align: middle;'></progress>\n",
       "      100.00% [25/25 00:25<00:00]\n",
       "    </div>\n",
       "    "
      ],
      "text/plain": [
       "<IPython.core.display.HTML object>"
      ]
     },
     "metadata": {},
     "output_type": "display_data"
    }
   ],
   "source": [
    "# gets similar queries\n",
    "similar_que, similar_ans = m.get_similar_documents(query = \"this is a query\", num_results = 2)"
   ]
  },
  {
   "cell_type": "markdown",
   "metadata": {},
   "source": [
    "# checks"
   ]
  },
  {
   "cell_type": "code",
   "execution_count": 11,
   "metadata": {},
   "outputs": [
    {
     "data": {
      "text/plain": [
       "device(type='cuda')"
      ]
     },
     "execution_count": 11,
     "metadata": {},
     "output_type": "execute_result"
    }
   ],
   "source": [
    "m.device"
   ]
  },
  {
   "cell_type": "code",
   "execution_count": 12,
   "metadata": {},
   "outputs": [
    {
     "data": {
      "text/plain": [
       "(3110, 8)"
      ]
     },
     "execution_count": 12,
     "metadata": {},
     "output_type": "execute_result"
    }
   ],
   "source": [
    "m.corpus.shape"
   ]
  },
  {
   "cell_type": "code",
   "execution_count": 13,
   "metadata": {},
   "outputs": [
    {
     "data": {
      "text/html": [
       "<div>\n",
       "<style scoped>\n",
       "    .dataframe tbody tr th:only-of-type {\n",
       "        vertical-align: middle;\n",
       "    }\n",
       "\n",
       "    .dataframe tbody tr th {\n",
       "        vertical-align: top;\n",
       "    }\n",
       "\n",
       "    .dataframe thead th {\n",
       "        text-align: right;\n",
       "    }\n",
       "</style>\n",
       "<table border=\"1\" class=\"dataframe\">\n",
       "  <thead>\n",
       "    <tr style=\"text-align: right;\">\n",
       "      <th></th>\n",
       "      <th>q_id</th>\n",
       "      <th>q_title</th>\n",
       "      <th>tags</th>\n",
       "      <th>accepted_answer_id</th>\n",
       "      <th>a_body</th>\n",
       "      <th>a_images_list</th>\n",
       "      <th>a_code_snippets</th>\n",
       "      <th>a_cleaned_body</th>\n",
       "    </tr>\n",
       "  </thead>\n",
       "  <tbody>\n",
       "    <tr>\n",
       "      <th>0</th>\n",
       "      <td>8018288</td>\n",
       "      <td>Stack Points in ggplot</td>\n",
       "      <td>rplotggplot2</td>\n",
       "      <td>8018341.0</td>\n",
       "      <td>&lt;p&gt;points in &lt;code&gt;geom_point&lt;/code&gt; is zero w...</td>\n",
       "      <td>[&lt;img alt=\"enter image description here\" src=\"...</td>\n",
       "      <td>[&lt;code&gt;geom_point&lt;/code&gt;, &lt;code&gt;ggplot(data=ho...</td>\n",
       "      <td>points in is zero width, so you need to set t...</td>\n",
       "    </tr>\n",
       "    <tr>\n",
       "      <th>1</th>\n",
       "      <td>7976438</td>\n",
       "      <td>I have a few EMF files. How I can convert them...</td>\n",
       "      <td>linuxgraphic</td>\n",
       "      <td>16261194.0</td>\n",
       "      <td>&lt;p&gt;&lt;a href=\"http://dag.wieers.com/home-made/un...</td>\n",
       "      <td>[]</td>\n",
       "      <td>[]</td>\n",
       "      <td>unoconv can convert emf to pdf and tiff via c...</td>\n",
       "    </tr>\n",
       "    <tr>\n",
       "      <th>2</th>\n",
       "      <td>8085770</td>\n",
       "      <td>Highlight line in flot chart</td>\n",
       "      <td>javascriptjquerychartsflot</td>\n",
       "      <td>11623415.0</td>\n",
       "      <td>&lt;p&gt;Looking at the source for flot 0.7, there i...</td>\n",
       "      <td>[]</td>\n",
       "      <td>[&lt;code&gt;octx&lt;/code&gt;, &lt;code&gt;drawPointHighlight(s...</td>\n",
       "      <td>Looking at the source for flot 0.7, there is ...</td>\n",
       "    </tr>\n",
       "  </tbody>\n",
       "</table>\n",
       "</div>"
      ],
      "text/plain": [
       "      q_id                                            q_title  \\\n",
       "0  8018288                             Stack Points in ggplot   \n",
       "1  7976438  I have a few EMF files. How I can convert them...   \n",
       "2  8085770                       Highlight line in flot chart   \n",
       "\n",
       "                         tags  accepted_answer_id  \\\n",
       "0                rplotggplot2           8018341.0   \n",
       "1                linuxgraphic          16261194.0   \n",
       "2  javascriptjquerychartsflot          11623415.0   \n",
       "\n",
       "                                              a_body  \\\n",
       "0  <p>points in <code>geom_point</code> is zero w...   \n",
       "1  <p><a href=\"http://dag.wieers.com/home-made/un...   \n",
       "2  <p>Looking at the source for flot 0.7, there i...   \n",
       "\n",
       "                                       a_images_list  \\\n",
       "0  [<img alt=\"enter image description here\" src=\"...   \n",
       "1                                                 []   \n",
       "2                                                 []   \n",
       "\n",
       "                                     a_code_snippets  \\\n",
       "0  [<code>geom_point</code>, <code>ggplot(data=ho...   \n",
       "1                                                 []   \n",
       "2  [<code>octx</code>, <code>drawPointHighlight(s...   \n",
       "\n",
       "                                      a_cleaned_body  \n",
       "0   points in is zero width, so you need to set t...  \n",
       "1   unoconv can convert emf to pdf and tiff via c...  \n",
       "2   Looking at the source for flot 0.7, there is ...  "
      ]
     },
     "execution_count": 13,
     "metadata": {},
     "output_type": "execute_result"
    }
   ],
   "source": [
    "m.corpus.head(3)"
   ]
  },
  {
   "cell_type": "code",
   "execution_count": 14,
   "metadata": {},
   "outputs": [
    {
     "data": {
      "text/plain": [
       "(3110, 9)"
      ]
     },
     "execution_count": 14,
     "metadata": {},
     "output_type": "execute_result"
    }
   ],
   "source": [
    "m.corpus_res.shape"
   ]
  },
  {
   "cell_type": "code",
   "execution_count": 15,
   "metadata": {},
   "outputs": [
    {
     "data": {
      "text/html": [
       "<div>\n",
       "<style scoped>\n",
       "    .dataframe tbody tr th:only-of-type {\n",
       "        vertical-align: middle;\n",
       "    }\n",
       "\n",
       "    .dataframe tbody tr th {\n",
       "        vertical-align: top;\n",
       "    }\n",
       "\n",
       "    .dataframe thead th {\n",
       "        text-align: right;\n",
       "    }\n",
       "</style>\n",
       "<table border=\"1\" class=\"dataframe\">\n",
       "  <thead>\n",
       "    <tr style=\"text-align: right;\">\n",
       "      <th></th>\n",
       "      <th>q_id</th>\n",
       "      <th>q_title</th>\n",
       "      <th>tags</th>\n",
       "      <th>accepted_answer_id</th>\n",
       "      <th>a_body</th>\n",
       "      <th>a_images_list</th>\n",
       "      <th>a_code_snippets</th>\n",
       "      <th>a_cleaned_body</th>\n",
       "      <th>similarity</th>\n",
       "    </tr>\n",
       "  </thead>\n",
       "  <tbody>\n",
       "    <tr>\n",
       "      <th>0</th>\n",
       "      <td>8018288</td>\n",
       "      <td>Stack Points in ggplot</td>\n",
       "      <td>rplotggplot2</td>\n",
       "      <td>8018341.0</td>\n",
       "      <td>&lt;p&gt;points in &lt;code&gt;geom_point&lt;/code&gt; is zero w...</td>\n",
       "      <td>[&lt;img alt=\"enter image description here\" src=\"...</td>\n",
       "      <td>[&lt;code&gt;geom_point&lt;/code&gt;, &lt;code&gt;ggplot(data=ho...</td>\n",
       "      <td>points in is zero width, so you need to set t...</td>\n",
       "      <td>0.999944</td>\n",
       "    </tr>\n",
       "    <tr>\n",
       "      <th>1</th>\n",
       "      <td>7976438</td>\n",
       "      <td>I have a few EMF files. How I can convert them...</td>\n",
       "      <td>linuxgraphic</td>\n",
       "      <td>16261194.0</td>\n",
       "      <td>&lt;p&gt;&lt;a href=\"http://dag.wieers.com/home-made/un...</td>\n",
       "      <td>[]</td>\n",
       "      <td>[]</td>\n",
       "      <td>unoconv can convert emf to pdf and tiff via c...</td>\n",
       "      <td>0.997823</td>\n",
       "    </tr>\n",
       "    <tr>\n",
       "      <th>2</th>\n",
       "      <td>8085770</td>\n",
       "      <td>Highlight line in flot chart</td>\n",
       "      <td>javascriptjquerychartsflot</td>\n",
       "      <td>11623415.0</td>\n",
       "      <td>&lt;p&gt;Looking at the source for flot 0.7, there i...</td>\n",
       "      <td>[]</td>\n",
       "      <td>[&lt;code&gt;octx&lt;/code&gt;, &lt;code&gt;drawPointHighlight(s...</td>\n",
       "      <td>Looking at the source for flot 0.7, there is ...</td>\n",
       "      <td>0.999889</td>\n",
       "    </tr>\n",
       "  </tbody>\n",
       "</table>\n",
       "</div>"
      ],
      "text/plain": [
       "      q_id                                            q_title  \\\n",
       "0  8018288                             Stack Points in ggplot   \n",
       "1  7976438  I have a few EMF files. How I can convert them...   \n",
       "2  8085770                       Highlight line in flot chart   \n",
       "\n",
       "                         tags  accepted_answer_id  \\\n",
       "0                rplotggplot2           8018341.0   \n",
       "1                linuxgraphic          16261194.0   \n",
       "2  javascriptjquerychartsflot          11623415.0   \n",
       "\n",
       "                                              a_body  \\\n",
       "0  <p>points in <code>geom_point</code> is zero w...   \n",
       "1  <p><a href=\"http://dag.wieers.com/home-made/un...   \n",
       "2  <p>Looking at the source for flot 0.7, there i...   \n",
       "\n",
       "                                       a_images_list  \\\n",
       "0  [<img alt=\"enter image description here\" src=\"...   \n",
       "1                                                 []   \n",
       "2                                                 []   \n",
       "\n",
       "                                     a_code_snippets  \\\n",
       "0  [<code>geom_point</code>, <code>ggplot(data=ho...   \n",
       "1                                                 []   \n",
       "2  [<code>octx</code>, <code>drawPointHighlight(s...   \n",
       "\n",
       "                                      a_cleaned_body  similarity  \n",
       "0   points in is zero width, so you need to set t...    0.999944  \n",
       "1   unoconv can convert emf to pdf and tiff via c...    0.997823  \n",
       "2   Looking at the source for flot 0.7, there is ...    0.999889  "
      ]
     },
     "execution_count": 15,
     "metadata": {},
     "output_type": "execute_result"
    }
   ],
   "source": [
    "m.corpus_res.head(3)"
   ]
  },
  {
   "cell_type": "code",
   "execution_count": 25,
   "metadata": {
    "collapsed": true
   },
   "outputs": [
    {
     "data": {
      "text/plain": [
       "['<',\n",
       " 'p',\n",
       " '>',\n",
       " '<',\n",
       " 'a',\n",
       " 'hr',\n",
       " '##ef',\n",
       " '=',\n",
       " '\"',\n",
       " 'http',\n",
       " ':',\n",
       " '/',\n",
       " '/',\n",
       " 'da',\n",
       " '##g',\n",
       " '.',\n",
       " 'wi',\n",
       " '##eers',\n",
       " '.',\n",
       " 'com',\n",
       " '/',\n",
       " 'home',\n",
       " '-',\n",
       " 'made',\n",
       " '/',\n",
       " 'uno',\n",
       " '##con',\n",
       " '##v',\n",
       " '/',\n",
       " '\"',\n",
       " 're',\n",
       " '##l',\n",
       " '=',\n",
       " '\"',\n",
       " 'nor',\n",
       " '##efe',\n",
       " '##rre',\n",
       " '##r',\n",
       " '\"',\n",
       " '>',\n",
       " 'uno',\n",
       " '##con',\n",
       " '##v',\n",
       " '<',\n",
       " '/',\n",
       " 'a',\n",
       " '>',\n",
       " 'can',\n",
       " 'convert',\n",
       " 'em',\n",
       " '##f',\n",
       " 'to',\n",
       " 'pdf',\n",
       " 'and',\n",
       " 'ti',\n",
       " '##ff',\n",
       " 'via',\n",
       " 'command',\n",
       " '-',\n",
       " 'line',\n",
       " ':',\n",
       " '<',\n",
       " 'br',\n",
       " '>',\n",
       " 'for',\n",
       " 'pdf',\n",
       " ':',\n",
       " 'uno',\n",
       " '##con',\n",
       " '##v',\n",
       " 'file',\n",
       " '##name',\n",
       " '.',\n",
       " 'em',\n",
       " '##f',\n",
       " '<',\n",
       " 'br',\n",
       " '>',\n",
       " 'for',\n",
       " 'ti',\n",
       " '##ff',\n",
       " ':',\n",
       " 'uno',\n",
       " '##con',\n",
       " '##v',\n",
       " '-',\n",
       " 'f',\n",
       " 'ti',\n",
       " '##ff',\n",
       " 'file',\n",
       " '##name',\n",
       " '.',\n",
       " 'em',\n",
       " '##f',\n",
       " '<',\n",
       " 'br',\n",
       " '>',\n",
       " 'it',\n",
       " 'doesn',\n",
       " \"'\",\n",
       " 't',\n",
       " 'seem',\n",
       " 'to',\n",
       " 'support',\n",
       " 'ps',\n",
       " 'file',\n",
       " 'export',\n",
       " ',',\n",
       " 'though',\n",
       " '.',\n",
       " '<',\n",
       " 'br',\n",
       " '>',\n",
       " 'you',\n",
       " 'are',\n",
       " 'still',\n",
       " 'required',\n",
       " 'to',\n",
       " 'install',\n",
       " 'open',\n",
       " '##off',\n",
       " '##ice',\n",
       " '.',\n",
       " 'org',\n",
       " '/',\n",
       " 'libre',\n",
       " '##off',\n",
       " '##ice',\n",
       " 'because',\n",
       " 'this',\n",
       " 'tool',\n",
       " 'uses',\n",
       " 'them',\n",
       " 'as',\n",
       " 'the',\n",
       " 'back',\n",
       " '##end',\n",
       " '.',\n",
       " '<',\n",
       " '/',\n",
       " 'p',\n",
       " '>']"
      ]
     },
     "execution_count": 25,
     "metadata": {},
     "output_type": "execute_result"
    }
   ],
   "source": [
    "# using the tokenizer on the unclean answer body tends to have odd single characters\n",
    "m.tokenizer.tokenize(m.corpus.iloc[1].a_body)"
   ]
  },
  {
   "cell_type": "code",
   "execution_count": 26,
   "metadata": {
    "collapsed": true
   },
   "outputs": [
    {
     "data": {
      "text/plain": [
       "['uno',\n",
       " '##con',\n",
       " '##v',\n",
       " 'can',\n",
       " 'convert',\n",
       " 'em',\n",
       " '##f',\n",
       " 'to',\n",
       " 'pdf',\n",
       " 'and',\n",
       " 'ti',\n",
       " '##ff',\n",
       " 'via',\n",
       " 'command',\n",
       " '-',\n",
       " 'line',\n",
       " ':',\n",
       " 'for',\n",
       " 'pdf',\n",
       " ':',\n",
       " 'uno',\n",
       " '##con',\n",
       " '##v',\n",
       " 'file',\n",
       " '##name',\n",
       " '.',\n",
       " 'em',\n",
       " '##f',\n",
       " 'for',\n",
       " 'ti',\n",
       " '##ff',\n",
       " ':',\n",
       " 'uno',\n",
       " '##con',\n",
       " '##v',\n",
       " '-',\n",
       " 'f',\n",
       " 'ti',\n",
       " '##ff',\n",
       " 'file',\n",
       " '##name',\n",
       " '.',\n",
       " 'em',\n",
       " '##f',\n",
       " 'it',\n",
       " 'doesn',\n",
       " \"'\",\n",
       " 't',\n",
       " 'seem',\n",
       " 'to',\n",
       " 'support',\n",
       " 'ps',\n",
       " 'file',\n",
       " 'export',\n",
       " ',',\n",
       " 'though',\n",
       " '.',\n",
       " 'you',\n",
       " 'are',\n",
       " 'still',\n",
       " 'required',\n",
       " 'to',\n",
       " 'install',\n",
       " 'open',\n",
       " '##off',\n",
       " '##ice',\n",
       " '.',\n",
       " 'org',\n",
       " '/',\n",
       " 'libre',\n",
       " '##off',\n",
       " '##ice',\n",
       " 'because',\n",
       " 'this',\n",
       " 'tool',\n",
       " 'uses',\n",
       " 'them',\n",
       " 'as',\n",
       " 'the',\n",
       " 'back',\n",
       " '##end',\n",
       " '.']"
      ]
     },
     "execution_count": 26,
     "metadata": {},
     "output_type": "execute_result"
    }
   ],
   "source": [
    "m.tokenizer.tokenize(m.corpus.iloc[1].a_cleaned_body)"
   ]
  },
  {
   "cell_type": "code",
   "execution_count": 27,
   "metadata": {
    "collapsed": true
   },
   "outputs": [
    {
     "name": "stderr",
     "output_type": "stream",
     "text": [
      "11/21/2019 09:30:41 - INFO - bert -   *** Example ***\n",
      "11/21/2019 09:30:41 - INFO - bert -   tokens: [CLS] stack points in g ##gp ##lot [SEP] points in is zero width , so you need to set the width of dod ##ging : [SEP]\n",
      "11/21/2019 09:30:41 - INFO - bert -   input_ids: 101 9991 2685 1999 1043 21600 10994 102 2685 1999 2003 5717 9381 1010 2061 2017 2342 2000 2275 1996 9381 1997 26489 4726 1024 102 0 0 0 0 0 0 0 0 0 0 0 0 0 0 0 0 0 0 0 0 0 0 0 0 0 0 0 0 0 0 0 0 0 0 0 0 0 0 0 0 0 0 0 0 0 0 0 0 0 0 0 0 0 0 0 0 0 0 0 0 0 0 0 0 0 0 0 0 0 0 0 0 0 0 0 0 0 0 0 0 0 0 0 0 0 0 0 0 0 0 0 0 0 0 0 0 0 0 0 0 0 0 0 0 0 0 0 0 0 0 0 0 0 0 0 0 0 0 0 0 0 0 0 0 0 0 0 0 0 0 0 0 0 0 0 0 0 0 0 0 0 0 0 0 0 0 0 0 0 0 0 0 0 0 0 0 0 0 0 0 0 0 0 0 0 0 0 0 0 0 0 0 0 0\n",
      "11/21/2019 09:30:41 - INFO - bert -   input_mask: 1 1 1 1 1 1 1 1 1 1 1 1 1 1 1 1 1 1 1 1 1 1 1 1 1 1 0 0 0 0 0 0 0 0 0 0 0 0 0 0 0 0 0 0 0 0 0 0 0 0 0 0 0 0 0 0 0 0 0 0 0 0 0 0 0 0 0 0 0 0 0 0 0 0 0 0 0 0 0 0 0 0 0 0 0 0 0 0 0 0 0 0 0 0 0 0 0 0 0 0 0 0 0 0 0 0 0 0 0 0 0 0 0 0 0 0 0 0 0 0 0 0 0 0 0 0 0 0 0 0 0 0 0 0 0 0 0 0 0 0 0 0 0 0 0 0 0 0 0 0 0 0 0 0 0 0 0 0 0 0 0 0 0 0 0 0 0 0 0 0 0 0 0 0 0 0 0 0 0 0 0 0 0 0 0 0 0 0 0 0 0 0 0 0 0 0 0 0 0 0\n",
      "11/21/2019 09:30:41 - INFO - bert -   segment_ids: 0 0 0 0 0 0 0 0 1 1 1 1 1 1 1 1 1 1 1 1 1 1 1 1 1 1 0 0 0 0 0 0 0 0 0 0 0 0 0 0 0 0 0 0 0 0 0 0 0 0 0 0 0 0 0 0 0 0 0 0 0 0 0 0 0 0 0 0 0 0 0 0 0 0 0 0 0 0 0 0 0 0 0 0 0 0 0 0 0 0 0 0 0 0 0 0 0 0 0 0 0 0 0 0 0 0 0 0 0 0 0 0 0 0 0 0 0 0 0 0 0 0 0 0 0 0 0 0 0 0 0 0 0 0 0 0 0 0 0 0 0 0 0 0 0 0 0 0 0 0 0 0 0 0 0 0 0 0 0 0 0 0 0 0 0 0 0 0 0 0 0 0 0 0 0 0 0 0 0 0 0 0 0 0 0 0 0 0 0 0 0 0 0 0 0 0 0 0 0 0\n",
      "11/21/2019 09:30:41 - INFO - bert -   *** Example ***\n",
      "11/21/2019 09:30:41 - INFO - bert -   tokens: [CLS] i have a few em ##f files . how i can convert them into ps / pdf / ti ##ff on linux ? [SEP] uno ##con ##v can convert em ##f to pdf and ti ##ff via command - line : for pdf : uno ##con ##v file ##name . em ##f for ti ##ff : uno ##con ##v - f ti ##ff file ##name . em ##f it doesn ' t seem to support ps file export , though . you are still required to install open ##off ##ice . org / libre ##off ##ice because this tool uses them as the back ##end . [SEP]\n",
      "11/21/2019 09:30:41 - INFO - bert -   input_ids: 101 1045 2031 1037 2261 7861 2546 6764 1012 2129 1045 2064 10463 2068 2046 8827 1013 11135 1013 14841 4246 2006 11603 1029 102 27776 8663 2615 2064 10463 7861 2546 2000 11135 1998 14841 4246 3081 3094 1011 2240 1024 2005 11135 1024 27776 8663 2615 5371 18442 1012 7861 2546 2005 14841 4246 1024 27776 8663 2615 1011 1042 14841 4246 5371 18442 1012 7861 2546 2009 2987 1005 1056 4025 2000 2490 8827 5371 9167 1010 2295 1012 2017 2024 2145 3223 2000 16500 2330 7245 6610 1012 8917 1013 21091 7245 6610 2138 2023 6994 3594 2068 2004 1996 2067 10497 1012 102 0 0 0 0 0 0 0 0 0 0 0 0 0 0 0 0 0 0 0 0 0 0 0 0 0 0 0 0 0 0 0 0 0 0 0 0 0 0 0 0 0 0 0 0 0 0 0 0 0 0 0 0 0 0 0 0 0 0 0 0 0 0 0 0 0 0 0 0 0 0 0 0 0 0 0 0 0 0 0 0 0 0 0 0 0 0 0 0 0 0 0 0\n",
      "11/21/2019 09:30:41 - INFO - bert -   input_mask: 1 1 1 1 1 1 1 1 1 1 1 1 1 1 1 1 1 1 1 1 1 1 1 1 1 1 1 1 1 1 1 1 1 1 1 1 1 1 1 1 1 1 1 1 1 1 1 1 1 1 1 1 1 1 1 1 1 1 1 1 1 1 1 1 1 1 1 1 1 1 1 1 1 1 1 1 1 1 1 1 1 1 1 1 1 1 1 1 1 1 1 1 1 1 1 1 1 1 1 1 1 1 1 1 1 1 1 1 0 0 0 0 0 0 0 0 0 0 0 0 0 0 0 0 0 0 0 0 0 0 0 0 0 0 0 0 0 0 0 0 0 0 0 0 0 0 0 0 0 0 0 0 0 0 0 0 0 0 0 0 0 0 0 0 0 0 0 0 0 0 0 0 0 0 0 0 0 0 0 0 0 0 0 0 0 0 0 0 0 0 0 0 0 0 0 0 0 0 0 0\n",
      "11/21/2019 09:30:41 - INFO - bert -   segment_ids: 0 0 0 0 0 0 0 0 0 0 0 0 0 0 0 0 0 0 0 0 0 0 0 0 0 1 1 1 1 1 1 1 1 1 1 1 1 1 1 1 1 1 1 1 1 1 1 1 1 1 1 1 1 1 1 1 1 1 1 1 1 1 1 1 1 1 1 1 1 1 1 1 1 1 1 1 1 1 1 1 1 1 1 1 1 1 1 1 1 1 1 1 1 1 1 1 1 1 1 1 1 1 1 1 1 1 1 1 0 0 0 0 0 0 0 0 0 0 0 0 0 0 0 0 0 0 0 0 0 0 0 0 0 0 0 0 0 0 0 0 0 0 0 0 0 0 0 0 0 0 0 0 0 0 0 0 0 0 0 0 0 0 0 0 0 0 0 0 0 0 0 0 0 0 0 0 0 0 0 0 0 0 0 0 0 0 0 0 0 0 0 0 0 0 0 0 0 0 0 0\n",
      "11/21/2019 09:30:41 - INFO - bert -   *** Example ***\n",
      "11/21/2019 09:30:41 - INFO - bert -   tokens: [CLS] highlight line in fl ##ot chart [SEP] looking at the source for fl ##ot 0 . 7 , there is not included functionality to highlight lines . however , if you wanted to extend fl ##ot to do what you want . . . fl ##ot has an \" over ##lay \" canvas which it uses to do effects like highlighting . this has the associated context in the source . if you look at the method you can see how highlighting is done for data ##points . you could write a similar method for lines . the function it ##erate ##s over an array of highlight ##able objects - - you would want to extend that to handle \" line \" objects as well . finally you would need to write a method to add / remove lines from the array of highlight ##able objects , analogous to the existing and methods . notice these methods are made public using the lines : [SEP]\n",
      "11/21/2019 09:30:41 - INFO - bert -   input_ids: 101 12944 2240 1999 13109 4140 3673 102 2559 2012 1996 3120 2005 13109 4140 1014 1012 1021 1010 2045 2003 2025 2443 15380 2000 12944 3210 1012 2174 1010 2065 2017 2359 2000 7949 13109 4140 2000 2079 2054 2017 2215 1012 1012 1012 13109 4140 2038 2019 1000 2058 8485 1000 10683 2029 2009 3594 2000 2079 3896 2066 20655 1012 2023 2038 1996 3378 6123 1999 1996 3120 1012 2065 2017 2298 2012 1996 4118 2017 2064 2156 2129 20655 2003 2589 2005 2951 26521 1012 2017 2071 4339 1037 2714 4118 2005 3210 1012 1996 3853 2009 22139 2015 2058 2019 9140 1997 12944 3085 5200 1011 1011 2017 2052 2215 2000 7949 2008 2000 5047 1000 2240 1000 5200 2004 2092 1012 2633 2017 2052 2342 2000 4339 1037 4118 2000 5587 1013 6366 3210 2013 1996 9140 1997 12944 3085 5200 1010 19639 2000 1996 4493 1998 4725 1012 5060 2122 4725 2024 2081 2270 2478 1996 3210 1024 102 0 0 0 0 0 0 0 0 0 0 0 0 0 0 0 0 0 0 0 0 0 0 0 0 0 0 0 0 0 0 0 0 0 0\n",
      "11/21/2019 09:30:41 - INFO - bert -   input_mask: 1 1 1 1 1 1 1 1 1 1 1 1 1 1 1 1 1 1 1 1 1 1 1 1 1 1 1 1 1 1 1 1 1 1 1 1 1 1 1 1 1 1 1 1 1 1 1 1 1 1 1 1 1 1 1 1 1 1 1 1 1 1 1 1 1 1 1 1 1 1 1 1 1 1 1 1 1 1 1 1 1 1 1 1 1 1 1 1 1 1 1 1 1 1 1 1 1 1 1 1 1 1 1 1 1 1 1 1 1 1 1 1 1 1 1 1 1 1 1 1 1 1 1 1 1 1 1 1 1 1 1 1 1 1 1 1 1 1 1 1 1 1 1 1 1 1 1 1 1 1 1 1 1 1 1 1 1 1 1 1 1 1 1 1 1 1 0 0 0 0 0 0 0 0 0 0 0 0 0 0 0 0 0 0 0 0 0 0 0 0 0 0 0 0 0 0 0 0 0 0\n",
      "11/21/2019 09:30:41 - INFO - bert -   segment_ids: 0 0 0 0 0 0 0 0 1 1 1 1 1 1 1 1 1 1 1 1 1 1 1 1 1 1 1 1 1 1 1 1 1 1 1 1 1 1 1 1 1 1 1 1 1 1 1 1 1 1 1 1 1 1 1 1 1 1 1 1 1 1 1 1 1 1 1 1 1 1 1 1 1 1 1 1 1 1 1 1 1 1 1 1 1 1 1 1 1 1 1 1 1 1 1 1 1 1 1 1 1 1 1 1 1 1 1 1 1 1 1 1 1 1 1 1 1 1 1 1 1 1 1 1 1 1 1 1 1 1 1 1 1 1 1 1 1 1 1 1 1 1 1 1 1 1 1 1 1 1 1 1 1 1 1 1 1 1 1 1 1 1 1 1 1 1 0 0 0 0 0 0 0 0 0 0 0 0 0 0 0 0 0 0 0 0 0 0 0 0 0 0 0 0 0 0 0 0 0 0\n",
      "11/21/2019 09:30:41 - INFO - bert -   *** Example ***\n",
      "11/21/2019 09:30:41 - INFO - bert -   tokens: [CLS] save ya ##xi ##s legends as a separate gr ##ob ? [SEP] this question has been sitting long enough , that it is time to document an answer for poster ##ity . the short answer is that highly - customized data visual ##izations cannot be done using function wrap ##pers from the ' lattice ' and ' g ##gp ##lot ##2 ' packages . the purpose of a function wrap ##per is to take some of the decisions out of your hands , so you will always be limited to the decisions originally envisioned by the function code ##r . i highly recommend everyone learn the ' lattice ' or ' g ##gp ##lot ##2 ' packages , but these packages are more useful for data exploration than for being creative with data visual ##izations . this answer is for those who want to create a customized visual . the following process may take half a day , but that is significantly less time than it would take to hack the ' lattice ' or ' g ##gp ##lot ##2 ' packages into the shape you want . this isn ' t a criticism of either of those [SEP]\n",
      "11/21/2019 09:30:41 - INFO - bert -   input_ids: 101 3828 8038 9048 2015 9489 2004 1037 3584 24665 16429 1029 102 2023 3160 2038 2042 3564 2146 2438 1010 2008 2009 2003 2051 2000 6254 2019 3437 2005 13082 3012 1012 1996 2460 3437 2003 2008 3811 1011 28749 2951 5107 22318 3685 2022 2589 2478 3853 10236 7347 2013 1996 1005 17779 1005 1998 1005 1043 21600 10994 2475 1005 14555 1012 1996 3800 1997 1037 3853 10236 4842 2003 2000 2202 2070 1997 1996 6567 2041 1997 2115 2398 1010 2061 2017 2097 2467 2022 3132 2000 1996 6567 2761 18035 2011 1996 3853 3642 2099 1012 1045 3811 16755 3071 4553 1996 1005 17779 1005 2030 1005 1043 21600 10994 2475 1005 14555 1010 2021 2122 14555 2024 2062 6179 2005 2951 8993 2084 2005 2108 5541 2007 2951 5107 22318 1012 2023 3437 2003 2005 2216 2040 2215 2000 3443 1037 28749 5107 1012 1996 2206 2832 2089 2202 2431 1037 2154 1010 2021 2008 2003 6022 2625 2051 2084 2009 2052 2202 2000 20578 1996 1005 17779 1005 2030 1005 1043 21600 10994 2475 1005 14555 2046 1996 4338 2017 2215 1012 2023 3475 1005 1056 1037 6256 1997 2593 1997 2216 102\n"
     ]
    },
    {
     "name": "stderr",
     "output_type": "stream",
     "text": [
      "11/21/2019 09:30:41 - INFO - bert -   input_mask: 1 1 1 1 1 1 1 1 1 1 1 1 1 1 1 1 1 1 1 1 1 1 1 1 1 1 1 1 1 1 1 1 1 1 1 1 1 1 1 1 1 1 1 1 1 1 1 1 1 1 1 1 1 1 1 1 1 1 1 1 1 1 1 1 1 1 1 1 1 1 1 1 1 1 1 1 1 1 1 1 1 1 1 1 1 1 1 1 1 1 1 1 1 1 1 1 1 1 1 1 1 1 1 1 1 1 1 1 1 1 1 1 1 1 1 1 1 1 1 1 1 1 1 1 1 1 1 1 1 1 1 1 1 1 1 1 1 1 1 1 1 1 1 1 1 1 1 1 1 1 1 1 1 1 1 1 1 1 1 1 1 1 1 1 1 1 1 1 1 1 1 1 1 1 1 1 1 1 1 1 1 1 1 1 1 1 1 1 1 1 1 1 1 1 1 1 1 1 1 1\n",
      "11/21/2019 09:30:41 - INFO - bert -   segment_ids: 0 0 0 0 0 0 0 0 0 0 0 0 0 1 1 1 1 1 1 1 1 1 1 1 1 1 1 1 1 1 1 1 1 1 1 1 1 1 1 1 1 1 1 1 1 1 1 1 1 1 1 1 1 1 1 1 1 1 1 1 1 1 1 1 1 1 1 1 1 1 1 1 1 1 1 1 1 1 1 1 1 1 1 1 1 1 1 1 1 1 1 1 1 1 1 1 1 1 1 1 1 1 1 1 1 1 1 1 1 1 1 1 1 1 1 1 1 1 1 1 1 1 1 1 1 1 1 1 1 1 1 1 1 1 1 1 1 1 1 1 1 1 1 1 1 1 1 1 1 1 1 1 1 1 1 1 1 1 1 1 1 1 1 1 1 1 1 1 1 1 1 1 1 1 1 1 1 1 1 1 1 1 1 1 1 1 1 1 1 1 1 1 1 1 1 1 1 1 1 1\n",
      "11/21/2019 09:30:41 - INFO - bert -   *** Example ***\n",
      "11/21/2019 09:30:41 - INFO - bert -   tokens: [CLS] how do i add a times ##tam ##p when digitally signing a file in c # ? [SEP] the authentic ##ode ( t ##m ) times ##tam ##p protocol pre ##dates the time - stamp protocol defined in rfc ##31 ##6 ##1 . however ( and ii ##rc ) there is no direct support for asking a times ##tam ##p built in . net . so you can either : build a ts ##p client to get your times ##tam ##ps ; or pig ##gy ##back the existing free times ##tam ##p servers that are around for code signing . while i would suggest # 1 in most cases ( it ' s a standard and more future proof ) i ' m not sure if there are c # libraries available that supports that today . if you ' re interested in # 2 then i know ( because i ' ve written it ; - ) that the code is available inside mono ( mit . x ##11 licensed ) to support authentic ##ode ( t ##m ) and code signing ( including times ##tam ##ping ) . [SEP]\n",
      "11/21/2019 09:30:41 - INFO - bert -   input_ids: 101 2129 2079 1045 5587 1037 2335 15464 2361 2043 18397 6608 1037 5371 1999 1039 1001 1029 102 1996 14469 10244 1006 1056 2213 1007 2335 15464 2361 8778 3653 27122 1996 2051 1011 11359 8778 4225 1999 14645 21486 2575 2487 1012 2174 1006 1998 2462 11890 1007 2045 2003 2053 3622 2490 2005 4851 1037 2335 15464 2361 2328 1999 1012 5658 1012 2061 2017 2064 2593 1024 3857 1037 24529 2361 7396 2000 2131 2115 2335 15464 4523 1025 2030 10369 6292 5963 1996 4493 2489 2335 15464 2361 14903 2008 2024 2105 2005 3642 6608 1012 2096 1045 2052 6592 1001 1015 1999 2087 3572 1006 2009 1005 1055 1037 3115 1998 2062 2925 6947 1007 1045 1005 1049 2025 2469 2065 2045 2024 1039 1001 8860 2800 2008 6753 2008 2651 1012 2065 2017 1005 2128 4699 1999 1001 1016 2059 1045 2113 1006 2138 1045 1005 2310 2517 2009 1025 1011 1007 2008 1996 3642 2003 2800 2503 18847 1006 10210 1012 1060 14526 7000 1007 2000 2490 14469 10244 1006 1056 2213 1007 1998 3642 6608 1006 2164 2335 15464 4691 1007 1012 102 0 0 0 0 0 0 0 0\n",
      "11/21/2019 09:30:41 - INFO - bert -   input_mask: 1 1 1 1 1 1 1 1 1 1 1 1 1 1 1 1 1 1 1 1 1 1 1 1 1 1 1 1 1 1 1 1 1 1 1 1 1 1 1 1 1 1 1 1 1 1 1 1 1 1 1 1 1 1 1 1 1 1 1 1 1 1 1 1 1 1 1 1 1 1 1 1 1 1 1 1 1 1 1 1 1 1 1 1 1 1 1 1 1 1 1 1 1 1 1 1 1 1 1 1 1 1 1 1 1 1 1 1 1 1 1 1 1 1 1 1 1 1 1 1 1 1 1 1 1 1 1 1 1 1 1 1 1 1 1 1 1 1 1 1 1 1 1 1 1 1 1 1 1 1 1 1 1 1 1 1 1 1 1 1 1 1 1 1 1 1 1 1 1 1 1 1 1 1 1 1 1 1 1 1 1 1 1 1 1 1 1 1 1 1 1 1 0 0 0 0 0 0 0 0\n",
      "11/21/2019 09:30:41 - INFO - bert -   segment_ids: 0 0 0 0 0 0 0 0 0 0 0 0 0 0 0 0 0 0 0 1 1 1 1 1 1 1 1 1 1 1 1 1 1 1 1 1 1 1 1 1 1 1 1 1 1 1 1 1 1 1 1 1 1 1 1 1 1 1 1 1 1 1 1 1 1 1 1 1 1 1 1 1 1 1 1 1 1 1 1 1 1 1 1 1 1 1 1 1 1 1 1 1 1 1 1 1 1 1 1 1 1 1 1 1 1 1 1 1 1 1 1 1 1 1 1 1 1 1 1 1 1 1 1 1 1 1 1 1 1 1 1 1 1 1 1 1 1 1 1 1 1 1 1 1 1 1 1 1 1 1 1 1 1 1 1 1 1 1 1 1 1 1 1 1 1 1 1 1 1 1 1 1 1 1 1 1 1 1 1 1 1 1 1 1 1 1 1 1 1 1 1 1 0 0 0 0 0 0 0 0\n"
     ]
    }
   ],
   "source": [
    "sentence_pairs = m.ceshiner.convert_sentence_pair(\n",
    "    titles = m.corpus.q_title.tolist()\n",
    "    , descs = m.corpus.a_cleaned_body.tolist()\n",
    "    , max_seq_length = 200\n",
    "    , tokenizer = m.tokenizer\n",
    ")"
   ]
  },
  {
   "cell_type": "code",
   "execution_count": 33,
   "metadata": {
    "collapsed": true
   },
   "outputs": [
    {
     "name": "stderr",
     "output_type": "stream",
     "text": [
      "11/21/2019 09:43:46 - INFO - bert -   *** Example ***\n",
      "11/21/2019 09:43:46 - INFO - bert -   tokens: [CLS] this is a query [SEP] points in is zero width , so you need to set the width of dod ##ging : [SEP]\n",
      "11/21/2019 09:43:46 - INFO - bert -   input_ids: 101 2023 2003 1037 23032 102 2685 1999 2003 5717 9381 1010 2061 2017 2342 2000 2275 1996 9381 1997 26489 4726 1024 102 0 0 0 0 0 0 0 0 0 0 0 0 0 0 0 0 0 0 0 0 0 0 0 0 0 0 0 0 0 0 0 0 0 0 0 0 0 0 0 0 0 0 0 0 0 0 0 0 0 0 0 0 0 0 0 0 0 0 0 0 0 0 0 0 0 0 0 0 0 0 0 0 0 0 0 0 0 0 0 0 0 0 0 0 0 0 0 0 0 0 0 0 0 0 0 0 0 0 0 0 0 0 0 0 0 0 0 0 0 0 0 0 0 0 0 0 0 0 0 0 0 0 0 0 0 0 0 0 0 0 0 0 0 0 0 0 0 0 0 0 0 0 0 0 0 0 0 0 0 0 0 0 0 0 0 0 0 0 0 0 0 0 0 0 0 0 0 0 0 0 0 0 0 0 0 0\n",
      "11/21/2019 09:43:46 - INFO - bert -   input_mask: 1 1 1 1 1 1 1 1 1 1 1 1 1 1 1 1 1 1 1 1 1 1 1 1 0 0 0 0 0 0 0 0 0 0 0 0 0 0 0 0 0 0 0 0 0 0 0 0 0 0 0 0 0 0 0 0 0 0 0 0 0 0 0 0 0 0 0 0 0 0 0 0 0 0 0 0 0 0 0 0 0 0 0 0 0 0 0 0 0 0 0 0 0 0 0 0 0 0 0 0 0 0 0 0 0 0 0 0 0 0 0 0 0 0 0 0 0 0 0 0 0 0 0 0 0 0 0 0 0 0 0 0 0 0 0 0 0 0 0 0 0 0 0 0 0 0 0 0 0 0 0 0 0 0 0 0 0 0 0 0 0 0 0 0 0 0 0 0 0 0 0 0 0 0 0 0 0 0 0 0 0 0 0 0 0 0 0 0 0 0 0 0 0 0 0 0 0 0 0 0\n",
      "11/21/2019 09:43:46 - INFO - bert -   segment_ids: 0 0 0 0 0 0 1 1 1 1 1 1 1 1 1 1 1 1 1 1 1 1 1 1 0 0 0 0 0 0 0 0 0 0 0 0 0 0 0 0 0 0 0 0 0 0 0 0 0 0 0 0 0 0 0 0 0 0 0 0 0 0 0 0 0 0 0 0 0 0 0 0 0 0 0 0 0 0 0 0 0 0 0 0 0 0 0 0 0 0 0 0 0 0 0 0 0 0 0 0 0 0 0 0 0 0 0 0 0 0 0 0 0 0 0 0 0 0 0 0 0 0 0 0 0 0 0 0 0 0 0 0 0 0 0 0 0 0 0 0 0 0 0 0 0 0 0 0 0 0 0 0 0 0 0 0 0 0 0 0 0 0 0 0 0 0 0 0 0 0 0 0 0 0 0 0 0 0 0 0 0 0 0 0 0 0 0 0 0 0 0 0 0 0 0 0 0 0 0 0\n",
      "11/21/2019 09:43:46 - INFO - bert -   *** Example ***\n",
      "11/21/2019 09:43:46 - INFO - bert -   tokens: [CLS] this is a query [SEP] uno ##con ##v can convert em ##f to pdf and ti ##ff via command - line : for pdf : uno ##con ##v file ##name . em ##f for ti ##ff : uno ##con ##v - f ti ##ff file ##name . em ##f it doesn ' t seem to support ps file export , though . you are still required to install open ##off ##ice . org / libre ##off ##ice because this tool uses them as the back ##end . [SEP]\n",
      "11/21/2019 09:43:46 - INFO - bert -   input_ids: 101 2023 2003 1037 23032 102 27776 8663 2615 2064 10463 7861 2546 2000 11135 1998 14841 4246 3081 3094 1011 2240 1024 2005 11135 1024 27776 8663 2615 5371 18442 1012 7861 2546 2005 14841 4246 1024 27776 8663 2615 1011 1042 14841 4246 5371 18442 1012 7861 2546 2009 2987 1005 1056 4025 2000 2490 8827 5371 9167 1010 2295 1012 2017 2024 2145 3223 2000 16500 2330 7245 6610 1012 8917 1013 21091 7245 6610 2138 2023 6994 3594 2068 2004 1996 2067 10497 1012 102 0 0 0 0 0 0 0 0 0 0 0 0 0 0 0 0 0 0 0 0 0 0 0 0 0 0 0 0 0 0 0 0 0 0 0 0 0 0 0 0 0 0 0 0 0 0 0 0 0 0 0 0 0 0 0 0 0 0 0 0 0 0 0 0 0 0 0 0 0 0 0 0 0 0 0 0 0 0 0 0 0 0 0 0 0 0 0 0 0 0 0 0 0 0 0 0 0 0 0 0 0 0 0 0 0 0 0 0 0 0 0\n",
      "11/21/2019 09:43:46 - INFO - bert -   input_mask: 1 1 1 1 1 1 1 1 1 1 1 1 1 1 1 1 1 1 1 1 1 1 1 1 1 1 1 1 1 1 1 1 1 1 1 1 1 1 1 1 1 1 1 1 1 1 1 1 1 1 1 1 1 1 1 1 1 1 1 1 1 1 1 1 1 1 1 1 1 1 1 1 1 1 1 1 1 1 1 1 1 1 1 1 1 1 1 1 1 0 0 0 0 0 0 0 0 0 0 0 0 0 0 0 0 0 0 0 0 0 0 0 0 0 0 0 0 0 0 0 0 0 0 0 0 0 0 0 0 0 0 0 0 0 0 0 0 0 0 0 0 0 0 0 0 0 0 0 0 0 0 0 0 0 0 0 0 0 0 0 0 0 0 0 0 0 0 0 0 0 0 0 0 0 0 0 0 0 0 0 0 0 0 0 0 0 0 0 0 0 0 0 0 0 0 0 0 0 0 0\n",
      "11/21/2019 09:43:46 - INFO - bert -   segment_ids: 0 0 0 0 0 0 1 1 1 1 1 1 1 1 1 1 1 1 1 1 1 1 1 1 1 1 1 1 1 1 1 1 1 1 1 1 1 1 1 1 1 1 1 1 1 1 1 1 1 1 1 1 1 1 1 1 1 1 1 1 1 1 1 1 1 1 1 1 1 1 1 1 1 1 1 1 1 1 1 1 1 1 1 1 1 1 1 1 1 0 0 0 0 0 0 0 0 0 0 0 0 0 0 0 0 0 0 0 0 0 0 0 0 0 0 0 0 0 0 0 0 0 0 0 0 0 0 0 0 0 0 0 0 0 0 0 0 0 0 0 0 0 0 0 0 0 0 0 0 0 0 0 0 0 0 0 0 0 0 0 0 0 0 0 0 0 0 0 0 0 0 0 0 0 0 0 0 0 0 0 0 0 0 0 0 0 0 0 0 0 0 0 0 0 0 0 0 0 0 0\n",
      "11/21/2019 09:43:46 - INFO - bert -   *** Example ***\n",
      "11/21/2019 09:43:46 - INFO - bert -   tokens: [CLS] this is a query [SEP] looking at the source for fl ##ot 0 . 7 , there is not included functionality to highlight lines . however , if you wanted to extend fl ##ot to do what you want . . . fl ##ot has an \" over ##lay \" canvas which it uses to do effects like highlighting . this has the associated context in the source . if you look at the method you can see how highlighting is done for data ##points . you could write a similar method for lines . the function it ##erate ##s over an array of highlight ##able objects - - you would want to extend that to handle \" line \" objects as well . finally you would need to write a method to add / remove lines from the array of highlight ##able objects , analogous to the existing and methods . notice these methods are made public using the lines : [SEP]\n",
      "11/21/2019 09:43:46 - INFO - bert -   input_ids: 101 2023 2003 1037 23032 102 2559 2012 1996 3120 2005 13109 4140 1014 1012 1021 1010 2045 2003 2025 2443 15380 2000 12944 3210 1012 2174 1010 2065 2017 2359 2000 7949 13109 4140 2000 2079 2054 2017 2215 1012 1012 1012 13109 4140 2038 2019 1000 2058 8485 1000 10683 2029 2009 3594 2000 2079 3896 2066 20655 1012 2023 2038 1996 3378 6123 1999 1996 3120 1012 2065 2017 2298 2012 1996 4118 2017 2064 2156 2129 20655 2003 2589 2005 2951 26521 1012 2017 2071 4339 1037 2714 4118 2005 3210 1012 1996 3853 2009 22139 2015 2058 2019 9140 1997 12944 3085 5200 1011 1011 2017 2052 2215 2000 7949 2008 2000 5047 1000 2240 1000 5200 2004 2092 1012 2633 2017 2052 2342 2000 4339 1037 4118 2000 5587 1013 6366 3210 2013 1996 9140 1997 12944 3085 5200 1010 19639 2000 1996 4493 1998 4725 1012 5060 2122 4725 2024 2081 2270 2478 1996 3210 1024 102 0 0 0 0 0 0 0 0 0 0 0 0 0 0 0 0 0 0 0 0 0 0 0 0 0 0 0 0 0 0 0 0 0 0 0 0\n",
      "11/21/2019 09:43:46 - INFO - bert -   input_mask: 1 1 1 1 1 1 1 1 1 1 1 1 1 1 1 1 1 1 1 1 1 1 1 1 1 1 1 1 1 1 1 1 1 1 1 1 1 1 1 1 1 1 1 1 1 1 1 1 1 1 1 1 1 1 1 1 1 1 1 1 1 1 1 1 1 1 1 1 1 1 1 1 1 1 1 1 1 1 1 1 1 1 1 1 1 1 1 1 1 1 1 1 1 1 1 1 1 1 1 1 1 1 1 1 1 1 1 1 1 1 1 1 1 1 1 1 1 1 1 1 1 1 1 1 1 1 1 1 1 1 1 1 1 1 1 1 1 1 1 1 1 1 1 1 1 1 1 1 1 1 1 1 1 1 1 1 1 1 1 1 1 1 1 1 0 0 0 0 0 0 0 0 0 0 0 0 0 0 0 0 0 0 0 0 0 0 0 0 0 0 0 0 0 0 0 0 0 0 0 0\n",
      "11/21/2019 09:43:46 - INFO - bert -   segment_ids: 0 0 0 0 0 0 1 1 1 1 1 1 1 1 1 1 1 1 1 1 1 1 1 1 1 1 1 1 1 1 1 1 1 1 1 1 1 1 1 1 1 1 1 1 1 1 1 1 1 1 1 1 1 1 1 1 1 1 1 1 1 1 1 1 1 1 1 1 1 1 1 1 1 1 1 1 1 1 1 1 1 1 1 1 1 1 1 1 1 1 1 1 1 1 1 1 1 1 1 1 1 1 1 1 1 1 1 1 1 1 1 1 1 1 1 1 1 1 1 1 1 1 1 1 1 1 1 1 1 1 1 1 1 1 1 1 1 1 1 1 1 1 1 1 1 1 1 1 1 1 1 1 1 1 1 1 1 1 1 1 1 1 1 1 0 0 0 0 0 0 0 0 0 0 0 0 0 0 0 0 0 0 0 0 0 0 0 0 0 0 0 0 0 0 0 0 0 0 0 0\n",
      "11/21/2019 09:43:46 - INFO - bert -   *** Example ***\n",
      "11/21/2019 09:43:46 - INFO - bert -   tokens: [CLS] this is a query [SEP] this question has been sitting long enough , that it is time to document an answer for poster ##ity . the short answer is that highly - customized data visual ##izations cannot be done using function wrap ##pers from the ' lattice ' and ' g ##gp ##lot ##2 ' packages . the purpose of a function wrap ##per is to take some of the decisions out of your hands , so you will always be limited to the decisions originally envisioned by the function code ##r . i highly recommend everyone learn the ' lattice ' or ' g ##gp ##lot ##2 ' packages , but these packages are more useful for data exploration than for being creative with data visual ##izations . this answer is for those who want to create a customized visual . the following process may take half a day , but that is significantly less time than it would take to hack the ' lattice ' or ' g ##gp ##lot ##2 ' packages into the shape you want . this isn ' t a criticism of either of those packages ; it ' s just a [SEP]\n",
      "11/21/2019 09:43:46 - INFO - bert -   input_ids: 101 2023 2003 1037 23032 102 2023 3160 2038 2042 3564 2146 2438 1010 2008 2009 2003 2051 2000 6254 2019 3437 2005 13082 3012 1012 1996 2460 3437 2003 2008 3811 1011 28749 2951 5107 22318 3685 2022 2589 2478 3853 10236 7347 2013 1996 1005 17779 1005 1998 1005 1043 21600 10994 2475 1005 14555 1012 1996 3800 1997 1037 3853 10236 4842 2003 2000 2202 2070 1997 1996 6567 2041 1997 2115 2398 1010 2061 2017 2097 2467 2022 3132 2000 1996 6567 2761 18035 2011 1996 3853 3642 2099 1012 1045 3811 16755 3071 4553 1996 1005 17779 1005 2030 1005 1043 21600 10994 2475 1005 14555 1010 2021 2122 14555 2024 2062 6179 2005 2951 8993 2084 2005 2108 5541 2007 2951 5107 22318 1012 2023 3437 2003 2005 2216 2040 2215 2000 3443 1037 28749 5107 1012 1996 2206 2832 2089 2202 2431 1037 2154 1010 2021 2008 2003 6022 2625 2051 2084 2009 2052 2202 2000 20578 1996 1005 17779 1005 2030 1005 1043 21600 10994 2475 1005 14555 2046 1996 4338 2017 2215 1012 2023 3475 1005 1056 1037 6256 1997 2593 1997 2216 14555 1025 2009 1005 1055 2074 1037 102\n"
     ]
    },
    {
     "name": "stderr",
     "output_type": "stream",
     "text": [
      "11/21/2019 09:43:46 - INFO - bert -   input_mask: 1 1 1 1 1 1 1 1 1 1 1 1 1 1 1 1 1 1 1 1 1 1 1 1 1 1 1 1 1 1 1 1 1 1 1 1 1 1 1 1 1 1 1 1 1 1 1 1 1 1 1 1 1 1 1 1 1 1 1 1 1 1 1 1 1 1 1 1 1 1 1 1 1 1 1 1 1 1 1 1 1 1 1 1 1 1 1 1 1 1 1 1 1 1 1 1 1 1 1 1 1 1 1 1 1 1 1 1 1 1 1 1 1 1 1 1 1 1 1 1 1 1 1 1 1 1 1 1 1 1 1 1 1 1 1 1 1 1 1 1 1 1 1 1 1 1 1 1 1 1 1 1 1 1 1 1 1 1 1 1 1 1 1 1 1 1 1 1 1 1 1 1 1 1 1 1 1 1 1 1 1 1 1 1 1 1 1 1 1 1 1 1 1 1 1 1 1 1 1 1\n",
      "11/21/2019 09:43:46 - INFO - bert -   segment_ids: 0 0 0 0 0 0 1 1 1 1 1 1 1 1 1 1 1 1 1 1 1 1 1 1 1 1 1 1 1 1 1 1 1 1 1 1 1 1 1 1 1 1 1 1 1 1 1 1 1 1 1 1 1 1 1 1 1 1 1 1 1 1 1 1 1 1 1 1 1 1 1 1 1 1 1 1 1 1 1 1 1 1 1 1 1 1 1 1 1 1 1 1 1 1 1 1 1 1 1 1 1 1 1 1 1 1 1 1 1 1 1 1 1 1 1 1 1 1 1 1 1 1 1 1 1 1 1 1 1 1 1 1 1 1 1 1 1 1 1 1 1 1 1 1 1 1 1 1 1 1 1 1 1 1 1 1 1 1 1 1 1 1 1 1 1 1 1 1 1 1 1 1 1 1 1 1 1 1 1 1 1 1 1 1 1 1 1 1 1 1 1 1 1 1 1 1 1 1 1 1\n",
      "11/21/2019 09:43:46 - INFO - bert -   *** Example ***\n",
      "11/21/2019 09:43:46 - INFO - bert -   tokens: [CLS] this is a query [SEP] the authentic ##ode ( t ##m ) times ##tam ##p protocol pre ##dates the time - stamp protocol defined in rfc ##31 ##6 ##1 . however ( and ii ##rc ) there is no direct support for asking a times ##tam ##p built in . net . so you can either : build a ts ##p client to get your times ##tam ##ps ; or pig ##gy ##back the existing free times ##tam ##p servers that are around for code signing . while i would suggest # 1 in most cases ( it ' s a standard and more future proof ) i ' m not sure if there are c # libraries available that supports that today . if you ' re interested in # 2 then i know ( because i ' ve written it ; - ) that the code is available inside mono ( mit . x ##11 licensed ) to support authentic ##ode ( t ##m ) and code signing ( including times ##tam ##ping ) . [SEP]\n",
      "11/21/2019 09:43:46 - INFO - bert -   input_ids: 101 2023 2003 1037 23032 102 1996 14469 10244 1006 1056 2213 1007 2335 15464 2361 8778 3653 27122 1996 2051 1011 11359 8778 4225 1999 14645 21486 2575 2487 1012 2174 1006 1998 2462 11890 1007 2045 2003 2053 3622 2490 2005 4851 1037 2335 15464 2361 2328 1999 1012 5658 1012 2061 2017 2064 2593 1024 3857 1037 24529 2361 7396 2000 2131 2115 2335 15464 4523 1025 2030 10369 6292 5963 1996 4493 2489 2335 15464 2361 14903 2008 2024 2105 2005 3642 6608 1012 2096 1045 2052 6592 1001 1015 1999 2087 3572 1006 2009 1005 1055 1037 3115 1998 2062 2925 6947 1007 1045 1005 1049 2025 2469 2065 2045 2024 1039 1001 8860 2800 2008 6753 2008 2651 1012 2065 2017 1005 2128 4699 1999 1001 1016 2059 1045 2113 1006 2138 1045 1005 2310 2517 2009 1025 1011 1007 2008 1996 3642 2003 2800 2503 18847 1006 10210 1012 1060 14526 7000 1007 2000 2490 14469 10244 1006 1056 2213 1007 1998 3642 6608 1006 2164 2335 15464 4691 1007 1012 102 0 0 0 0 0 0 0 0 0 0 0 0 0 0 0 0 0 0 0 0 0\n",
      "11/21/2019 09:43:46 - INFO - bert -   input_mask: 1 1 1 1 1 1 1 1 1 1 1 1 1 1 1 1 1 1 1 1 1 1 1 1 1 1 1 1 1 1 1 1 1 1 1 1 1 1 1 1 1 1 1 1 1 1 1 1 1 1 1 1 1 1 1 1 1 1 1 1 1 1 1 1 1 1 1 1 1 1 1 1 1 1 1 1 1 1 1 1 1 1 1 1 1 1 1 1 1 1 1 1 1 1 1 1 1 1 1 1 1 1 1 1 1 1 1 1 1 1 1 1 1 1 1 1 1 1 1 1 1 1 1 1 1 1 1 1 1 1 1 1 1 1 1 1 1 1 1 1 1 1 1 1 1 1 1 1 1 1 1 1 1 1 1 1 1 1 1 1 1 1 1 1 1 1 1 1 1 1 1 1 1 1 1 1 1 1 1 0 0 0 0 0 0 0 0 0 0 0 0 0 0 0 0 0 0 0 0 0\n",
      "11/21/2019 09:43:46 - INFO - bert -   segment_ids: 0 0 0 0 0 0 1 1 1 1 1 1 1 1 1 1 1 1 1 1 1 1 1 1 1 1 1 1 1 1 1 1 1 1 1 1 1 1 1 1 1 1 1 1 1 1 1 1 1 1 1 1 1 1 1 1 1 1 1 1 1 1 1 1 1 1 1 1 1 1 1 1 1 1 1 1 1 1 1 1 1 1 1 1 1 1 1 1 1 1 1 1 1 1 1 1 1 1 1 1 1 1 1 1 1 1 1 1 1 1 1 1 1 1 1 1 1 1 1 1 1 1 1 1 1 1 1 1 1 1 1 1 1 1 1 1 1 1 1 1 1 1 1 1 1 1 1 1 1 1 1 1 1 1 1 1 1 1 1 1 1 1 1 1 1 1 1 1 1 1 1 1 1 1 1 1 1 1 1 0 0 0 0 0 0 0 0 0 0 0 0 0 0 0 0 0 0 0 0 0\n"
     ]
    }
   ],
   "source": [
    "sentence_pairs_2 = m.ceshiner.convert_sentence_pair(\n",
    "    titles = [\"this is a query\"] * m.corpus.shape[0]\n",
    "    , descs = m.corpus.a_cleaned_body.tolist()\n",
    "    , max_seq_length = 200\n",
    "    , tokenizer = m.tokenizer\n",
    ")"
   ]
  },
  {
   "cell_type": "code",
   "execution_count": 38,
   "metadata": {
    "collapsed": true
   },
   "outputs": [
    {
     "data": {
      "text/plain": [
       "[<__main__.InputFeatures at 0x7f75e8cb8250>,\n",
       " <__main__.InputFeatures at 0x7f75e8e25690>,\n",
       " <__main__.InputFeatures at 0x7f75e8c86690>,\n",
       " <__main__.InputFeatures at 0x7f75e8cb8b90>,\n",
       " <__main__.InputFeatures at 0x7f764ea00cd0>,\n",
       " <__main__.InputFeatures at 0x7f762a2ecd10>,\n",
       " <__main__.InputFeatures at 0x7f75e8b6af50>,\n",
       " <__main__.InputFeatures at 0x7f75e8e25a10>,\n",
       " <__main__.InputFeatures at 0x7f762a2ec950>,\n",
       " <__main__.InputFeatures at 0x7f762a2ece90>]"
      ]
     },
     "execution_count": 38,
     "metadata": {},
     "output_type": "execute_result"
    }
   ],
   "source": [
    "sentence_pairs[0:10]"
   ]
  },
  {
   "cell_type": "code",
   "execution_count": 39,
   "metadata": {},
   "outputs": [
    {
     "data": {
      "text/plain": [
       "3110"
      ]
     },
     "execution_count": 39,
     "metadata": {},
     "output_type": "execute_result"
    }
   ],
   "source": [
    "len(sentence_pairs)"
   ]
  },
  {
   "cell_type": "code",
   "execution_count": 37,
   "metadata": {
    "collapsed": true
   },
   "outputs": [
    {
     "data": {
      "text/plain": [
       "[<__main__.InputFeatures at 0x7f75e8b77e50>,\n",
       " <__main__.InputFeatures at 0x7f75e8a03ed0>,\n",
       " <__main__.InputFeatures at 0x7f75e8a03b10>,\n",
       " <__main__.InputFeatures at 0x7f75e8768a90>,\n",
       " <__main__.InputFeatures at 0x7f7664ababd0>,\n",
       " <__main__.InputFeatures at 0x7f7664aba6d0>,\n",
       " <__main__.InputFeatures at 0x7f7664aba650>,\n",
       " <__main__.InputFeatures at 0x7f7664add0d0>,\n",
       " <__main__.InputFeatures at 0x7f7664aead90>,\n",
       " <__main__.InputFeatures at 0x7f7664b53fd0>]"
      ]
     },
     "execution_count": 37,
     "metadata": {},
     "output_type": "execute_result"
    }
   ],
   "source": [
    "sentence_pairs_2[0:10]"
   ]
  },
  {
   "cell_type": "code",
   "execution_count": 35,
   "metadata": {},
   "outputs": [
    {
     "data": {
      "text/plain": [
       "3110"
      ]
     },
     "execution_count": 35,
     "metadata": {},
     "output_type": "execute_result"
    }
   ],
   "source": [
    "len(sentence_pairs_2)"
   ]
  },
  {
   "cell_type": "code",
   "execution_count": 40,
   "metadata": {},
   "outputs": [
    {
     "name": "stdout",
     "output_type": "stream",
     "text": [
      "2292    AppSync and Graphql Enum mutations\n",
      "2173    GraphQL mutator with required args\n",
      "Name: q_title, dtype: object\n"
     ]
    }
   ],
   "source": [
    "print(similar_que)"
   ]
  },
  {
   "cell_type": "code",
   "execution_count": 41,
   "metadata": {},
   "outputs": [
    {
     "name": "stdout",
     "output_type": "stream",
     "text": [
      "2292     field type is an enum, hence your variable mu...\n",
      "2173     The type wrapper is used to specify both fiel...\n",
      "Name: a_cleaned_body, dtype: object\n"
     ]
    }
   ],
   "source": [
    "print(similar_ans)"
   ]
  },
  {
   "cell_type": "code",
   "execution_count": 42,
   "metadata": {},
   "outputs": [
    {
     "data": {
      "image/png": "[encoded data removed]",
      "text/plain": [
       "<Figure size 432x288 with 1 Axes>"
      ]
     },
     "metadata": {
      "needs_background": "light"
     },
     "output_type": "display_data"
    }
   ],
   "source": [
    "_ = plt.hist(m.corpus_res.similarity, bins = 100)"
   ]
  },
  {
   "cell_type": "code",
   "execution_count": 43,
   "metadata": {},
   "outputs": [
    {
     "data": {
      "text/plain": [
       "(0.8282958199356913, 0.8562700964630225, 0.13408360128617364)"
      ]
     },
     "execution_count": 43,
     "metadata": {},
     "output_type": "execute_result"
    }
   ],
   "source": [
    "t1 = m.corpus_res.similarity\n",
    "sum(t1 > 0.99) / len(t1), sum(t1 > 0.9) / len(t1), sum(t1 < 0.5) / len(t1)"
   ]
  },
  {
   "cell_type": "code",
   "execution_count": 44,
   "metadata": {},
   "outputs": [
    {
     "data": {
      "text/plain": [
       "(5, 9)"
      ]
     },
     "execution_count": 44,
     "metadata": {},
     "output_type": "execute_result"
    }
   ],
   "source": [
    "m.best_matches.shape"
   ]
  },
  {
   "cell_type": "code",
   "execution_count": 45,
   "metadata": {},
   "outputs": [
    {
     "data": {
      "text/html": [
       "<div>\n",
       "<style scoped>\n",
       "    .dataframe tbody tr th:only-of-type {\n",
       "        vertical-align: middle;\n",
       "    }\n",
       "\n",
       "    .dataframe tbody tr th {\n",
       "        vertical-align: top;\n",
       "    }\n",
       "\n",
       "    .dataframe thead th {\n",
       "        text-align: right;\n",
       "    }\n",
       "</style>\n",
       "<table border=\"1\" class=\"dataframe\">\n",
       "  <thead>\n",
       "    <tr style=\"text-align: right;\">\n",
       "      <th></th>\n",
       "      <th>q_id</th>\n",
       "      <th>q_title</th>\n",
       "      <th>tags</th>\n",
       "      <th>accepted_answer_id</th>\n",
       "      <th>a_body</th>\n",
       "      <th>a_images_list</th>\n",
       "      <th>a_code_snippets</th>\n",
       "      <th>a_cleaned_body</th>\n",
       "      <th>similarity</th>\n",
       "    </tr>\n",
       "  </thead>\n",
       "  <tbody>\n",
       "    <tr>\n",
       "      <th>1530</th>\n",
       "      <td>36066080</td>\n",
       "      <td>Optimize pendulum animation (javascript)</td>\n",
       "      <td>javascriptanimationd3.jssvgplotly</td>\n",
       "      <td>36072487.0</td>\n",
       "      <td>&lt;p&gt;I'm the author of &lt;a href=\"http://maurizzzi...</td>\n",
       "      <td>[]</td>\n",
       "      <td>[&lt;code&gt;width x height&lt;/code&gt;, &lt;code&gt;[xMin, yMi...</td>\n",
       "      <td>I'm the author of function plot which is buil...</td>\n",
       "      <td>0.999997</td>\n",
       "    </tr>\n",
       "    <tr>\n",
       "      <th>2558</th>\n",
       "      <td>15141204</td>\n",
       "      <td>WPF C# DynamicDataDisplay - Changing the DateT...</td>\n",
       "      <td>c#wpfchartsdynamic-data-display</td>\n",
       "      <td>19841218.0</td>\n",
       "      <td>&lt;p&gt;Curiously, I've happened to be trying to do...</td>\n",
       "      <td>[]</td>\n",
       "      <td>[&lt;code&gt;MayorDateTimeLabelProvider.cs&lt;/code&gt;, &lt;...</td>\n",
       "      <td>Curiously, I've happened to be trying to do t...</td>\n",
       "      <td>0.999996</td>\n",
       "    </tr>\n",
       "    <tr>\n",
       "      <th>2961</th>\n",
       "      <td>34930763</td>\n",
       "      <td>What is the logic behind d3.js nice() ticks</td>\n",
       "      <td>javascriptpythond3.jschartspycairo</td>\n",
       "      <td>34931208.0</td>\n",
       "      <td>&lt;p&gt;D3 is open source, so you can &lt;a href=\"http...</td>\n",
       "      <td>[]</td>\n",
       "      <td>[&lt;code&gt;domain[i0] = nice.floor(x0);\\r\\r\\r\\ndom...</td>\n",
       "      <td>D3 is open source, so you can look up the imp...</td>\n",
       "      <td>0.999996</td>\n",
       "    </tr>\n",
       "  </tbody>\n",
       "</table>\n",
       "</div>"
      ],
      "text/plain": [
       "          q_id                                            q_title  \\\n",
       "1530  36066080           Optimize pendulum animation (javascript)   \n",
       "2558  15141204  WPF C# DynamicDataDisplay - Changing the DateT...   \n",
       "2961  34930763        What is the logic behind d3.js nice() ticks   \n",
       "\n",
       "                                    tags  accepted_answer_id  \\\n",
       "1530   javascriptanimationd3.jssvgplotly          36072487.0   \n",
       "2558     c#wpfchartsdynamic-data-display          19841218.0   \n",
       "2961  javascriptpythond3.jschartspycairo          34931208.0   \n",
       "\n",
       "                                                 a_body a_images_list  \\\n",
       "1530  <p>I'm the author of <a href=\"http://maurizzzi...            []   \n",
       "2558  <p>Curiously, I've happened to be trying to do...            []   \n",
       "2961  <p>D3 is open source, so you can <a href=\"http...            []   \n",
       "\n",
       "                                        a_code_snippets  \\\n",
       "1530  [<code>width x height</code>, <code>[xMin, yMi...   \n",
       "2558  [<code>MayorDateTimeLabelProvider.cs</code>, <...   \n",
       "2961  [<code>domain[i0] = nice.floor(x0);\\r\\r\\r\\ndom...   \n",
       "\n",
       "                                         a_cleaned_body  similarity  \n",
       "1530   I'm the author of function plot which is buil...    0.999997  \n",
       "2558   Curiously, I've happened to be trying to do t...    0.999996  \n",
       "2961   D3 is open source, so you can look up the imp...    0.999996  "
      ]
     },
     "execution_count": 45,
     "metadata": {},
     "output_type": "execute_result"
    }
   ],
   "source": [
    "m.best_matches.head(3)"
   ]
  },
  {
   "cell_type": "markdown",
   "metadata": {},
   "source": [
    "# list of user input questions\n",
    "\n",
    "note, if running on just CPU, is way too slow even with only 600 records"
   ]
  },
  {
   "cell_type": "code",
   "execution_count": 24,
   "metadata": {
    "scrolled": true
   },
   "outputs": [
    {
     "name": "stderr",
     "output_type": "stream",
     "text": [
      "11/21/2019 09:20:33 - INFO - bert -   *** Example ***\n",
      "11/21/2019 09:20:33 - INFO - bert -   tokens: [CLS] is there a way to visual ##ize the distribution of my data ? [SEP] points in is zero width , so you need to set the width of dod ##ging : [SEP]\n",
      "11/21/2019 09:20:33 - INFO - bert -   input_ids: 101 2003 2045 1037 2126 2000 5107 4697 1996 4353 1997 2026 2951 1029 102 2685 1999 2003 5717 9381 1010 2061 2017 2342 2000 2275 1996 9381 1997 26489 4726 1024 102 0 0 0 0 0 0 0 0 0 0 0 0 0 0 0 0 0 0 0 0 0 0 0 0 0 0 0 0 0 0 0 0 0 0 0 0 0 0 0 0 0 0 0 0 0 0 0 0 0 0 0 0 0 0 0 0 0 0 0 0 0 0 0 0 0 0 0 0 0 0 0 0 0 0 0 0 0 0 0 0 0 0 0 0 0 0 0 0 0 0 0 0 0 0 0 0 0 0 0 0 0 0 0 0 0 0 0 0 0 0 0 0 0 0 0 0 0 0 0 0 0 0 0 0 0 0 0 0 0 0 0 0 0 0 0 0 0 0 0 0 0 0 0 0 0 0 0 0 0 0 0 0 0 0 0 0 0 0 0 0 0 0 0 0 0 0 0\n",
      "11/21/2019 09:20:33 - INFO - bert -   input_mask: 1 1 1 1 1 1 1 1 1 1 1 1 1 1 1 1 1 1 1 1 1 1 1 1 1 1 1 1 1 1 1 1 1 0 0 0 0 0 0 0 0 0 0 0 0 0 0 0 0 0 0 0 0 0 0 0 0 0 0 0 0 0 0 0 0 0 0 0 0 0 0 0 0 0 0 0 0 0 0 0 0 0 0 0 0 0 0 0 0 0 0 0 0 0 0 0 0 0 0 0 0 0 0 0 0 0 0 0 0 0 0 0 0 0 0 0 0 0 0 0 0 0 0 0 0 0 0 0 0 0 0 0 0 0 0 0 0 0 0 0 0 0 0 0 0 0 0 0 0 0 0 0 0 0 0 0 0 0 0 0 0 0 0 0 0 0 0 0 0 0 0 0 0 0 0 0 0 0 0 0 0 0 0 0 0 0 0 0 0 0 0 0 0 0 0 0 0 0 0 0\n",
      "11/21/2019 09:20:33 - INFO - bert -   segment_ids: 0 0 0 0 0 0 0 0 0 0 0 0 0 0 0 1 1 1 1 1 1 1 1 1 1 1 1 1 1 1 1 1 1 0 0 0 0 0 0 0 0 0 0 0 0 0 0 0 0 0 0 0 0 0 0 0 0 0 0 0 0 0 0 0 0 0 0 0 0 0 0 0 0 0 0 0 0 0 0 0 0 0 0 0 0 0 0 0 0 0 0 0 0 0 0 0 0 0 0 0 0 0 0 0 0 0 0 0 0 0 0 0 0 0 0 0 0 0 0 0 0 0 0 0 0 0 0 0 0 0 0 0 0 0 0 0 0 0 0 0 0 0 0 0 0 0 0 0 0 0 0 0 0 0 0 0 0 0 0 0 0 0 0 0 0 0 0 0 0 0 0 0 0 0 0 0 0 0 0 0 0 0 0 0 0 0 0 0 0 0 0 0 0 0 0 0 0 0 0 0\n",
      "11/21/2019 09:20:33 - INFO - bert -   *** Example ***\n",
      "11/21/2019 09:20:33 - INFO - bert -   tokens: [CLS] is there a way to visual ##ize the distribution of my data ? [SEP] uno ##con ##v can convert em ##f to pdf and ti ##ff via command - line : for pdf : uno ##con ##v file ##name . em ##f for ti ##ff : uno ##con ##v - f ti ##ff file ##name . em ##f it doesn ' t seem to support ps file export , though . you are still required to install open ##off ##ice . org / libre ##off ##ice because this tool uses them as the back ##end . [SEP]\n",
      "11/21/2019 09:20:33 - INFO - bert -   input_ids: 101 2003 2045 1037 2126 2000 5107 4697 1996 4353 1997 2026 2951 1029 102 27776 8663 2615 2064 10463 7861 2546 2000 11135 1998 14841 4246 3081 3094 1011 2240 1024 2005 11135 1024 27776 8663 2615 5371 18442 1012 7861 2546 2005 14841 4246 1024 27776 8663 2615 1011 1042 14841 4246 5371 18442 1012 7861 2546 2009 2987 1005 1056 4025 2000 2490 8827 5371 9167 1010 2295 1012 2017 2024 2145 3223 2000 16500 2330 7245 6610 1012 8917 1013 21091 7245 6610 2138 2023 6994 3594 2068 2004 1996 2067 10497 1012 102 0 0 0 0 0 0 0 0 0 0 0 0 0 0 0 0 0 0 0 0 0 0 0 0 0 0 0 0 0 0 0 0 0 0 0 0 0 0 0 0 0 0 0 0 0 0 0 0 0 0 0 0 0 0 0 0 0 0 0 0 0 0 0 0 0 0 0 0 0 0 0 0 0 0 0 0 0 0 0 0 0 0 0 0 0 0 0 0 0 0 0 0 0 0 0 0 0 0 0 0 0 0\n",
      "11/21/2019 09:20:33 - INFO - bert -   input_mask: 1 1 1 1 1 1 1 1 1 1 1 1 1 1 1 1 1 1 1 1 1 1 1 1 1 1 1 1 1 1 1 1 1 1 1 1 1 1 1 1 1 1 1 1 1 1 1 1 1 1 1 1 1 1 1 1 1 1 1 1 1 1 1 1 1 1 1 1 1 1 1 1 1 1 1 1 1 1 1 1 1 1 1 1 1 1 1 1 1 1 1 1 1 1 1 1 1 1 0 0 0 0 0 0 0 0 0 0 0 0 0 0 0 0 0 0 0 0 0 0 0 0 0 0 0 0 0 0 0 0 0 0 0 0 0 0 0 0 0 0 0 0 0 0 0 0 0 0 0 0 0 0 0 0 0 0 0 0 0 0 0 0 0 0 0 0 0 0 0 0 0 0 0 0 0 0 0 0 0 0 0 0 0 0 0 0 0 0 0 0 0 0 0 0 0 0 0 0 0 0\n",
      "11/21/2019 09:20:33 - INFO - bert -   segment_ids: 0 0 0 0 0 0 0 0 0 0 0 0 0 0 0 1 1 1 1 1 1 1 1 1 1 1 1 1 1 1 1 1 1 1 1 1 1 1 1 1 1 1 1 1 1 1 1 1 1 1 1 1 1 1 1 1 1 1 1 1 1 1 1 1 1 1 1 1 1 1 1 1 1 1 1 1 1 1 1 1 1 1 1 1 1 1 1 1 1 1 1 1 1 1 1 1 1 1 0 0 0 0 0 0 0 0 0 0 0 0 0 0 0 0 0 0 0 0 0 0 0 0 0 0 0 0 0 0 0 0 0 0 0 0 0 0 0 0 0 0 0 0 0 0 0 0 0 0 0 0 0 0 0 0 0 0 0 0 0 0 0 0 0 0 0 0 0 0 0 0 0 0 0 0 0 0 0 0 0 0 0 0 0 0 0 0 0 0 0 0 0 0 0 0 0 0 0 0 0 0\n",
      "11/21/2019 09:20:33 - INFO - bert -   *** Example ***\n",
      "11/21/2019 09:20:33 - INFO - bert -   tokens: [CLS] is there a way to visual ##ize the distribution of my data ? [SEP] looking at the source for fl ##ot 0 . 7 , there is not included functionality to highlight lines . however , if you wanted to extend fl ##ot to do what you want . . . fl ##ot has an \" over ##lay \" canvas which it uses to do effects like highlighting . this has the associated context in the source . if you look at the method you can see how highlighting is done for data ##points . you could write a similar method for lines . the function it ##erate ##s over an array of highlight ##able objects - - you would want to extend that to handle \" line \" objects as well . finally you would need to write a method to add / remove lines from the array of highlight ##able objects , analogous to the existing and methods . notice these methods are made public using the lines : [SEP]\n",
      "11/21/2019 09:20:33 - INFO - bert -   input_ids: 101 2003 2045 1037 2126 2000 5107 4697 1996 4353 1997 2026 2951 1029 102 2559 2012 1996 3120 2005 13109 4140 1014 1012 1021 1010 2045 2003 2025 2443 15380 2000 12944 3210 1012 2174 1010 2065 2017 2359 2000 7949 13109 4140 2000 2079 2054 2017 2215 1012 1012 1012 13109 4140 2038 2019 1000 2058 8485 1000 10683 2029 2009 3594 2000 2079 3896 2066 20655 1012 2023 2038 1996 3378 6123 1999 1996 3120 1012 2065 2017 2298 2012 1996 4118 2017 2064 2156 2129 20655 2003 2589 2005 2951 26521 1012 2017 2071 4339 1037 2714 4118 2005 3210 1012 1996 3853 2009 22139 2015 2058 2019 9140 1997 12944 3085 5200 1011 1011 2017 2052 2215 2000 7949 2008 2000 5047 1000 2240 1000 5200 2004 2092 1012 2633 2017 2052 2342 2000 4339 1037 4118 2000 5587 1013 6366 3210 2013 1996 9140 1997 12944 3085 5200 1010 19639 2000 1996 4493 1998 4725 1012 5060 2122 4725 2024 2081 2270 2478 1996 3210 1024 102 0 0 0 0 0 0 0 0 0 0 0 0 0 0 0 0 0 0 0 0 0 0 0 0 0 0 0\n",
      "11/21/2019 09:20:33 - INFO - bert -   input_mask: 1 1 1 1 1 1 1 1 1 1 1 1 1 1 1 1 1 1 1 1 1 1 1 1 1 1 1 1 1 1 1 1 1 1 1 1 1 1 1 1 1 1 1 1 1 1 1 1 1 1 1 1 1 1 1 1 1 1 1 1 1 1 1 1 1 1 1 1 1 1 1 1 1 1 1 1 1 1 1 1 1 1 1 1 1 1 1 1 1 1 1 1 1 1 1 1 1 1 1 1 1 1 1 1 1 1 1 1 1 1 1 1 1 1 1 1 1 1 1 1 1 1 1 1 1 1 1 1 1 1 1 1 1 1 1 1 1 1 1 1 1 1 1 1 1 1 1 1 1 1 1 1 1 1 1 1 1 1 1 1 1 1 1 1 1 1 1 1 1 1 1 1 1 0 0 0 0 0 0 0 0 0 0 0 0 0 0 0 0 0 0 0 0 0 0 0 0 0 0 0\n",
      "11/21/2019 09:20:33 - INFO - bert -   segment_ids: 0 0 0 0 0 0 0 0 0 0 0 0 0 0 0 1 1 1 1 1 1 1 1 1 1 1 1 1 1 1 1 1 1 1 1 1 1 1 1 1 1 1 1 1 1 1 1 1 1 1 1 1 1 1 1 1 1 1 1 1 1 1 1 1 1 1 1 1 1 1 1 1 1 1 1 1 1 1 1 1 1 1 1 1 1 1 1 1 1 1 1 1 1 1 1 1 1 1 1 1 1 1 1 1 1 1 1 1 1 1 1 1 1 1 1 1 1 1 1 1 1 1 1 1 1 1 1 1 1 1 1 1 1 1 1 1 1 1 1 1 1 1 1 1 1 1 1 1 1 1 1 1 1 1 1 1 1 1 1 1 1 1 1 1 1 1 1 1 1 1 1 1 1 0 0 0 0 0 0 0 0 0 0 0 0 0 0 0 0 0 0 0 0 0 0 0 0 0 0 0\n",
      "11/21/2019 09:20:33 - INFO - bert -   *** Example ***\n",
      "11/21/2019 09:20:33 - INFO - bert -   tokens: [CLS] is there a way to visual ##ize the distribution of my data ? [SEP] this question has been sitting long enough , that it is time to document an answer for poster ##ity . the short answer is that highly - customized data visual ##izations cannot be done using function wrap ##pers from the ' lattice ' and ' g ##gp ##lot ##2 ' packages . the purpose of a function wrap ##per is to take some of the decisions out of your hands , so you will always be limited to the decisions originally envisioned by the function code ##r . i highly recommend everyone learn the ' lattice ' or ' g ##gp ##lot ##2 ' packages , but these packages are more useful for data exploration than for being creative with data visual ##izations . this answer is for those who want to create a customized visual . the following process may take half a day , but that is significantly less time than it would take to hack the ' lattice ' or ' g ##gp ##lot ##2 ' packages into the shape you want . this isn ' t a criticism of either [SEP]\n",
      "11/21/2019 09:20:33 - INFO - bert -   input_ids: 101 2003 2045 1037 2126 2000 5107 4697 1996 4353 1997 2026 2951 1029 102 2023 3160 2038 2042 3564 2146 2438 1010 2008 2009 2003 2051 2000 6254 2019 3437 2005 13082 3012 1012 1996 2460 3437 2003 2008 3811 1011 28749 2951 5107 22318 3685 2022 2589 2478 3853 10236 7347 2013 1996 1005 17779 1005 1998 1005 1043 21600 10994 2475 1005 14555 1012 1996 3800 1997 1037 3853 10236 4842 2003 2000 2202 2070 1997 1996 6567 2041 1997 2115 2398 1010 2061 2017 2097 2467 2022 3132 2000 1996 6567 2761 18035 2011 1996 3853 3642 2099 1012 1045 3811 16755 3071 4553 1996 1005 17779 1005 2030 1005 1043 21600 10994 2475 1005 14555 1010 2021 2122 14555 2024 2062 6179 2005 2951 8993 2084 2005 2108 5541 2007 2951 5107 22318 1012 2023 3437 2003 2005 2216 2040 2215 2000 3443 1037 28749 5107 1012 1996 2206 2832 2089 2202 2431 1037 2154 1010 2021 2008 2003 6022 2625 2051 2084 2009 2052 2202 2000 20578 1996 1005 17779 1005 2030 1005 1043 21600 10994 2475 1005 14555 2046 1996 4338 2017 2215 1012 2023 3475 1005 1056 1037 6256 1997 2593 102\n"
     ]
    },
    {
     "name": "stderr",
     "output_type": "stream",
     "text": [
      "11/21/2019 09:20:33 - INFO - bert -   input_mask: 1 1 1 1 1 1 1 1 1 1 1 1 1 1 1 1 1 1 1 1 1 1 1 1 1 1 1 1 1 1 1 1 1 1 1 1 1 1 1 1 1 1 1 1 1 1 1 1 1 1 1 1 1 1 1 1 1 1 1 1 1 1 1 1 1 1 1 1 1 1 1 1 1 1 1 1 1 1 1 1 1 1 1 1 1 1 1 1 1 1 1 1 1 1 1 1 1 1 1 1 1 1 1 1 1 1 1 1 1 1 1 1 1 1 1 1 1 1 1 1 1 1 1 1 1 1 1 1 1 1 1 1 1 1 1 1 1 1 1 1 1 1 1 1 1 1 1 1 1 1 1 1 1 1 1 1 1 1 1 1 1 1 1 1 1 1 1 1 1 1 1 1 1 1 1 1 1 1 1 1 1 1 1 1 1 1 1 1 1 1 1 1 1 1 1 1 1 1 1 1\n",
      "11/21/2019 09:20:33 - INFO - bert -   segment_ids: 0 0 0 0 0 0 0 0 0 0 0 0 0 0 0 1 1 1 1 1 1 1 1 1 1 1 1 1 1 1 1 1 1 1 1 1 1 1 1 1 1 1 1 1 1 1 1 1 1 1 1 1 1 1 1 1 1 1 1 1 1 1 1 1 1 1 1 1 1 1 1 1 1 1 1 1 1 1 1 1 1 1 1 1 1 1 1 1 1 1 1 1 1 1 1 1 1 1 1 1 1 1 1 1 1 1 1 1 1 1 1 1 1 1 1 1 1 1 1 1 1 1 1 1 1 1 1 1 1 1 1 1 1 1 1 1 1 1 1 1 1 1 1 1 1 1 1 1 1 1 1 1 1 1 1 1 1 1 1 1 1 1 1 1 1 1 1 1 1 1 1 1 1 1 1 1 1 1 1 1 1 1 1 1 1 1 1 1 1 1 1 1 1 1 1 1 1 1 1 1\n",
      "11/21/2019 09:20:33 - INFO - bert -   *** Example ***\n",
      "11/21/2019 09:20:33 - INFO - bert -   tokens: [CLS] is there a way to visual ##ize the distribution of my data ? [SEP] the authentic ##ode ( t ##m ) times ##tam ##p protocol pre ##dates the time - stamp protocol defined in rfc ##31 ##6 ##1 . however ( and ii ##rc ) there is no direct support for asking a times ##tam ##p built in . net . so you can either : build a ts ##p client to get your times ##tam ##ps ; or pig ##gy ##back the existing free times ##tam ##p servers that are around for code signing . while i would suggest # 1 in most cases ( it ' s a standard and more future proof ) i ' m not sure if there are c # libraries available that supports that today . if you ' re interested in # 2 then i know ( because i ' ve written it ; - ) that the code is available inside mono ( mit . x ##11 licensed ) to support authentic ##ode ( t ##m ) and code signing ( including times ##tam ##ping ) . [SEP]\n",
      "11/21/2019 09:20:33 - INFO - bert -   input_ids: 101 2003 2045 1037 2126 2000 5107 4697 1996 4353 1997 2026 2951 1029 102 1996 14469 10244 1006 1056 2213 1007 2335 15464 2361 8778 3653 27122 1996 2051 1011 11359 8778 4225 1999 14645 21486 2575 2487 1012 2174 1006 1998 2462 11890 1007 2045 2003 2053 3622 2490 2005 4851 1037 2335 15464 2361 2328 1999 1012 5658 1012 2061 2017 2064 2593 1024 3857 1037 24529 2361 7396 2000 2131 2115 2335 15464 4523 1025 2030 10369 6292 5963 1996 4493 2489 2335 15464 2361 14903 2008 2024 2105 2005 3642 6608 1012 2096 1045 2052 6592 1001 1015 1999 2087 3572 1006 2009 1005 1055 1037 3115 1998 2062 2925 6947 1007 1045 1005 1049 2025 2469 2065 2045 2024 1039 1001 8860 2800 2008 6753 2008 2651 1012 2065 2017 1005 2128 4699 1999 1001 1016 2059 1045 2113 1006 2138 1045 1005 2310 2517 2009 1025 1011 1007 2008 1996 3642 2003 2800 2503 18847 1006 10210 1012 1060 14526 7000 1007 2000 2490 14469 10244 1006 1056 2213 1007 1998 3642 6608 1006 2164 2335 15464 4691 1007 1012 102 0 0 0 0 0 0 0 0 0 0 0 0\n",
      "11/21/2019 09:20:33 - INFO - bert -   input_mask: 1 1 1 1 1 1 1 1 1 1 1 1 1 1 1 1 1 1 1 1 1 1 1 1 1 1 1 1 1 1 1 1 1 1 1 1 1 1 1 1 1 1 1 1 1 1 1 1 1 1 1 1 1 1 1 1 1 1 1 1 1 1 1 1 1 1 1 1 1 1 1 1 1 1 1 1 1 1 1 1 1 1 1 1 1 1 1 1 1 1 1 1 1 1 1 1 1 1 1 1 1 1 1 1 1 1 1 1 1 1 1 1 1 1 1 1 1 1 1 1 1 1 1 1 1 1 1 1 1 1 1 1 1 1 1 1 1 1 1 1 1 1 1 1 1 1 1 1 1 1 1 1 1 1 1 1 1 1 1 1 1 1 1 1 1 1 1 1 1 1 1 1 1 1 1 1 1 1 1 1 1 1 1 1 1 1 1 1 0 0 0 0 0 0 0 0 0 0 0 0\n",
      "11/21/2019 09:20:33 - INFO - bert -   segment_ids: 0 0 0 0 0 0 0 0 0 0 0 0 0 0 0 1 1 1 1 1 1 1 1 1 1 1 1 1 1 1 1 1 1 1 1 1 1 1 1 1 1 1 1 1 1 1 1 1 1 1 1 1 1 1 1 1 1 1 1 1 1 1 1 1 1 1 1 1 1 1 1 1 1 1 1 1 1 1 1 1 1 1 1 1 1 1 1 1 1 1 1 1 1 1 1 1 1 1 1 1 1 1 1 1 1 1 1 1 1 1 1 1 1 1 1 1 1 1 1 1 1 1 1 1 1 1 1 1 1 1 1 1 1 1 1 1 1 1 1 1 1 1 1 1 1 1 1 1 1 1 1 1 1 1 1 1 1 1 1 1 1 1 1 1 1 1 1 1 1 1 1 1 1 1 1 1 1 1 1 1 1 1 1 1 1 1 1 1 0 0 0 0 0 0 0 0 0 0 0 0\n",
      "11/21/2019 09:20:37 - INFO - bert -   ***** Running evaluation *****\n",
      "11/21/2019 09:20:37 - INFO - bert -     Num examples = 3110\n",
      "11/21/2019 09:20:37 - INFO - bert -     Batch size = 128\n"
     ]
    },
    {
     "data": {
      "text/html": [
       "\n",
       "    <div>\n",
       "        <style>\n",
       "            /* Turns off some styling */\n",
       "            progress {\n",
       "                /* gets rid of default border in Firefox and Opera. */\n",
       "                border: none;\n",
       "                /* Needs to be in here for Safari polyfill so background images work as expected. */\n",
       "                background-size: auto;\n",
       "            }\n",
       "            .progress-bar-interrupted, .progress-bar-interrupted::-webkit-progress-bar {\n",
       "                background: #F44336;\n",
       "            }\n",
       "        </style>\n",
       "      <progress value='25' class='' max='25', style='width:300px; height:20px; vertical-align: middle;'></progress>\n",
       "      100.00% [25/25 00:19<00:00]\n",
       "    </div>\n",
       "    "
      ],
      "text/plain": [
       "<IPython.core.display.HTML object>"
      ]
     },
     "metadata": {},
     "output_type": "display_data"
    },
    {
     "name": "stderr",
     "output_type": "stream",
     "text": [
      "11/21/2019 09:20:57 - INFO - bert -   *** Example ***\n",
      "11/21/2019 09:20:57 - INFO - bert -   tokens: [CLS] how do i show data on a map ? [SEP] points in is zero width , so you need to set the width of dod ##ging : [SEP]\n",
      "11/21/2019 09:20:57 - INFO - bert -   input_ids: 101 2129 2079 1045 2265 2951 2006 1037 4949 1029 102 2685 1999 2003 5717 9381 1010 2061 2017 2342 2000 2275 1996 9381 1997 26489 4726 1024 102 0 0 0 0 0 0 0 0 0 0 0 0 0 0 0 0 0 0 0 0 0 0 0 0 0 0 0 0 0 0 0 0 0 0 0 0 0 0 0 0 0 0 0 0 0 0 0 0 0 0 0 0 0 0 0 0 0 0 0 0 0 0 0 0 0 0 0 0 0 0 0 0 0 0 0 0 0 0 0 0 0 0 0 0 0 0 0 0 0 0 0 0 0 0 0 0 0 0 0 0 0 0 0 0 0 0 0 0 0 0 0 0 0 0 0 0 0 0 0 0 0 0 0 0 0 0 0 0 0 0 0 0 0 0 0 0 0 0 0 0 0 0 0 0 0 0 0 0 0 0 0 0 0 0 0 0 0 0 0 0 0 0 0 0 0 0 0 0 0 0 0\n",
      "11/21/2019 09:20:57 - INFO - bert -   input_mask: 1 1 1 1 1 1 1 1 1 1 1 1 1 1 1 1 1 1 1 1 1 1 1 1 1 1 1 1 1 0 0 0 0 0 0 0 0 0 0 0 0 0 0 0 0 0 0 0 0 0 0 0 0 0 0 0 0 0 0 0 0 0 0 0 0 0 0 0 0 0 0 0 0 0 0 0 0 0 0 0 0 0 0 0 0 0 0 0 0 0 0 0 0 0 0 0 0 0 0 0 0 0 0 0 0 0 0 0 0 0 0 0 0 0 0 0 0 0 0 0 0 0 0 0 0 0 0 0 0 0 0 0 0 0 0 0 0 0 0 0 0 0 0 0 0 0 0 0 0 0 0 0 0 0 0 0 0 0 0 0 0 0 0 0 0 0 0 0 0 0 0 0 0 0 0 0 0 0 0 0 0 0 0 0 0 0 0 0 0 0 0 0 0 0 0 0 0 0 0 0\n",
      "11/21/2019 09:20:57 - INFO - bert -   segment_ids: 0 0 0 0 0 0 0 0 0 0 0 1 1 1 1 1 1 1 1 1 1 1 1 1 1 1 1 1 1 0 0 0 0 0 0 0 0 0 0 0 0 0 0 0 0 0 0 0 0 0 0 0 0 0 0 0 0 0 0 0 0 0 0 0 0 0 0 0 0 0 0 0 0 0 0 0 0 0 0 0 0 0 0 0 0 0 0 0 0 0 0 0 0 0 0 0 0 0 0 0 0 0 0 0 0 0 0 0 0 0 0 0 0 0 0 0 0 0 0 0 0 0 0 0 0 0 0 0 0 0 0 0 0 0 0 0 0 0 0 0 0 0 0 0 0 0 0 0 0 0 0 0 0 0 0 0 0 0 0 0 0 0 0 0 0 0 0 0 0 0 0 0 0 0 0 0 0 0 0 0 0 0 0 0 0 0 0 0 0 0 0 0 0 0 0 0 0 0 0 0\n",
      "11/21/2019 09:20:57 - INFO - bert -   *** Example ***\n",
      "11/21/2019 09:20:57 - INFO - bert -   tokens: [CLS] how do i show data on a map ? [SEP] uno ##con ##v can convert em ##f to pdf and ti ##ff via command - line : for pdf : uno ##con ##v file ##name . em ##f for ti ##ff : uno ##con ##v - f ti ##ff file ##name . em ##f it doesn ' t seem to support ps file export , though . you are still required to install open ##off ##ice . org / libre ##off ##ice because this tool uses them as the back ##end . [SEP]\n",
      "11/21/2019 09:20:57 - INFO - bert -   input_ids: 101 2129 2079 1045 2265 2951 2006 1037 4949 1029 102 27776 8663 2615 2064 10463 7861 2546 2000 11135 1998 14841 4246 3081 3094 1011 2240 1024 2005 11135 1024 27776 8663 2615 5371 18442 1012 7861 2546 2005 14841 4246 1024 27776 8663 2615 1011 1042 14841 4246 5371 18442 1012 7861 2546 2009 2987 1005 1056 4025 2000 2490 8827 5371 9167 1010 2295 1012 2017 2024 2145 3223 2000 16500 2330 7245 6610 1012 8917 1013 21091 7245 6610 2138 2023 6994 3594 2068 2004 1996 2067 10497 1012 102 0 0 0 0 0 0 0 0 0 0 0 0 0 0 0 0 0 0 0 0 0 0 0 0 0 0 0 0 0 0 0 0 0 0 0 0 0 0 0 0 0 0 0 0 0 0 0 0 0 0 0 0 0 0 0 0 0 0 0 0 0 0 0 0 0 0 0 0 0 0 0 0 0 0 0 0 0 0 0 0 0 0 0 0 0 0 0 0 0 0 0 0 0 0 0 0 0 0 0 0 0 0 0 0 0 0\n",
      "11/21/2019 09:20:57 - INFO - bert -   input_mask: 1 1 1 1 1 1 1 1 1 1 1 1 1 1 1 1 1 1 1 1 1 1 1 1 1 1 1 1 1 1 1 1 1 1 1 1 1 1 1 1 1 1 1 1 1 1 1 1 1 1 1 1 1 1 1 1 1 1 1 1 1 1 1 1 1 1 1 1 1 1 1 1 1 1 1 1 1 1 1 1 1 1 1 1 1 1 1 1 1 1 1 1 1 1 0 0 0 0 0 0 0 0 0 0 0 0 0 0 0 0 0 0 0 0 0 0 0 0 0 0 0 0 0 0 0 0 0 0 0 0 0 0 0 0 0 0 0 0 0 0 0 0 0 0 0 0 0 0 0 0 0 0 0 0 0 0 0 0 0 0 0 0 0 0 0 0 0 0 0 0 0 0 0 0 0 0 0 0 0 0 0 0 0 0 0 0 0 0 0 0 0 0 0 0 0 0 0 0 0 0\n",
      "11/21/2019 09:20:57 - INFO - bert -   segment_ids: 0 0 0 0 0 0 0 0 0 0 0 1 1 1 1 1 1 1 1 1 1 1 1 1 1 1 1 1 1 1 1 1 1 1 1 1 1 1 1 1 1 1 1 1 1 1 1 1 1 1 1 1 1 1 1 1 1 1 1 1 1 1 1 1 1 1 1 1 1 1 1 1 1 1 1 1 1 1 1 1 1 1 1 1 1 1 1 1 1 1 1 1 1 1 0 0 0 0 0 0 0 0 0 0 0 0 0 0 0 0 0 0 0 0 0 0 0 0 0 0 0 0 0 0 0 0 0 0 0 0 0 0 0 0 0 0 0 0 0 0 0 0 0 0 0 0 0 0 0 0 0 0 0 0 0 0 0 0 0 0 0 0 0 0 0 0 0 0 0 0 0 0 0 0 0 0 0 0 0 0 0 0 0 0 0 0 0 0 0 0 0 0 0 0 0 0 0 0 0 0\n",
      "11/21/2019 09:20:57 - INFO - bert -   *** Example ***\n",
      "11/21/2019 09:20:57 - INFO - bert -   tokens: [CLS] how do i show data on a map ? [SEP] looking at the source for fl ##ot 0 . 7 , there is not included functionality to highlight lines . however , if you wanted to extend fl ##ot to do what you want . . . fl ##ot has an \" over ##lay \" canvas which it uses to do effects like highlighting . this has the associated context in the source . if you look at the method you can see how highlighting is done for data ##points . you could write a similar method for lines . the function it ##erate ##s over an array of highlight ##able objects - - you would want to extend that to handle \" line \" objects as well . finally you would need to write a method to add / remove lines from the array of highlight ##able objects , analogous to the existing and methods . notice these methods are made public using the lines : [SEP]\n",
      "11/21/2019 09:20:57 - INFO - bert -   input_ids: 101 2129 2079 1045 2265 2951 2006 1037 4949 1029 102 2559 2012 1996 3120 2005 13109 4140 1014 1012 1021 1010 2045 2003 2025 2443 15380 2000 12944 3210 1012 2174 1010 2065 2017 2359 2000 7949 13109 4140 2000 2079 2054 2017 2215 1012 1012 1012 13109 4140 2038 2019 1000 2058 8485 1000 10683 2029 2009 3594 2000 2079 3896 2066 20655 1012 2023 2038 1996 3378 6123 1999 1996 3120 1012 2065 2017 2298 2012 1996 4118 2017 2064 2156 2129 20655 2003 2589 2005 2951 26521 1012 2017 2071 4339 1037 2714 4118 2005 3210 1012 1996 3853 2009 22139 2015 2058 2019 9140 1997 12944 3085 5200 1011 1011 2017 2052 2215 2000 7949 2008 2000 5047 1000 2240 1000 5200 2004 2092 1012 2633 2017 2052 2342 2000 4339 1037 4118 2000 5587 1013 6366 3210 2013 1996 9140 1997 12944 3085 5200 1010 19639 2000 1996 4493 1998 4725 1012 5060 2122 4725 2024 2081 2270 2478 1996 3210 1024 102 0 0 0 0 0 0 0 0 0 0 0 0 0 0 0 0 0 0 0 0 0 0 0 0 0 0 0 0 0 0 0\n",
      "11/21/2019 09:20:57 - INFO - bert -   input_mask: 1 1 1 1 1 1 1 1 1 1 1 1 1 1 1 1 1 1 1 1 1 1 1 1 1 1 1 1 1 1 1 1 1 1 1 1 1 1 1 1 1 1 1 1 1 1 1 1 1 1 1 1 1 1 1 1 1 1 1 1 1 1 1 1 1 1 1 1 1 1 1 1 1 1 1 1 1 1 1 1 1 1 1 1 1 1 1 1 1 1 1 1 1 1 1 1 1 1 1 1 1 1 1 1 1 1 1 1 1 1 1 1 1 1 1 1 1 1 1 1 1 1 1 1 1 1 1 1 1 1 1 1 1 1 1 1 1 1 1 1 1 1 1 1 1 1 1 1 1 1 1 1 1 1 1 1 1 1 1 1 1 1 1 1 1 1 1 1 1 0 0 0 0 0 0 0 0 0 0 0 0 0 0 0 0 0 0 0 0 0 0 0 0 0 0 0 0 0 0 0\n",
      "11/21/2019 09:20:57 - INFO - bert -   segment_ids: 0 0 0 0 0 0 0 0 0 0 0 1 1 1 1 1 1 1 1 1 1 1 1 1 1 1 1 1 1 1 1 1 1 1 1 1 1 1 1 1 1 1 1 1 1 1 1 1 1 1 1 1 1 1 1 1 1 1 1 1 1 1 1 1 1 1 1 1 1 1 1 1 1 1 1 1 1 1 1 1 1 1 1 1 1 1 1 1 1 1 1 1 1 1 1 1 1 1 1 1 1 1 1 1 1 1 1 1 1 1 1 1 1 1 1 1 1 1 1 1 1 1 1 1 1 1 1 1 1 1 1 1 1 1 1 1 1 1 1 1 1 1 1 1 1 1 1 1 1 1 1 1 1 1 1 1 1 1 1 1 1 1 1 1 1 1 1 1 1 0 0 0 0 0 0 0 0 0 0 0 0 0 0 0 0 0 0 0 0 0 0 0 0 0 0 0 0 0 0 0\n",
      "11/21/2019 09:20:57 - INFO - bert -   *** Example ***\n",
      "11/21/2019 09:20:57 - INFO - bert -   tokens: [CLS] how do i show data on a map ? [SEP] this question has been sitting long enough , that it is time to document an answer for poster ##ity . the short answer is that highly - customized data visual ##izations cannot be done using function wrap ##pers from the ' lattice ' and ' g ##gp ##lot ##2 ' packages . the purpose of a function wrap ##per is to take some of the decisions out of your hands , so you will always be limited to the decisions originally envisioned by the function code ##r . i highly recommend everyone learn the ' lattice ' or ' g ##gp ##lot ##2 ' packages , but these packages are more useful for data exploration than for being creative with data visual ##izations . this answer is for those who want to create a customized visual . the following process may take half a day , but that is significantly less time than it would take to hack the ' lattice ' or ' g ##gp ##lot ##2 ' packages into the shape you want . this isn ' t a criticism of either of those packages ; [SEP]\n",
      "11/21/2019 09:20:57 - INFO - bert -   input_ids: 101 2129 2079 1045 2265 2951 2006 1037 4949 1029 102 2023 3160 2038 2042 3564 2146 2438 1010 2008 2009 2003 2051 2000 6254 2019 3437 2005 13082 3012 1012 1996 2460 3437 2003 2008 3811 1011 28749 2951 5107 22318 3685 2022 2589 2478 3853 10236 7347 2013 1996 1005 17779 1005 1998 1005 1043 21600 10994 2475 1005 14555 1012 1996 3800 1997 1037 3853 10236 4842 2003 2000 2202 2070 1997 1996 6567 2041 1997 2115 2398 1010 2061 2017 2097 2467 2022 3132 2000 1996 6567 2761 18035 2011 1996 3853 3642 2099 1012 1045 3811 16755 3071 4553 1996 1005 17779 1005 2030 1005 1043 21600 10994 2475 1005 14555 1010 2021 2122 14555 2024 2062 6179 2005 2951 8993 2084 2005 2108 5541 2007 2951 5107 22318 1012 2023 3437 2003 2005 2216 2040 2215 2000 3443 1037 28749 5107 1012 1996 2206 2832 2089 2202 2431 1037 2154 1010 2021 2008 2003 6022 2625 2051 2084 2009 2052 2202 2000 20578 1996 1005 17779 1005 2030 1005 1043 21600 10994 2475 1005 14555 2046 1996 4338 2017 2215 1012 2023 3475 1005 1056 1037 6256 1997 2593 1997 2216 14555 1025 102\n"
     ]
    },
    {
     "name": "stderr",
     "output_type": "stream",
     "text": [
      "11/21/2019 09:20:57 - INFO - bert -   input_mask: 1 1 1 1 1 1 1 1 1 1 1 1 1 1 1 1 1 1 1 1 1 1 1 1 1 1 1 1 1 1 1 1 1 1 1 1 1 1 1 1 1 1 1 1 1 1 1 1 1 1 1 1 1 1 1 1 1 1 1 1 1 1 1 1 1 1 1 1 1 1 1 1 1 1 1 1 1 1 1 1 1 1 1 1 1 1 1 1 1 1 1 1 1 1 1 1 1 1 1 1 1 1 1 1 1 1 1 1 1 1 1 1 1 1 1 1 1 1 1 1 1 1 1 1 1 1 1 1 1 1 1 1 1 1 1 1 1 1 1 1 1 1 1 1 1 1 1 1 1 1 1 1 1 1 1 1 1 1 1 1 1 1 1 1 1 1 1 1 1 1 1 1 1 1 1 1 1 1 1 1 1 1 1 1 1 1 1 1 1 1 1 1 1 1 1 1 1 1 1 1\n",
      "11/21/2019 09:20:57 - INFO - bert -   segment_ids: 0 0 0 0 0 0 0 0 0 0 0 1 1 1 1 1 1 1 1 1 1 1 1 1 1 1 1 1 1 1 1 1 1 1 1 1 1 1 1 1 1 1 1 1 1 1 1 1 1 1 1 1 1 1 1 1 1 1 1 1 1 1 1 1 1 1 1 1 1 1 1 1 1 1 1 1 1 1 1 1 1 1 1 1 1 1 1 1 1 1 1 1 1 1 1 1 1 1 1 1 1 1 1 1 1 1 1 1 1 1 1 1 1 1 1 1 1 1 1 1 1 1 1 1 1 1 1 1 1 1 1 1 1 1 1 1 1 1 1 1 1 1 1 1 1 1 1 1 1 1 1 1 1 1 1 1 1 1 1 1 1 1 1 1 1 1 1 1 1 1 1 1 1 1 1 1 1 1 1 1 1 1 1 1 1 1 1 1 1 1 1 1 1 1 1 1 1 1 1 1\n",
      "11/21/2019 09:20:57 - INFO - bert -   *** Example ***\n",
      "11/21/2019 09:20:57 - INFO - bert -   tokens: [CLS] how do i show data on a map ? [SEP] the authentic ##ode ( t ##m ) times ##tam ##p protocol pre ##dates the time - stamp protocol defined in rfc ##31 ##6 ##1 . however ( and ii ##rc ) there is no direct support for asking a times ##tam ##p built in . net . so you can either : build a ts ##p client to get your times ##tam ##ps ; or pig ##gy ##back the existing free times ##tam ##p servers that are around for code signing . while i would suggest # 1 in most cases ( it ' s a standard and more future proof ) i ' m not sure if there are c # libraries available that supports that today . if you ' re interested in # 2 then i know ( because i ' ve written it ; - ) that the code is available inside mono ( mit . x ##11 licensed ) to support authentic ##ode ( t ##m ) and code signing ( including times ##tam ##ping ) . [SEP]\n",
      "11/21/2019 09:20:57 - INFO - bert -   input_ids: 101 2129 2079 1045 2265 2951 2006 1037 4949 1029 102 1996 14469 10244 1006 1056 2213 1007 2335 15464 2361 8778 3653 27122 1996 2051 1011 11359 8778 4225 1999 14645 21486 2575 2487 1012 2174 1006 1998 2462 11890 1007 2045 2003 2053 3622 2490 2005 4851 1037 2335 15464 2361 2328 1999 1012 5658 1012 2061 2017 2064 2593 1024 3857 1037 24529 2361 7396 2000 2131 2115 2335 15464 4523 1025 2030 10369 6292 5963 1996 4493 2489 2335 15464 2361 14903 2008 2024 2105 2005 3642 6608 1012 2096 1045 2052 6592 1001 1015 1999 2087 3572 1006 2009 1005 1055 1037 3115 1998 2062 2925 6947 1007 1045 1005 1049 2025 2469 2065 2045 2024 1039 1001 8860 2800 2008 6753 2008 2651 1012 2065 2017 1005 2128 4699 1999 1001 1016 2059 1045 2113 1006 2138 1045 1005 2310 2517 2009 1025 1011 1007 2008 1996 3642 2003 2800 2503 18847 1006 10210 1012 1060 14526 7000 1007 2000 2490 14469 10244 1006 1056 2213 1007 1998 3642 6608 1006 2164 2335 15464 4691 1007 1012 102 0 0 0 0 0 0 0 0 0 0 0 0 0 0 0 0\n",
      "11/21/2019 09:20:57 - INFO - bert -   input_mask: 1 1 1 1 1 1 1 1 1 1 1 1 1 1 1 1 1 1 1 1 1 1 1 1 1 1 1 1 1 1 1 1 1 1 1 1 1 1 1 1 1 1 1 1 1 1 1 1 1 1 1 1 1 1 1 1 1 1 1 1 1 1 1 1 1 1 1 1 1 1 1 1 1 1 1 1 1 1 1 1 1 1 1 1 1 1 1 1 1 1 1 1 1 1 1 1 1 1 1 1 1 1 1 1 1 1 1 1 1 1 1 1 1 1 1 1 1 1 1 1 1 1 1 1 1 1 1 1 1 1 1 1 1 1 1 1 1 1 1 1 1 1 1 1 1 1 1 1 1 1 1 1 1 1 1 1 1 1 1 1 1 1 1 1 1 1 1 1 1 1 1 1 1 1 1 1 1 1 1 1 1 1 1 1 0 0 0 0 0 0 0 0 0 0 0 0 0 0 0 0\n",
      "11/21/2019 09:20:57 - INFO - bert -   segment_ids: 0 0 0 0 0 0 0 0 0 0 0 1 1 1 1 1 1 1 1 1 1 1 1 1 1 1 1 1 1 1 1 1 1 1 1 1 1 1 1 1 1 1 1 1 1 1 1 1 1 1 1 1 1 1 1 1 1 1 1 1 1 1 1 1 1 1 1 1 1 1 1 1 1 1 1 1 1 1 1 1 1 1 1 1 1 1 1 1 1 1 1 1 1 1 1 1 1 1 1 1 1 1 1 1 1 1 1 1 1 1 1 1 1 1 1 1 1 1 1 1 1 1 1 1 1 1 1 1 1 1 1 1 1 1 1 1 1 1 1 1 1 1 1 1 1 1 1 1 1 1 1 1 1 1 1 1 1 1 1 1 1 1 1 1 1 1 1 1 1 1 1 1 1 1 1 1 1 1 1 1 1 1 1 1 0 0 0 0 0 0 0 0 0 0 0 0 0 0 0 0\n",
      "11/21/2019 09:21:01 - INFO - bert -   ***** Running evaluation *****\n",
      "11/21/2019 09:21:01 - INFO - bert -     Num examples = 3110\n",
      "11/21/2019 09:21:01 - INFO - bert -     Batch size = 128\n"
     ]
    },
    {
     "data": {
      "text/html": [
       "\n",
       "    <div>\n",
       "        <style>\n",
       "            /* Turns off some styling */\n",
       "            progress {\n",
       "                /* gets rid of default border in Firefox and Opera. */\n",
       "                border: none;\n",
       "                /* Needs to be in here for Safari polyfill so background images work as expected. */\n",
       "                background-size: auto;\n",
       "            }\n",
       "            .progress-bar-interrupted, .progress-bar-interrupted::-webkit-progress-bar {\n",
       "                background: #F44336;\n",
       "            }\n",
       "        </style>\n",
       "      <progress value='25' class='' max='25', style='width:300px; height:20px; vertical-align: middle;'></progress>\n",
       "      100.00% [25/25 00:19<00:00]\n",
       "    </div>\n",
       "    "
      ],
      "text/plain": [
       "<IPython.core.display.HTML object>"
      ]
     },
     "metadata": {},
     "output_type": "display_data"
    },
    {
     "name": "stderr",
     "output_type": "stream",
     "text": [
      "11/21/2019 09:21:20 - INFO - bert -   *** Example ***\n",
      "11/21/2019 09:21:20 - INFO - bert -   tokens: [CLS] how can i illustrate changes in my data over time ? [SEP] points in is zero width , so you need to set the width of dod ##ging : [SEP]\n",
      "11/21/2019 09:21:20 - INFO - bert -   input_ids: 101 2129 2064 1045 19141 3431 1999 2026 2951 2058 2051 1029 102 2685 1999 2003 5717 9381 1010 2061 2017 2342 2000 2275 1996 9381 1997 26489 4726 1024 102 0 0 0 0 0 0 0 0 0 0 0 0 0 0 0 0 0 0 0 0 0 0 0 0 0 0 0 0 0 0 0 0 0 0 0 0 0 0 0 0 0 0 0 0 0 0 0 0 0 0 0 0 0 0 0 0 0 0 0 0 0 0 0 0 0 0 0 0 0 0 0 0 0 0 0 0 0 0 0 0 0 0 0 0 0 0 0 0 0 0 0 0 0 0 0 0 0 0 0 0 0 0 0 0 0 0 0 0 0 0 0 0 0 0 0 0 0 0 0 0 0 0 0 0 0 0 0 0 0 0 0 0 0 0 0 0 0 0 0 0 0 0 0 0 0 0 0 0 0 0 0 0 0 0 0 0 0 0 0 0 0 0 0 0 0 0 0 0 0\n",
      "11/21/2019 09:21:20 - INFO - bert -   input_mask: 1 1 1 1 1 1 1 1 1 1 1 1 1 1 1 1 1 1 1 1 1 1 1 1 1 1 1 1 1 1 1 0 0 0 0 0 0 0 0 0 0 0 0 0 0 0 0 0 0 0 0 0 0 0 0 0 0 0 0 0 0 0 0 0 0 0 0 0 0 0 0 0 0 0 0 0 0 0 0 0 0 0 0 0 0 0 0 0 0 0 0 0 0 0 0 0 0 0 0 0 0 0 0 0 0 0 0 0 0 0 0 0 0 0 0 0 0 0 0 0 0 0 0 0 0 0 0 0 0 0 0 0 0 0 0 0 0 0 0 0 0 0 0 0 0 0 0 0 0 0 0 0 0 0 0 0 0 0 0 0 0 0 0 0 0 0 0 0 0 0 0 0 0 0 0 0 0 0 0 0 0 0 0 0 0 0 0 0 0 0 0 0 0 0 0 0 0 0 0 0\n",
      "11/21/2019 09:21:20 - INFO - bert -   segment_ids: 0 0 0 0 0 0 0 0 0 0 0 0 0 1 1 1 1 1 1 1 1 1 1 1 1 1 1 1 1 1 1 0 0 0 0 0 0 0 0 0 0 0 0 0 0 0 0 0 0 0 0 0 0 0 0 0 0 0 0 0 0 0 0 0 0 0 0 0 0 0 0 0 0 0 0 0 0 0 0 0 0 0 0 0 0 0 0 0 0 0 0 0 0 0 0 0 0 0 0 0 0 0 0 0 0 0 0 0 0 0 0 0 0 0 0 0 0 0 0 0 0 0 0 0 0 0 0 0 0 0 0 0 0 0 0 0 0 0 0 0 0 0 0 0 0 0 0 0 0 0 0 0 0 0 0 0 0 0 0 0 0 0 0 0 0 0 0 0 0 0 0 0 0 0 0 0 0 0 0 0 0 0 0 0 0 0 0 0 0 0 0 0 0 0 0 0 0 0 0 0\n",
      "11/21/2019 09:21:20 - INFO - bert -   *** Example ***\n",
      "11/21/2019 09:21:20 - INFO - bert -   tokens: [CLS] how can i illustrate changes in my data over time ? [SEP] uno ##con ##v can convert em ##f to pdf and ti ##ff via command - line : for pdf : uno ##con ##v file ##name . em ##f for ti ##ff : uno ##con ##v - f ti ##ff file ##name . em ##f it doesn ' t seem to support ps file export , though . you are still required to install open ##off ##ice . org / libre ##off ##ice because this tool uses them as the back ##end . [SEP]\n",
      "11/21/2019 09:21:20 - INFO - bert -   input_ids: 101 2129 2064 1045 19141 3431 1999 2026 2951 2058 2051 1029 102 27776 8663 2615 2064 10463 7861 2546 2000 11135 1998 14841 4246 3081 3094 1011 2240 1024 2005 11135 1024 27776 8663 2615 5371 18442 1012 7861 2546 2005 14841 4246 1024 27776 8663 2615 1011 1042 14841 4246 5371 18442 1012 7861 2546 2009 2987 1005 1056 4025 2000 2490 8827 5371 9167 1010 2295 1012 2017 2024 2145 3223 2000 16500 2330 7245 6610 1012 8917 1013 21091 7245 6610 2138 2023 6994 3594 2068 2004 1996 2067 10497 1012 102 0 0 0 0 0 0 0 0 0 0 0 0 0 0 0 0 0 0 0 0 0 0 0 0 0 0 0 0 0 0 0 0 0 0 0 0 0 0 0 0 0 0 0 0 0 0 0 0 0 0 0 0 0 0 0 0 0 0 0 0 0 0 0 0 0 0 0 0 0 0 0 0 0 0 0 0 0 0 0 0 0 0 0 0 0 0 0 0 0 0 0 0 0 0 0 0 0 0 0 0 0 0 0 0\n",
      "11/21/2019 09:21:20 - INFO - bert -   input_mask: 1 1 1 1 1 1 1 1 1 1 1 1 1 1 1 1 1 1 1 1 1 1 1 1 1 1 1 1 1 1 1 1 1 1 1 1 1 1 1 1 1 1 1 1 1 1 1 1 1 1 1 1 1 1 1 1 1 1 1 1 1 1 1 1 1 1 1 1 1 1 1 1 1 1 1 1 1 1 1 1 1 1 1 1 1 1 1 1 1 1 1 1 1 1 1 1 0 0 0 0 0 0 0 0 0 0 0 0 0 0 0 0 0 0 0 0 0 0 0 0 0 0 0 0 0 0 0 0 0 0 0 0 0 0 0 0 0 0 0 0 0 0 0 0 0 0 0 0 0 0 0 0 0 0 0 0 0 0 0 0 0 0 0 0 0 0 0 0 0 0 0 0 0 0 0 0 0 0 0 0 0 0 0 0 0 0 0 0 0 0 0 0 0 0 0 0 0 0 0 0\n",
      "11/21/2019 09:21:20 - INFO - bert -   segment_ids: 0 0 0 0 0 0 0 0 0 0 0 0 0 1 1 1 1 1 1 1 1 1 1 1 1 1 1 1 1 1 1 1 1 1 1 1 1 1 1 1 1 1 1 1 1 1 1 1 1 1 1 1 1 1 1 1 1 1 1 1 1 1 1 1 1 1 1 1 1 1 1 1 1 1 1 1 1 1 1 1 1 1 1 1 1 1 1 1 1 1 1 1 1 1 1 1 0 0 0 0 0 0 0 0 0 0 0 0 0 0 0 0 0 0 0 0 0 0 0 0 0 0 0 0 0 0 0 0 0 0 0 0 0 0 0 0 0 0 0 0 0 0 0 0 0 0 0 0 0 0 0 0 0 0 0 0 0 0 0 0 0 0 0 0 0 0 0 0 0 0 0 0 0 0 0 0 0 0 0 0 0 0 0 0 0 0 0 0 0 0 0 0 0 0 0 0 0 0 0 0\n",
      "11/21/2019 09:21:20 - INFO - bert -   *** Example ***\n",
      "11/21/2019 09:21:20 - INFO - bert -   tokens: [CLS] how can i illustrate changes in my data over time ? [SEP] looking at the source for fl ##ot 0 . 7 , there is not included functionality to highlight lines . however , if you wanted to extend fl ##ot to do what you want . . . fl ##ot has an \" over ##lay \" canvas which it uses to do effects like highlighting . this has the associated context in the source . if you look at the method you can see how highlighting is done for data ##points . you could write a similar method for lines . the function it ##erate ##s over an array of highlight ##able objects - - you would want to extend that to handle \" line \" objects as well . finally you would need to write a method to add / remove lines from the array of highlight ##able objects , analogous to the existing and methods . notice these methods are made public using the lines : [SEP]\n",
      "11/21/2019 09:21:20 - INFO - bert -   input_ids: 101 2129 2064 1045 19141 3431 1999 2026 2951 2058 2051 1029 102 2559 2012 1996 3120 2005 13109 4140 1014 1012 1021 1010 2045 2003 2025 2443 15380 2000 12944 3210 1012 2174 1010 2065 2017 2359 2000 7949 13109 4140 2000 2079 2054 2017 2215 1012 1012 1012 13109 4140 2038 2019 1000 2058 8485 1000 10683 2029 2009 3594 2000 2079 3896 2066 20655 1012 2023 2038 1996 3378 6123 1999 1996 3120 1012 2065 2017 2298 2012 1996 4118 2017 2064 2156 2129 20655 2003 2589 2005 2951 26521 1012 2017 2071 4339 1037 2714 4118 2005 3210 1012 1996 3853 2009 22139 2015 2058 2019 9140 1997 12944 3085 5200 1011 1011 2017 2052 2215 2000 7949 2008 2000 5047 1000 2240 1000 5200 2004 2092 1012 2633 2017 2052 2342 2000 4339 1037 4118 2000 5587 1013 6366 3210 2013 1996 9140 1997 12944 3085 5200 1010 19639 2000 1996 4493 1998 4725 1012 5060 2122 4725 2024 2081 2270 2478 1996 3210 1024 102 0 0 0 0 0 0 0 0 0 0 0 0 0 0 0 0 0 0 0 0 0 0 0 0 0 0 0 0 0\n",
      "11/21/2019 09:21:20 - INFO - bert -   input_mask: 1 1 1 1 1 1 1 1 1 1 1 1 1 1 1 1 1 1 1 1 1 1 1 1 1 1 1 1 1 1 1 1 1 1 1 1 1 1 1 1 1 1 1 1 1 1 1 1 1 1 1 1 1 1 1 1 1 1 1 1 1 1 1 1 1 1 1 1 1 1 1 1 1 1 1 1 1 1 1 1 1 1 1 1 1 1 1 1 1 1 1 1 1 1 1 1 1 1 1 1 1 1 1 1 1 1 1 1 1 1 1 1 1 1 1 1 1 1 1 1 1 1 1 1 1 1 1 1 1 1 1 1 1 1 1 1 1 1 1 1 1 1 1 1 1 1 1 1 1 1 1 1 1 1 1 1 1 1 1 1 1 1 1 1 1 1 1 1 1 1 1 0 0 0 0 0 0 0 0 0 0 0 0 0 0 0 0 0 0 0 0 0 0 0 0 0 0 0 0 0\n",
      "11/21/2019 09:21:20 - INFO - bert -   segment_ids: 0 0 0 0 0 0 0 0 0 0 0 0 0 1 1 1 1 1 1 1 1 1 1 1 1 1 1 1 1 1 1 1 1 1 1 1 1 1 1 1 1 1 1 1 1 1 1 1 1 1 1 1 1 1 1 1 1 1 1 1 1 1 1 1 1 1 1 1 1 1 1 1 1 1 1 1 1 1 1 1 1 1 1 1 1 1 1 1 1 1 1 1 1 1 1 1 1 1 1 1 1 1 1 1 1 1 1 1 1 1 1 1 1 1 1 1 1 1 1 1 1 1 1 1 1 1 1 1 1 1 1 1 1 1 1 1 1 1 1 1 1 1 1 1 1 1 1 1 1 1 1 1 1 1 1 1 1 1 1 1 1 1 1 1 1 1 1 1 1 1 1 0 0 0 0 0 0 0 0 0 0 0 0 0 0 0 0 0 0 0 0 0 0 0 0 0 0 0 0 0\n",
      "11/21/2019 09:21:20 - INFO - bert -   *** Example ***\n",
      "11/21/2019 09:21:20 - INFO - bert -   tokens: [CLS] how can i illustrate changes in my data over time ? [SEP] this question has been sitting long enough , that it is time to document an answer for poster ##ity . the short answer is that highly - customized data visual ##izations cannot be done using function wrap ##pers from the ' lattice ' and ' g ##gp ##lot ##2 ' packages . the purpose of a function wrap ##per is to take some of the decisions out of your hands , so you will always be limited to the decisions originally envisioned by the function code ##r . i highly recommend everyone learn the ' lattice ' or ' g ##gp ##lot ##2 ' packages , but these packages are more useful for data exploration than for being creative with data visual ##izations . this answer is for those who want to create a customized visual . the following process may take half a day , but that is significantly less time than it would take to hack the ' lattice ' or ' g ##gp ##lot ##2 ' packages into the shape you want . this isn ' t a criticism of either of those [SEP]\n",
      "11/21/2019 09:21:20 - INFO - bert -   input_ids: 101 2129 2064 1045 19141 3431 1999 2026 2951 2058 2051 1029 102 2023 3160 2038 2042 3564 2146 2438 1010 2008 2009 2003 2051 2000 6254 2019 3437 2005 13082 3012 1012 1996 2460 3437 2003 2008 3811 1011 28749 2951 5107 22318 3685 2022 2589 2478 3853 10236 7347 2013 1996 1005 17779 1005 1998 1005 1043 21600 10994 2475 1005 14555 1012 1996 3800 1997 1037 3853 10236 4842 2003 2000 2202 2070 1997 1996 6567 2041 1997 2115 2398 1010 2061 2017 2097 2467 2022 3132 2000 1996 6567 2761 18035 2011 1996 3853 3642 2099 1012 1045 3811 16755 3071 4553 1996 1005 17779 1005 2030 1005 1043 21600 10994 2475 1005 14555 1010 2021 2122 14555 2024 2062 6179 2005 2951 8993 2084 2005 2108 5541 2007 2951 5107 22318 1012 2023 3437 2003 2005 2216 2040 2215 2000 3443 1037 28749 5107 1012 1996 2206 2832 2089 2202 2431 1037 2154 1010 2021 2008 2003 6022 2625 2051 2084 2009 2052 2202 2000 20578 1996 1005 17779 1005 2030 1005 1043 21600 10994 2475 1005 14555 2046 1996 4338 2017 2215 1012 2023 3475 1005 1056 1037 6256 1997 2593 1997 2216 102\n"
     ]
    },
    {
     "name": "stderr",
     "output_type": "stream",
     "text": [
      "11/21/2019 09:21:20 - INFO - bert -   input_mask: 1 1 1 1 1 1 1 1 1 1 1 1 1 1 1 1 1 1 1 1 1 1 1 1 1 1 1 1 1 1 1 1 1 1 1 1 1 1 1 1 1 1 1 1 1 1 1 1 1 1 1 1 1 1 1 1 1 1 1 1 1 1 1 1 1 1 1 1 1 1 1 1 1 1 1 1 1 1 1 1 1 1 1 1 1 1 1 1 1 1 1 1 1 1 1 1 1 1 1 1 1 1 1 1 1 1 1 1 1 1 1 1 1 1 1 1 1 1 1 1 1 1 1 1 1 1 1 1 1 1 1 1 1 1 1 1 1 1 1 1 1 1 1 1 1 1 1 1 1 1 1 1 1 1 1 1 1 1 1 1 1 1 1 1 1 1 1 1 1 1 1 1 1 1 1 1 1 1 1 1 1 1 1 1 1 1 1 1 1 1 1 1 1 1 1 1 1 1 1 1\n",
      "11/21/2019 09:21:20 - INFO - bert -   segment_ids: 0 0 0 0 0 0 0 0 0 0 0 0 0 1 1 1 1 1 1 1 1 1 1 1 1 1 1 1 1 1 1 1 1 1 1 1 1 1 1 1 1 1 1 1 1 1 1 1 1 1 1 1 1 1 1 1 1 1 1 1 1 1 1 1 1 1 1 1 1 1 1 1 1 1 1 1 1 1 1 1 1 1 1 1 1 1 1 1 1 1 1 1 1 1 1 1 1 1 1 1 1 1 1 1 1 1 1 1 1 1 1 1 1 1 1 1 1 1 1 1 1 1 1 1 1 1 1 1 1 1 1 1 1 1 1 1 1 1 1 1 1 1 1 1 1 1 1 1 1 1 1 1 1 1 1 1 1 1 1 1 1 1 1 1 1 1 1 1 1 1 1 1 1 1 1 1 1 1 1 1 1 1 1 1 1 1 1 1 1 1 1 1 1 1 1 1 1 1 1 1\n",
      "11/21/2019 09:21:20 - INFO - bert -   *** Example ***\n",
      "11/21/2019 09:21:20 - INFO - bert -   tokens: [CLS] how can i illustrate changes in my data over time ? [SEP] the authentic ##ode ( t ##m ) times ##tam ##p protocol pre ##dates the time - stamp protocol defined in rfc ##31 ##6 ##1 . however ( and ii ##rc ) there is no direct support for asking a times ##tam ##p built in . net . so you can either : build a ts ##p client to get your times ##tam ##ps ; or pig ##gy ##back the existing free times ##tam ##p servers that are around for code signing . while i would suggest # 1 in most cases ( it ' s a standard and more future proof ) i ' m not sure if there are c # libraries available that supports that today . if you ' re interested in # 2 then i know ( because i ' ve written it ; - ) that the code is available inside mono ( mit . x ##11 licensed ) to support authentic ##ode ( t ##m ) and code signing ( including times ##tam ##ping ) . [SEP]\n",
      "11/21/2019 09:21:20 - INFO - bert -   input_ids: 101 2129 2064 1045 19141 3431 1999 2026 2951 2058 2051 1029 102 1996 14469 10244 1006 1056 2213 1007 2335 15464 2361 8778 3653 27122 1996 2051 1011 11359 8778 4225 1999 14645 21486 2575 2487 1012 2174 1006 1998 2462 11890 1007 2045 2003 2053 3622 2490 2005 4851 1037 2335 15464 2361 2328 1999 1012 5658 1012 2061 2017 2064 2593 1024 3857 1037 24529 2361 7396 2000 2131 2115 2335 15464 4523 1025 2030 10369 6292 5963 1996 4493 2489 2335 15464 2361 14903 2008 2024 2105 2005 3642 6608 1012 2096 1045 2052 6592 1001 1015 1999 2087 3572 1006 2009 1005 1055 1037 3115 1998 2062 2925 6947 1007 1045 1005 1049 2025 2469 2065 2045 2024 1039 1001 8860 2800 2008 6753 2008 2651 1012 2065 2017 1005 2128 4699 1999 1001 1016 2059 1045 2113 1006 2138 1045 1005 2310 2517 2009 1025 1011 1007 2008 1996 3642 2003 2800 2503 18847 1006 10210 1012 1060 14526 7000 1007 2000 2490 14469 10244 1006 1056 2213 1007 1998 3642 6608 1006 2164 2335 15464 4691 1007 1012 102 0 0 0 0 0 0 0 0 0 0 0 0 0 0\n",
      "11/21/2019 09:21:20 - INFO - bert -   input_mask: 1 1 1 1 1 1 1 1 1 1 1 1 1 1 1 1 1 1 1 1 1 1 1 1 1 1 1 1 1 1 1 1 1 1 1 1 1 1 1 1 1 1 1 1 1 1 1 1 1 1 1 1 1 1 1 1 1 1 1 1 1 1 1 1 1 1 1 1 1 1 1 1 1 1 1 1 1 1 1 1 1 1 1 1 1 1 1 1 1 1 1 1 1 1 1 1 1 1 1 1 1 1 1 1 1 1 1 1 1 1 1 1 1 1 1 1 1 1 1 1 1 1 1 1 1 1 1 1 1 1 1 1 1 1 1 1 1 1 1 1 1 1 1 1 1 1 1 1 1 1 1 1 1 1 1 1 1 1 1 1 1 1 1 1 1 1 1 1 1 1 1 1 1 1 1 1 1 1 1 1 1 1 1 1 1 1 0 0 0 0 0 0 0 0 0 0 0 0 0 0\n",
      "11/21/2019 09:21:20 - INFO - bert -   segment_ids: 0 0 0 0 0 0 0 0 0 0 0 0 0 1 1 1 1 1 1 1 1 1 1 1 1 1 1 1 1 1 1 1 1 1 1 1 1 1 1 1 1 1 1 1 1 1 1 1 1 1 1 1 1 1 1 1 1 1 1 1 1 1 1 1 1 1 1 1 1 1 1 1 1 1 1 1 1 1 1 1 1 1 1 1 1 1 1 1 1 1 1 1 1 1 1 1 1 1 1 1 1 1 1 1 1 1 1 1 1 1 1 1 1 1 1 1 1 1 1 1 1 1 1 1 1 1 1 1 1 1 1 1 1 1 1 1 1 1 1 1 1 1 1 1 1 1 1 1 1 1 1 1 1 1 1 1 1 1 1 1 1 1 1 1 1 1 1 1 1 1 1 1 1 1 1 1 1 1 1 1 1 1 1 1 1 1 0 0 0 0 0 0 0 0 0 0 0 0 0 0\n",
      "11/21/2019 09:21:24 - INFO - bert -   ***** Running evaluation *****\n",
      "11/21/2019 09:21:24 - INFO - bert -     Num examples = 3110\n",
      "11/21/2019 09:21:24 - INFO - bert -     Batch size = 128\n"
     ]
    },
    {
     "data": {
      "text/html": [
       "\n",
       "    <div>\n",
       "        <style>\n",
       "            /* Turns off some styling */\n",
       "            progress {\n",
       "                /* gets rid of default border in Firefox and Opera. */\n",
       "                border: none;\n",
       "                /* Needs to be in here for Safari polyfill so background images work as expected. */\n",
       "                background-size: auto;\n",
       "            }\n",
       "            .progress-bar-interrupted, .progress-bar-interrupted::-webkit-progress-bar {\n",
       "                background: #F44336;\n",
       "            }\n",
       "        </style>\n",
       "      <progress value='25' class='' max='25', style='width:300px; height:20px; vertical-align: middle;'></progress>\n",
       "      100.00% [25/25 00:19<00:00]\n",
       "    </div>\n",
       "    "
      ],
      "text/plain": [
       "<IPython.core.display.HTML object>"
      ]
     },
     "metadata": {},
     "output_type": "display_data"
    },
    {
     "name": "stderr",
     "output_type": "stream",
     "text": [
      "11/21/2019 09:21:44 - INFO - bert -   *** Example ***\n",
      "11/21/2019 09:21:44 - INFO - bert -   tokens: [CLS] is there a way to show a “ heat ##ma ##p ” of my data ? [SEP] points in is zero width , so you need to set the width of dod ##ging : [SEP]\n",
      "11/21/2019 09:21:44 - INFO - bert -   input_ids: 101 2003 2045 1037 2126 2000 2265 1037 1523 3684 2863 2361 1524 1997 2026 2951 1029 102 2685 1999 2003 5717 9381 1010 2061 2017 2342 2000 2275 1996 9381 1997 26489 4726 1024 102 0 0 0 0 0 0 0 0 0 0 0 0 0 0 0 0 0 0 0 0 0 0 0 0 0 0 0 0 0 0 0 0 0 0 0 0 0 0 0 0 0 0 0 0 0 0 0 0 0 0 0 0 0 0 0 0 0 0 0 0 0 0 0 0 0 0 0 0 0 0 0 0 0 0 0 0 0 0 0 0 0 0 0 0 0 0 0 0 0 0 0 0 0 0 0 0 0 0 0 0 0 0 0 0 0 0 0 0 0 0 0 0 0 0 0 0 0 0 0 0 0 0 0 0 0 0 0 0 0 0 0 0 0 0 0 0 0 0 0 0 0 0 0 0 0 0 0 0 0 0 0 0 0 0 0 0 0 0 0 0 0 0 0 0\n",
      "11/21/2019 09:21:44 - INFO - bert -   input_mask: 1 1 1 1 1 1 1 1 1 1 1 1 1 1 1 1 1 1 1 1 1 1 1 1 1 1 1 1 1 1 1 1 1 1 1 1 0 0 0 0 0 0 0 0 0 0 0 0 0 0 0 0 0 0 0 0 0 0 0 0 0 0 0 0 0 0 0 0 0 0 0 0 0 0 0 0 0 0 0 0 0 0 0 0 0 0 0 0 0 0 0 0 0 0 0 0 0 0 0 0 0 0 0 0 0 0 0 0 0 0 0 0 0 0 0 0 0 0 0 0 0 0 0 0 0 0 0 0 0 0 0 0 0 0 0 0 0 0 0 0 0 0 0 0 0 0 0 0 0 0 0 0 0 0 0 0 0 0 0 0 0 0 0 0 0 0 0 0 0 0 0 0 0 0 0 0 0 0 0 0 0 0 0 0 0 0 0 0 0 0 0 0 0 0 0 0 0 0 0 0\n",
      "11/21/2019 09:21:44 - INFO - bert -   segment_ids: 0 0 0 0 0 0 0 0 0 0 0 0 0 0 0 0 0 0 1 1 1 1 1 1 1 1 1 1 1 1 1 1 1 1 1 1 0 0 0 0 0 0 0 0 0 0 0 0 0 0 0 0 0 0 0 0 0 0 0 0 0 0 0 0 0 0 0 0 0 0 0 0 0 0 0 0 0 0 0 0 0 0 0 0 0 0 0 0 0 0 0 0 0 0 0 0 0 0 0 0 0 0 0 0 0 0 0 0 0 0 0 0 0 0 0 0 0 0 0 0 0 0 0 0 0 0 0 0 0 0 0 0 0 0 0 0 0 0 0 0 0 0 0 0 0 0 0 0 0 0 0 0 0 0 0 0 0 0 0 0 0 0 0 0 0 0 0 0 0 0 0 0 0 0 0 0 0 0 0 0 0 0 0 0 0 0 0 0 0 0 0 0 0 0 0 0 0 0 0 0\n",
      "11/21/2019 09:21:44 - INFO - bert -   *** Example ***\n",
      "11/21/2019 09:21:44 - INFO - bert -   tokens: [CLS] is there a way to show a “ heat ##ma ##p ” of my data ? [SEP] uno ##con ##v can convert em ##f to pdf and ti ##ff via command - line : for pdf : uno ##con ##v file ##name . em ##f for ti ##ff : uno ##con ##v - f ti ##ff file ##name . em ##f it doesn ' t seem to support ps file export , though . you are still required to install open ##off ##ice . org / libre ##off ##ice because this tool uses them as the back ##end . [SEP]\n",
      "11/21/2019 09:21:44 - INFO - bert -   input_ids: 101 2003 2045 1037 2126 2000 2265 1037 1523 3684 2863 2361 1524 1997 2026 2951 1029 102 27776 8663 2615 2064 10463 7861 2546 2000 11135 1998 14841 4246 3081 3094 1011 2240 1024 2005 11135 1024 27776 8663 2615 5371 18442 1012 7861 2546 2005 14841 4246 1024 27776 8663 2615 1011 1042 14841 4246 5371 18442 1012 7861 2546 2009 2987 1005 1056 4025 2000 2490 8827 5371 9167 1010 2295 1012 2017 2024 2145 3223 2000 16500 2330 7245 6610 1012 8917 1013 21091 7245 6610 2138 2023 6994 3594 2068 2004 1996 2067 10497 1012 102 0 0 0 0 0 0 0 0 0 0 0 0 0 0 0 0 0 0 0 0 0 0 0 0 0 0 0 0 0 0 0 0 0 0 0 0 0 0 0 0 0 0 0 0 0 0 0 0 0 0 0 0 0 0 0 0 0 0 0 0 0 0 0 0 0 0 0 0 0 0 0 0 0 0 0 0 0 0 0 0 0 0 0 0 0 0 0 0 0 0 0 0 0 0 0 0 0 0 0\n",
      "11/21/2019 09:21:44 - INFO - bert -   input_mask: 1 1 1 1 1 1 1 1 1 1 1 1 1 1 1 1 1 1 1 1 1 1 1 1 1 1 1 1 1 1 1 1 1 1 1 1 1 1 1 1 1 1 1 1 1 1 1 1 1 1 1 1 1 1 1 1 1 1 1 1 1 1 1 1 1 1 1 1 1 1 1 1 1 1 1 1 1 1 1 1 1 1 1 1 1 1 1 1 1 1 1 1 1 1 1 1 1 1 1 1 1 0 0 0 0 0 0 0 0 0 0 0 0 0 0 0 0 0 0 0 0 0 0 0 0 0 0 0 0 0 0 0 0 0 0 0 0 0 0 0 0 0 0 0 0 0 0 0 0 0 0 0 0 0 0 0 0 0 0 0 0 0 0 0 0 0 0 0 0 0 0 0 0 0 0 0 0 0 0 0 0 0 0 0 0 0 0 0 0 0 0 0 0 0 0 0 0 0 0 0\n",
      "11/21/2019 09:21:44 - INFO - bert -   segment_ids: 0 0 0 0 0 0 0 0 0 0 0 0 0 0 0 0 0 0 1 1 1 1 1 1 1 1 1 1 1 1 1 1 1 1 1 1 1 1 1 1 1 1 1 1 1 1 1 1 1 1 1 1 1 1 1 1 1 1 1 1 1 1 1 1 1 1 1 1 1 1 1 1 1 1 1 1 1 1 1 1 1 1 1 1 1 1 1 1 1 1 1 1 1 1 1 1 1 1 1 1 1 0 0 0 0 0 0 0 0 0 0 0 0 0 0 0 0 0 0 0 0 0 0 0 0 0 0 0 0 0 0 0 0 0 0 0 0 0 0 0 0 0 0 0 0 0 0 0 0 0 0 0 0 0 0 0 0 0 0 0 0 0 0 0 0 0 0 0 0 0 0 0 0 0 0 0 0 0 0 0 0 0 0 0 0 0 0 0 0 0 0 0 0 0 0 0 0 0 0 0\n",
      "11/21/2019 09:21:44 - INFO - bert -   *** Example ***\n",
      "11/21/2019 09:21:44 - INFO - bert -   tokens: [CLS] is there a way to show a “ heat ##ma ##p ” of my data ? [SEP] looking at the source for fl ##ot 0 . 7 , there is not included functionality to highlight lines . however , if you wanted to extend fl ##ot to do what you want . . . fl ##ot has an \" over ##lay \" canvas which it uses to do effects like highlighting . this has the associated context in the source . if you look at the method you can see how highlighting is done for data ##points . you could write a similar method for lines . the function it ##erate ##s over an array of highlight ##able objects - - you would want to extend that to handle \" line \" objects as well . finally you would need to write a method to add / remove lines from the array of highlight ##able objects , analogous to the existing and methods . notice these methods are made public using the lines : [SEP]\n",
      "11/21/2019 09:21:44 - INFO - bert -   input_ids: 101 2003 2045 1037 2126 2000 2265 1037 1523 3684 2863 2361 1524 1997 2026 2951 1029 102 2559 2012 1996 3120 2005 13109 4140 1014 1012 1021 1010 2045 2003 2025 2443 15380 2000 12944 3210 1012 2174 1010 2065 2017 2359 2000 7949 13109 4140 2000 2079 2054 2017 2215 1012 1012 1012 13109 4140 2038 2019 1000 2058 8485 1000 10683 2029 2009 3594 2000 2079 3896 2066 20655 1012 2023 2038 1996 3378 6123 1999 1996 3120 1012 2065 2017 2298 2012 1996 4118 2017 2064 2156 2129 20655 2003 2589 2005 2951 26521 1012 2017 2071 4339 1037 2714 4118 2005 3210 1012 1996 3853 2009 22139 2015 2058 2019 9140 1997 12944 3085 5200 1011 1011 2017 2052 2215 2000 7949 2008 2000 5047 1000 2240 1000 5200 2004 2092 1012 2633 2017 2052 2342 2000 4339 1037 4118 2000 5587 1013 6366 3210 2013 1996 9140 1997 12944 3085 5200 1010 19639 2000 1996 4493 1998 4725 1012 5060 2122 4725 2024 2081 2270 2478 1996 3210 1024 102 0 0 0 0 0 0 0 0 0 0 0 0 0 0 0 0 0 0 0 0 0 0 0 0\n",
      "11/21/2019 09:21:44 - INFO - bert -   input_mask: 1 1 1 1 1 1 1 1 1 1 1 1 1 1 1 1 1 1 1 1 1 1 1 1 1 1 1 1 1 1 1 1 1 1 1 1 1 1 1 1 1 1 1 1 1 1 1 1 1 1 1 1 1 1 1 1 1 1 1 1 1 1 1 1 1 1 1 1 1 1 1 1 1 1 1 1 1 1 1 1 1 1 1 1 1 1 1 1 1 1 1 1 1 1 1 1 1 1 1 1 1 1 1 1 1 1 1 1 1 1 1 1 1 1 1 1 1 1 1 1 1 1 1 1 1 1 1 1 1 1 1 1 1 1 1 1 1 1 1 1 1 1 1 1 1 1 1 1 1 1 1 1 1 1 1 1 1 1 1 1 1 1 1 1 1 1 1 1 1 1 1 1 1 1 1 1 0 0 0 0 0 0 0 0 0 0 0 0 0 0 0 0 0 0 0 0 0 0 0 0\n",
      "11/21/2019 09:21:44 - INFO - bert -   segment_ids: 0 0 0 0 0 0 0 0 0 0 0 0 0 0 0 0 0 0 1 1 1 1 1 1 1 1 1 1 1 1 1 1 1 1 1 1 1 1 1 1 1 1 1 1 1 1 1 1 1 1 1 1 1 1 1 1 1 1 1 1 1 1 1 1 1 1 1 1 1 1 1 1 1 1 1 1 1 1 1 1 1 1 1 1 1 1 1 1 1 1 1 1 1 1 1 1 1 1 1 1 1 1 1 1 1 1 1 1 1 1 1 1 1 1 1 1 1 1 1 1 1 1 1 1 1 1 1 1 1 1 1 1 1 1 1 1 1 1 1 1 1 1 1 1 1 1 1 1 1 1 1 1 1 1 1 1 1 1 1 1 1 1 1 1 1 1 1 1 1 1 1 1 1 1 1 1 0 0 0 0 0 0 0 0 0 0 0 0 0 0 0 0 0 0 0 0 0 0 0 0\n",
      "11/21/2019 09:21:44 - INFO - bert -   *** Example ***\n",
      "11/21/2019 09:21:44 - INFO - bert -   tokens: [CLS] is there a way to show a “ heat ##ma ##p ” of my data ? [SEP] this question has been sitting long enough , that it is time to document an answer for poster ##ity . the short answer is that highly - customized data visual ##izations cannot be done using function wrap ##pers from the ' lattice ' and ' g ##gp ##lot ##2 ' packages . the purpose of a function wrap ##per is to take some of the decisions out of your hands , so you will always be limited to the decisions originally envisioned by the function code ##r . i highly recommend everyone learn the ' lattice ' or ' g ##gp ##lot ##2 ' packages , but these packages are more useful for data exploration than for being creative with data visual ##izations . this answer is for those who want to create a customized visual . the following process may take half a day , but that is significantly less time than it would take to hack the ' lattice ' or ' g ##gp ##lot ##2 ' packages into the shape you want . this isn ' t a [SEP]\n",
      "11/21/2019 09:21:44 - INFO - bert -   input_ids: 101 2003 2045 1037 2126 2000 2265 1037 1523 3684 2863 2361 1524 1997 2026 2951 1029 102 2023 3160 2038 2042 3564 2146 2438 1010 2008 2009 2003 2051 2000 6254 2019 3437 2005 13082 3012 1012 1996 2460 3437 2003 2008 3811 1011 28749 2951 5107 22318 3685 2022 2589 2478 3853 10236 7347 2013 1996 1005 17779 1005 1998 1005 1043 21600 10994 2475 1005 14555 1012 1996 3800 1997 1037 3853 10236 4842 2003 2000 2202 2070 1997 1996 6567 2041 1997 2115 2398 1010 2061 2017 2097 2467 2022 3132 2000 1996 6567 2761 18035 2011 1996 3853 3642 2099 1012 1045 3811 16755 3071 4553 1996 1005 17779 1005 2030 1005 1043 21600 10994 2475 1005 14555 1010 2021 2122 14555 2024 2062 6179 2005 2951 8993 2084 2005 2108 5541 2007 2951 5107 22318 1012 2023 3437 2003 2005 2216 2040 2215 2000 3443 1037 28749 5107 1012 1996 2206 2832 2089 2202 2431 1037 2154 1010 2021 2008 2003 6022 2625 2051 2084 2009 2052 2202 2000 20578 1996 1005 17779 1005 2030 1005 1043 21600 10994 2475 1005 14555 2046 1996 4338 2017 2215 1012 2023 3475 1005 1056 1037 102\n"
     ]
    },
    {
     "name": "stderr",
     "output_type": "stream",
     "text": [
      "11/21/2019 09:21:44 - INFO - bert -   input_mask: 1 1 1 1 1 1 1 1 1 1 1 1 1 1 1 1 1 1 1 1 1 1 1 1 1 1 1 1 1 1 1 1 1 1 1 1 1 1 1 1 1 1 1 1 1 1 1 1 1 1 1 1 1 1 1 1 1 1 1 1 1 1 1 1 1 1 1 1 1 1 1 1 1 1 1 1 1 1 1 1 1 1 1 1 1 1 1 1 1 1 1 1 1 1 1 1 1 1 1 1 1 1 1 1 1 1 1 1 1 1 1 1 1 1 1 1 1 1 1 1 1 1 1 1 1 1 1 1 1 1 1 1 1 1 1 1 1 1 1 1 1 1 1 1 1 1 1 1 1 1 1 1 1 1 1 1 1 1 1 1 1 1 1 1 1 1 1 1 1 1 1 1 1 1 1 1 1 1 1 1 1 1 1 1 1 1 1 1 1 1 1 1 1 1 1 1 1 1 1 1\n",
      "11/21/2019 09:21:44 - INFO - bert -   segment_ids: 0 0 0 0 0 0 0 0 0 0 0 0 0 0 0 0 0 0 1 1 1 1 1 1 1 1 1 1 1 1 1 1 1 1 1 1 1 1 1 1 1 1 1 1 1 1 1 1 1 1 1 1 1 1 1 1 1 1 1 1 1 1 1 1 1 1 1 1 1 1 1 1 1 1 1 1 1 1 1 1 1 1 1 1 1 1 1 1 1 1 1 1 1 1 1 1 1 1 1 1 1 1 1 1 1 1 1 1 1 1 1 1 1 1 1 1 1 1 1 1 1 1 1 1 1 1 1 1 1 1 1 1 1 1 1 1 1 1 1 1 1 1 1 1 1 1 1 1 1 1 1 1 1 1 1 1 1 1 1 1 1 1 1 1 1 1 1 1 1 1 1 1 1 1 1 1 1 1 1 1 1 1 1 1 1 1 1 1 1 1 1 1 1 1 1 1 1 1 1 1\n",
      "11/21/2019 09:21:44 - INFO - bert -   *** Example ***\n",
      "11/21/2019 09:21:44 - INFO - bert -   tokens: [CLS] is there a way to show a “ heat ##ma ##p ” of my data ? [SEP] the authentic ##ode ( t ##m ) times ##tam ##p protocol pre ##dates the time - stamp protocol defined in rfc ##31 ##6 ##1 . however ( and ii ##rc ) there is no direct support for asking a times ##tam ##p built in . net . so you can either : build a ts ##p client to get your times ##tam ##ps ; or pig ##gy ##back the existing free times ##tam ##p servers that are around for code signing . while i would suggest # 1 in most cases ( it ' s a standard and more future proof ) i ' m not sure if there are c # libraries available that supports that today . if you ' re interested in # 2 then i know ( because i ' ve written it ; - ) that the code is available inside mono ( mit . x ##11 licensed ) to support authentic ##ode ( t ##m ) and code signing ( including times ##tam ##ping ) . [SEP]\n",
      "11/21/2019 09:21:44 - INFO - bert -   input_ids: 101 2003 2045 1037 2126 2000 2265 1037 1523 3684 2863 2361 1524 1997 2026 2951 1029 102 1996 14469 10244 1006 1056 2213 1007 2335 15464 2361 8778 3653 27122 1996 2051 1011 11359 8778 4225 1999 14645 21486 2575 2487 1012 2174 1006 1998 2462 11890 1007 2045 2003 2053 3622 2490 2005 4851 1037 2335 15464 2361 2328 1999 1012 5658 1012 2061 2017 2064 2593 1024 3857 1037 24529 2361 7396 2000 2131 2115 2335 15464 4523 1025 2030 10369 6292 5963 1996 4493 2489 2335 15464 2361 14903 2008 2024 2105 2005 3642 6608 1012 2096 1045 2052 6592 1001 1015 1999 2087 3572 1006 2009 1005 1055 1037 3115 1998 2062 2925 6947 1007 1045 1005 1049 2025 2469 2065 2045 2024 1039 1001 8860 2800 2008 6753 2008 2651 1012 2065 2017 1005 2128 4699 1999 1001 1016 2059 1045 2113 1006 2138 1045 1005 2310 2517 2009 1025 1011 1007 2008 1996 3642 2003 2800 2503 18847 1006 10210 1012 1060 14526 7000 1007 2000 2490 14469 10244 1006 1056 2213 1007 1998 3642 6608 1006 2164 2335 15464 4691 1007 1012 102 0 0 0 0 0 0 0 0 0\n",
      "11/21/2019 09:21:44 - INFO - bert -   input_mask: 1 1 1 1 1 1 1 1 1 1 1 1 1 1 1 1 1 1 1 1 1 1 1 1 1 1 1 1 1 1 1 1 1 1 1 1 1 1 1 1 1 1 1 1 1 1 1 1 1 1 1 1 1 1 1 1 1 1 1 1 1 1 1 1 1 1 1 1 1 1 1 1 1 1 1 1 1 1 1 1 1 1 1 1 1 1 1 1 1 1 1 1 1 1 1 1 1 1 1 1 1 1 1 1 1 1 1 1 1 1 1 1 1 1 1 1 1 1 1 1 1 1 1 1 1 1 1 1 1 1 1 1 1 1 1 1 1 1 1 1 1 1 1 1 1 1 1 1 1 1 1 1 1 1 1 1 1 1 1 1 1 1 1 1 1 1 1 1 1 1 1 1 1 1 1 1 1 1 1 1 1 1 1 1 1 1 1 1 1 1 1 0 0 0 0 0 0 0 0 0\n",
      "11/21/2019 09:21:44 - INFO - bert -   segment_ids: 0 0 0 0 0 0 0 0 0 0 0 0 0 0 0 0 0 0 1 1 1 1 1 1 1 1 1 1 1 1 1 1 1 1 1 1 1 1 1 1 1 1 1 1 1 1 1 1 1 1 1 1 1 1 1 1 1 1 1 1 1 1 1 1 1 1 1 1 1 1 1 1 1 1 1 1 1 1 1 1 1 1 1 1 1 1 1 1 1 1 1 1 1 1 1 1 1 1 1 1 1 1 1 1 1 1 1 1 1 1 1 1 1 1 1 1 1 1 1 1 1 1 1 1 1 1 1 1 1 1 1 1 1 1 1 1 1 1 1 1 1 1 1 1 1 1 1 1 1 1 1 1 1 1 1 1 1 1 1 1 1 1 1 1 1 1 1 1 1 1 1 1 1 1 1 1 1 1 1 1 1 1 1 1 1 1 1 1 1 1 1 0 0 0 0 0 0 0 0 0\n",
      "11/21/2019 09:21:48 - INFO - bert -   ***** Running evaluation *****\n",
      "11/21/2019 09:21:48 - INFO - bert -     Num examples = 3110\n",
      "11/21/2019 09:21:48 - INFO - bert -     Batch size = 128\n"
     ]
    },
    {
     "data": {
      "text/html": [
       "\n",
       "    <div>\n",
       "        <style>\n",
       "            /* Turns off some styling */\n",
       "            progress {\n",
       "                /* gets rid of default border in Firefox and Opera. */\n",
       "                border: none;\n",
       "                /* Needs to be in here for Safari polyfill so background images work as expected. */\n",
       "                background-size: auto;\n",
       "            }\n",
       "            .progress-bar-interrupted, .progress-bar-interrupted::-webkit-progress-bar {\n",
       "                background: #F44336;\n",
       "            }\n",
       "        </style>\n",
       "      <progress value='25' class='' max='25', style='width:300px; height:20px; vertical-align: middle;'></progress>\n",
       "      100.00% [25/25 00:19<00:00]\n",
       "    </div>\n",
       "    "
      ],
      "text/plain": [
       "<IPython.core.display.HTML object>"
      ]
     },
     "metadata": {},
     "output_type": "display_data"
    },
    {
     "name": "stderr",
     "output_type": "stream",
     "text": [
      "11/21/2019 09:22:08 - INFO - bert -   *** Example ***\n",
      "11/21/2019 09:22:08 - INFO - bert -   tokens: [CLS] how can i present a picture of a network ? [SEP] points in is zero width , so you need to set the width of dod ##ging : [SEP]\n",
      "11/21/2019 09:22:08 - INFO - bert -   input_ids: 101 2129 2064 1045 2556 1037 3861 1997 1037 2897 1029 102 2685 1999 2003 5717 9381 1010 2061 2017 2342 2000 2275 1996 9381 1997 26489 4726 1024 102 0 0 0 0 0 0 0 0 0 0 0 0 0 0 0 0 0 0 0 0 0 0 0 0 0 0 0 0 0 0 0 0 0 0 0 0 0 0 0 0 0 0 0 0 0 0 0 0 0 0 0 0 0 0 0 0 0 0 0 0 0 0 0 0 0 0 0 0 0 0 0 0 0 0 0 0 0 0 0 0 0 0 0 0 0 0 0 0 0 0 0 0 0 0 0 0 0 0 0 0 0 0 0 0 0 0 0 0 0 0 0 0 0 0 0 0 0 0 0 0 0 0 0 0 0 0 0 0 0 0 0 0 0 0 0 0 0 0 0 0 0 0 0 0 0 0 0 0 0 0 0 0 0 0 0 0 0 0 0 0 0 0 0 0 0 0 0 0 0 0\n",
      "11/21/2019 09:22:08 - INFO - bert -   input_mask: 1 1 1 1 1 1 1 1 1 1 1 1 1 1 1 1 1 1 1 1 1 1 1 1 1 1 1 1 1 1 0 0 0 0 0 0 0 0 0 0 0 0 0 0 0 0 0 0 0 0 0 0 0 0 0 0 0 0 0 0 0 0 0 0 0 0 0 0 0 0 0 0 0 0 0 0 0 0 0 0 0 0 0 0 0 0 0 0 0 0 0 0 0 0 0 0 0 0 0 0 0 0 0 0 0 0 0 0 0 0 0 0 0 0 0 0 0 0 0 0 0 0 0 0 0 0 0 0 0 0 0 0 0 0 0 0 0 0 0 0 0 0 0 0 0 0 0 0 0 0 0 0 0 0 0 0 0 0 0 0 0 0 0 0 0 0 0 0 0 0 0 0 0 0 0 0 0 0 0 0 0 0 0 0 0 0 0 0 0 0 0 0 0 0 0 0 0 0 0 0\n",
      "11/21/2019 09:22:08 - INFO - bert -   segment_ids: 0 0 0 0 0 0 0 0 0 0 0 0 1 1 1 1 1 1 1 1 1 1 1 1 1 1 1 1 1 1 0 0 0 0 0 0 0 0 0 0 0 0 0 0 0 0 0 0 0 0 0 0 0 0 0 0 0 0 0 0 0 0 0 0 0 0 0 0 0 0 0 0 0 0 0 0 0 0 0 0 0 0 0 0 0 0 0 0 0 0 0 0 0 0 0 0 0 0 0 0 0 0 0 0 0 0 0 0 0 0 0 0 0 0 0 0 0 0 0 0 0 0 0 0 0 0 0 0 0 0 0 0 0 0 0 0 0 0 0 0 0 0 0 0 0 0 0 0 0 0 0 0 0 0 0 0 0 0 0 0 0 0 0 0 0 0 0 0 0 0 0 0 0 0 0 0 0 0 0 0 0 0 0 0 0 0 0 0 0 0 0 0 0 0 0 0 0 0 0 0\n",
      "11/21/2019 09:22:08 - INFO - bert -   *** Example ***\n",
      "11/21/2019 09:22:08 - INFO - bert -   tokens: [CLS] how can i present a picture of a network ? [SEP] uno ##con ##v can convert em ##f to pdf and ti ##ff via command - line : for pdf : uno ##con ##v file ##name . em ##f for ti ##ff : uno ##con ##v - f ti ##ff file ##name . em ##f it doesn ' t seem to support ps file export , though . you are still required to install open ##off ##ice . org / libre ##off ##ice because this tool uses them as the back ##end . [SEP]\n",
      "11/21/2019 09:22:08 - INFO - bert -   input_ids: 101 2129 2064 1045 2556 1037 3861 1997 1037 2897 1029 102 27776 8663 2615 2064 10463 7861 2546 2000 11135 1998 14841 4246 3081 3094 1011 2240 1024 2005 11135 1024 27776 8663 2615 5371 18442 1012 7861 2546 2005 14841 4246 1024 27776 8663 2615 1011 1042 14841 4246 5371 18442 1012 7861 2546 2009 2987 1005 1056 4025 2000 2490 8827 5371 9167 1010 2295 1012 2017 2024 2145 3223 2000 16500 2330 7245 6610 1012 8917 1013 21091 7245 6610 2138 2023 6994 3594 2068 2004 1996 2067 10497 1012 102 0 0 0 0 0 0 0 0 0 0 0 0 0 0 0 0 0 0 0 0 0 0 0 0 0 0 0 0 0 0 0 0 0 0 0 0 0 0 0 0 0 0 0 0 0 0 0 0 0 0 0 0 0 0 0 0 0 0 0 0 0 0 0 0 0 0 0 0 0 0 0 0 0 0 0 0 0 0 0 0 0 0 0 0 0 0 0 0 0 0 0 0 0 0 0 0 0 0 0 0 0 0 0 0 0\n",
      "11/21/2019 09:22:08 - INFO - bert -   input_mask: 1 1 1 1 1 1 1 1 1 1 1 1 1 1 1 1 1 1 1 1 1 1 1 1 1 1 1 1 1 1 1 1 1 1 1 1 1 1 1 1 1 1 1 1 1 1 1 1 1 1 1 1 1 1 1 1 1 1 1 1 1 1 1 1 1 1 1 1 1 1 1 1 1 1 1 1 1 1 1 1 1 1 1 1 1 1 1 1 1 1 1 1 1 1 1 0 0 0 0 0 0 0 0 0 0 0 0 0 0 0 0 0 0 0 0 0 0 0 0 0 0 0 0 0 0 0 0 0 0 0 0 0 0 0 0 0 0 0 0 0 0 0 0 0 0 0 0 0 0 0 0 0 0 0 0 0 0 0 0 0 0 0 0 0 0 0 0 0 0 0 0 0 0 0 0 0 0 0 0 0 0 0 0 0 0 0 0 0 0 0 0 0 0 0 0 0 0 0 0 0\n",
      "11/21/2019 09:22:08 - INFO - bert -   segment_ids: 0 0 0 0 0 0 0 0 0 0 0 0 1 1 1 1 1 1 1 1 1 1 1 1 1 1 1 1 1 1 1 1 1 1 1 1 1 1 1 1 1 1 1 1 1 1 1 1 1 1 1 1 1 1 1 1 1 1 1 1 1 1 1 1 1 1 1 1 1 1 1 1 1 1 1 1 1 1 1 1 1 1 1 1 1 1 1 1 1 1 1 1 1 1 1 0 0 0 0 0 0 0 0 0 0 0 0 0 0 0 0 0 0 0 0 0 0 0 0 0 0 0 0 0 0 0 0 0 0 0 0 0 0 0 0 0 0 0 0 0 0 0 0 0 0 0 0 0 0 0 0 0 0 0 0 0 0 0 0 0 0 0 0 0 0 0 0 0 0 0 0 0 0 0 0 0 0 0 0 0 0 0 0 0 0 0 0 0 0 0 0 0 0 0 0 0 0 0 0 0\n",
      "11/21/2019 09:22:08 - INFO - bert -   *** Example ***\n",
      "11/21/2019 09:22:08 - INFO - bert -   tokens: [CLS] how can i present a picture of a network ? [SEP] looking at the source for fl ##ot 0 . 7 , there is not included functionality to highlight lines . however , if you wanted to extend fl ##ot to do what you want . . . fl ##ot has an \" over ##lay \" canvas which it uses to do effects like highlighting . this has the associated context in the source . if you look at the method you can see how highlighting is done for data ##points . you could write a similar method for lines . the function it ##erate ##s over an array of highlight ##able objects - - you would want to extend that to handle \" line \" objects as well . finally you would need to write a method to add / remove lines from the array of highlight ##able objects , analogous to the existing and methods . notice these methods are made public using the lines : [SEP]\n",
      "11/21/2019 09:22:08 - INFO - bert -   input_ids: 101 2129 2064 1045 2556 1037 3861 1997 1037 2897 1029 102 2559 2012 1996 3120 2005 13109 4140 1014 1012 1021 1010 2045 2003 2025 2443 15380 2000 12944 3210 1012 2174 1010 2065 2017 2359 2000 7949 13109 4140 2000 2079 2054 2017 2215 1012 1012 1012 13109 4140 2038 2019 1000 2058 8485 1000 10683 2029 2009 3594 2000 2079 3896 2066 20655 1012 2023 2038 1996 3378 6123 1999 1996 3120 1012 2065 2017 2298 2012 1996 4118 2017 2064 2156 2129 20655 2003 2589 2005 2951 26521 1012 2017 2071 4339 1037 2714 4118 2005 3210 1012 1996 3853 2009 22139 2015 2058 2019 9140 1997 12944 3085 5200 1011 1011 2017 2052 2215 2000 7949 2008 2000 5047 1000 2240 1000 5200 2004 2092 1012 2633 2017 2052 2342 2000 4339 1037 4118 2000 5587 1013 6366 3210 2013 1996 9140 1997 12944 3085 5200 1010 19639 2000 1996 4493 1998 4725 1012 5060 2122 4725 2024 2081 2270 2478 1996 3210 1024 102 0 0 0 0 0 0 0 0 0 0 0 0 0 0 0 0 0 0 0 0 0 0 0 0 0 0 0 0 0 0\n",
      "11/21/2019 09:22:08 - INFO - bert -   input_mask: 1 1 1 1 1 1 1 1 1 1 1 1 1 1 1 1 1 1 1 1 1 1 1 1 1 1 1 1 1 1 1 1 1 1 1 1 1 1 1 1 1 1 1 1 1 1 1 1 1 1 1 1 1 1 1 1 1 1 1 1 1 1 1 1 1 1 1 1 1 1 1 1 1 1 1 1 1 1 1 1 1 1 1 1 1 1 1 1 1 1 1 1 1 1 1 1 1 1 1 1 1 1 1 1 1 1 1 1 1 1 1 1 1 1 1 1 1 1 1 1 1 1 1 1 1 1 1 1 1 1 1 1 1 1 1 1 1 1 1 1 1 1 1 1 1 1 1 1 1 1 1 1 1 1 1 1 1 1 1 1 1 1 1 1 1 1 1 1 1 1 0 0 0 0 0 0 0 0 0 0 0 0 0 0 0 0 0 0 0 0 0 0 0 0 0 0 0 0 0 0\n",
      "11/21/2019 09:22:08 - INFO - bert -   segment_ids: 0 0 0 0 0 0 0 0 0 0 0 0 1 1 1 1 1 1 1 1 1 1 1 1 1 1 1 1 1 1 1 1 1 1 1 1 1 1 1 1 1 1 1 1 1 1 1 1 1 1 1 1 1 1 1 1 1 1 1 1 1 1 1 1 1 1 1 1 1 1 1 1 1 1 1 1 1 1 1 1 1 1 1 1 1 1 1 1 1 1 1 1 1 1 1 1 1 1 1 1 1 1 1 1 1 1 1 1 1 1 1 1 1 1 1 1 1 1 1 1 1 1 1 1 1 1 1 1 1 1 1 1 1 1 1 1 1 1 1 1 1 1 1 1 1 1 1 1 1 1 1 1 1 1 1 1 1 1 1 1 1 1 1 1 1 1 1 1 1 1 0 0 0 0 0 0 0 0 0 0 0 0 0 0 0 0 0 0 0 0 0 0 0 0 0 0 0 0 0 0\n",
      "11/21/2019 09:22:08 - INFO - bert -   *** Example ***\n",
      "11/21/2019 09:22:08 - INFO - bert -   tokens: [CLS] how can i present a picture of a network ? [SEP] this question has been sitting long enough , that it is time to document an answer for poster ##ity . the short answer is that highly - customized data visual ##izations cannot be done using function wrap ##pers from the ' lattice ' and ' g ##gp ##lot ##2 ' packages . the purpose of a function wrap ##per is to take some of the decisions out of your hands , so you will always be limited to the decisions originally envisioned by the function code ##r . i highly recommend everyone learn the ' lattice ' or ' g ##gp ##lot ##2 ' packages , but these packages are more useful for data exploration than for being creative with data visual ##izations . this answer is for those who want to create a customized visual . the following process may take half a day , but that is significantly less time than it would take to hack the ' lattice ' or ' g ##gp ##lot ##2 ' packages into the shape you want . this isn ' t a criticism of either of those packages [SEP]\n",
      "11/21/2019 09:22:08 - INFO - bert -   input_ids: 101 2129 2064 1045 2556 1037 3861 1997 1037 2897 1029 102 2023 3160 2038 2042 3564 2146 2438 1010 2008 2009 2003 2051 2000 6254 2019 3437 2005 13082 3012 1012 1996 2460 3437 2003 2008 3811 1011 28749 2951 5107 22318 3685 2022 2589 2478 3853 10236 7347 2013 1996 1005 17779 1005 1998 1005 1043 21600 10994 2475 1005 14555 1012 1996 3800 1997 1037 3853 10236 4842 2003 2000 2202 2070 1997 1996 6567 2041 1997 2115 2398 1010 2061 2017 2097 2467 2022 3132 2000 1996 6567 2761 18035 2011 1996 3853 3642 2099 1012 1045 3811 16755 3071 4553 1996 1005 17779 1005 2030 1005 1043 21600 10994 2475 1005 14555 1010 2021 2122 14555 2024 2062 6179 2005 2951 8993 2084 2005 2108 5541 2007 2951 5107 22318 1012 2023 3437 2003 2005 2216 2040 2215 2000 3443 1037 28749 5107 1012 1996 2206 2832 2089 2202 2431 1037 2154 1010 2021 2008 2003 6022 2625 2051 2084 2009 2052 2202 2000 20578 1996 1005 17779 1005 2030 1005 1043 21600 10994 2475 1005 14555 2046 1996 4338 2017 2215 1012 2023 3475 1005 1056 1037 6256 1997 2593 1997 2216 14555 102\n"
     ]
    },
    {
     "name": "stderr",
     "output_type": "stream",
     "text": [
      "11/21/2019 09:22:08 - INFO - bert -   input_mask: 1 1 1 1 1 1 1 1 1 1 1 1 1 1 1 1 1 1 1 1 1 1 1 1 1 1 1 1 1 1 1 1 1 1 1 1 1 1 1 1 1 1 1 1 1 1 1 1 1 1 1 1 1 1 1 1 1 1 1 1 1 1 1 1 1 1 1 1 1 1 1 1 1 1 1 1 1 1 1 1 1 1 1 1 1 1 1 1 1 1 1 1 1 1 1 1 1 1 1 1 1 1 1 1 1 1 1 1 1 1 1 1 1 1 1 1 1 1 1 1 1 1 1 1 1 1 1 1 1 1 1 1 1 1 1 1 1 1 1 1 1 1 1 1 1 1 1 1 1 1 1 1 1 1 1 1 1 1 1 1 1 1 1 1 1 1 1 1 1 1 1 1 1 1 1 1 1 1 1 1 1 1 1 1 1 1 1 1 1 1 1 1 1 1 1 1 1 1 1 1\n",
      "11/21/2019 09:22:08 - INFO - bert -   segment_ids: 0 0 0 0 0 0 0 0 0 0 0 0 1 1 1 1 1 1 1 1 1 1 1 1 1 1 1 1 1 1 1 1 1 1 1 1 1 1 1 1 1 1 1 1 1 1 1 1 1 1 1 1 1 1 1 1 1 1 1 1 1 1 1 1 1 1 1 1 1 1 1 1 1 1 1 1 1 1 1 1 1 1 1 1 1 1 1 1 1 1 1 1 1 1 1 1 1 1 1 1 1 1 1 1 1 1 1 1 1 1 1 1 1 1 1 1 1 1 1 1 1 1 1 1 1 1 1 1 1 1 1 1 1 1 1 1 1 1 1 1 1 1 1 1 1 1 1 1 1 1 1 1 1 1 1 1 1 1 1 1 1 1 1 1 1 1 1 1 1 1 1 1 1 1 1 1 1 1 1 1 1 1 1 1 1 1 1 1 1 1 1 1 1 1 1 1 1 1 1 1\n",
      "11/21/2019 09:22:08 - INFO - bert -   *** Example ***\n",
      "11/21/2019 09:22:08 - INFO - bert -   tokens: [CLS] how can i present a picture of a network ? [SEP] the authentic ##ode ( t ##m ) times ##tam ##p protocol pre ##dates the time - stamp protocol defined in rfc ##31 ##6 ##1 . however ( and ii ##rc ) there is no direct support for asking a times ##tam ##p built in . net . so you can either : build a ts ##p client to get your times ##tam ##ps ; or pig ##gy ##back the existing free times ##tam ##p servers that are around for code signing . while i would suggest # 1 in most cases ( it ' s a standard and more future proof ) i ' m not sure if there are c # libraries available that supports that today . if you ' re interested in # 2 then i know ( because i ' ve written it ; - ) that the code is available inside mono ( mit . x ##11 licensed ) to support authentic ##ode ( t ##m ) and code signing ( including times ##tam ##ping ) . [SEP]\n",
      "11/21/2019 09:22:08 - INFO - bert -   input_ids: 101 2129 2064 1045 2556 1037 3861 1997 1037 2897 1029 102 1996 14469 10244 1006 1056 2213 1007 2335 15464 2361 8778 3653 27122 1996 2051 1011 11359 8778 4225 1999 14645 21486 2575 2487 1012 2174 1006 1998 2462 11890 1007 2045 2003 2053 3622 2490 2005 4851 1037 2335 15464 2361 2328 1999 1012 5658 1012 2061 2017 2064 2593 1024 3857 1037 24529 2361 7396 2000 2131 2115 2335 15464 4523 1025 2030 10369 6292 5963 1996 4493 2489 2335 15464 2361 14903 2008 2024 2105 2005 3642 6608 1012 2096 1045 2052 6592 1001 1015 1999 2087 3572 1006 2009 1005 1055 1037 3115 1998 2062 2925 6947 1007 1045 1005 1049 2025 2469 2065 2045 2024 1039 1001 8860 2800 2008 6753 2008 2651 1012 2065 2017 1005 2128 4699 1999 1001 1016 2059 1045 2113 1006 2138 1045 1005 2310 2517 2009 1025 1011 1007 2008 1996 3642 2003 2800 2503 18847 1006 10210 1012 1060 14526 7000 1007 2000 2490 14469 10244 1006 1056 2213 1007 1998 3642 6608 1006 2164 2335 15464 4691 1007 1012 102 0 0 0 0 0 0 0 0 0 0 0 0 0 0 0\n",
      "11/21/2019 09:22:08 - INFO - bert -   input_mask: 1 1 1 1 1 1 1 1 1 1 1 1 1 1 1 1 1 1 1 1 1 1 1 1 1 1 1 1 1 1 1 1 1 1 1 1 1 1 1 1 1 1 1 1 1 1 1 1 1 1 1 1 1 1 1 1 1 1 1 1 1 1 1 1 1 1 1 1 1 1 1 1 1 1 1 1 1 1 1 1 1 1 1 1 1 1 1 1 1 1 1 1 1 1 1 1 1 1 1 1 1 1 1 1 1 1 1 1 1 1 1 1 1 1 1 1 1 1 1 1 1 1 1 1 1 1 1 1 1 1 1 1 1 1 1 1 1 1 1 1 1 1 1 1 1 1 1 1 1 1 1 1 1 1 1 1 1 1 1 1 1 1 1 1 1 1 1 1 1 1 1 1 1 1 1 1 1 1 1 1 1 1 1 1 1 0 0 0 0 0 0 0 0 0 0 0 0 0 0 0\n",
      "11/21/2019 09:22:08 - INFO - bert -   segment_ids: 0 0 0 0 0 0 0 0 0 0 0 0 1 1 1 1 1 1 1 1 1 1 1 1 1 1 1 1 1 1 1 1 1 1 1 1 1 1 1 1 1 1 1 1 1 1 1 1 1 1 1 1 1 1 1 1 1 1 1 1 1 1 1 1 1 1 1 1 1 1 1 1 1 1 1 1 1 1 1 1 1 1 1 1 1 1 1 1 1 1 1 1 1 1 1 1 1 1 1 1 1 1 1 1 1 1 1 1 1 1 1 1 1 1 1 1 1 1 1 1 1 1 1 1 1 1 1 1 1 1 1 1 1 1 1 1 1 1 1 1 1 1 1 1 1 1 1 1 1 1 1 1 1 1 1 1 1 1 1 1 1 1 1 1 1 1 1 1 1 1 1 1 1 1 1 1 1 1 1 1 1 1 1 1 1 0 0 0 0 0 0 0 0 0 0 0 0 0 0 0\n",
      "11/21/2019 09:22:12 - INFO - bert -   ***** Running evaluation *****\n",
      "11/21/2019 09:22:12 - INFO - bert -     Num examples = 3110\n",
      "11/21/2019 09:22:12 - INFO - bert -     Batch size = 128\n"
     ]
    },
    {
     "data": {
      "text/html": [
       "\n",
       "    <div>\n",
       "        <style>\n",
       "            /* Turns off some styling */\n",
       "            progress {\n",
       "                /* gets rid of default border in Firefox and Opera. */\n",
       "                border: none;\n",
       "                /* Needs to be in here for Safari polyfill so background images work as expected. */\n",
       "                background-size: auto;\n",
       "            }\n",
       "            .progress-bar-interrupted, .progress-bar-interrupted::-webkit-progress-bar {\n",
       "                background: #F44336;\n",
       "            }\n",
       "        </style>\n",
       "      <progress value='25' class='' max='25', style='width:300px; height:20px; vertical-align: middle;'></progress>\n",
       "      100.00% [25/25 00:19<00:00]\n",
       "    </div>\n",
       "    "
      ],
      "text/plain": [
       "<IPython.core.display.HTML object>"
      ]
     },
     "metadata": {},
     "output_type": "display_data"
    },
    {
     "name": "stderr",
     "output_type": "stream",
     "text": [
      "11/21/2019 09:22:32 - INFO - bert -   *** Example ***\n",
      "11/21/2019 09:22:32 - INFO - bert -   tokens: [CLS] how can i plot a comparison of two data sets ? [SEP] points in is zero width , so you need to set the width of dod ##ging : [SEP]\n",
      "11/21/2019 09:22:32 - INFO - bert -   input_ids: 101 2129 2064 1045 5436 1037 7831 1997 2048 2951 4520 1029 102 2685 1999 2003 5717 9381 1010 2061 2017 2342 2000 2275 1996 9381 1997 26489 4726 1024 102 0 0 0 0 0 0 0 0 0 0 0 0 0 0 0 0 0 0 0 0 0 0 0 0 0 0 0 0 0 0 0 0 0 0 0 0 0 0 0 0 0 0 0 0 0 0 0 0 0 0 0 0 0 0 0 0 0 0 0 0 0 0 0 0 0 0 0 0 0 0 0 0 0 0 0 0 0 0 0 0 0 0 0 0 0 0 0 0 0 0 0 0 0 0 0 0 0 0 0 0 0 0 0 0 0 0 0 0 0 0 0 0 0 0 0 0 0 0 0 0 0 0 0 0 0 0 0 0 0 0 0 0 0 0 0 0 0 0 0 0 0 0 0 0 0 0 0 0 0 0 0 0 0 0 0 0 0 0 0 0 0 0 0 0 0 0 0 0 0\n",
      "11/21/2019 09:22:32 - INFO - bert -   input_mask: 1 1 1 1 1 1 1 1 1 1 1 1 1 1 1 1 1 1 1 1 1 1 1 1 1 1 1 1 1 1 1 0 0 0 0 0 0 0 0 0 0 0 0 0 0 0 0 0 0 0 0 0 0 0 0 0 0 0 0 0 0 0 0 0 0 0 0 0 0 0 0 0 0 0 0 0 0 0 0 0 0 0 0 0 0 0 0 0 0 0 0 0 0 0 0 0 0 0 0 0 0 0 0 0 0 0 0 0 0 0 0 0 0 0 0 0 0 0 0 0 0 0 0 0 0 0 0 0 0 0 0 0 0 0 0 0 0 0 0 0 0 0 0 0 0 0 0 0 0 0 0 0 0 0 0 0 0 0 0 0 0 0 0 0 0 0 0 0 0 0 0 0 0 0 0 0 0 0 0 0 0 0 0 0 0 0 0 0 0 0 0 0 0 0 0 0 0 0 0 0\n",
      "11/21/2019 09:22:32 - INFO - bert -   segment_ids: 0 0 0 0 0 0 0 0 0 0 0 0 0 1 1 1 1 1 1 1 1 1 1 1 1 1 1 1 1 1 1 0 0 0 0 0 0 0 0 0 0 0 0 0 0 0 0 0 0 0 0 0 0 0 0 0 0 0 0 0 0 0 0 0 0 0 0 0 0 0 0 0 0 0 0 0 0 0 0 0 0 0 0 0 0 0 0 0 0 0 0 0 0 0 0 0 0 0 0 0 0 0 0 0 0 0 0 0 0 0 0 0 0 0 0 0 0 0 0 0 0 0 0 0 0 0 0 0 0 0 0 0 0 0 0 0 0 0 0 0 0 0 0 0 0 0 0 0 0 0 0 0 0 0 0 0 0 0 0 0 0 0 0 0 0 0 0 0 0 0 0 0 0 0 0 0 0 0 0 0 0 0 0 0 0 0 0 0 0 0 0 0 0 0 0 0 0 0 0 0\n",
      "11/21/2019 09:22:32 - INFO - bert -   *** Example ***\n",
      "11/21/2019 09:22:32 - INFO - bert -   tokens: [CLS] how can i plot a comparison of two data sets ? [SEP] uno ##con ##v can convert em ##f to pdf and ti ##ff via command - line : for pdf : uno ##con ##v file ##name . em ##f for ti ##ff : uno ##con ##v - f ti ##ff file ##name . em ##f it doesn ' t seem to support ps file export , though . you are still required to install open ##off ##ice . org / libre ##off ##ice because this tool uses them as the back ##end . [SEP]\n",
      "11/21/2019 09:22:32 - INFO - bert -   input_ids: 101 2129 2064 1045 5436 1037 7831 1997 2048 2951 4520 1029 102 27776 8663 2615 2064 10463 7861 2546 2000 11135 1998 14841 4246 3081 3094 1011 2240 1024 2005 11135 1024 27776 8663 2615 5371 18442 1012 7861 2546 2005 14841 4246 1024 27776 8663 2615 1011 1042 14841 4246 5371 18442 1012 7861 2546 2009 2987 1005 1056 4025 2000 2490 8827 5371 9167 1010 2295 1012 2017 2024 2145 3223 2000 16500 2330 7245 6610 1012 8917 1013 21091 7245 6610 2138 2023 6994 3594 2068 2004 1996 2067 10497 1012 102 0 0 0 0 0 0 0 0 0 0 0 0 0 0 0 0 0 0 0 0 0 0 0 0 0 0 0 0 0 0 0 0 0 0 0 0 0 0 0 0 0 0 0 0 0 0 0 0 0 0 0 0 0 0 0 0 0 0 0 0 0 0 0 0 0 0 0 0 0 0 0 0 0 0 0 0 0 0 0 0 0 0 0 0 0 0 0 0 0 0 0 0 0 0 0 0 0 0 0 0 0 0 0 0\n",
      "11/21/2019 09:22:32 - INFO - bert -   input_mask: 1 1 1 1 1 1 1 1 1 1 1 1 1 1 1 1 1 1 1 1 1 1 1 1 1 1 1 1 1 1 1 1 1 1 1 1 1 1 1 1 1 1 1 1 1 1 1 1 1 1 1 1 1 1 1 1 1 1 1 1 1 1 1 1 1 1 1 1 1 1 1 1 1 1 1 1 1 1 1 1 1 1 1 1 1 1 1 1 1 1 1 1 1 1 1 1 0 0 0 0 0 0 0 0 0 0 0 0 0 0 0 0 0 0 0 0 0 0 0 0 0 0 0 0 0 0 0 0 0 0 0 0 0 0 0 0 0 0 0 0 0 0 0 0 0 0 0 0 0 0 0 0 0 0 0 0 0 0 0 0 0 0 0 0 0 0 0 0 0 0 0 0 0 0 0 0 0 0 0 0 0 0 0 0 0 0 0 0 0 0 0 0 0 0 0 0 0 0 0 0\n",
      "11/21/2019 09:22:32 - INFO - bert -   segment_ids: 0 0 0 0 0 0 0 0 0 0 0 0 0 1 1 1 1 1 1 1 1 1 1 1 1 1 1 1 1 1 1 1 1 1 1 1 1 1 1 1 1 1 1 1 1 1 1 1 1 1 1 1 1 1 1 1 1 1 1 1 1 1 1 1 1 1 1 1 1 1 1 1 1 1 1 1 1 1 1 1 1 1 1 1 1 1 1 1 1 1 1 1 1 1 1 1 0 0 0 0 0 0 0 0 0 0 0 0 0 0 0 0 0 0 0 0 0 0 0 0 0 0 0 0 0 0 0 0 0 0 0 0 0 0 0 0 0 0 0 0 0 0 0 0 0 0 0 0 0 0 0 0 0 0 0 0 0 0 0 0 0 0 0 0 0 0 0 0 0 0 0 0 0 0 0 0 0 0 0 0 0 0 0 0 0 0 0 0 0 0 0 0 0 0 0 0 0 0 0 0\n",
      "11/21/2019 09:22:32 - INFO - bert -   *** Example ***\n",
      "11/21/2019 09:22:32 - INFO - bert -   tokens: [CLS] how can i plot a comparison of two data sets ? [SEP] looking at the source for fl ##ot 0 . 7 , there is not included functionality to highlight lines . however , if you wanted to extend fl ##ot to do what you want . . . fl ##ot has an \" over ##lay \" canvas which it uses to do effects like highlighting . this has the associated context in the source . if you look at the method you can see how highlighting is done for data ##points . you could write a similar method for lines . the function it ##erate ##s over an array of highlight ##able objects - - you would want to extend that to handle \" line \" objects as well . finally you would need to write a method to add / remove lines from the array of highlight ##able objects , analogous to the existing and methods . notice these methods are made public using the lines : [SEP]\n",
      "11/21/2019 09:22:32 - INFO - bert -   input_ids: 101 2129 2064 1045 5436 1037 7831 1997 2048 2951 4520 1029 102 2559 2012 1996 3120 2005 13109 4140 1014 1012 1021 1010 2045 2003 2025 2443 15380 2000 12944 3210 1012 2174 1010 2065 2017 2359 2000 7949 13109 4140 2000 2079 2054 2017 2215 1012 1012 1012 13109 4140 2038 2019 1000 2058 8485 1000 10683 2029 2009 3594 2000 2079 3896 2066 20655 1012 2023 2038 1996 3378 6123 1999 1996 3120 1012 2065 2017 2298 2012 1996 4118 2017 2064 2156 2129 20655 2003 2589 2005 2951 26521 1012 2017 2071 4339 1037 2714 4118 2005 3210 1012 1996 3853 2009 22139 2015 2058 2019 9140 1997 12944 3085 5200 1011 1011 2017 2052 2215 2000 7949 2008 2000 5047 1000 2240 1000 5200 2004 2092 1012 2633 2017 2052 2342 2000 4339 1037 4118 2000 5587 1013 6366 3210 2013 1996 9140 1997 12944 3085 5200 1010 19639 2000 1996 4493 1998 4725 1012 5060 2122 4725 2024 2081 2270 2478 1996 3210 1024 102 0 0 0 0 0 0 0 0 0 0 0 0 0 0 0 0 0 0 0 0 0 0 0 0 0 0 0 0 0\n",
      "11/21/2019 09:22:32 - INFO - bert -   input_mask: 1 1 1 1 1 1 1 1 1 1 1 1 1 1 1 1 1 1 1 1 1 1 1 1 1 1 1 1 1 1 1 1 1 1 1 1 1 1 1 1 1 1 1 1 1 1 1 1 1 1 1 1 1 1 1 1 1 1 1 1 1 1 1 1 1 1 1 1 1 1 1 1 1 1 1 1 1 1 1 1 1 1 1 1 1 1 1 1 1 1 1 1 1 1 1 1 1 1 1 1 1 1 1 1 1 1 1 1 1 1 1 1 1 1 1 1 1 1 1 1 1 1 1 1 1 1 1 1 1 1 1 1 1 1 1 1 1 1 1 1 1 1 1 1 1 1 1 1 1 1 1 1 1 1 1 1 1 1 1 1 1 1 1 1 1 1 1 1 1 1 1 0 0 0 0 0 0 0 0 0 0 0 0 0 0 0 0 0 0 0 0 0 0 0 0 0 0 0 0 0\n",
      "11/21/2019 09:22:32 - INFO - bert -   segment_ids: 0 0 0 0 0 0 0 0 0 0 0 0 0 1 1 1 1 1 1 1 1 1 1 1 1 1 1 1 1 1 1 1 1 1 1 1 1 1 1 1 1 1 1 1 1 1 1 1 1 1 1 1 1 1 1 1 1 1 1 1 1 1 1 1 1 1 1 1 1 1 1 1 1 1 1 1 1 1 1 1 1 1 1 1 1 1 1 1 1 1 1 1 1 1 1 1 1 1 1 1 1 1 1 1 1 1 1 1 1 1 1 1 1 1 1 1 1 1 1 1 1 1 1 1 1 1 1 1 1 1 1 1 1 1 1 1 1 1 1 1 1 1 1 1 1 1 1 1 1 1 1 1 1 1 1 1 1 1 1 1 1 1 1 1 1 1 1 1 1 1 1 0 0 0 0 0 0 0 0 0 0 0 0 0 0 0 0 0 0 0 0 0 0 0 0 0 0 0 0 0\n",
      "11/21/2019 09:22:32 - INFO - bert -   *** Example ***\n",
      "11/21/2019 09:22:32 - INFO - bert -   tokens: [CLS] how can i plot a comparison of two data sets ? [SEP] this question has been sitting long enough , that it is time to document an answer for poster ##ity . the short answer is that highly - customized data visual ##izations cannot be done using function wrap ##pers from the ' lattice ' and ' g ##gp ##lot ##2 ' packages . the purpose of a function wrap ##per is to take some of the decisions out of your hands , so you will always be limited to the decisions originally envisioned by the function code ##r . i highly recommend everyone learn the ' lattice ' or ' g ##gp ##lot ##2 ' packages , but these packages are more useful for data exploration than for being creative with data visual ##izations . this answer is for those who want to create a customized visual . the following process may take half a day , but that is significantly less time than it would take to hack the ' lattice ' or ' g ##gp ##lot ##2 ' packages into the shape you want . this isn ' t a criticism of either of those [SEP]\n",
      "11/21/2019 09:22:32 - INFO - bert -   input_ids: 101 2129 2064 1045 5436 1037 7831 1997 2048 2951 4520 1029 102 2023 3160 2038 2042 3564 2146 2438 1010 2008 2009 2003 2051 2000 6254 2019 3437 2005 13082 3012 1012 1996 2460 3437 2003 2008 3811 1011 28749 2951 5107 22318 3685 2022 2589 2478 3853 10236 7347 2013 1996 1005 17779 1005 1998 1005 1043 21600 10994 2475 1005 14555 1012 1996 3800 1997 1037 3853 10236 4842 2003 2000 2202 2070 1997 1996 6567 2041 1997 2115 2398 1010 2061 2017 2097 2467 2022 3132 2000 1996 6567 2761 18035 2011 1996 3853 3642 2099 1012 1045 3811 16755 3071 4553 1996 1005 17779 1005 2030 1005 1043 21600 10994 2475 1005 14555 1010 2021 2122 14555 2024 2062 6179 2005 2951 8993 2084 2005 2108 5541 2007 2951 5107 22318 1012 2023 3437 2003 2005 2216 2040 2215 2000 3443 1037 28749 5107 1012 1996 2206 2832 2089 2202 2431 1037 2154 1010 2021 2008 2003 6022 2625 2051 2084 2009 2052 2202 2000 20578 1996 1005 17779 1005 2030 1005 1043 21600 10994 2475 1005 14555 2046 1996 4338 2017 2215 1012 2023 3475 1005 1056 1037 6256 1997 2593 1997 2216 102\n"
     ]
    },
    {
     "name": "stderr",
     "output_type": "stream",
     "text": [
      "11/21/2019 09:22:32 - INFO - bert -   input_mask: 1 1 1 1 1 1 1 1 1 1 1 1 1 1 1 1 1 1 1 1 1 1 1 1 1 1 1 1 1 1 1 1 1 1 1 1 1 1 1 1 1 1 1 1 1 1 1 1 1 1 1 1 1 1 1 1 1 1 1 1 1 1 1 1 1 1 1 1 1 1 1 1 1 1 1 1 1 1 1 1 1 1 1 1 1 1 1 1 1 1 1 1 1 1 1 1 1 1 1 1 1 1 1 1 1 1 1 1 1 1 1 1 1 1 1 1 1 1 1 1 1 1 1 1 1 1 1 1 1 1 1 1 1 1 1 1 1 1 1 1 1 1 1 1 1 1 1 1 1 1 1 1 1 1 1 1 1 1 1 1 1 1 1 1 1 1 1 1 1 1 1 1 1 1 1 1 1 1 1 1 1 1 1 1 1 1 1 1 1 1 1 1 1 1 1 1 1 1 1 1\n",
      "11/21/2019 09:22:32 - INFO - bert -   segment_ids: 0 0 0 0 0 0 0 0 0 0 0 0 0 1 1 1 1 1 1 1 1 1 1 1 1 1 1 1 1 1 1 1 1 1 1 1 1 1 1 1 1 1 1 1 1 1 1 1 1 1 1 1 1 1 1 1 1 1 1 1 1 1 1 1 1 1 1 1 1 1 1 1 1 1 1 1 1 1 1 1 1 1 1 1 1 1 1 1 1 1 1 1 1 1 1 1 1 1 1 1 1 1 1 1 1 1 1 1 1 1 1 1 1 1 1 1 1 1 1 1 1 1 1 1 1 1 1 1 1 1 1 1 1 1 1 1 1 1 1 1 1 1 1 1 1 1 1 1 1 1 1 1 1 1 1 1 1 1 1 1 1 1 1 1 1 1 1 1 1 1 1 1 1 1 1 1 1 1 1 1 1 1 1 1 1 1 1 1 1 1 1 1 1 1 1 1 1 1 1 1\n",
      "11/21/2019 09:22:32 - INFO - bert -   *** Example ***\n",
      "11/21/2019 09:22:32 - INFO - bert -   tokens: [CLS] how can i plot a comparison of two data sets ? [SEP] the authentic ##ode ( t ##m ) times ##tam ##p protocol pre ##dates the time - stamp protocol defined in rfc ##31 ##6 ##1 . however ( and ii ##rc ) there is no direct support for asking a times ##tam ##p built in . net . so you can either : build a ts ##p client to get your times ##tam ##ps ; or pig ##gy ##back the existing free times ##tam ##p servers that are around for code signing . while i would suggest # 1 in most cases ( it ' s a standard and more future proof ) i ' m not sure if there are c # libraries available that supports that today . if you ' re interested in # 2 then i know ( because i ' ve written it ; - ) that the code is available inside mono ( mit . x ##11 licensed ) to support authentic ##ode ( t ##m ) and code signing ( including times ##tam ##ping ) . [SEP]\n",
      "11/21/2019 09:22:32 - INFO - bert -   input_ids: 101 2129 2064 1045 5436 1037 7831 1997 2048 2951 4520 1029 102 1996 14469 10244 1006 1056 2213 1007 2335 15464 2361 8778 3653 27122 1996 2051 1011 11359 8778 4225 1999 14645 21486 2575 2487 1012 2174 1006 1998 2462 11890 1007 2045 2003 2053 3622 2490 2005 4851 1037 2335 15464 2361 2328 1999 1012 5658 1012 2061 2017 2064 2593 1024 3857 1037 24529 2361 7396 2000 2131 2115 2335 15464 4523 1025 2030 10369 6292 5963 1996 4493 2489 2335 15464 2361 14903 2008 2024 2105 2005 3642 6608 1012 2096 1045 2052 6592 1001 1015 1999 2087 3572 1006 2009 1005 1055 1037 3115 1998 2062 2925 6947 1007 1045 1005 1049 2025 2469 2065 2045 2024 1039 1001 8860 2800 2008 6753 2008 2651 1012 2065 2017 1005 2128 4699 1999 1001 1016 2059 1045 2113 1006 2138 1045 1005 2310 2517 2009 1025 1011 1007 2008 1996 3642 2003 2800 2503 18847 1006 10210 1012 1060 14526 7000 1007 2000 2490 14469 10244 1006 1056 2213 1007 1998 3642 6608 1006 2164 2335 15464 4691 1007 1012 102 0 0 0 0 0 0 0 0 0 0 0 0 0 0\n",
      "11/21/2019 09:22:32 - INFO - bert -   input_mask: 1 1 1 1 1 1 1 1 1 1 1 1 1 1 1 1 1 1 1 1 1 1 1 1 1 1 1 1 1 1 1 1 1 1 1 1 1 1 1 1 1 1 1 1 1 1 1 1 1 1 1 1 1 1 1 1 1 1 1 1 1 1 1 1 1 1 1 1 1 1 1 1 1 1 1 1 1 1 1 1 1 1 1 1 1 1 1 1 1 1 1 1 1 1 1 1 1 1 1 1 1 1 1 1 1 1 1 1 1 1 1 1 1 1 1 1 1 1 1 1 1 1 1 1 1 1 1 1 1 1 1 1 1 1 1 1 1 1 1 1 1 1 1 1 1 1 1 1 1 1 1 1 1 1 1 1 1 1 1 1 1 1 1 1 1 1 1 1 1 1 1 1 1 1 1 1 1 1 1 1 1 1 1 1 1 1 0 0 0 0 0 0 0 0 0 0 0 0 0 0\n",
      "11/21/2019 09:22:32 - INFO - bert -   segment_ids: 0 0 0 0 0 0 0 0 0 0 0 0 0 1 1 1 1 1 1 1 1 1 1 1 1 1 1 1 1 1 1 1 1 1 1 1 1 1 1 1 1 1 1 1 1 1 1 1 1 1 1 1 1 1 1 1 1 1 1 1 1 1 1 1 1 1 1 1 1 1 1 1 1 1 1 1 1 1 1 1 1 1 1 1 1 1 1 1 1 1 1 1 1 1 1 1 1 1 1 1 1 1 1 1 1 1 1 1 1 1 1 1 1 1 1 1 1 1 1 1 1 1 1 1 1 1 1 1 1 1 1 1 1 1 1 1 1 1 1 1 1 1 1 1 1 1 1 1 1 1 1 1 1 1 1 1 1 1 1 1 1 1 1 1 1 1 1 1 1 1 1 1 1 1 1 1 1 1 1 1 1 1 1 1 1 1 0 0 0 0 0 0 0 0 0 0 0 0 0 0\n",
      "11/21/2019 09:22:36 - INFO - bert -   ***** Running evaluation *****\n",
      "11/21/2019 09:22:36 - INFO - bert -     Num examples = 3110\n",
      "11/21/2019 09:22:36 - INFO - bert -     Batch size = 128\n"
     ]
    },
    {
     "data": {
      "text/html": [
       "\n",
       "    <div>\n",
       "        <style>\n",
       "            /* Turns off some styling */\n",
       "            progress {\n",
       "                /* gets rid of default border in Firefox and Opera. */\n",
       "                border: none;\n",
       "                /* Needs to be in here for Safari polyfill so background images work as expected. */\n",
       "                background-size: auto;\n",
       "            }\n",
       "            .progress-bar-interrupted, .progress-bar-interrupted::-webkit-progress-bar {\n",
       "                background: #F44336;\n",
       "            }\n",
       "        </style>\n",
       "      <progress value='25' class='' max='25', style='width:300px; height:20px; vertical-align: middle;'></progress>\n",
       "      100.00% [25/25 00:19<00:00]\n",
       "    </div>\n",
       "    "
      ],
      "text/plain": [
       "<IPython.core.display.HTML object>"
      ]
     },
     "metadata": {},
     "output_type": "display_data"
    },
    {
     "name": "stderr",
     "output_type": "stream",
     "text": [
      "11/21/2019 09:22:55 - INFO - bert -   *** Example ***\n",
      "11/21/2019 09:22:55 - INFO - bert -   tokens: [CLS] how can i create a chart without coding ? [SEP] points in is zero width , so you need to set the width of dod ##ging : [SEP]\n",
      "11/21/2019 09:22:55 - INFO - bert -   input_ids: 101 2129 2064 1045 3443 1037 3673 2302 16861 1029 102 2685 1999 2003 5717 9381 1010 2061 2017 2342 2000 2275 1996 9381 1997 26489 4726 1024 102 0 0 0 0 0 0 0 0 0 0 0 0 0 0 0 0 0 0 0 0 0 0 0 0 0 0 0 0 0 0 0 0 0 0 0 0 0 0 0 0 0 0 0 0 0 0 0 0 0 0 0 0 0 0 0 0 0 0 0 0 0 0 0 0 0 0 0 0 0 0 0 0 0 0 0 0 0 0 0 0 0 0 0 0 0 0 0 0 0 0 0 0 0 0 0 0 0 0 0 0 0 0 0 0 0 0 0 0 0 0 0 0 0 0 0 0 0 0 0 0 0 0 0 0 0 0 0 0 0 0 0 0 0 0 0 0 0 0 0 0 0 0 0 0 0 0 0 0 0 0 0 0 0 0 0 0 0 0 0 0 0 0 0 0 0 0 0 0 0 0 0\n",
      "11/21/2019 09:22:55 - INFO - bert -   input_mask: 1 1 1 1 1 1 1 1 1 1 1 1 1 1 1 1 1 1 1 1 1 1 1 1 1 1 1 1 1 0 0 0 0 0 0 0 0 0 0 0 0 0 0 0 0 0 0 0 0 0 0 0 0 0 0 0 0 0 0 0 0 0 0 0 0 0 0 0 0 0 0 0 0 0 0 0 0 0 0 0 0 0 0 0 0 0 0 0 0 0 0 0 0 0 0 0 0 0 0 0 0 0 0 0 0 0 0 0 0 0 0 0 0 0 0 0 0 0 0 0 0 0 0 0 0 0 0 0 0 0 0 0 0 0 0 0 0 0 0 0 0 0 0 0 0 0 0 0 0 0 0 0 0 0 0 0 0 0 0 0 0 0 0 0 0 0 0 0 0 0 0 0 0 0 0 0 0 0 0 0 0 0 0 0 0 0 0 0 0 0 0 0 0 0 0 0 0 0 0 0\n",
      "11/21/2019 09:22:55 - INFO - bert -   segment_ids: 0 0 0 0 0 0 0 0 0 0 0 1 1 1 1 1 1 1 1 1 1 1 1 1 1 1 1 1 1 0 0 0 0 0 0 0 0 0 0 0 0 0 0 0 0 0 0 0 0 0 0 0 0 0 0 0 0 0 0 0 0 0 0 0 0 0 0 0 0 0 0 0 0 0 0 0 0 0 0 0 0 0 0 0 0 0 0 0 0 0 0 0 0 0 0 0 0 0 0 0 0 0 0 0 0 0 0 0 0 0 0 0 0 0 0 0 0 0 0 0 0 0 0 0 0 0 0 0 0 0 0 0 0 0 0 0 0 0 0 0 0 0 0 0 0 0 0 0 0 0 0 0 0 0 0 0 0 0 0 0 0 0 0 0 0 0 0 0 0 0 0 0 0 0 0 0 0 0 0 0 0 0 0 0 0 0 0 0 0 0 0 0 0 0 0 0 0 0 0 0\n",
      "11/21/2019 09:22:55 - INFO - bert -   *** Example ***\n",
      "11/21/2019 09:22:55 - INFO - bert -   tokens: [CLS] how can i create a chart without coding ? [SEP] uno ##con ##v can convert em ##f to pdf and ti ##ff via command - line : for pdf : uno ##con ##v file ##name . em ##f for ti ##ff : uno ##con ##v - f ti ##ff file ##name . em ##f it doesn ' t seem to support ps file export , though . you are still required to install open ##off ##ice . org / libre ##off ##ice because this tool uses them as the back ##end . [SEP]\n",
      "11/21/2019 09:22:55 - INFO - bert -   input_ids: 101 2129 2064 1045 3443 1037 3673 2302 16861 1029 102 27776 8663 2615 2064 10463 7861 2546 2000 11135 1998 14841 4246 3081 3094 1011 2240 1024 2005 11135 1024 27776 8663 2615 5371 18442 1012 7861 2546 2005 14841 4246 1024 27776 8663 2615 1011 1042 14841 4246 5371 18442 1012 7861 2546 2009 2987 1005 1056 4025 2000 2490 8827 5371 9167 1010 2295 1012 2017 2024 2145 3223 2000 16500 2330 7245 6610 1012 8917 1013 21091 7245 6610 2138 2023 6994 3594 2068 2004 1996 2067 10497 1012 102 0 0 0 0 0 0 0 0 0 0 0 0 0 0 0 0 0 0 0 0 0 0 0 0 0 0 0 0 0 0 0 0 0 0 0 0 0 0 0 0 0 0 0 0 0 0 0 0 0 0 0 0 0 0 0 0 0 0 0 0 0 0 0 0 0 0 0 0 0 0 0 0 0 0 0 0 0 0 0 0 0 0 0 0 0 0 0 0 0 0 0 0 0 0 0 0 0 0 0 0 0 0 0 0 0 0\n",
      "11/21/2019 09:22:55 - INFO - bert -   input_mask: 1 1 1 1 1 1 1 1 1 1 1 1 1 1 1 1 1 1 1 1 1 1 1 1 1 1 1 1 1 1 1 1 1 1 1 1 1 1 1 1 1 1 1 1 1 1 1 1 1 1 1 1 1 1 1 1 1 1 1 1 1 1 1 1 1 1 1 1 1 1 1 1 1 1 1 1 1 1 1 1 1 1 1 1 1 1 1 1 1 1 1 1 1 1 0 0 0 0 0 0 0 0 0 0 0 0 0 0 0 0 0 0 0 0 0 0 0 0 0 0 0 0 0 0 0 0 0 0 0 0 0 0 0 0 0 0 0 0 0 0 0 0 0 0 0 0 0 0 0 0 0 0 0 0 0 0 0 0 0 0 0 0 0 0 0 0 0 0 0 0 0 0 0 0 0 0 0 0 0 0 0 0 0 0 0 0 0 0 0 0 0 0 0 0 0 0 0 0 0 0\n",
      "11/21/2019 09:22:55 - INFO - bert -   segment_ids: 0 0 0 0 0 0 0 0 0 0 0 1 1 1 1 1 1 1 1 1 1 1 1 1 1 1 1 1 1 1 1 1 1 1 1 1 1 1 1 1 1 1 1 1 1 1 1 1 1 1 1 1 1 1 1 1 1 1 1 1 1 1 1 1 1 1 1 1 1 1 1 1 1 1 1 1 1 1 1 1 1 1 1 1 1 1 1 1 1 1 1 1 1 1 0 0 0 0 0 0 0 0 0 0 0 0 0 0 0 0 0 0 0 0 0 0 0 0 0 0 0 0 0 0 0 0 0 0 0 0 0 0 0 0 0 0 0 0 0 0 0 0 0 0 0 0 0 0 0 0 0 0 0 0 0 0 0 0 0 0 0 0 0 0 0 0 0 0 0 0 0 0 0 0 0 0 0 0 0 0 0 0 0 0 0 0 0 0 0 0 0 0 0 0 0 0 0 0 0 0\n",
      "11/21/2019 09:22:55 - INFO - bert -   *** Example ***\n",
      "11/21/2019 09:22:55 - INFO - bert -   tokens: [CLS] how can i create a chart without coding ? [SEP] looking at the source for fl ##ot 0 . 7 , there is not included functionality to highlight lines . however , if you wanted to extend fl ##ot to do what you want . . . fl ##ot has an \" over ##lay \" canvas which it uses to do effects like highlighting . this has the associated context in the source . if you look at the method you can see how highlighting is done for data ##points . you could write a similar method for lines . the function it ##erate ##s over an array of highlight ##able objects - - you would want to extend that to handle \" line \" objects as well . finally you would need to write a method to add / remove lines from the array of highlight ##able objects , analogous to the existing and methods . notice these methods are made public using the lines : [SEP]\n",
      "11/21/2019 09:22:55 - INFO - bert -   input_ids: 101 2129 2064 1045 3443 1037 3673 2302 16861 1029 102 2559 2012 1996 3120 2005 13109 4140 1014 1012 1021 1010 2045 2003 2025 2443 15380 2000 12944 3210 1012 2174 1010 2065 2017 2359 2000 7949 13109 4140 2000 2079 2054 2017 2215 1012 1012 1012 13109 4140 2038 2019 1000 2058 8485 1000 10683 2029 2009 3594 2000 2079 3896 2066 20655 1012 2023 2038 1996 3378 6123 1999 1996 3120 1012 2065 2017 2298 2012 1996 4118 2017 2064 2156 2129 20655 2003 2589 2005 2951 26521 1012 2017 2071 4339 1037 2714 4118 2005 3210 1012 1996 3853 2009 22139 2015 2058 2019 9140 1997 12944 3085 5200 1011 1011 2017 2052 2215 2000 7949 2008 2000 5047 1000 2240 1000 5200 2004 2092 1012 2633 2017 2052 2342 2000 4339 1037 4118 2000 5587 1013 6366 3210 2013 1996 9140 1997 12944 3085 5200 1010 19639 2000 1996 4493 1998 4725 1012 5060 2122 4725 2024 2081 2270 2478 1996 3210 1024 102 0 0 0 0 0 0 0 0 0 0 0 0 0 0 0 0 0 0 0 0 0 0 0 0 0 0 0 0 0 0 0\n",
      "11/21/2019 09:22:55 - INFO - bert -   input_mask: 1 1 1 1 1 1 1 1 1 1 1 1 1 1 1 1 1 1 1 1 1 1 1 1 1 1 1 1 1 1 1 1 1 1 1 1 1 1 1 1 1 1 1 1 1 1 1 1 1 1 1 1 1 1 1 1 1 1 1 1 1 1 1 1 1 1 1 1 1 1 1 1 1 1 1 1 1 1 1 1 1 1 1 1 1 1 1 1 1 1 1 1 1 1 1 1 1 1 1 1 1 1 1 1 1 1 1 1 1 1 1 1 1 1 1 1 1 1 1 1 1 1 1 1 1 1 1 1 1 1 1 1 1 1 1 1 1 1 1 1 1 1 1 1 1 1 1 1 1 1 1 1 1 1 1 1 1 1 1 1 1 1 1 1 1 1 1 1 1 0 0 0 0 0 0 0 0 0 0 0 0 0 0 0 0 0 0 0 0 0 0 0 0 0 0 0 0 0 0 0\n",
      "11/21/2019 09:22:55 - INFO - bert -   segment_ids: 0 0 0 0 0 0 0 0 0 0 0 1 1 1 1 1 1 1 1 1 1 1 1 1 1 1 1 1 1 1 1 1 1 1 1 1 1 1 1 1 1 1 1 1 1 1 1 1 1 1 1 1 1 1 1 1 1 1 1 1 1 1 1 1 1 1 1 1 1 1 1 1 1 1 1 1 1 1 1 1 1 1 1 1 1 1 1 1 1 1 1 1 1 1 1 1 1 1 1 1 1 1 1 1 1 1 1 1 1 1 1 1 1 1 1 1 1 1 1 1 1 1 1 1 1 1 1 1 1 1 1 1 1 1 1 1 1 1 1 1 1 1 1 1 1 1 1 1 1 1 1 1 1 1 1 1 1 1 1 1 1 1 1 1 1 1 1 1 1 0 0 0 0 0 0 0 0 0 0 0 0 0 0 0 0 0 0 0 0 0 0 0 0 0 0 0 0 0 0 0\n",
      "11/21/2019 09:22:55 - INFO - bert -   *** Example ***\n",
      "11/21/2019 09:22:55 - INFO - bert -   tokens: [CLS] how can i create a chart without coding ? [SEP] this question has been sitting long enough , that it is time to document an answer for poster ##ity . the short answer is that highly - customized data visual ##izations cannot be done using function wrap ##pers from the ' lattice ' and ' g ##gp ##lot ##2 ' packages . the purpose of a function wrap ##per is to take some of the decisions out of your hands , so you will always be limited to the decisions originally envisioned by the function code ##r . i highly recommend everyone learn the ' lattice ' or ' g ##gp ##lot ##2 ' packages , but these packages are more useful for data exploration than for being creative with data visual ##izations . this answer is for those who want to create a customized visual . the following process may take half a day , but that is significantly less time than it would take to hack the ' lattice ' or ' g ##gp ##lot ##2 ' packages into the shape you want . this isn ' t a criticism of either of those packages ; [SEP]\n",
      "11/21/2019 09:22:55 - INFO - bert -   input_ids: 101 2129 2064 1045 3443 1037 3673 2302 16861 1029 102 2023 3160 2038 2042 3564 2146 2438 1010 2008 2009 2003 2051 2000 6254 2019 3437 2005 13082 3012 1012 1996 2460 3437 2003 2008 3811 1011 28749 2951 5107 22318 3685 2022 2589 2478 3853 10236 7347 2013 1996 1005 17779 1005 1998 1005 1043 21600 10994 2475 1005 14555 1012 1996 3800 1997 1037 3853 10236 4842 2003 2000 2202 2070 1997 1996 6567 2041 1997 2115 2398 1010 2061 2017 2097 2467 2022 3132 2000 1996 6567 2761 18035 2011 1996 3853 3642 2099 1012 1045 3811 16755 3071 4553 1996 1005 17779 1005 2030 1005 1043 21600 10994 2475 1005 14555 1010 2021 2122 14555 2024 2062 6179 2005 2951 8993 2084 2005 2108 5541 2007 2951 5107 22318 1012 2023 3437 2003 2005 2216 2040 2215 2000 3443 1037 28749 5107 1012 1996 2206 2832 2089 2202 2431 1037 2154 1010 2021 2008 2003 6022 2625 2051 2084 2009 2052 2202 2000 20578 1996 1005 17779 1005 2030 1005 1043 21600 10994 2475 1005 14555 2046 1996 4338 2017 2215 1012 2023 3475 1005 1056 1037 6256 1997 2593 1997 2216 14555 1025 102\n"
     ]
    },
    {
     "name": "stderr",
     "output_type": "stream",
     "text": [
      "11/21/2019 09:22:55 - INFO - bert -   input_mask: 1 1 1 1 1 1 1 1 1 1 1 1 1 1 1 1 1 1 1 1 1 1 1 1 1 1 1 1 1 1 1 1 1 1 1 1 1 1 1 1 1 1 1 1 1 1 1 1 1 1 1 1 1 1 1 1 1 1 1 1 1 1 1 1 1 1 1 1 1 1 1 1 1 1 1 1 1 1 1 1 1 1 1 1 1 1 1 1 1 1 1 1 1 1 1 1 1 1 1 1 1 1 1 1 1 1 1 1 1 1 1 1 1 1 1 1 1 1 1 1 1 1 1 1 1 1 1 1 1 1 1 1 1 1 1 1 1 1 1 1 1 1 1 1 1 1 1 1 1 1 1 1 1 1 1 1 1 1 1 1 1 1 1 1 1 1 1 1 1 1 1 1 1 1 1 1 1 1 1 1 1 1 1 1 1 1 1 1 1 1 1 1 1 1 1 1 1 1 1 1\n",
      "11/21/2019 09:22:55 - INFO - bert -   segment_ids: 0 0 0 0 0 0 0 0 0 0 0 1 1 1 1 1 1 1 1 1 1 1 1 1 1 1 1 1 1 1 1 1 1 1 1 1 1 1 1 1 1 1 1 1 1 1 1 1 1 1 1 1 1 1 1 1 1 1 1 1 1 1 1 1 1 1 1 1 1 1 1 1 1 1 1 1 1 1 1 1 1 1 1 1 1 1 1 1 1 1 1 1 1 1 1 1 1 1 1 1 1 1 1 1 1 1 1 1 1 1 1 1 1 1 1 1 1 1 1 1 1 1 1 1 1 1 1 1 1 1 1 1 1 1 1 1 1 1 1 1 1 1 1 1 1 1 1 1 1 1 1 1 1 1 1 1 1 1 1 1 1 1 1 1 1 1 1 1 1 1 1 1 1 1 1 1 1 1 1 1 1 1 1 1 1 1 1 1 1 1 1 1 1 1 1 1 1 1 1 1\n",
      "11/21/2019 09:22:55 - INFO - bert -   *** Example ***\n",
      "11/21/2019 09:22:55 - INFO - bert -   tokens: [CLS] how can i create a chart without coding ? [SEP] the authentic ##ode ( t ##m ) times ##tam ##p protocol pre ##dates the time - stamp protocol defined in rfc ##31 ##6 ##1 . however ( and ii ##rc ) there is no direct support for asking a times ##tam ##p built in . net . so you can either : build a ts ##p client to get your times ##tam ##ps ; or pig ##gy ##back the existing free times ##tam ##p servers that are around for code signing . while i would suggest # 1 in most cases ( it ' s a standard and more future proof ) i ' m not sure if there are c # libraries available that supports that today . if you ' re interested in # 2 then i know ( because i ' ve written it ; - ) that the code is available inside mono ( mit . x ##11 licensed ) to support authentic ##ode ( t ##m ) and code signing ( including times ##tam ##ping ) . [SEP]\n",
      "11/21/2019 09:22:55 - INFO - bert -   input_ids: 101 2129 2064 1045 3443 1037 3673 2302 16861 1029 102 1996 14469 10244 1006 1056 2213 1007 2335 15464 2361 8778 3653 27122 1996 2051 1011 11359 8778 4225 1999 14645 21486 2575 2487 1012 2174 1006 1998 2462 11890 1007 2045 2003 2053 3622 2490 2005 4851 1037 2335 15464 2361 2328 1999 1012 5658 1012 2061 2017 2064 2593 1024 3857 1037 24529 2361 7396 2000 2131 2115 2335 15464 4523 1025 2030 10369 6292 5963 1996 4493 2489 2335 15464 2361 14903 2008 2024 2105 2005 3642 6608 1012 2096 1045 2052 6592 1001 1015 1999 2087 3572 1006 2009 1005 1055 1037 3115 1998 2062 2925 6947 1007 1045 1005 1049 2025 2469 2065 2045 2024 1039 1001 8860 2800 2008 6753 2008 2651 1012 2065 2017 1005 2128 4699 1999 1001 1016 2059 1045 2113 1006 2138 1045 1005 2310 2517 2009 1025 1011 1007 2008 1996 3642 2003 2800 2503 18847 1006 10210 1012 1060 14526 7000 1007 2000 2490 14469 10244 1006 1056 2213 1007 1998 3642 6608 1006 2164 2335 15464 4691 1007 1012 102 0 0 0 0 0 0 0 0 0 0 0 0 0 0 0 0\n",
      "11/21/2019 09:22:55 - INFO - bert -   input_mask: 1 1 1 1 1 1 1 1 1 1 1 1 1 1 1 1 1 1 1 1 1 1 1 1 1 1 1 1 1 1 1 1 1 1 1 1 1 1 1 1 1 1 1 1 1 1 1 1 1 1 1 1 1 1 1 1 1 1 1 1 1 1 1 1 1 1 1 1 1 1 1 1 1 1 1 1 1 1 1 1 1 1 1 1 1 1 1 1 1 1 1 1 1 1 1 1 1 1 1 1 1 1 1 1 1 1 1 1 1 1 1 1 1 1 1 1 1 1 1 1 1 1 1 1 1 1 1 1 1 1 1 1 1 1 1 1 1 1 1 1 1 1 1 1 1 1 1 1 1 1 1 1 1 1 1 1 1 1 1 1 1 1 1 1 1 1 1 1 1 1 1 1 1 1 1 1 1 1 1 1 1 1 1 1 0 0 0 0 0 0 0 0 0 0 0 0 0 0 0 0\n",
      "11/21/2019 09:22:55 - INFO - bert -   segment_ids: 0 0 0 0 0 0 0 0 0 0 0 1 1 1 1 1 1 1 1 1 1 1 1 1 1 1 1 1 1 1 1 1 1 1 1 1 1 1 1 1 1 1 1 1 1 1 1 1 1 1 1 1 1 1 1 1 1 1 1 1 1 1 1 1 1 1 1 1 1 1 1 1 1 1 1 1 1 1 1 1 1 1 1 1 1 1 1 1 1 1 1 1 1 1 1 1 1 1 1 1 1 1 1 1 1 1 1 1 1 1 1 1 1 1 1 1 1 1 1 1 1 1 1 1 1 1 1 1 1 1 1 1 1 1 1 1 1 1 1 1 1 1 1 1 1 1 1 1 1 1 1 1 1 1 1 1 1 1 1 1 1 1 1 1 1 1 1 1 1 1 1 1 1 1 1 1 1 1 1 1 1 1 1 1 0 0 0 0 0 0 0 0 0 0 0 0 0 0 0 0\n",
      "11/21/2019 09:22:59 - INFO - bert -   ***** Running evaluation *****\n",
      "11/21/2019 09:22:59 - INFO - bert -     Num examples = 3110\n",
      "11/21/2019 09:22:59 - INFO - bert -     Batch size = 128\n"
     ]
    },
    {
     "data": {
      "text/html": [
       "\n",
       "    <div>\n",
       "        <style>\n",
       "            /* Turns off some styling */\n",
       "            progress {\n",
       "                /* gets rid of default border in Firefox and Opera. */\n",
       "                border: none;\n",
       "                /* Needs to be in here for Safari polyfill so background images work as expected. */\n",
       "                background-size: auto;\n",
       "            }\n",
       "            .progress-bar-interrupted, .progress-bar-interrupted::-webkit-progress-bar {\n",
       "                background: #F44336;\n",
       "            }\n",
       "        </style>\n",
       "      <progress value='25' class='' max='25', style='width:300px; height:20px; vertical-align: middle;'></progress>\n",
       "      100.00% [25/25 00:19<00:00]\n",
       "    </div>\n",
       "    "
      ],
      "text/plain": [
       "<IPython.core.display.HTML object>"
      ]
     },
     "metadata": {},
     "output_type": "display_data"
    },
    {
     "name": "stderr",
     "output_type": "stream",
     "text": [
      "11/21/2019 09:23:19 - INFO - bert -   *** Example ***\n",
      "11/21/2019 09:23:19 - INFO - bert -   tokens: [CLS] when should i use a bar chart versus a pie chart ? [SEP] points in is zero width , so you need to set the width of dod ##ging : [SEP]\n",
      "11/21/2019 09:23:19 - INFO - bert -   input_ids: 101 2043 2323 1045 2224 1037 3347 3673 6431 1037 11345 3673 1029 102 2685 1999 2003 5717 9381 1010 2061 2017 2342 2000 2275 1996 9381 1997 26489 4726 1024 102 0 0 0 0 0 0 0 0 0 0 0 0 0 0 0 0 0 0 0 0 0 0 0 0 0 0 0 0 0 0 0 0 0 0 0 0 0 0 0 0 0 0 0 0 0 0 0 0 0 0 0 0 0 0 0 0 0 0 0 0 0 0 0 0 0 0 0 0 0 0 0 0 0 0 0 0 0 0 0 0 0 0 0 0 0 0 0 0 0 0 0 0 0 0 0 0 0 0 0 0 0 0 0 0 0 0 0 0 0 0 0 0 0 0 0 0 0 0 0 0 0 0 0 0 0 0 0 0 0 0 0 0 0 0 0 0 0 0 0 0 0 0 0 0 0 0 0 0 0 0 0 0 0 0 0 0 0 0 0 0 0 0 0 0 0 0 0 0\n",
      "11/21/2019 09:23:19 - INFO - bert -   input_mask: 1 1 1 1 1 1 1 1 1 1 1 1 1 1 1 1 1 1 1 1 1 1 1 1 1 1 1 1 1 1 1 1 0 0 0 0 0 0 0 0 0 0 0 0 0 0 0 0 0 0 0 0 0 0 0 0 0 0 0 0 0 0 0 0 0 0 0 0 0 0 0 0 0 0 0 0 0 0 0 0 0 0 0 0 0 0 0 0 0 0 0 0 0 0 0 0 0 0 0 0 0 0 0 0 0 0 0 0 0 0 0 0 0 0 0 0 0 0 0 0 0 0 0 0 0 0 0 0 0 0 0 0 0 0 0 0 0 0 0 0 0 0 0 0 0 0 0 0 0 0 0 0 0 0 0 0 0 0 0 0 0 0 0 0 0 0 0 0 0 0 0 0 0 0 0 0 0 0 0 0 0 0 0 0 0 0 0 0 0 0 0 0 0 0 0 0 0 0 0 0\n",
      "11/21/2019 09:23:19 - INFO - bert -   segment_ids: 0 0 0 0 0 0 0 0 0 0 0 0 0 0 1 1 1 1 1 1 1 1 1 1 1 1 1 1 1 1 1 1 0 0 0 0 0 0 0 0 0 0 0 0 0 0 0 0 0 0 0 0 0 0 0 0 0 0 0 0 0 0 0 0 0 0 0 0 0 0 0 0 0 0 0 0 0 0 0 0 0 0 0 0 0 0 0 0 0 0 0 0 0 0 0 0 0 0 0 0 0 0 0 0 0 0 0 0 0 0 0 0 0 0 0 0 0 0 0 0 0 0 0 0 0 0 0 0 0 0 0 0 0 0 0 0 0 0 0 0 0 0 0 0 0 0 0 0 0 0 0 0 0 0 0 0 0 0 0 0 0 0 0 0 0 0 0 0 0 0 0 0 0 0 0 0 0 0 0 0 0 0 0 0 0 0 0 0 0 0 0 0 0 0 0 0 0 0 0 0\n",
      "11/21/2019 09:23:19 - INFO - bert -   *** Example ***\n",
      "11/21/2019 09:23:19 - INFO - bert -   tokens: [CLS] when should i use a bar chart versus a pie chart ? [SEP] uno ##con ##v can convert em ##f to pdf and ti ##ff via command - line : for pdf : uno ##con ##v file ##name . em ##f for ti ##ff : uno ##con ##v - f ti ##ff file ##name . em ##f it doesn ' t seem to support ps file export , though . you are still required to install open ##off ##ice . org / libre ##off ##ice because this tool uses them as the back ##end . [SEP]\n",
      "11/21/2019 09:23:19 - INFO - bert -   input_ids: 101 2043 2323 1045 2224 1037 3347 3673 6431 1037 11345 3673 1029 102 27776 8663 2615 2064 10463 7861 2546 2000 11135 1998 14841 4246 3081 3094 1011 2240 1024 2005 11135 1024 27776 8663 2615 5371 18442 1012 7861 2546 2005 14841 4246 1024 27776 8663 2615 1011 1042 14841 4246 5371 18442 1012 7861 2546 2009 2987 1005 1056 4025 2000 2490 8827 5371 9167 1010 2295 1012 2017 2024 2145 3223 2000 16500 2330 7245 6610 1012 8917 1013 21091 7245 6610 2138 2023 6994 3594 2068 2004 1996 2067 10497 1012 102 0 0 0 0 0 0 0 0 0 0 0 0 0 0 0 0 0 0 0 0 0 0 0 0 0 0 0 0 0 0 0 0 0 0 0 0 0 0 0 0 0 0 0 0 0 0 0 0 0 0 0 0 0 0 0 0 0 0 0 0 0 0 0 0 0 0 0 0 0 0 0 0 0 0 0 0 0 0 0 0 0 0 0 0 0 0 0 0 0 0 0 0 0 0 0 0 0 0 0 0 0 0 0\n",
      "11/21/2019 09:23:19 - INFO - bert -   input_mask: 1 1 1 1 1 1 1 1 1 1 1 1 1 1 1 1 1 1 1 1 1 1 1 1 1 1 1 1 1 1 1 1 1 1 1 1 1 1 1 1 1 1 1 1 1 1 1 1 1 1 1 1 1 1 1 1 1 1 1 1 1 1 1 1 1 1 1 1 1 1 1 1 1 1 1 1 1 1 1 1 1 1 1 1 1 1 1 1 1 1 1 1 1 1 1 1 1 0 0 0 0 0 0 0 0 0 0 0 0 0 0 0 0 0 0 0 0 0 0 0 0 0 0 0 0 0 0 0 0 0 0 0 0 0 0 0 0 0 0 0 0 0 0 0 0 0 0 0 0 0 0 0 0 0 0 0 0 0 0 0 0 0 0 0 0 0 0 0 0 0 0 0 0 0 0 0 0 0 0 0 0 0 0 0 0 0 0 0 0 0 0 0 0 0 0 0 0 0 0 0\n",
      "11/21/2019 09:23:19 - INFO - bert -   segment_ids: 0 0 0 0 0 0 0 0 0 0 0 0 0 0 1 1 1 1 1 1 1 1 1 1 1 1 1 1 1 1 1 1 1 1 1 1 1 1 1 1 1 1 1 1 1 1 1 1 1 1 1 1 1 1 1 1 1 1 1 1 1 1 1 1 1 1 1 1 1 1 1 1 1 1 1 1 1 1 1 1 1 1 1 1 1 1 1 1 1 1 1 1 1 1 1 1 1 0 0 0 0 0 0 0 0 0 0 0 0 0 0 0 0 0 0 0 0 0 0 0 0 0 0 0 0 0 0 0 0 0 0 0 0 0 0 0 0 0 0 0 0 0 0 0 0 0 0 0 0 0 0 0 0 0 0 0 0 0 0 0 0 0 0 0 0 0 0 0 0 0 0 0 0 0 0 0 0 0 0 0 0 0 0 0 0 0 0 0 0 0 0 0 0 0 0 0 0 0 0 0\n",
      "11/21/2019 09:23:19 - INFO - bert -   *** Example ***\n",
      "11/21/2019 09:23:19 - INFO - bert -   tokens: [CLS] when should i use a bar chart versus a pie chart ? [SEP] looking at the source for fl ##ot 0 . 7 , there is not included functionality to highlight lines . however , if you wanted to extend fl ##ot to do what you want . . . fl ##ot has an \" over ##lay \" canvas which it uses to do effects like highlighting . this has the associated context in the source . if you look at the method you can see how highlighting is done for data ##points . you could write a similar method for lines . the function it ##erate ##s over an array of highlight ##able objects - - you would want to extend that to handle \" line \" objects as well . finally you would need to write a method to add / remove lines from the array of highlight ##able objects , analogous to the existing and methods . notice these methods are made public using the lines : [SEP]\n",
      "11/21/2019 09:23:19 - INFO - bert -   input_ids: 101 2043 2323 1045 2224 1037 3347 3673 6431 1037 11345 3673 1029 102 2559 2012 1996 3120 2005 13109 4140 1014 1012 1021 1010 2045 2003 2025 2443 15380 2000 12944 3210 1012 2174 1010 2065 2017 2359 2000 7949 13109 4140 2000 2079 2054 2017 2215 1012 1012 1012 13109 4140 2038 2019 1000 2058 8485 1000 10683 2029 2009 3594 2000 2079 3896 2066 20655 1012 2023 2038 1996 3378 6123 1999 1996 3120 1012 2065 2017 2298 2012 1996 4118 2017 2064 2156 2129 20655 2003 2589 2005 2951 26521 1012 2017 2071 4339 1037 2714 4118 2005 3210 1012 1996 3853 2009 22139 2015 2058 2019 9140 1997 12944 3085 5200 1011 1011 2017 2052 2215 2000 7949 2008 2000 5047 1000 2240 1000 5200 2004 2092 1012 2633 2017 2052 2342 2000 4339 1037 4118 2000 5587 1013 6366 3210 2013 1996 9140 1997 12944 3085 5200 1010 19639 2000 1996 4493 1998 4725 1012 5060 2122 4725 2024 2081 2270 2478 1996 3210 1024 102 0 0 0 0 0 0 0 0 0 0 0 0 0 0 0 0 0 0 0 0 0 0 0 0 0 0 0 0\n",
      "11/21/2019 09:23:19 - INFO - bert -   input_mask: 1 1 1 1 1 1 1 1 1 1 1 1 1 1 1 1 1 1 1 1 1 1 1 1 1 1 1 1 1 1 1 1 1 1 1 1 1 1 1 1 1 1 1 1 1 1 1 1 1 1 1 1 1 1 1 1 1 1 1 1 1 1 1 1 1 1 1 1 1 1 1 1 1 1 1 1 1 1 1 1 1 1 1 1 1 1 1 1 1 1 1 1 1 1 1 1 1 1 1 1 1 1 1 1 1 1 1 1 1 1 1 1 1 1 1 1 1 1 1 1 1 1 1 1 1 1 1 1 1 1 1 1 1 1 1 1 1 1 1 1 1 1 1 1 1 1 1 1 1 1 1 1 1 1 1 1 1 1 1 1 1 1 1 1 1 1 1 1 1 1 1 1 0 0 0 0 0 0 0 0 0 0 0 0 0 0 0 0 0 0 0 0 0 0 0 0 0 0 0 0\n",
      "11/21/2019 09:23:19 - INFO - bert -   segment_ids: 0 0 0 0 0 0 0 0 0 0 0 0 0 0 1 1 1 1 1 1 1 1 1 1 1 1 1 1 1 1 1 1 1 1 1 1 1 1 1 1 1 1 1 1 1 1 1 1 1 1 1 1 1 1 1 1 1 1 1 1 1 1 1 1 1 1 1 1 1 1 1 1 1 1 1 1 1 1 1 1 1 1 1 1 1 1 1 1 1 1 1 1 1 1 1 1 1 1 1 1 1 1 1 1 1 1 1 1 1 1 1 1 1 1 1 1 1 1 1 1 1 1 1 1 1 1 1 1 1 1 1 1 1 1 1 1 1 1 1 1 1 1 1 1 1 1 1 1 1 1 1 1 1 1 1 1 1 1 1 1 1 1 1 1 1 1 1 1 1 1 1 1 0 0 0 0 0 0 0 0 0 0 0 0 0 0 0 0 0 0 0 0 0 0 0 0 0 0 0 0\n",
      "11/21/2019 09:23:19 - INFO - bert -   *** Example ***\n",
      "11/21/2019 09:23:19 - INFO - bert -   tokens: [CLS] when should i use a bar chart versus a pie chart ? [SEP] this question has been sitting long enough , that it is time to document an answer for poster ##ity . the short answer is that highly - customized data visual ##izations cannot be done using function wrap ##pers from the ' lattice ' and ' g ##gp ##lot ##2 ' packages . the purpose of a function wrap ##per is to take some of the decisions out of your hands , so you will always be limited to the decisions originally envisioned by the function code ##r . i highly recommend everyone learn the ' lattice ' or ' g ##gp ##lot ##2 ' packages , but these packages are more useful for data exploration than for being creative with data visual ##izations . this answer is for those who want to create a customized visual . the following process may take half a day , but that is significantly less time than it would take to hack the ' lattice ' or ' g ##gp ##lot ##2 ' packages into the shape you want . this isn ' t a criticism of either of [SEP]\n",
      "11/21/2019 09:23:19 - INFO - bert -   input_ids: 101 2043 2323 1045 2224 1037 3347 3673 6431 1037 11345 3673 1029 102 2023 3160 2038 2042 3564 2146 2438 1010 2008 2009 2003 2051 2000 6254 2019 3437 2005 13082 3012 1012 1996 2460 3437 2003 2008 3811 1011 28749 2951 5107 22318 3685 2022 2589 2478 3853 10236 7347 2013 1996 1005 17779 1005 1998 1005 1043 21600 10994 2475 1005 14555 1012 1996 3800 1997 1037 3853 10236 4842 2003 2000 2202 2070 1997 1996 6567 2041 1997 2115 2398 1010 2061 2017 2097 2467 2022 3132 2000 1996 6567 2761 18035 2011 1996 3853 3642 2099 1012 1045 3811 16755 3071 4553 1996 1005 17779 1005 2030 1005 1043 21600 10994 2475 1005 14555 1010 2021 2122 14555 2024 2062 6179 2005 2951 8993 2084 2005 2108 5541 2007 2951 5107 22318 1012 2023 3437 2003 2005 2216 2040 2215 2000 3443 1037 28749 5107 1012 1996 2206 2832 2089 2202 2431 1037 2154 1010 2021 2008 2003 6022 2625 2051 2084 2009 2052 2202 2000 20578 1996 1005 17779 1005 2030 1005 1043 21600 10994 2475 1005 14555 2046 1996 4338 2017 2215 1012 2023 3475 1005 1056 1037 6256 1997 2593 1997 102\n"
     ]
    },
    {
     "name": "stderr",
     "output_type": "stream",
     "text": [
      "11/21/2019 09:23:19 - INFO - bert -   input_mask: 1 1 1 1 1 1 1 1 1 1 1 1 1 1 1 1 1 1 1 1 1 1 1 1 1 1 1 1 1 1 1 1 1 1 1 1 1 1 1 1 1 1 1 1 1 1 1 1 1 1 1 1 1 1 1 1 1 1 1 1 1 1 1 1 1 1 1 1 1 1 1 1 1 1 1 1 1 1 1 1 1 1 1 1 1 1 1 1 1 1 1 1 1 1 1 1 1 1 1 1 1 1 1 1 1 1 1 1 1 1 1 1 1 1 1 1 1 1 1 1 1 1 1 1 1 1 1 1 1 1 1 1 1 1 1 1 1 1 1 1 1 1 1 1 1 1 1 1 1 1 1 1 1 1 1 1 1 1 1 1 1 1 1 1 1 1 1 1 1 1 1 1 1 1 1 1 1 1 1 1 1 1 1 1 1 1 1 1 1 1 1 1 1 1 1 1 1 1 1 1\n",
      "11/21/2019 09:23:19 - INFO - bert -   segment_ids: 0 0 0 0 0 0 0 0 0 0 0 0 0 0 1 1 1 1 1 1 1 1 1 1 1 1 1 1 1 1 1 1 1 1 1 1 1 1 1 1 1 1 1 1 1 1 1 1 1 1 1 1 1 1 1 1 1 1 1 1 1 1 1 1 1 1 1 1 1 1 1 1 1 1 1 1 1 1 1 1 1 1 1 1 1 1 1 1 1 1 1 1 1 1 1 1 1 1 1 1 1 1 1 1 1 1 1 1 1 1 1 1 1 1 1 1 1 1 1 1 1 1 1 1 1 1 1 1 1 1 1 1 1 1 1 1 1 1 1 1 1 1 1 1 1 1 1 1 1 1 1 1 1 1 1 1 1 1 1 1 1 1 1 1 1 1 1 1 1 1 1 1 1 1 1 1 1 1 1 1 1 1 1 1 1 1 1 1 1 1 1 1 1 1 1 1 1 1 1 1\n",
      "11/21/2019 09:23:19 - INFO - bert -   *** Example ***\n",
      "11/21/2019 09:23:19 - INFO - bert -   tokens: [CLS] when should i use a bar chart versus a pie chart ? [SEP] the authentic ##ode ( t ##m ) times ##tam ##p protocol pre ##dates the time - stamp protocol defined in rfc ##31 ##6 ##1 . however ( and ii ##rc ) there is no direct support for asking a times ##tam ##p built in . net . so you can either : build a ts ##p client to get your times ##tam ##ps ; or pig ##gy ##back the existing free times ##tam ##p servers that are around for code signing . while i would suggest # 1 in most cases ( it ' s a standard and more future proof ) i ' m not sure if there are c # libraries available that supports that today . if you ' re interested in # 2 then i know ( because i ' ve written it ; - ) that the code is available inside mono ( mit . x ##11 licensed ) to support authentic ##ode ( t ##m ) and code signing ( including times ##tam ##ping ) . [SEP]\n",
      "11/21/2019 09:23:19 - INFO - bert -   input_ids: 101 2043 2323 1045 2224 1037 3347 3673 6431 1037 11345 3673 1029 102 1996 14469 10244 1006 1056 2213 1007 2335 15464 2361 8778 3653 27122 1996 2051 1011 11359 8778 4225 1999 14645 21486 2575 2487 1012 2174 1006 1998 2462 11890 1007 2045 2003 2053 3622 2490 2005 4851 1037 2335 15464 2361 2328 1999 1012 5658 1012 2061 2017 2064 2593 1024 3857 1037 24529 2361 7396 2000 2131 2115 2335 15464 4523 1025 2030 10369 6292 5963 1996 4493 2489 2335 15464 2361 14903 2008 2024 2105 2005 3642 6608 1012 2096 1045 2052 6592 1001 1015 1999 2087 3572 1006 2009 1005 1055 1037 3115 1998 2062 2925 6947 1007 1045 1005 1049 2025 2469 2065 2045 2024 1039 1001 8860 2800 2008 6753 2008 2651 1012 2065 2017 1005 2128 4699 1999 1001 1016 2059 1045 2113 1006 2138 1045 1005 2310 2517 2009 1025 1011 1007 2008 1996 3642 2003 2800 2503 18847 1006 10210 1012 1060 14526 7000 1007 2000 2490 14469 10244 1006 1056 2213 1007 1998 3642 6608 1006 2164 2335 15464 4691 1007 1012 102 0 0 0 0 0 0 0 0 0 0 0 0 0\n",
      "11/21/2019 09:23:19 - INFO - bert -   input_mask: 1 1 1 1 1 1 1 1 1 1 1 1 1 1 1 1 1 1 1 1 1 1 1 1 1 1 1 1 1 1 1 1 1 1 1 1 1 1 1 1 1 1 1 1 1 1 1 1 1 1 1 1 1 1 1 1 1 1 1 1 1 1 1 1 1 1 1 1 1 1 1 1 1 1 1 1 1 1 1 1 1 1 1 1 1 1 1 1 1 1 1 1 1 1 1 1 1 1 1 1 1 1 1 1 1 1 1 1 1 1 1 1 1 1 1 1 1 1 1 1 1 1 1 1 1 1 1 1 1 1 1 1 1 1 1 1 1 1 1 1 1 1 1 1 1 1 1 1 1 1 1 1 1 1 1 1 1 1 1 1 1 1 1 1 1 1 1 1 1 1 1 1 1 1 1 1 1 1 1 1 1 1 1 1 1 1 1 0 0 0 0 0 0 0 0 0 0 0 0 0\n",
      "11/21/2019 09:23:19 - INFO - bert -   segment_ids: 0 0 0 0 0 0 0 0 0 0 0 0 0 0 1 1 1 1 1 1 1 1 1 1 1 1 1 1 1 1 1 1 1 1 1 1 1 1 1 1 1 1 1 1 1 1 1 1 1 1 1 1 1 1 1 1 1 1 1 1 1 1 1 1 1 1 1 1 1 1 1 1 1 1 1 1 1 1 1 1 1 1 1 1 1 1 1 1 1 1 1 1 1 1 1 1 1 1 1 1 1 1 1 1 1 1 1 1 1 1 1 1 1 1 1 1 1 1 1 1 1 1 1 1 1 1 1 1 1 1 1 1 1 1 1 1 1 1 1 1 1 1 1 1 1 1 1 1 1 1 1 1 1 1 1 1 1 1 1 1 1 1 1 1 1 1 1 1 1 1 1 1 1 1 1 1 1 1 1 1 1 1 1 1 1 1 1 0 0 0 0 0 0 0 0 0 0 0 0 0\n",
      "11/21/2019 09:23:23 - INFO - bert -   ***** Running evaluation *****\n",
      "11/21/2019 09:23:23 - INFO - bert -     Num examples = 3110\n",
      "11/21/2019 09:23:23 - INFO - bert -     Batch size = 128\n"
     ]
    },
    {
     "data": {
      "text/html": [
       "\n",
       "    <div>\n",
       "        <style>\n",
       "            /* Turns off some styling */\n",
       "            progress {\n",
       "                /* gets rid of default border in Firefox and Opera. */\n",
       "                border: none;\n",
       "                /* Needs to be in here for Safari polyfill so background images work as expected. */\n",
       "                background-size: auto;\n",
       "            }\n",
       "            .progress-bar-interrupted, .progress-bar-interrupted::-webkit-progress-bar {\n",
       "                background: #F44336;\n",
       "            }\n",
       "        </style>\n",
       "      <progress value='25' class='' max='25', style='width:300px; height:20px; vertical-align: middle;'></progress>\n",
       "      100.00% [25/25 00:19<00:00]\n",
       "    </div>\n",
       "    "
      ],
      "text/plain": [
       "<IPython.core.display.HTML object>"
      ]
     },
     "metadata": {},
     "output_type": "display_data"
    },
    {
     "name": "stderr",
     "output_type": "stream",
     "text": [
      "11/21/2019 09:23:43 - INFO - bert -   *** Example ***\n",
      "11/21/2019 09:23:43 - INFO - bert -   tokens: [CLS] what is the easiest way to create a diagram of a network ? [SEP] points in is zero width , so you need to set the width of dod ##ging : [SEP]\n",
      "11/21/2019 09:23:43 - INFO - bert -   input_ids: 101 2054 2003 1996 25551 2126 2000 3443 1037 16403 1997 1037 2897 1029 102 2685 1999 2003 5717 9381 1010 2061 2017 2342 2000 2275 1996 9381 1997 26489 4726 1024 102 0 0 0 0 0 0 0 0 0 0 0 0 0 0 0 0 0 0 0 0 0 0 0 0 0 0 0 0 0 0 0 0 0 0 0 0 0 0 0 0 0 0 0 0 0 0 0 0 0 0 0 0 0 0 0 0 0 0 0 0 0 0 0 0 0 0 0 0 0 0 0 0 0 0 0 0 0 0 0 0 0 0 0 0 0 0 0 0 0 0 0 0 0 0 0 0 0 0 0 0 0 0 0 0 0 0 0 0 0 0 0 0 0 0 0 0 0 0 0 0 0 0 0 0 0 0 0 0 0 0 0 0 0 0 0 0 0 0 0 0 0 0 0 0 0 0 0 0 0 0 0 0 0 0 0 0 0 0 0 0 0 0 0 0 0 0 0\n",
      "11/21/2019 09:23:43 - INFO - bert -   input_mask: 1 1 1 1 1 1 1 1 1 1 1 1 1 1 1 1 1 1 1 1 1 1 1 1 1 1 1 1 1 1 1 1 1 0 0 0 0 0 0 0 0 0 0 0 0 0 0 0 0 0 0 0 0 0 0 0 0 0 0 0 0 0 0 0 0 0 0 0 0 0 0 0 0 0 0 0 0 0 0 0 0 0 0 0 0 0 0 0 0 0 0 0 0 0 0 0 0 0 0 0 0 0 0 0 0 0 0 0 0 0 0 0 0 0 0 0 0 0 0 0 0 0 0 0 0 0 0 0 0 0 0 0 0 0 0 0 0 0 0 0 0 0 0 0 0 0 0 0 0 0 0 0 0 0 0 0 0 0 0 0 0 0 0 0 0 0 0 0 0 0 0 0 0 0 0 0 0 0 0 0 0 0 0 0 0 0 0 0 0 0 0 0 0 0 0 0 0 0 0 0\n",
      "11/21/2019 09:23:43 - INFO - bert -   segment_ids: 0 0 0 0 0 0 0 0 0 0 0 0 0 0 0 1 1 1 1 1 1 1 1 1 1 1 1 1 1 1 1 1 1 0 0 0 0 0 0 0 0 0 0 0 0 0 0 0 0 0 0 0 0 0 0 0 0 0 0 0 0 0 0 0 0 0 0 0 0 0 0 0 0 0 0 0 0 0 0 0 0 0 0 0 0 0 0 0 0 0 0 0 0 0 0 0 0 0 0 0 0 0 0 0 0 0 0 0 0 0 0 0 0 0 0 0 0 0 0 0 0 0 0 0 0 0 0 0 0 0 0 0 0 0 0 0 0 0 0 0 0 0 0 0 0 0 0 0 0 0 0 0 0 0 0 0 0 0 0 0 0 0 0 0 0 0 0 0 0 0 0 0 0 0 0 0 0 0 0 0 0 0 0 0 0 0 0 0 0 0 0 0 0 0 0 0 0 0 0 0\n",
      "11/21/2019 09:23:43 - INFO - bert -   *** Example ***\n",
      "11/21/2019 09:23:43 - INFO - bert -   tokens: [CLS] what is the easiest way to create a diagram of a network ? [SEP] uno ##con ##v can convert em ##f to pdf and ti ##ff via command - line : for pdf : uno ##con ##v file ##name . em ##f for ti ##ff : uno ##con ##v - f ti ##ff file ##name . em ##f it doesn ' t seem to support ps file export , though . you are still required to install open ##off ##ice . org / libre ##off ##ice because this tool uses them as the back ##end . [SEP]\n",
      "11/21/2019 09:23:43 - INFO - bert -   input_ids: 101 2054 2003 1996 25551 2126 2000 3443 1037 16403 1997 1037 2897 1029 102 27776 8663 2615 2064 10463 7861 2546 2000 11135 1998 14841 4246 3081 3094 1011 2240 1024 2005 11135 1024 27776 8663 2615 5371 18442 1012 7861 2546 2005 14841 4246 1024 27776 8663 2615 1011 1042 14841 4246 5371 18442 1012 7861 2546 2009 2987 1005 1056 4025 2000 2490 8827 5371 9167 1010 2295 1012 2017 2024 2145 3223 2000 16500 2330 7245 6610 1012 8917 1013 21091 7245 6610 2138 2023 6994 3594 2068 2004 1996 2067 10497 1012 102 0 0 0 0 0 0 0 0 0 0 0 0 0 0 0 0 0 0 0 0 0 0 0 0 0 0 0 0 0 0 0 0 0 0 0 0 0 0 0 0 0 0 0 0 0 0 0 0 0 0 0 0 0 0 0 0 0 0 0 0 0 0 0 0 0 0 0 0 0 0 0 0 0 0 0 0 0 0 0 0 0 0 0 0 0 0 0 0 0 0 0 0 0 0 0 0 0 0 0 0 0 0\n",
      "11/21/2019 09:23:43 - INFO - bert -   input_mask: 1 1 1 1 1 1 1 1 1 1 1 1 1 1 1 1 1 1 1 1 1 1 1 1 1 1 1 1 1 1 1 1 1 1 1 1 1 1 1 1 1 1 1 1 1 1 1 1 1 1 1 1 1 1 1 1 1 1 1 1 1 1 1 1 1 1 1 1 1 1 1 1 1 1 1 1 1 1 1 1 1 1 1 1 1 1 1 1 1 1 1 1 1 1 1 1 1 1 0 0 0 0 0 0 0 0 0 0 0 0 0 0 0 0 0 0 0 0 0 0 0 0 0 0 0 0 0 0 0 0 0 0 0 0 0 0 0 0 0 0 0 0 0 0 0 0 0 0 0 0 0 0 0 0 0 0 0 0 0 0 0 0 0 0 0 0 0 0 0 0 0 0 0 0 0 0 0 0 0 0 0 0 0 0 0 0 0 0 0 0 0 0 0 0 0 0 0 0 0 0\n",
      "11/21/2019 09:23:43 - INFO - bert -   segment_ids: 0 0 0 0 0 0 0 0 0 0 0 0 0 0 0 1 1 1 1 1 1 1 1 1 1 1 1 1 1 1 1 1 1 1 1 1 1 1 1 1 1 1 1 1 1 1 1 1 1 1 1 1 1 1 1 1 1 1 1 1 1 1 1 1 1 1 1 1 1 1 1 1 1 1 1 1 1 1 1 1 1 1 1 1 1 1 1 1 1 1 1 1 1 1 1 1 1 1 0 0 0 0 0 0 0 0 0 0 0 0 0 0 0 0 0 0 0 0 0 0 0 0 0 0 0 0 0 0 0 0 0 0 0 0 0 0 0 0 0 0 0 0 0 0 0 0 0 0 0 0 0 0 0 0 0 0 0 0 0 0 0 0 0 0 0 0 0 0 0 0 0 0 0 0 0 0 0 0 0 0 0 0 0 0 0 0 0 0 0 0 0 0 0 0 0 0 0 0 0 0\n",
      "11/21/2019 09:23:43 - INFO - bert -   *** Example ***\n",
      "11/21/2019 09:23:43 - INFO - bert -   tokens: [CLS] what is the easiest way to create a diagram of a network ? [SEP] looking at the source for fl ##ot 0 . 7 , there is not included functionality to highlight lines . however , if you wanted to extend fl ##ot to do what you want . . . fl ##ot has an \" over ##lay \" canvas which it uses to do effects like highlighting . this has the associated context in the source . if you look at the method you can see how highlighting is done for data ##points . you could write a similar method for lines . the function it ##erate ##s over an array of highlight ##able objects - - you would want to extend that to handle \" line \" objects as well . finally you would need to write a method to add / remove lines from the array of highlight ##able objects , analogous to the existing and methods . notice these methods are made public using the lines : [SEP]\n",
      "11/21/2019 09:23:43 - INFO - bert -   input_ids: 101 2054 2003 1996 25551 2126 2000 3443 1037 16403 1997 1037 2897 1029 102 2559 2012 1996 3120 2005 13109 4140 1014 1012 1021 1010 2045 2003 2025 2443 15380 2000 12944 3210 1012 2174 1010 2065 2017 2359 2000 7949 13109 4140 2000 2079 2054 2017 2215 1012 1012 1012 13109 4140 2038 2019 1000 2058 8485 1000 10683 2029 2009 3594 2000 2079 3896 2066 20655 1012 2023 2038 1996 3378 6123 1999 1996 3120 1012 2065 2017 2298 2012 1996 4118 2017 2064 2156 2129 20655 2003 2589 2005 2951 26521 1012 2017 2071 4339 1037 2714 4118 2005 3210 1012 1996 3853 2009 22139 2015 2058 2019 9140 1997 12944 3085 5200 1011 1011 2017 2052 2215 2000 7949 2008 2000 5047 1000 2240 1000 5200 2004 2092 1012 2633 2017 2052 2342 2000 4339 1037 4118 2000 5587 1013 6366 3210 2013 1996 9140 1997 12944 3085 5200 1010 19639 2000 1996 4493 1998 4725 1012 5060 2122 4725 2024 2081 2270 2478 1996 3210 1024 102 0 0 0 0 0 0 0 0 0 0 0 0 0 0 0 0 0 0 0 0 0 0 0 0 0 0 0\n",
      "11/21/2019 09:23:43 - INFO - bert -   input_mask: 1 1 1 1 1 1 1 1 1 1 1 1 1 1 1 1 1 1 1 1 1 1 1 1 1 1 1 1 1 1 1 1 1 1 1 1 1 1 1 1 1 1 1 1 1 1 1 1 1 1 1 1 1 1 1 1 1 1 1 1 1 1 1 1 1 1 1 1 1 1 1 1 1 1 1 1 1 1 1 1 1 1 1 1 1 1 1 1 1 1 1 1 1 1 1 1 1 1 1 1 1 1 1 1 1 1 1 1 1 1 1 1 1 1 1 1 1 1 1 1 1 1 1 1 1 1 1 1 1 1 1 1 1 1 1 1 1 1 1 1 1 1 1 1 1 1 1 1 1 1 1 1 1 1 1 1 1 1 1 1 1 1 1 1 1 1 1 1 1 1 1 1 1 0 0 0 0 0 0 0 0 0 0 0 0 0 0 0 0 0 0 0 0 0 0 0 0 0 0 0\n",
      "11/21/2019 09:23:43 - INFO - bert -   segment_ids: 0 0 0 0 0 0 0 0 0 0 0 0 0 0 0 1 1 1 1 1 1 1 1 1 1 1 1 1 1 1 1 1 1 1 1 1 1 1 1 1 1 1 1 1 1 1 1 1 1 1 1 1 1 1 1 1 1 1 1 1 1 1 1 1 1 1 1 1 1 1 1 1 1 1 1 1 1 1 1 1 1 1 1 1 1 1 1 1 1 1 1 1 1 1 1 1 1 1 1 1 1 1 1 1 1 1 1 1 1 1 1 1 1 1 1 1 1 1 1 1 1 1 1 1 1 1 1 1 1 1 1 1 1 1 1 1 1 1 1 1 1 1 1 1 1 1 1 1 1 1 1 1 1 1 1 1 1 1 1 1 1 1 1 1 1 1 1 1 1 1 1 1 1 0 0 0 0 0 0 0 0 0 0 0 0 0 0 0 0 0 0 0 0 0 0 0 0 0 0 0\n",
      "11/21/2019 09:23:43 - INFO - bert -   *** Example ***\n",
      "11/21/2019 09:23:43 - INFO - bert -   tokens: [CLS] what is the easiest way to create a diagram of a network ? [SEP] this question has been sitting long enough , that it is time to document an answer for poster ##ity . the short answer is that highly - customized data visual ##izations cannot be done using function wrap ##pers from the ' lattice ' and ' g ##gp ##lot ##2 ' packages . the purpose of a function wrap ##per is to take some of the decisions out of your hands , so you will always be limited to the decisions originally envisioned by the function code ##r . i highly recommend everyone learn the ' lattice ' or ' g ##gp ##lot ##2 ' packages , but these packages are more useful for data exploration than for being creative with data visual ##izations . this answer is for those who want to create a customized visual . the following process may take half a day , but that is significantly less time than it would take to hack the ' lattice ' or ' g ##gp ##lot ##2 ' packages into the shape you want . this isn ' t a criticism of either [SEP]\n",
      "11/21/2019 09:23:43 - INFO - bert -   input_ids: 101 2054 2003 1996 25551 2126 2000 3443 1037 16403 1997 1037 2897 1029 102 2023 3160 2038 2042 3564 2146 2438 1010 2008 2009 2003 2051 2000 6254 2019 3437 2005 13082 3012 1012 1996 2460 3437 2003 2008 3811 1011 28749 2951 5107 22318 3685 2022 2589 2478 3853 10236 7347 2013 1996 1005 17779 1005 1998 1005 1043 21600 10994 2475 1005 14555 1012 1996 3800 1997 1037 3853 10236 4842 2003 2000 2202 2070 1997 1996 6567 2041 1997 2115 2398 1010 2061 2017 2097 2467 2022 3132 2000 1996 6567 2761 18035 2011 1996 3853 3642 2099 1012 1045 3811 16755 3071 4553 1996 1005 17779 1005 2030 1005 1043 21600 10994 2475 1005 14555 1010 2021 2122 14555 2024 2062 6179 2005 2951 8993 2084 2005 2108 5541 2007 2951 5107 22318 1012 2023 3437 2003 2005 2216 2040 2215 2000 3443 1037 28749 5107 1012 1996 2206 2832 2089 2202 2431 1037 2154 1010 2021 2008 2003 6022 2625 2051 2084 2009 2052 2202 2000 20578 1996 1005 17779 1005 2030 1005 1043 21600 10994 2475 1005 14555 2046 1996 4338 2017 2215 1012 2023 3475 1005 1056 1037 6256 1997 2593 102\n"
     ]
    },
    {
     "name": "stderr",
     "output_type": "stream",
     "text": [
      "11/21/2019 09:23:43 - INFO - bert -   input_mask: 1 1 1 1 1 1 1 1 1 1 1 1 1 1 1 1 1 1 1 1 1 1 1 1 1 1 1 1 1 1 1 1 1 1 1 1 1 1 1 1 1 1 1 1 1 1 1 1 1 1 1 1 1 1 1 1 1 1 1 1 1 1 1 1 1 1 1 1 1 1 1 1 1 1 1 1 1 1 1 1 1 1 1 1 1 1 1 1 1 1 1 1 1 1 1 1 1 1 1 1 1 1 1 1 1 1 1 1 1 1 1 1 1 1 1 1 1 1 1 1 1 1 1 1 1 1 1 1 1 1 1 1 1 1 1 1 1 1 1 1 1 1 1 1 1 1 1 1 1 1 1 1 1 1 1 1 1 1 1 1 1 1 1 1 1 1 1 1 1 1 1 1 1 1 1 1 1 1 1 1 1 1 1 1 1 1 1 1 1 1 1 1 1 1 1 1 1 1 1 1\n",
      "11/21/2019 09:23:43 - INFO - bert -   segment_ids: 0 0 0 0 0 0 0 0 0 0 0 0 0 0 0 1 1 1 1 1 1 1 1 1 1 1 1 1 1 1 1 1 1 1 1 1 1 1 1 1 1 1 1 1 1 1 1 1 1 1 1 1 1 1 1 1 1 1 1 1 1 1 1 1 1 1 1 1 1 1 1 1 1 1 1 1 1 1 1 1 1 1 1 1 1 1 1 1 1 1 1 1 1 1 1 1 1 1 1 1 1 1 1 1 1 1 1 1 1 1 1 1 1 1 1 1 1 1 1 1 1 1 1 1 1 1 1 1 1 1 1 1 1 1 1 1 1 1 1 1 1 1 1 1 1 1 1 1 1 1 1 1 1 1 1 1 1 1 1 1 1 1 1 1 1 1 1 1 1 1 1 1 1 1 1 1 1 1 1 1 1 1 1 1 1 1 1 1 1 1 1 1 1 1 1 1 1 1 1 1\n",
      "11/21/2019 09:23:43 - INFO - bert -   *** Example ***\n",
      "11/21/2019 09:23:43 - INFO - bert -   tokens: [CLS] what is the easiest way to create a diagram of a network ? [SEP] the authentic ##ode ( t ##m ) times ##tam ##p protocol pre ##dates the time - stamp protocol defined in rfc ##31 ##6 ##1 . however ( and ii ##rc ) there is no direct support for asking a times ##tam ##p built in . net . so you can either : build a ts ##p client to get your times ##tam ##ps ; or pig ##gy ##back the existing free times ##tam ##p servers that are around for code signing . while i would suggest # 1 in most cases ( it ' s a standard and more future proof ) i ' m not sure if there are c # libraries available that supports that today . if you ' re interested in # 2 then i know ( because i ' ve written it ; - ) that the code is available inside mono ( mit . x ##11 licensed ) to support authentic ##ode ( t ##m ) and code signing ( including times ##tam ##ping ) . [SEP]\n",
      "11/21/2019 09:23:43 - INFO - bert -   input_ids: 101 2054 2003 1996 25551 2126 2000 3443 1037 16403 1997 1037 2897 1029 102 1996 14469 10244 1006 1056 2213 1007 2335 15464 2361 8778 3653 27122 1996 2051 1011 11359 8778 4225 1999 14645 21486 2575 2487 1012 2174 1006 1998 2462 11890 1007 2045 2003 2053 3622 2490 2005 4851 1037 2335 15464 2361 2328 1999 1012 5658 1012 2061 2017 2064 2593 1024 3857 1037 24529 2361 7396 2000 2131 2115 2335 15464 4523 1025 2030 10369 6292 5963 1996 4493 2489 2335 15464 2361 14903 2008 2024 2105 2005 3642 6608 1012 2096 1045 2052 6592 1001 1015 1999 2087 3572 1006 2009 1005 1055 1037 3115 1998 2062 2925 6947 1007 1045 1005 1049 2025 2469 2065 2045 2024 1039 1001 8860 2800 2008 6753 2008 2651 1012 2065 2017 1005 2128 4699 1999 1001 1016 2059 1045 2113 1006 2138 1045 1005 2310 2517 2009 1025 1011 1007 2008 1996 3642 2003 2800 2503 18847 1006 10210 1012 1060 14526 7000 1007 2000 2490 14469 10244 1006 1056 2213 1007 1998 3642 6608 1006 2164 2335 15464 4691 1007 1012 102 0 0 0 0 0 0 0 0 0 0 0 0\n",
      "11/21/2019 09:23:43 - INFO - bert -   input_mask: 1 1 1 1 1 1 1 1 1 1 1 1 1 1 1 1 1 1 1 1 1 1 1 1 1 1 1 1 1 1 1 1 1 1 1 1 1 1 1 1 1 1 1 1 1 1 1 1 1 1 1 1 1 1 1 1 1 1 1 1 1 1 1 1 1 1 1 1 1 1 1 1 1 1 1 1 1 1 1 1 1 1 1 1 1 1 1 1 1 1 1 1 1 1 1 1 1 1 1 1 1 1 1 1 1 1 1 1 1 1 1 1 1 1 1 1 1 1 1 1 1 1 1 1 1 1 1 1 1 1 1 1 1 1 1 1 1 1 1 1 1 1 1 1 1 1 1 1 1 1 1 1 1 1 1 1 1 1 1 1 1 1 1 1 1 1 1 1 1 1 1 1 1 1 1 1 1 1 1 1 1 1 1 1 1 1 1 1 0 0 0 0 0 0 0 0 0 0 0 0\n",
      "11/21/2019 09:23:43 - INFO - bert -   segment_ids: 0 0 0 0 0 0 0 0 0 0 0 0 0 0 0 1 1 1 1 1 1 1 1 1 1 1 1 1 1 1 1 1 1 1 1 1 1 1 1 1 1 1 1 1 1 1 1 1 1 1 1 1 1 1 1 1 1 1 1 1 1 1 1 1 1 1 1 1 1 1 1 1 1 1 1 1 1 1 1 1 1 1 1 1 1 1 1 1 1 1 1 1 1 1 1 1 1 1 1 1 1 1 1 1 1 1 1 1 1 1 1 1 1 1 1 1 1 1 1 1 1 1 1 1 1 1 1 1 1 1 1 1 1 1 1 1 1 1 1 1 1 1 1 1 1 1 1 1 1 1 1 1 1 1 1 1 1 1 1 1 1 1 1 1 1 1 1 1 1 1 1 1 1 1 1 1 1 1 1 1 1 1 1 1 1 1 1 1 0 0 0 0 0 0 0 0 0 0 0 0\n",
      "11/21/2019 09:23:47 - INFO - bert -   ***** Running evaluation *****\n",
      "11/21/2019 09:23:47 - INFO - bert -     Num examples = 3110\n",
      "11/21/2019 09:23:47 - INFO - bert -     Batch size = 128\n"
     ]
    },
    {
     "data": {
      "text/html": [
       "\n",
       "    <div>\n",
       "        <style>\n",
       "            /* Turns off some styling */\n",
       "            progress {\n",
       "                /* gets rid of default border in Firefox and Opera. */\n",
       "                border: none;\n",
       "                /* Needs to be in here for Safari polyfill so background images work as expected. */\n",
       "                background-size: auto;\n",
       "            }\n",
       "            .progress-bar-interrupted, .progress-bar-interrupted::-webkit-progress-bar {\n",
       "                background: #F44336;\n",
       "            }\n",
       "        </style>\n",
       "      <progress value='25' class='' max='25', style='width:300px; height:20px; vertical-align: middle;'></progress>\n",
       "      100.00% [25/25 00:19<00:00]\n",
       "    </div>\n",
       "    "
      ],
      "text/plain": [
       "<IPython.core.display.HTML object>"
      ]
     },
     "metadata": {},
     "output_type": "display_data"
    },
    {
     "name": "stderr",
     "output_type": "stream",
     "text": [
      "11/21/2019 09:24:07 - INFO - bert -   *** Example ***\n",
      "11/21/2019 09:24:07 - INFO - bert -   tokens: [CLS] i need help creating a visual ##ization / diagram / presentation of my data [SEP] points in is zero width , so you need to set the width of dod ##ging : [SEP]\n",
      "11/21/2019 09:24:07 - INFO - bert -   input_ids: 101 1045 2342 2393 4526 1037 5107 3989 1013 16403 1013 8312 1997 2026 2951 102 2685 1999 2003 5717 9381 1010 2061 2017 2342 2000 2275 1996 9381 1997 26489 4726 1024 102 0 0 0 0 0 0 0 0 0 0 0 0 0 0 0 0 0 0 0 0 0 0 0 0 0 0 0 0 0 0 0 0 0 0 0 0 0 0 0 0 0 0 0 0 0 0 0 0 0 0 0 0 0 0 0 0 0 0 0 0 0 0 0 0 0 0 0 0 0 0 0 0 0 0 0 0 0 0 0 0 0 0 0 0 0 0 0 0 0 0 0 0 0 0 0 0 0 0 0 0 0 0 0 0 0 0 0 0 0 0 0 0 0 0 0 0 0 0 0 0 0 0 0 0 0 0 0 0 0 0 0 0 0 0 0 0 0 0 0 0 0 0 0 0 0 0 0 0 0 0 0 0 0 0 0 0 0 0 0 0 0 0 0 0 0 0\n",
      "11/21/2019 09:24:07 - INFO - bert -   input_mask: 1 1 1 1 1 1 1 1 1 1 1 1 1 1 1 1 1 1 1 1 1 1 1 1 1 1 1 1 1 1 1 1 1 1 0 0 0 0 0 0 0 0 0 0 0 0 0 0 0 0 0 0 0 0 0 0 0 0 0 0 0 0 0 0 0 0 0 0 0 0 0 0 0 0 0 0 0 0 0 0 0 0 0 0 0 0 0 0 0 0 0 0 0 0 0 0 0 0 0 0 0 0 0 0 0 0 0 0 0 0 0 0 0 0 0 0 0 0 0 0 0 0 0 0 0 0 0 0 0 0 0 0 0 0 0 0 0 0 0 0 0 0 0 0 0 0 0 0 0 0 0 0 0 0 0 0 0 0 0 0 0 0 0 0 0 0 0 0 0 0 0 0 0 0 0 0 0 0 0 0 0 0 0 0 0 0 0 0 0 0 0 0 0 0 0 0 0 0 0 0\n",
      "11/21/2019 09:24:07 - INFO - bert -   segment_ids: 0 0 0 0 0 0 0 0 0 0 0 0 0 0 0 0 1 1 1 1 1 1 1 1 1 1 1 1 1 1 1 1 1 1 0 0 0 0 0 0 0 0 0 0 0 0 0 0 0 0 0 0 0 0 0 0 0 0 0 0 0 0 0 0 0 0 0 0 0 0 0 0 0 0 0 0 0 0 0 0 0 0 0 0 0 0 0 0 0 0 0 0 0 0 0 0 0 0 0 0 0 0 0 0 0 0 0 0 0 0 0 0 0 0 0 0 0 0 0 0 0 0 0 0 0 0 0 0 0 0 0 0 0 0 0 0 0 0 0 0 0 0 0 0 0 0 0 0 0 0 0 0 0 0 0 0 0 0 0 0 0 0 0 0 0 0 0 0 0 0 0 0 0 0 0 0 0 0 0 0 0 0 0 0 0 0 0 0 0 0 0 0 0 0 0 0 0 0 0 0\n",
      "11/21/2019 09:24:07 - INFO - bert -   *** Example ***\n",
      "11/21/2019 09:24:07 - INFO - bert -   tokens: [CLS] i need help creating a visual ##ization / diagram / presentation of my data [SEP] uno ##con ##v can convert em ##f to pdf and ti ##ff via command - line : for pdf : uno ##con ##v file ##name . em ##f for ti ##ff : uno ##con ##v - f ti ##ff file ##name . em ##f it doesn ' t seem to support ps file export , though . you are still required to install open ##off ##ice . org / libre ##off ##ice because this tool uses them as the back ##end . [SEP]\n",
      "11/21/2019 09:24:07 - INFO - bert -   input_ids: 101 1045 2342 2393 4526 1037 5107 3989 1013 16403 1013 8312 1997 2026 2951 102 27776 8663 2615 2064 10463 7861 2546 2000 11135 1998 14841 4246 3081 3094 1011 2240 1024 2005 11135 1024 27776 8663 2615 5371 18442 1012 7861 2546 2005 14841 4246 1024 27776 8663 2615 1011 1042 14841 4246 5371 18442 1012 7861 2546 2009 2987 1005 1056 4025 2000 2490 8827 5371 9167 1010 2295 1012 2017 2024 2145 3223 2000 16500 2330 7245 6610 1012 8917 1013 21091 7245 6610 2138 2023 6994 3594 2068 2004 1996 2067 10497 1012 102 0 0 0 0 0 0 0 0 0 0 0 0 0 0 0 0 0 0 0 0 0 0 0 0 0 0 0 0 0 0 0 0 0 0 0 0 0 0 0 0 0 0 0 0 0 0 0 0 0 0 0 0 0 0 0 0 0 0 0 0 0 0 0 0 0 0 0 0 0 0 0 0 0 0 0 0 0 0 0 0 0 0 0 0 0 0 0 0 0 0 0 0 0 0 0 0 0 0 0 0 0\n",
      "11/21/2019 09:24:07 - INFO - bert -   input_mask: 1 1 1 1 1 1 1 1 1 1 1 1 1 1 1 1 1 1 1 1 1 1 1 1 1 1 1 1 1 1 1 1 1 1 1 1 1 1 1 1 1 1 1 1 1 1 1 1 1 1 1 1 1 1 1 1 1 1 1 1 1 1 1 1 1 1 1 1 1 1 1 1 1 1 1 1 1 1 1 1 1 1 1 1 1 1 1 1 1 1 1 1 1 1 1 1 1 1 1 0 0 0 0 0 0 0 0 0 0 0 0 0 0 0 0 0 0 0 0 0 0 0 0 0 0 0 0 0 0 0 0 0 0 0 0 0 0 0 0 0 0 0 0 0 0 0 0 0 0 0 0 0 0 0 0 0 0 0 0 0 0 0 0 0 0 0 0 0 0 0 0 0 0 0 0 0 0 0 0 0 0 0 0 0 0 0 0 0 0 0 0 0 0 0 0 0 0 0 0 0\n",
      "11/21/2019 09:24:07 - INFO - bert -   segment_ids: 0 0 0 0 0 0 0 0 0 0 0 0 0 0 0 0 1 1 1 1 1 1 1 1 1 1 1 1 1 1 1 1 1 1 1 1 1 1 1 1 1 1 1 1 1 1 1 1 1 1 1 1 1 1 1 1 1 1 1 1 1 1 1 1 1 1 1 1 1 1 1 1 1 1 1 1 1 1 1 1 1 1 1 1 1 1 1 1 1 1 1 1 1 1 1 1 1 1 1 0 0 0 0 0 0 0 0 0 0 0 0 0 0 0 0 0 0 0 0 0 0 0 0 0 0 0 0 0 0 0 0 0 0 0 0 0 0 0 0 0 0 0 0 0 0 0 0 0 0 0 0 0 0 0 0 0 0 0 0 0 0 0 0 0 0 0 0 0 0 0 0 0 0 0 0 0 0 0 0 0 0 0 0 0 0 0 0 0 0 0 0 0 0 0 0 0 0 0 0 0\n",
      "11/21/2019 09:24:07 - INFO - bert -   *** Example ***\n",
      "11/21/2019 09:24:07 - INFO - bert -   tokens: [CLS] i need help creating a visual ##ization / diagram / presentation of my data [SEP] looking at the source for fl ##ot 0 . 7 , there is not included functionality to highlight lines . however , if you wanted to extend fl ##ot to do what you want . . . fl ##ot has an \" over ##lay \" canvas which it uses to do effects like highlighting . this has the associated context in the source . if you look at the method you can see how highlighting is done for data ##points . you could write a similar method for lines . the function it ##erate ##s over an array of highlight ##able objects - - you would want to extend that to handle \" line \" objects as well . finally you would need to write a method to add / remove lines from the array of highlight ##able objects , analogous to the existing and methods . notice these methods are made public using the lines : [SEP]\n",
      "11/21/2019 09:24:07 - INFO - bert -   input_ids: 101 1045 2342 2393 4526 1037 5107 3989 1013 16403 1013 8312 1997 2026 2951 102 2559 2012 1996 3120 2005 13109 4140 1014 1012 1021 1010 2045 2003 2025 2443 15380 2000 12944 3210 1012 2174 1010 2065 2017 2359 2000 7949 13109 4140 2000 2079 2054 2017 2215 1012 1012 1012 13109 4140 2038 2019 1000 2058 8485 1000 10683 2029 2009 3594 2000 2079 3896 2066 20655 1012 2023 2038 1996 3378 6123 1999 1996 3120 1012 2065 2017 2298 2012 1996 4118 2017 2064 2156 2129 20655 2003 2589 2005 2951 26521 1012 2017 2071 4339 1037 2714 4118 2005 3210 1012 1996 3853 2009 22139 2015 2058 2019 9140 1997 12944 3085 5200 1011 1011 2017 2052 2215 2000 7949 2008 2000 5047 1000 2240 1000 5200 2004 2092 1012 2633 2017 2052 2342 2000 4339 1037 4118 2000 5587 1013 6366 3210 2013 1996 9140 1997 12944 3085 5200 1010 19639 2000 1996 4493 1998 4725 1012 5060 2122 4725 2024 2081 2270 2478 1996 3210 1024 102 0 0 0 0 0 0 0 0 0 0 0 0 0 0 0 0 0 0 0 0 0 0 0 0 0 0\n",
      "11/21/2019 09:24:07 - INFO - bert -   input_mask: 1 1 1 1 1 1 1 1 1 1 1 1 1 1 1 1 1 1 1 1 1 1 1 1 1 1 1 1 1 1 1 1 1 1 1 1 1 1 1 1 1 1 1 1 1 1 1 1 1 1 1 1 1 1 1 1 1 1 1 1 1 1 1 1 1 1 1 1 1 1 1 1 1 1 1 1 1 1 1 1 1 1 1 1 1 1 1 1 1 1 1 1 1 1 1 1 1 1 1 1 1 1 1 1 1 1 1 1 1 1 1 1 1 1 1 1 1 1 1 1 1 1 1 1 1 1 1 1 1 1 1 1 1 1 1 1 1 1 1 1 1 1 1 1 1 1 1 1 1 1 1 1 1 1 1 1 1 1 1 1 1 1 1 1 1 1 1 1 1 1 1 1 1 1 0 0 0 0 0 0 0 0 0 0 0 0 0 0 0 0 0 0 0 0 0 0 0 0 0 0\n",
      "11/21/2019 09:24:07 - INFO - bert -   segment_ids: 0 0 0 0 0 0 0 0 0 0 0 0 0 0 0 0 1 1 1 1 1 1 1 1 1 1 1 1 1 1 1 1 1 1 1 1 1 1 1 1 1 1 1 1 1 1 1 1 1 1 1 1 1 1 1 1 1 1 1 1 1 1 1 1 1 1 1 1 1 1 1 1 1 1 1 1 1 1 1 1 1 1 1 1 1 1 1 1 1 1 1 1 1 1 1 1 1 1 1 1 1 1 1 1 1 1 1 1 1 1 1 1 1 1 1 1 1 1 1 1 1 1 1 1 1 1 1 1 1 1 1 1 1 1 1 1 1 1 1 1 1 1 1 1 1 1 1 1 1 1 1 1 1 1 1 1 1 1 1 1 1 1 1 1 1 1 1 1 1 1 1 1 1 1 0 0 0 0 0 0 0 0 0 0 0 0 0 0 0 0 0 0 0 0 0 0 0 0 0 0\n",
      "11/21/2019 09:24:07 - INFO - bert -   *** Example ***\n",
      "11/21/2019 09:24:07 - INFO - bert -   tokens: [CLS] i need help creating a visual ##ization / diagram / presentation of my data [SEP] this question has been sitting long enough , that it is time to document an answer for poster ##ity . the short answer is that highly - customized data visual ##izations cannot be done using function wrap ##pers from the ' lattice ' and ' g ##gp ##lot ##2 ' packages . the purpose of a function wrap ##per is to take some of the decisions out of your hands , so you will always be limited to the decisions originally envisioned by the function code ##r . i highly recommend everyone learn the ' lattice ' or ' g ##gp ##lot ##2 ' packages , but these packages are more useful for data exploration than for being creative with data visual ##izations . this answer is for those who want to create a customized visual . the following process may take half a day , but that is significantly less time than it would take to hack the ' lattice ' or ' g ##gp ##lot ##2 ' packages into the shape you want . this isn ' t a criticism of [SEP]\n",
      "11/21/2019 09:24:07 - INFO - bert -   input_ids: 101 1045 2342 2393 4526 1037 5107 3989 1013 16403 1013 8312 1997 2026 2951 102 2023 3160 2038 2042 3564 2146 2438 1010 2008 2009 2003 2051 2000 6254 2019 3437 2005 13082 3012 1012 1996 2460 3437 2003 2008 3811 1011 28749 2951 5107 22318 3685 2022 2589 2478 3853 10236 7347 2013 1996 1005 17779 1005 1998 1005 1043 21600 10994 2475 1005 14555 1012 1996 3800 1997 1037 3853 10236 4842 2003 2000 2202 2070 1997 1996 6567 2041 1997 2115 2398 1010 2061 2017 2097 2467 2022 3132 2000 1996 6567 2761 18035 2011 1996 3853 3642 2099 1012 1045 3811 16755 3071 4553 1996 1005 17779 1005 2030 1005 1043 21600 10994 2475 1005 14555 1010 2021 2122 14555 2024 2062 6179 2005 2951 8993 2084 2005 2108 5541 2007 2951 5107 22318 1012 2023 3437 2003 2005 2216 2040 2215 2000 3443 1037 28749 5107 1012 1996 2206 2832 2089 2202 2431 1037 2154 1010 2021 2008 2003 6022 2625 2051 2084 2009 2052 2202 2000 20578 1996 1005 17779 1005 2030 1005 1043 21600 10994 2475 1005 14555 2046 1996 4338 2017 2215 1012 2023 3475 1005 1056 1037 6256 1997 102\n"
     ]
    },
    {
     "name": "stderr",
     "output_type": "stream",
     "text": [
      "11/21/2019 09:24:07 - INFO - bert -   input_mask: 1 1 1 1 1 1 1 1 1 1 1 1 1 1 1 1 1 1 1 1 1 1 1 1 1 1 1 1 1 1 1 1 1 1 1 1 1 1 1 1 1 1 1 1 1 1 1 1 1 1 1 1 1 1 1 1 1 1 1 1 1 1 1 1 1 1 1 1 1 1 1 1 1 1 1 1 1 1 1 1 1 1 1 1 1 1 1 1 1 1 1 1 1 1 1 1 1 1 1 1 1 1 1 1 1 1 1 1 1 1 1 1 1 1 1 1 1 1 1 1 1 1 1 1 1 1 1 1 1 1 1 1 1 1 1 1 1 1 1 1 1 1 1 1 1 1 1 1 1 1 1 1 1 1 1 1 1 1 1 1 1 1 1 1 1 1 1 1 1 1 1 1 1 1 1 1 1 1 1 1 1 1 1 1 1 1 1 1 1 1 1 1 1 1 1 1 1 1 1 1\n",
      "11/21/2019 09:24:07 - INFO - bert -   segment_ids: 0 0 0 0 0 0 0 0 0 0 0 0 0 0 0 0 1 1 1 1 1 1 1 1 1 1 1 1 1 1 1 1 1 1 1 1 1 1 1 1 1 1 1 1 1 1 1 1 1 1 1 1 1 1 1 1 1 1 1 1 1 1 1 1 1 1 1 1 1 1 1 1 1 1 1 1 1 1 1 1 1 1 1 1 1 1 1 1 1 1 1 1 1 1 1 1 1 1 1 1 1 1 1 1 1 1 1 1 1 1 1 1 1 1 1 1 1 1 1 1 1 1 1 1 1 1 1 1 1 1 1 1 1 1 1 1 1 1 1 1 1 1 1 1 1 1 1 1 1 1 1 1 1 1 1 1 1 1 1 1 1 1 1 1 1 1 1 1 1 1 1 1 1 1 1 1 1 1 1 1 1 1 1 1 1 1 1 1 1 1 1 1 1 1 1 1 1 1 1 1\n",
      "11/21/2019 09:24:07 - INFO - bert -   *** Example ***\n",
      "11/21/2019 09:24:07 - INFO - bert -   tokens: [CLS] i need help creating a visual ##ization / diagram / presentation of my data [SEP] the authentic ##ode ( t ##m ) times ##tam ##p protocol pre ##dates the time - stamp protocol defined in rfc ##31 ##6 ##1 . however ( and ii ##rc ) there is no direct support for asking a times ##tam ##p built in . net . so you can either : build a ts ##p client to get your times ##tam ##ps ; or pig ##gy ##back the existing free times ##tam ##p servers that are around for code signing . while i would suggest # 1 in most cases ( it ' s a standard and more future proof ) i ' m not sure if there are c # libraries available that supports that today . if you ' re interested in # 2 then i know ( because i ' ve written it ; - ) that the code is available inside mono ( mit . x ##11 licensed ) to support authentic ##ode ( t ##m ) and code signing ( including times ##tam ##ping ) . [SEP]\n",
      "11/21/2019 09:24:07 - INFO - bert -   input_ids: 101 1045 2342 2393 4526 1037 5107 3989 1013 16403 1013 8312 1997 2026 2951 102 1996 14469 10244 1006 1056 2213 1007 2335 15464 2361 8778 3653 27122 1996 2051 1011 11359 8778 4225 1999 14645 21486 2575 2487 1012 2174 1006 1998 2462 11890 1007 2045 2003 2053 3622 2490 2005 4851 1037 2335 15464 2361 2328 1999 1012 5658 1012 2061 2017 2064 2593 1024 3857 1037 24529 2361 7396 2000 2131 2115 2335 15464 4523 1025 2030 10369 6292 5963 1996 4493 2489 2335 15464 2361 14903 2008 2024 2105 2005 3642 6608 1012 2096 1045 2052 6592 1001 1015 1999 2087 3572 1006 2009 1005 1055 1037 3115 1998 2062 2925 6947 1007 1045 1005 1049 2025 2469 2065 2045 2024 1039 1001 8860 2800 2008 6753 2008 2651 1012 2065 2017 1005 2128 4699 1999 1001 1016 2059 1045 2113 1006 2138 1045 1005 2310 2517 2009 1025 1011 1007 2008 1996 3642 2003 2800 2503 18847 1006 10210 1012 1060 14526 7000 1007 2000 2490 14469 10244 1006 1056 2213 1007 1998 3642 6608 1006 2164 2335 15464 4691 1007 1012 102 0 0 0 0 0 0 0 0 0 0 0\n",
      "11/21/2019 09:24:07 - INFO - bert -   input_mask: 1 1 1 1 1 1 1 1 1 1 1 1 1 1 1 1 1 1 1 1 1 1 1 1 1 1 1 1 1 1 1 1 1 1 1 1 1 1 1 1 1 1 1 1 1 1 1 1 1 1 1 1 1 1 1 1 1 1 1 1 1 1 1 1 1 1 1 1 1 1 1 1 1 1 1 1 1 1 1 1 1 1 1 1 1 1 1 1 1 1 1 1 1 1 1 1 1 1 1 1 1 1 1 1 1 1 1 1 1 1 1 1 1 1 1 1 1 1 1 1 1 1 1 1 1 1 1 1 1 1 1 1 1 1 1 1 1 1 1 1 1 1 1 1 1 1 1 1 1 1 1 1 1 1 1 1 1 1 1 1 1 1 1 1 1 1 1 1 1 1 1 1 1 1 1 1 1 1 1 1 1 1 1 1 1 1 1 1 1 0 0 0 0 0 0 0 0 0 0 0\n",
      "11/21/2019 09:24:07 - INFO - bert -   segment_ids: 0 0 0 0 0 0 0 0 0 0 0 0 0 0 0 0 1 1 1 1 1 1 1 1 1 1 1 1 1 1 1 1 1 1 1 1 1 1 1 1 1 1 1 1 1 1 1 1 1 1 1 1 1 1 1 1 1 1 1 1 1 1 1 1 1 1 1 1 1 1 1 1 1 1 1 1 1 1 1 1 1 1 1 1 1 1 1 1 1 1 1 1 1 1 1 1 1 1 1 1 1 1 1 1 1 1 1 1 1 1 1 1 1 1 1 1 1 1 1 1 1 1 1 1 1 1 1 1 1 1 1 1 1 1 1 1 1 1 1 1 1 1 1 1 1 1 1 1 1 1 1 1 1 1 1 1 1 1 1 1 1 1 1 1 1 1 1 1 1 1 1 1 1 1 1 1 1 1 1 1 1 1 1 1 1 1 1 1 1 0 0 0 0 0 0 0 0 0 0 0\n",
      "11/21/2019 09:24:11 - INFO - bert -   ***** Running evaluation *****\n",
      "11/21/2019 09:24:11 - INFO - bert -     Num examples = 3110\n",
      "11/21/2019 09:24:11 - INFO - bert -     Batch size = 128\n"
     ]
    },
    {
     "data": {
      "text/html": [
       "\n",
       "    <div>\n",
       "        <style>\n",
       "            /* Turns off some styling */\n",
       "            progress {\n",
       "                /* gets rid of default border in Firefox and Opera. */\n",
       "                border: none;\n",
       "                /* Needs to be in here for Safari polyfill so background images work as expected. */\n",
       "                background-size: auto;\n",
       "            }\n",
       "            .progress-bar-interrupted, .progress-bar-interrupted::-webkit-progress-bar {\n",
       "                background: #F44336;\n",
       "            }\n",
       "        </style>\n",
       "      <progress value='25' class='' max='25', style='width:300px; height:20px; vertical-align: middle;'></progress>\n",
       "      100.00% [25/25 00:19<00:00]\n",
       "    </div>\n",
       "    "
      ],
      "text/plain": [
       "<IPython.core.display.HTML object>"
      ]
     },
     "metadata": {},
     "output_type": "display_data"
    },
    {
     "name": "stderr",
     "output_type": "stream",
     "text": [
      "11/21/2019 09:24:31 - INFO - bert -   *** Example ***\n",
      "11/21/2019 09:24:31 - INFO - bert -   tokens: [CLS] when should i use a sc ##atter plot ? [SEP] points in is zero width , so you need to set the width of dod ##ging : [SEP]\n",
      "11/21/2019 09:24:31 - INFO - bert -   input_ids: 101 2043 2323 1045 2224 1037 8040 20097 5436 1029 102 2685 1999 2003 5717 9381 1010 2061 2017 2342 2000 2275 1996 9381 1997 26489 4726 1024 102 0 0 0 0 0 0 0 0 0 0 0 0 0 0 0 0 0 0 0 0 0 0 0 0 0 0 0 0 0 0 0 0 0 0 0 0 0 0 0 0 0 0 0 0 0 0 0 0 0 0 0 0 0 0 0 0 0 0 0 0 0 0 0 0 0 0 0 0 0 0 0 0 0 0 0 0 0 0 0 0 0 0 0 0 0 0 0 0 0 0 0 0 0 0 0 0 0 0 0 0 0 0 0 0 0 0 0 0 0 0 0 0 0 0 0 0 0 0 0 0 0 0 0 0 0 0 0 0 0 0 0 0 0 0 0 0 0 0 0 0 0 0 0 0 0 0 0 0 0 0 0 0 0 0 0 0 0 0 0 0 0 0 0 0 0 0 0 0 0 0 0\n",
      "11/21/2019 09:24:31 - INFO - bert -   input_mask: 1 1 1 1 1 1 1 1 1 1 1 1 1 1 1 1 1 1 1 1 1 1 1 1 1 1 1 1 1 0 0 0 0 0 0 0 0 0 0 0 0 0 0 0 0 0 0 0 0 0 0 0 0 0 0 0 0 0 0 0 0 0 0 0 0 0 0 0 0 0 0 0 0 0 0 0 0 0 0 0 0 0 0 0 0 0 0 0 0 0 0 0 0 0 0 0 0 0 0 0 0 0 0 0 0 0 0 0 0 0 0 0 0 0 0 0 0 0 0 0 0 0 0 0 0 0 0 0 0 0 0 0 0 0 0 0 0 0 0 0 0 0 0 0 0 0 0 0 0 0 0 0 0 0 0 0 0 0 0 0 0 0 0 0 0 0 0 0 0 0 0 0 0 0 0 0 0 0 0 0 0 0 0 0 0 0 0 0 0 0 0 0 0 0 0 0 0 0 0 0\n",
      "11/21/2019 09:24:31 - INFO - bert -   segment_ids: 0 0 0 0 0 0 0 0 0 0 0 1 1 1 1 1 1 1 1 1 1 1 1 1 1 1 1 1 1 0 0 0 0 0 0 0 0 0 0 0 0 0 0 0 0 0 0 0 0 0 0 0 0 0 0 0 0 0 0 0 0 0 0 0 0 0 0 0 0 0 0 0 0 0 0 0 0 0 0 0 0 0 0 0 0 0 0 0 0 0 0 0 0 0 0 0 0 0 0 0 0 0 0 0 0 0 0 0 0 0 0 0 0 0 0 0 0 0 0 0 0 0 0 0 0 0 0 0 0 0 0 0 0 0 0 0 0 0 0 0 0 0 0 0 0 0 0 0 0 0 0 0 0 0 0 0 0 0 0 0 0 0 0 0 0 0 0 0 0 0 0 0 0 0 0 0 0 0 0 0 0 0 0 0 0 0 0 0 0 0 0 0 0 0 0 0 0 0 0 0\n",
      "11/21/2019 09:24:31 - INFO - bert -   *** Example ***\n",
      "11/21/2019 09:24:31 - INFO - bert -   tokens: [CLS] when should i use a sc ##atter plot ? [SEP] uno ##con ##v can convert em ##f to pdf and ti ##ff via command - line : for pdf : uno ##con ##v file ##name . em ##f for ti ##ff : uno ##con ##v - f ti ##ff file ##name . em ##f it doesn ' t seem to support ps file export , though . you are still required to install open ##off ##ice . org / libre ##off ##ice because this tool uses them as the back ##end . [SEP]\n",
      "11/21/2019 09:24:31 - INFO - bert -   input_ids: 101 2043 2323 1045 2224 1037 8040 20097 5436 1029 102 27776 8663 2615 2064 10463 7861 2546 2000 11135 1998 14841 4246 3081 3094 1011 2240 1024 2005 11135 1024 27776 8663 2615 5371 18442 1012 7861 2546 2005 14841 4246 1024 27776 8663 2615 1011 1042 14841 4246 5371 18442 1012 7861 2546 2009 2987 1005 1056 4025 2000 2490 8827 5371 9167 1010 2295 1012 2017 2024 2145 3223 2000 16500 2330 7245 6610 1012 8917 1013 21091 7245 6610 2138 2023 6994 3594 2068 2004 1996 2067 10497 1012 102 0 0 0 0 0 0 0 0 0 0 0 0 0 0 0 0 0 0 0 0 0 0 0 0 0 0 0 0 0 0 0 0 0 0 0 0 0 0 0 0 0 0 0 0 0 0 0 0 0 0 0 0 0 0 0 0 0 0 0 0 0 0 0 0 0 0 0 0 0 0 0 0 0 0 0 0 0 0 0 0 0 0 0 0 0 0 0 0 0 0 0 0 0 0 0 0 0 0 0 0 0 0 0 0 0 0\n",
      "11/21/2019 09:24:31 - INFO - bert -   input_mask: 1 1 1 1 1 1 1 1 1 1 1 1 1 1 1 1 1 1 1 1 1 1 1 1 1 1 1 1 1 1 1 1 1 1 1 1 1 1 1 1 1 1 1 1 1 1 1 1 1 1 1 1 1 1 1 1 1 1 1 1 1 1 1 1 1 1 1 1 1 1 1 1 1 1 1 1 1 1 1 1 1 1 1 1 1 1 1 1 1 1 1 1 1 1 0 0 0 0 0 0 0 0 0 0 0 0 0 0 0 0 0 0 0 0 0 0 0 0 0 0 0 0 0 0 0 0 0 0 0 0 0 0 0 0 0 0 0 0 0 0 0 0 0 0 0 0 0 0 0 0 0 0 0 0 0 0 0 0 0 0 0 0 0 0 0 0 0 0 0 0 0 0 0 0 0 0 0 0 0 0 0 0 0 0 0 0 0 0 0 0 0 0 0 0 0 0 0 0 0 0\n",
      "11/21/2019 09:24:31 - INFO - bert -   segment_ids: 0 0 0 0 0 0 0 0 0 0 0 1 1 1 1 1 1 1 1 1 1 1 1 1 1 1 1 1 1 1 1 1 1 1 1 1 1 1 1 1 1 1 1 1 1 1 1 1 1 1 1 1 1 1 1 1 1 1 1 1 1 1 1 1 1 1 1 1 1 1 1 1 1 1 1 1 1 1 1 1 1 1 1 1 1 1 1 1 1 1 1 1 1 1 0 0 0 0 0 0 0 0 0 0 0 0 0 0 0 0 0 0 0 0 0 0 0 0 0 0 0 0 0 0 0 0 0 0 0 0 0 0 0 0 0 0 0 0 0 0 0 0 0 0 0 0 0 0 0 0 0 0 0 0 0 0 0 0 0 0 0 0 0 0 0 0 0 0 0 0 0 0 0 0 0 0 0 0 0 0 0 0 0 0 0 0 0 0 0 0 0 0 0 0 0 0 0 0 0 0\n",
      "11/21/2019 09:24:31 - INFO - bert -   *** Example ***\n",
      "11/21/2019 09:24:31 - INFO - bert -   tokens: [CLS] when should i use a sc ##atter plot ? [SEP] looking at the source for fl ##ot 0 . 7 , there is not included functionality to highlight lines . however , if you wanted to extend fl ##ot to do what you want . . . fl ##ot has an \" over ##lay \" canvas which it uses to do effects like highlighting . this has the associated context in the source . if you look at the method you can see how highlighting is done for data ##points . you could write a similar method for lines . the function it ##erate ##s over an array of highlight ##able objects - - you would want to extend that to handle \" line \" objects as well . finally you would need to write a method to add / remove lines from the array of highlight ##able objects , analogous to the existing and methods . notice these methods are made public using the lines : [SEP]\n",
      "11/21/2019 09:24:31 - INFO - bert -   input_ids: 101 2043 2323 1045 2224 1037 8040 20097 5436 1029 102 2559 2012 1996 3120 2005 13109 4140 1014 1012 1021 1010 2045 2003 2025 2443 15380 2000 12944 3210 1012 2174 1010 2065 2017 2359 2000 7949 13109 4140 2000 2079 2054 2017 2215 1012 1012 1012 13109 4140 2038 2019 1000 2058 8485 1000 10683 2029 2009 3594 2000 2079 3896 2066 20655 1012 2023 2038 1996 3378 6123 1999 1996 3120 1012 2065 2017 2298 2012 1996 4118 2017 2064 2156 2129 20655 2003 2589 2005 2951 26521 1012 2017 2071 4339 1037 2714 4118 2005 3210 1012 1996 3853 2009 22139 2015 2058 2019 9140 1997 12944 3085 5200 1011 1011 2017 2052 2215 2000 7949 2008 2000 5047 1000 2240 1000 5200 2004 2092 1012 2633 2017 2052 2342 2000 4339 1037 4118 2000 5587 1013 6366 3210 2013 1996 9140 1997 12944 3085 5200 1010 19639 2000 1996 4493 1998 4725 1012 5060 2122 4725 2024 2081 2270 2478 1996 3210 1024 102 0 0 0 0 0 0 0 0 0 0 0 0 0 0 0 0 0 0 0 0 0 0 0 0 0 0 0 0 0 0 0\n",
      "11/21/2019 09:24:31 - INFO - bert -   input_mask: 1 1 1 1 1 1 1 1 1 1 1 1 1 1 1 1 1 1 1 1 1 1 1 1 1 1 1 1 1 1 1 1 1 1 1 1 1 1 1 1 1 1 1 1 1 1 1 1 1 1 1 1 1 1 1 1 1 1 1 1 1 1 1 1 1 1 1 1 1 1 1 1 1 1 1 1 1 1 1 1 1 1 1 1 1 1 1 1 1 1 1 1 1 1 1 1 1 1 1 1 1 1 1 1 1 1 1 1 1 1 1 1 1 1 1 1 1 1 1 1 1 1 1 1 1 1 1 1 1 1 1 1 1 1 1 1 1 1 1 1 1 1 1 1 1 1 1 1 1 1 1 1 1 1 1 1 1 1 1 1 1 1 1 1 1 1 1 1 1 0 0 0 0 0 0 0 0 0 0 0 0 0 0 0 0 0 0 0 0 0 0 0 0 0 0 0 0 0 0 0\n",
      "11/21/2019 09:24:31 - INFO - bert -   segment_ids: 0 0 0 0 0 0 0 0 0 0 0 1 1 1 1 1 1 1 1 1 1 1 1 1 1 1 1 1 1 1 1 1 1 1 1 1 1 1 1 1 1 1 1 1 1 1 1 1 1 1 1 1 1 1 1 1 1 1 1 1 1 1 1 1 1 1 1 1 1 1 1 1 1 1 1 1 1 1 1 1 1 1 1 1 1 1 1 1 1 1 1 1 1 1 1 1 1 1 1 1 1 1 1 1 1 1 1 1 1 1 1 1 1 1 1 1 1 1 1 1 1 1 1 1 1 1 1 1 1 1 1 1 1 1 1 1 1 1 1 1 1 1 1 1 1 1 1 1 1 1 1 1 1 1 1 1 1 1 1 1 1 1 1 1 1 1 1 1 1 0 0 0 0 0 0 0 0 0 0 0 0 0 0 0 0 0 0 0 0 0 0 0 0 0 0 0 0 0 0 0\n",
      "11/21/2019 09:24:31 - INFO - bert -   *** Example ***\n",
      "11/21/2019 09:24:31 - INFO - bert -   tokens: [CLS] when should i use a sc ##atter plot ? [SEP] this question has been sitting long enough , that it is time to document an answer for poster ##ity . the short answer is that highly - customized data visual ##izations cannot be done using function wrap ##pers from the ' lattice ' and ' g ##gp ##lot ##2 ' packages . the purpose of a function wrap ##per is to take some of the decisions out of your hands , so you will always be limited to the decisions originally envisioned by the function code ##r . i highly recommend everyone learn the ' lattice ' or ' g ##gp ##lot ##2 ' packages , but these packages are more useful for data exploration than for being creative with data visual ##izations . this answer is for those who want to create a customized visual . the following process may take half a day , but that is significantly less time than it would take to hack the ' lattice ' or ' g ##gp ##lot ##2 ' packages into the shape you want . this isn ' t a criticism of either of those packages ; [SEP]\n",
      "11/21/2019 09:24:31 - INFO - bert -   input_ids: 101 2043 2323 1045 2224 1037 8040 20097 5436 1029 102 2023 3160 2038 2042 3564 2146 2438 1010 2008 2009 2003 2051 2000 6254 2019 3437 2005 13082 3012 1012 1996 2460 3437 2003 2008 3811 1011 28749 2951 5107 22318 3685 2022 2589 2478 3853 10236 7347 2013 1996 1005 17779 1005 1998 1005 1043 21600 10994 2475 1005 14555 1012 1996 3800 1997 1037 3853 10236 4842 2003 2000 2202 2070 1997 1996 6567 2041 1997 2115 2398 1010 2061 2017 2097 2467 2022 3132 2000 1996 6567 2761 18035 2011 1996 3853 3642 2099 1012 1045 3811 16755 3071 4553 1996 1005 17779 1005 2030 1005 1043 21600 10994 2475 1005 14555 1010 2021 2122 14555 2024 2062 6179 2005 2951 8993 2084 2005 2108 5541 2007 2951 5107 22318 1012 2023 3437 2003 2005 2216 2040 2215 2000 3443 1037 28749 5107 1012 1996 2206 2832 2089 2202 2431 1037 2154 1010 2021 2008 2003 6022 2625 2051 2084 2009 2052 2202 2000 20578 1996 1005 17779 1005 2030 1005 1043 21600 10994 2475 1005 14555 2046 1996 4338 2017 2215 1012 2023 3475 1005 1056 1037 6256 1997 2593 1997 2216 14555 1025 102\n"
     ]
    },
    {
     "name": "stderr",
     "output_type": "stream",
     "text": [
      "11/21/2019 09:24:31 - INFO - bert -   input_mask: 1 1 1 1 1 1 1 1 1 1 1 1 1 1 1 1 1 1 1 1 1 1 1 1 1 1 1 1 1 1 1 1 1 1 1 1 1 1 1 1 1 1 1 1 1 1 1 1 1 1 1 1 1 1 1 1 1 1 1 1 1 1 1 1 1 1 1 1 1 1 1 1 1 1 1 1 1 1 1 1 1 1 1 1 1 1 1 1 1 1 1 1 1 1 1 1 1 1 1 1 1 1 1 1 1 1 1 1 1 1 1 1 1 1 1 1 1 1 1 1 1 1 1 1 1 1 1 1 1 1 1 1 1 1 1 1 1 1 1 1 1 1 1 1 1 1 1 1 1 1 1 1 1 1 1 1 1 1 1 1 1 1 1 1 1 1 1 1 1 1 1 1 1 1 1 1 1 1 1 1 1 1 1 1 1 1 1 1 1 1 1 1 1 1 1 1 1 1 1 1\n",
      "11/21/2019 09:24:31 - INFO - bert -   segment_ids: 0 0 0 0 0 0 0 0 0 0 0 1 1 1 1 1 1 1 1 1 1 1 1 1 1 1 1 1 1 1 1 1 1 1 1 1 1 1 1 1 1 1 1 1 1 1 1 1 1 1 1 1 1 1 1 1 1 1 1 1 1 1 1 1 1 1 1 1 1 1 1 1 1 1 1 1 1 1 1 1 1 1 1 1 1 1 1 1 1 1 1 1 1 1 1 1 1 1 1 1 1 1 1 1 1 1 1 1 1 1 1 1 1 1 1 1 1 1 1 1 1 1 1 1 1 1 1 1 1 1 1 1 1 1 1 1 1 1 1 1 1 1 1 1 1 1 1 1 1 1 1 1 1 1 1 1 1 1 1 1 1 1 1 1 1 1 1 1 1 1 1 1 1 1 1 1 1 1 1 1 1 1 1 1 1 1 1 1 1 1 1 1 1 1 1 1 1 1 1 1\n",
      "11/21/2019 09:24:31 - INFO - bert -   *** Example ***\n",
      "11/21/2019 09:24:31 - INFO - bert -   tokens: [CLS] when should i use a sc ##atter plot ? [SEP] the authentic ##ode ( t ##m ) times ##tam ##p protocol pre ##dates the time - stamp protocol defined in rfc ##31 ##6 ##1 . however ( and ii ##rc ) there is no direct support for asking a times ##tam ##p built in . net . so you can either : build a ts ##p client to get your times ##tam ##ps ; or pig ##gy ##back the existing free times ##tam ##p servers that are around for code signing . while i would suggest # 1 in most cases ( it ' s a standard and more future proof ) i ' m not sure if there are c # libraries available that supports that today . if you ' re interested in # 2 then i know ( because i ' ve written it ; - ) that the code is available inside mono ( mit . x ##11 licensed ) to support authentic ##ode ( t ##m ) and code signing ( including times ##tam ##ping ) . [SEP]\n",
      "11/21/2019 09:24:31 - INFO - bert -   input_ids: 101 2043 2323 1045 2224 1037 8040 20097 5436 1029 102 1996 14469 10244 1006 1056 2213 1007 2335 15464 2361 8778 3653 27122 1996 2051 1011 11359 8778 4225 1999 14645 21486 2575 2487 1012 2174 1006 1998 2462 11890 1007 2045 2003 2053 3622 2490 2005 4851 1037 2335 15464 2361 2328 1999 1012 5658 1012 2061 2017 2064 2593 1024 3857 1037 24529 2361 7396 2000 2131 2115 2335 15464 4523 1025 2030 10369 6292 5963 1996 4493 2489 2335 15464 2361 14903 2008 2024 2105 2005 3642 6608 1012 2096 1045 2052 6592 1001 1015 1999 2087 3572 1006 2009 1005 1055 1037 3115 1998 2062 2925 6947 1007 1045 1005 1049 2025 2469 2065 2045 2024 1039 1001 8860 2800 2008 6753 2008 2651 1012 2065 2017 1005 2128 4699 1999 1001 1016 2059 1045 2113 1006 2138 1045 1005 2310 2517 2009 1025 1011 1007 2008 1996 3642 2003 2800 2503 18847 1006 10210 1012 1060 14526 7000 1007 2000 2490 14469 10244 1006 1056 2213 1007 1998 3642 6608 1006 2164 2335 15464 4691 1007 1012 102 0 0 0 0 0 0 0 0 0 0 0 0 0 0 0 0\n",
      "11/21/2019 09:24:31 - INFO - bert -   input_mask: 1 1 1 1 1 1 1 1 1 1 1 1 1 1 1 1 1 1 1 1 1 1 1 1 1 1 1 1 1 1 1 1 1 1 1 1 1 1 1 1 1 1 1 1 1 1 1 1 1 1 1 1 1 1 1 1 1 1 1 1 1 1 1 1 1 1 1 1 1 1 1 1 1 1 1 1 1 1 1 1 1 1 1 1 1 1 1 1 1 1 1 1 1 1 1 1 1 1 1 1 1 1 1 1 1 1 1 1 1 1 1 1 1 1 1 1 1 1 1 1 1 1 1 1 1 1 1 1 1 1 1 1 1 1 1 1 1 1 1 1 1 1 1 1 1 1 1 1 1 1 1 1 1 1 1 1 1 1 1 1 1 1 1 1 1 1 1 1 1 1 1 1 1 1 1 1 1 1 1 1 1 1 1 1 0 0 0 0 0 0 0 0 0 0 0 0 0 0 0 0\n",
      "11/21/2019 09:24:31 - INFO - bert -   segment_ids: 0 0 0 0 0 0 0 0 0 0 0 1 1 1 1 1 1 1 1 1 1 1 1 1 1 1 1 1 1 1 1 1 1 1 1 1 1 1 1 1 1 1 1 1 1 1 1 1 1 1 1 1 1 1 1 1 1 1 1 1 1 1 1 1 1 1 1 1 1 1 1 1 1 1 1 1 1 1 1 1 1 1 1 1 1 1 1 1 1 1 1 1 1 1 1 1 1 1 1 1 1 1 1 1 1 1 1 1 1 1 1 1 1 1 1 1 1 1 1 1 1 1 1 1 1 1 1 1 1 1 1 1 1 1 1 1 1 1 1 1 1 1 1 1 1 1 1 1 1 1 1 1 1 1 1 1 1 1 1 1 1 1 1 1 1 1 1 1 1 1 1 1 1 1 1 1 1 1 1 1 1 1 1 1 0 0 0 0 0 0 0 0 0 0 0 0 0 0 0 0\n",
      "11/21/2019 09:24:35 - INFO - bert -   ***** Running evaluation *****\n",
      "11/21/2019 09:24:35 - INFO - bert -     Num examples = 3110\n",
      "11/21/2019 09:24:35 - INFO - bert -     Batch size = 128\n"
     ]
    },
    {
     "data": {
      "text/html": [
       "\n",
       "    <div>\n",
       "        <style>\n",
       "            /* Turns off some styling */\n",
       "            progress {\n",
       "                /* gets rid of default border in Firefox and Opera. */\n",
       "                border: none;\n",
       "                /* Needs to be in here for Safari polyfill so background images work as expected. */\n",
       "                background-size: auto;\n",
       "            }\n",
       "            .progress-bar-interrupted, .progress-bar-interrupted::-webkit-progress-bar {\n",
       "                background: #F44336;\n",
       "            }\n",
       "        </style>\n",
       "      <progress value='25' class='' max='25', style='width:300px; height:20px; vertical-align: middle;'></progress>\n",
       "      100.00% [25/25 00:19<00:00]\n",
       "    </div>\n",
       "    "
      ],
      "text/plain": [
       "<IPython.core.display.HTML object>"
      ]
     },
     "metadata": {},
     "output_type": "display_data"
    },
    {
     "name": "stderr",
     "output_type": "stream",
     "text": [
      "11/21/2019 09:24:54 - INFO - bert -   *** Example ***\n",
      "11/21/2019 09:24:54 - INFO - bert -   tokens: [CLS] data visual ##ization tips [SEP] points in is zero width , so you need to set the width of dod ##ging : [SEP]\n",
      "11/21/2019 09:24:54 - INFO - bert -   input_ids: 101 2951 5107 3989 10247 102 2685 1999 2003 5717 9381 1010 2061 2017 2342 2000 2275 1996 9381 1997 26489 4726 1024 102 0 0 0 0 0 0 0 0 0 0 0 0 0 0 0 0 0 0 0 0 0 0 0 0 0 0 0 0 0 0 0 0 0 0 0 0 0 0 0 0 0 0 0 0 0 0 0 0 0 0 0 0 0 0 0 0 0 0 0 0 0 0 0 0 0 0 0 0 0 0 0 0 0 0 0 0 0 0 0 0 0 0 0 0 0 0 0 0 0 0 0 0 0 0 0 0 0 0 0 0 0 0 0 0 0 0 0 0 0 0 0 0 0 0 0 0 0 0 0 0 0 0 0 0 0 0 0 0 0 0 0 0 0 0 0 0 0 0 0 0 0 0 0 0 0 0 0 0 0 0 0 0 0 0 0 0 0 0 0 0 0 0 0 0 0 0 0 0 0 0 0 0 0 0 0 0\n",
      "11/21/2019 09:24:54 - INFO - bert -   input_mask: 1 1 1 1 1 1 1 1 1 1 1 1 1 1 1 1 1 1 1 1 1 1 1 1 0 0 0 0 0 0 0 0 0 0 0 0 0 0 0 0 0 0 0 0 0 0 0 0 0 0 0 0 0 0 0 0 0 0 0 0 0 0 0 0 0 0 0 0 0 0 0 0 0 0 0 0 0 0 0 0 0 0 0 0 0 0 0 0 0 0 0 0 0 0 0 0 0 0 0 0 0 0 0 0 0 0 0 0 0 0 0 0 0 0 0 0 0 0 0 0 0 0 0 0 0 0 0 0 0 0 0 0 0 0 0 0 0 0 0 0 0 0 0 0 0 0 0 0 0 0 0 0 0 0 0 0 0 0 0 0 0 0 0 0 0 0 0 0 0 0 0 0 0 0 0 0 0 0 0 0 0 0 0 0 0 0 0 0 0 0 0 0 0 0 0 0 0 0 0 0\n",
      "11/21/2019 09:24:54 - INFO - bert -   segment_ids: 0 0 0 0 0 0 1 1 1 1 1 1 1 1 1 1 1 1 1 1 1 1 1 1 0 0 0 0 0 0 0 0 0 0 0 0 0 0 0 0 0 0 0 0 0 0 0 0 0 0 0 0 0 0 0 0 0 0 0 0 0 0 0 0 0 0 0 0 0 0 0 0 0 0 0 0 0 0 0 0 0 0 0 0 0 0 0 0 0 0 0 0 0 0 0 0 0 0 0 0 0 0 0 0 0 0 0 0 0 0 0 0 0 0 0 0 0 0 0 0 0 0 0 0 0 0 0 0 0 0 0 0 0 0 0 0 0 0 0 0 0 0 0 0 0 0 0 0 0 0 0 0 0 0 0 0 0 0 0 0 0 0 0 0 0 0 0 0 0 0 0 0 0 0 0 0 0 0 0 0 0 0 0 0 0 0 0 0 0 0 0 0 0 0 0 0 0 0 0 0\n",
      "11/21/2019 09:24:54 - INFO - bert -   *** Example ***\n",
      "11/21/2019 09:24:54 - INFO - bert -   tokens: [CLS] data visual ##ization tips [SEP] uno ##con ##v can convert em ##f to pdf and ti ##ff via command - line : for pdf : uno ##con ##v file ##name . em ##f for ti ##ff : uno ##con ##v - f ti ##ff file ##name . em ##f it doesn ' t seem to support ps file export , though . you are still required to install open ##off ##ice . org / libre ##off ##ice because this tool uses them as the back ##end . [SEP]\n",
      "11/21/2019 09:24:54 - INFO - bert -   input_ids: 101 2951 5107 3989 10247 102 27776 8663 2615 2064 10463 7861 2546 2000 11135 1998 14841 4246 3081 3094 1011 2240 1024 2005 11135 1024 27776 8663 2615 5371 18442 1012 7861 2546 2005 14841 4246 1024 27776 8663 2615 1011 1042 14841 4246 5371 18442 1012 7861 2546 2009 2987 1005 1056 4025 2000 2490 8827 5371 9167 1010 2295 1012 2017 2024 2145 3223 2000 16500 2330 7245 6610 1012 8917 1013 21091 7245 6610 2138 2023 6994 3594 2068 2004 1996 2067 10497 1012 102 0 0 0 0 0 0 0 0 0 0 0 0 0 0 0 0 0 0 0 0 0 0 0 0 0 0 0 0 0 0 0 0 0 0 0 0 0 0 0 0 0 0 0 0 0 0 0 0 0 0 0 0 0 0 0 0 0 0 0 0 0 0 0 0 0 0 0 0 0 0 0 0 0 0 0 0 0 0 0 0 0 0 0 0 0 0 0 0 0 0 0 0 0 0 0 0 0 0 0 0 0 0 0 0 0 0 0 0 0 0 0\n",
      "11/21/2019 09:24:54 - INFO - bert -   input_mask: 1 1 1 1 1 1 1 1 1 1 1 1 1 1 1 1 1 1 1 1 1 1 1 1 1 1 1 1 1 1 1 1 1 1 1 1 1 1 1 1 1 1 1 1 1 1 1 1 1 1 1 1 1 1 1 1 1 1 1 1 1 1 1 1 1 1 1 1 1 1 1 1 1 1 1 1 1 1 1 1 1 1 1 1 1 1 1 1 1 0 0 0 0 0 0 0 0 0 0 0 0 0 0 0 0 0 0 0 0 0 0 0 0 0 0 0 0 0 0 0 0 0 0 0 0 0 0 0 0 0 0 0 0 0 0 0 0 0 0 0 0 0 0 0 0 0 0 0 0 0 0 0 0 0 0 0 0 0 0 0 0 0 0 0 0 0 0 0 0 0 0 0 0 0 0 0 0 0 0 0 0 0 0 0 0 0 0 0 0 0 0 0 0 0 0 0 0 0 0 0\n",
      "11/21/2019 09:24:54 - INFO - bert -   segment_ids: 0 0 0 0 0 0 1 1 1 1 1 1 1 1 1 1 1 1 1 1 1 1 1 1 1 1 1 1 1 1 1 1 1 1 1 1 1 1 1 1 1 1 1 1 1 1 1 1 1 1 1 1 1 1 1 1 1 1 1 1 1 1 1 1 1 1 1 1 1 1 1 1 1 1 1 1 1 1 1 1 1 1 1 1 1 1 1 1 1 0 0 0 0 0 0 0 0 0 0 0 0 0 0 0 0 0 0 0 0 0 0 0 0 0 0 0 0 0 0 0 0 0 0 0 0 0 0 0 0 0 0 0 0 0 0 0 0 0 0 0 0 0 0 0 0 0 0 0 0 0 0 0 0 0 0 0 0 0 0 0 0 0 0 0 0 0 0 0 0 0 0 0 0 0 0 0 0 0 0 0 0 0 0 0 0 0 0 0 0 0 0 0 0 0 0 0 0 0 0 0\n",
      "11/21/2019 09:24:54 - INFO - bert -   *** Example ***\n",
      "11/21/2019 09:24:54 - INFO - bert -   tokens: [CLS] data visual ##ization tips [SEP] looking at the source for fl ##ot 0 . 7 , there is not included functionality to highlight lines . however , if you wanted to extend fl ##ot to do what you want . . . fl ##ot has an \" over ##lay \" canvas which it uses to do effects like highlighting . this has the associated context in the source . if you look at the method you can see how highlighting is done for data ##points . you could write a similar method for lines . the function it ##erate ##s over an array of highlight ##able objects - - you would want to extend that to handle \" line \" objects as well . finally you would need to write a method to add / remove lines from the array of highlight ##able objects , analogous to the existing and methods . notice these methods are made public using the lines : [SEP]\n",
      "11/21/2019 09:24:54 - INFO - bert -   input_ids: 101 2951 5107 3989 10247 102 2559 2012 1996 3120 2005 13109 4140 1014 1012 1021 1010 2045 2003 2025 2443 15380 2000 12944 3210 1012 2174 1010 2065 2017 2359 2000 7949 13109 4140 2000 2079 2054 2017 2215 1012 1012 1012 13109 4140 2038 2019 1000 2058 8485 1000 10683 2029 2009 3594 2000 2079 3896 2066 20655 1012 2023 2038 1996 3378 6123 1999 1996 3120 1012 2065 2017 2298 2012 1996 4118 2017 2064 2156 2129 20655 2003 2589 2005 2951 26521 1012 2017 2071 4339 1037 2714 4118 2005 3210 1012 1996 3853 2009 22139 2015 2058 2019 9140 1997 12944 3085 5200 1011 1011 2017 2052 2215 2000 7949 2008 2000 5047 1000 2240 1000 5200 2004 2092 1012 2633 2017 2052 2342 2000 4339 1037 4118 2000 5587 1013 6366 3210 2013 1996 9140 1997 12944 3085 5200 1010 19639 2000 1996 4493 1998 4725 1012 5060 2122 4725 2024 2081 2270 2478 1996 3210 1024 102 0 0 0 0 0 0 0 0 0 0 0 0 0 0 0 0 0 0 0 0 0 0 0 0 0 0 0 0 0 0 0 0 0 0 0 0\n",
      "11/21/2019 09:24:54 - INFO - bert -   input_mask: 1 1 1 1 1 1 1 1 1 1 1 1 1 1 1 1 1 1 1 1 1 1 1 1 1 1 1 1 1 1 1 1 1 1 1 1 1 1 1 1 1 1 1 1 1 1 1 1 1 1 1 1 1 1 1 1 1 1 1 1 1 1 1 1 1 1 1 1 1 1 1 1 1 1 1 1 1 1 1 1 1 1 1 1 1 1 1 1 1 1 1 1 1 1 1 1 1 1 1 1 1 1 1 1 1 1 1 1 1 1 1 1 1 1 1 1 1 1 1 1 1 1 1 1 1 1 1 1 1 1 1 1 1 1 1 1 1 1 1 1 1 1 1 1 1 1 1 1 1 1 1 1 1 1 1 1 1 1 1 1 1 1 1 1 0 0 0 0 0 0 0 0 0 0 0 0 0 0 0 0 0 0 0 0 0 0 0 0 0 0 0 0 0 0 0 0 0 0 0 0\n",
      "11/21/2019 09:24:54 - INFO - bert -   segment_ids: 0 0 0 0 0 0 1 1 1 1 1 1 1 1 1 1 1 1 1 1 1 1 1 1 1 1 1 1 1 1 1 1 1 1 1 1 1 1 1 1 1 1 1 1 1 1 1 1 1 1 1 1 1 1 1 1 1 1 1 1 1 1 1 1 1 1 1 1 1 1 1 1 1 1 1 1 1 1 1 1 1 1 1 1 1 1 1 1 1 1 1 1 1 1 1 1 1 1 1 1 1 1 1 1 1 1 1 1 1 1 1 1 1 1 1 1 1 1 1 1 1 1 1 1 1 1 1 1 1 1 1 1 1 1 1 1 1 1 1 1 1 1 1 1 1 1 1 1 1 1 1 1 1 1 1 1 1 1 1 1 1 1 1 1 0 0 0 0 0 0 0 0 0 0 0 0 0 0 0 0 0 0 0 0 0 0 0 0 0 0 0 0 0 0 0 0 0 0 0 0\n",
      "11/21/2019 09:24:54 - INFO - bert -   *** Example ***\n",
      "11/21/2019 09:24:54 - INFO - bert -   tokens: [CLS] data visual ##ization tips [SEP] this question has been sitting long enough , that it is time to document an answer for poster ##ity . the short answer is that highly - customized data visual ##izations cannot be done using function wrap ##pers from the ' lattice ' and ' g ##gp ##lot ##2 ' packages . the purpose of a function wrap ##per is to take some of the decisions out of your hands , so you will always be limited to the decisions originally envisioned by the function code ##r . i highly recommend everyone learn the ' lattice ' or ' g ##gp ##lot ##2 ' packages , but these packages are more useful for data exploration than for being creative with data visual ##izations . this answer is for those who want to create a customized visual . the following process may take half a day , but that is significantly less time than it would take to hack the ' lattice ' or ' g ##gp ##lot ##2 ' packages into the shape you want . this isn ' t a criticism of either of those packages ; it ' s just a [SEP]\n",
      "11/21/2019 09:24:54 - INFO - bert -   input_ids: 101 2951 5107 3989 10247 102 2023 3160 2038 2042 3564 2146 2438 1010 2008 2009 2003 2051 2000 6254 2019 3437 2005 13082 3012 1012 1996 2460 3437 2003 2008 3811 1011 28749 2951 5107 22318 3685 2022 2589 2478 3853 10236 7347 2013 1996 1005 17779 1005 1998 1005 1043 21600 10994 2475 1005 14555 1012 1996 3800 1997 1037 3853 10236 4842 2003 2000 2202 2070 1997 1996 6567 2041 1997 2115 2398 1010 2061 2017 2097 2467 2022 3132 2000 1996 6567 2761 18035 2011 1996 3853 3642 2099 1012 1045 3811 16755 3071 4553 1996 1005 17779 1005 2030 1005 1043 21600 10994 2475 1005 14555 1010 2021 2122 14555 2024 2062 6179 2005 2951 8993 2084 2005 2108 5541 2007 2951 5107 22318 1012 2023 3437 2003 2005 2216 2040 2215 2000 3443 1037 28749 5107 1012 1996 2206 2832 2089 2202 2431 1037 2154 1010 2021 2008 2003 6022 2625 2051 2084 2009 2052 2202 2000 20578 1996 1005 17779 1005 2030 1005 1043 21600 10994 2475 1005 14555 2046 1996 4338 2017 2215 1012 2023 3475 1005 1056 1037 6256 1997 2593 1997 2216 14555 1025 2009 1005 1055 2074 1037 102\n"
     ]
    },
    {
     "name": "stderr",
     "output_type": "stream",
     "text": [
      "11/21/2019 09:24:54 - INFO - bert -   input_mask: 1 1 1 1 1 1 1 1 1 1 1 1 1 1 1 1 1 1 1 1 1 1 1 1 1 1 1 1 1 1 1 1 1 1 1 1 1 1 1 1 1 1 1 1 1 1 1 1 1 1 1 1 1 1 1 1 1 1 1 1 1 1 1 1 1 1 1 1 1 1 1 1 1 1 1 1 1 1 1 1 1 1 1 1 1 1 1 1 1 1 1 1 1 1 1 1 1 1 1 1 1 1 1 1 1 1 1 1 1 1 1 1 1 1 1 1 1 1 1 1 1 1 1 1 1 1 1 1 1 1 1 1 1 1 1 1 1 1 1 1 1 1 1 1 1 1 1 1 1 1 1 1 1 1 1 1 1 1 1 1 1 1 1 1 1 1 1 1 1 1 1 1 1 1 1 1 1 1 1 1 1 1 1 1 1 1 1 1 1 1 1 1 1 1 1 1 1 1 1 1\n",
      "11/21/2019 09:24:54 - INFO - bert -   segment_ids: 0 0 0 0 0 0 1 1 1 1 1 1 1 1 1 1 1 1 1 1 1 1 1 1 1 1 1 1 1 1 1 1 1 1 1 1 1 1 1 1 1 1 1 1 1 1 1 1 1 1 1 1 1 1 1 1 1 1 1 1 1 1 1 1 1 1 1 1 1 1 1 1 1 1 1 1 1 1 1 1 1 1 1 1 1 1 1 1 1 1 1 1 1 1 1 1 1 1 1 1 1 1 1 1 1 1 1 1 1 1 1 1 1 1 1 1 1 1 1 1 1 1 1 1 1 1 1 1 1 1 1 1 1 1 1 1 1 1 1 1 1 1 1 1 1 1 1 1 1 1 1 1 1 1 1 1 1 1 1 1 1 1 1 1 1 1 1 1 1 1 1 1 1 1 1 1 1 1 1 1 1 1 1 1 1 1 1 1 1 1 1 1 1 1 1 1 1 1 1 1\n",
      "11/21/2019 09:24:54 - INFO - bert -   *** Example ***\n",
      "11/21/2019 09:24:54 - INFO - bert -   tokens: [CLS] data visual ##ization tips [SEP] the authentic ##ode ( t ##m ) times ##tam ##p protocol pre ##dates the time - stamp protocol defined in rfc ##31 ##6 ##1 . however ( and ii ##rc ) there is no direct support for asking a times ##tam ##p built in . net . so you can either : build a ts ##p client to get your times ##tam ##ps ; or pig ##gy ##back the existing free times ##tam ##p servers that are around for code signing . while i would suggest # 1 in most cases ( it ' s a standard and more future proof ) i ' m not sure if there are c # libraries available that supports that today . if you ' re interested in # 2 then i know ( because i ' ve written it ; - ) that the code is available inside mono ( mit . x ##11 licensed ) to support authentic ##ode ( t ##m ) and code signing ( including times ##tam ##ping ) . [SEP]\n",
      "11/21/2019 09:24:54 - INFO - bert -   input_ids: 101 2951 5107 3989 10247 102 1996 14469 10244 1006 1056 2213 1007 2335 15464 2361 8778 3653 27122 1996 2051 1011 11359 8778 4225 1999 14645 21486 2575 2487 1012 2174 1006 1998 2462 11890 1007 2045 2003 2053 3622 2490 2005 4851 1037 2335 15464 2361 2328 1999 1012 5658 1012 2061 2017 2064 2593 1024 3857 1037 24529 2361 7396 2000 2131 2115 2335 15464 4523 1025 2030 10369 6292 5963 1996 4493 2489 2335 15464 2361 14903 2008 2024 2105 2005 3642 6608 1012 2096 1045 2052 6592 1001 1015 1999 2087 3572 1006 2009 1005 1055 1037 3115 1998 2062 2925 6947 1007 1045 1005 1049 2025 2469 2065 2045 2024 1039 1001 8860 2800 2008 6753 2008 2651 1012 2065 2017 1005 2128 4699 1999 1001 1016 2059 1045 2113 1006 2138 1045 1005 2310 2517 2009 1025 1011 1007 2008 1996 3642 2003 2800 2503 18847 1006 10210 1012 1060 14526 7000 1007 2000 2490 14469 10244 1006 1056 2213 1007 1998 3642 6608 1006 2164 2335 15464 4691 1007 1012 102 0 0 0 0 0 0 0 0 0 0 0 0 0 0 0 0 0 0 0 0 0\n",
      "11/21/2019 09:24:54 - INFO - bert -   input_mask: 1 1 1 1 1 1 1 1 1 1 1 1 1 1 1 1 1 1 1 1 1 1 1 1 1 1 1 1 1 1 1 1 1 1 1 1 1 1 1 1 1 1 1 1 1 1 1 1 1 1 1 1 1 1 1 1 1 1 1 1 1 1 1 1 1 1 1 1 1 1 1 1 1 1 1 1 1 1 1 1 1 1 1 1 1 1 1 1 1 1 1 1 1 1 1 1 1 1 1 1 1 1 1 1 1 1 1 1 1 1 1 1 1 1 1 1 1 1 1 1 1 1 1 1 1 1 1 1 1 1 1 1 1 1 1 1 1 1 1 1 1 1 1 1 1 1 1 1 1 1 1 1 1 1 1 1 1 1 1 1 1 1 1 1 1 1 1 1 1 1 1 1 1 1 1 1 1 1 1 0 0 0 0 0 0 0 0 0 0 0 0 0 0 0 0 0 0 0 0 0\n",
      "11/21/2019 09:24:54 - INFO - bert -   segment_ids: 0 0 0 0 0 0 1 1 1 1 1 1 1 1 1 1 1 1 1 1 1 1 1 1 1 1 1 1 1 1 1 1 1 1 1 1 1 1 1 1 1 1 1 1 1 1 1 1 1 1 1 1 1 1 1 1 1 1 1 1 1 1 1 1 1 1 1 1 1 1 1 1 1 1 1 1 1 1 1 1 1 1 1 1 1 1 1 1 1 1 1 1 1 1 1 1 1 1 1 1 1 1 1 1 1 1 1 1 1 1 1 1 1 1 1 1 1 1 1 1 1 1 1 1 1 1 1 1 1 1 1 1 1 1 1 1 1 1 1 1 1 1 1 1 1 1 1 1 1 1 1 1 1 1 1 1 1 1 1 1 1 1 1 1 1 1 1 1 1 1 1 1 1 1 1 1 1 1 1 0 0 0 0 0 0 0 0 0 0 0 0 0 0 0 0 0 0 0 0 0\n",
      "11/21/2019 09:24:58 - INFO - bert -   ***** Running evaluation *****\n",
      "11/21/2019 09:24:58 - INFO - bert -     Num examples = 3110\n",
      "11/21/2019 09:24:58 - INFO - bert -     Batch size = 128\n"
     ]
    },
    {
     "data": {
      "text/html": [
       "\n",
       "    <div>\n",
       "        <style>\n",
       "            /* Turns off some styling */\n",
       "            progress {\n",
       "                /* gets rid of default border in Firefox and Opera. */\n",
       "                border: none;\n",
       "                /* Needs to be in here for Safari polyfill so background images work as expected. */\n",
       "                background-size: auto;\n",
       "            }\n",
       "            .progress-bar-interrupted, .progress-bar-interrupted::-webkit-progress-bar {\n",
       "                background: #F44336;\n",
       "            }\n",
       "        </style>\n",
       "      <progress value='25' class='' max='25', style='width:300px; height:20px; vertical-align: middle;'></progress>\n",
       "      100.00% [25/25 00:19<00:00]\n",
       "    </div>\n",
       "    "
      ],
      "text/plain": [
       "<IPython.core.display.HTML object>"
      ]
     },
     "metadata": {},
     "output_type": "display_data"
    },
    {
     "name": "stderr",
     "output_type": "stream",
     "text": [
      "11/21/2019 09:25:18 - INFO - bert -   *** Example ***\n",
      "11/21/2019 09:25:18 - INFO - bert -   tokens: [CLS] how do i make a network diagram in d ##3 ? [SEP] points in is zero width , so you need to set the width of dod ##ging : [SEP]\n",
      "11/21/2019 09:25:18 - INFO - bert -   input_ids: 101 2129 2079 1045 2191 1037 2897 16403 1999 1040 2509 1029 102 2685 1999 2003 5717 9381 1010 2061 2017 2342 2000 2275 1996 9381 1997 26489 4726 1024 102 0 0 0 0 0 0 0 0 0 0 0 0 0 0 0 0 0 0 0 0 0 0 0 0 0 0 0 0 0 0 0 0 0 0 0 0 0 0 0 0 0 0 0 0 0 0 0 0 0 0 0 0 0 0 0 0 0 0 0 0 0 0 0 0 0 0 0 0 0 0 0 0 0 0 0 0 0 0 0 0 0 0 0 0 0 0 0 0 0 0 0 0 0 0 0 0 0 0 0 0 0 0 0 0 0 0 0 0 0 0 0 0 0 0 0 0 0 0 0 0 0 0 0 0 0 0 0 0 0 0 0 0 0 0 0 0 0 0 0 0 0 0 0 0 0 0 0 0 0 0 0 0 0 0 0 0 0 0 0 0 0 0 0 0 0 0 0 0 0\n",
      "11/21/2019 09:25:18 - INFO - bert -   input_mask: 1 1 1 1 1 1 1 1 1 1 1 1 1 1 1 1 1 1 1 1 1 1 1 1 1 1 1 1 1 1 1 0 0 0 0 0 0 0 0 0 0 0 0 0 0 0 0 0 0 0 0 0 0 0 0 0 0 0 0 0 0 0 0 0 0 0 0 0 0 0 0 0 0 0 0 0 0 0 0 0 0 0 0 0 0 0 0 0 0 0 0 0 0 0 0 0 0 0 0 0 0 0 0 0 0 0 0 0 0 0 0 0 0 0 0 0 0 0 0 0 0 0 0 0 0 0 0 0 0 0 0 0 0 0 0 0 0 0 0 0 0 0 0 0 0 0 0 0 0 0 0 0 0 0 0 0 0 0 0 0 0 0 0 0 0 0 0 0 0 0 0 0 0 0 0 0 0 0 0 0 0 0 0 0 0 0 0 0 0 0 0 0 0 0 0 0 0 0 0 0\n",
      "11/21/2019 09:25:18 - INFO - bert -   segment_ids: 0 0 0 0 0 0 0 0 0 0 0 0 0 1 1 1 1 1 1 1 1 1 1 1 1 1 1 1 1 1 1 0 0 0 0 0 0 0 0 0 0 0 0 0 0 0 0 0 0 0 0 0 0 0 0 0 0 0 0 0 0 0 0 0 0 0 0 0 0 0 0 0 0 0 0 0 0 0 0 0 0 0 0 0 0 0 0 0 0 0 0 0 0 0 0 0 0 0 0 0 0 0 0 0 0 0 0 0 0 0 0 0 0 0 0 0 0 0 0 0 0 0 0 0 0 0 0 0 0 0 0 0 0 0 0 0 0 0 0 0 0 0 0 0 0 0 0 0 0 0 0 0 0 0 0 0 0 0 0 0 0 0 0 0 0 0 0 0 0 0 0 0 0 0 0 0 0 0 0 0 0 0 0 0 0 0 0 0 0 0 0 0 0 0 0 0 0 0 0 0\n",
      "11/21/2019 09:25:18 - INFO - bert -   *** Example ***\n",
      "11/21/2019 09:25:18 - INFO - bert -   tokens: [CLS] how do i make a network diagram in d ##3 ? [SEP] uno ##con ##v can convert em ##f to pdf and ti ##ff via command - line : for pdf : uno ##con ##v file ##name . em ##f for ti ##ff : uno ##con ##v - f ti ##ff file ##name . em ##f it doesn ' t seem to support ps file export , though . you are still required to install open ##off ##ice . org / libre ##off ##ice because this tool uses them as the back ##end . [SEP]\n",
      "11/21/2019 09:25:18 - INFO - bert -   input_ids: 101 2129 2079 1045 2191 1037 2897 16403 1999 1040 2509 1029 102 27776 8663 2615 2064 10463 7861 2546 2000 11135 1998 14841 4246 3081 3094 1011 2240 1024 2005 11135 1024 27776 8663 2615 5371 18442 1012 7861 2546 2005 14841 4246 1024 27776 8663 2615 1011 1042 14841 4246 5371 18442 1012 7861 2546 2009 2987 1005 1056 4025 2000 2490 8827 5371 9167 1010 2295 1012 2017 2024 2145 3223 2000 16500 2330 7245 6610 1012 8917 1013 21091 7245 6610 2138 2023 6994 3594 2068 2004 1996 2067 10497 1012 102 0 0 0 0 0 0 0 0 0 0 0 0 0 0 0 0 0 0 0 0 0 0 0 0 0 0 0 0 0 0 0 0 0 0 0 0 0 0 0 0 0 0 0 0 0 0 0 0 0 0 0 0 0 0 0 0 0 0 0 0 0 0 0 0 0 0 0 0 0 0 0 0 0 0 0 0 0 0 0 0 0 0 0 0 0 0 0 0 0 0 0 0 0 0 0 0 0 0 0 0 0 0 0 0\n",
      "11/21/2019 09:25:18 - INFO - bert -   input_mask: 1 1 1 1 1 1 1 1 1 1 1 1 1 1 1 1 1 1 1 1 1 1 1 1 1 1 1 1 1 1 1 1 1 1 1 1 1 1 1 1 1 1 1 1 1 1 1 1 1 1 1 1 1 1 1 1 1 1 1 1 1 1 1 1 1 1 1 1 1 1 1 1 1 1 1 1 1 1 1 1 1 1 1 1 1 1 1 1 1 1 1 1 1 1 1 1 0 0 0 0 0 0 0 0 0 0 0 0 0 0 0 0 0 0 0 0 0 0 0 0 0 0 0 0 0 0 0 0 0 0 0 0 0 0 0 0 0 0 0 0 0 0 0 0 0 0 0 0 0 0 0 0 0 0 0 0 0 0 0 0 0 0 0 0 0 0 0 0 0 0 0 0 0 0 0 0 0 0 0 0 0 0 0 0 0 0 0 0 0 0 0 0 0 0 0 0 0 0 0 0\n",
      "11/21/2019 09:25:18 - INFO - bert -   segment_ids: 0 0 0 0 0 0 0 0 0 0 0 0 0 1 1 1 1 1 1 1 1 1 1 1 1 1 1 1 1 1 1 1 1 1 1 1 1 1 1 1 1 1 1 1 1 1 1 1 1 1 1 1 1 1 1 1 1 1 1 1 1 1 1 1 1 1 1 1 1 1 1 1 1 1 1 1 1 1 1 1 1 1 1 1 1 1 1 1 1 1 1 1 1 1 1 1 0 0 0 0 0 0 0 0 0 0 0 0 0 0 0 0 0 0 0 0 0 0 0 0 0 0 0 0 0 0 0 0 0 0 0 0 0 0 0 0 0 0 0 0 0 0 0 0 0 0 0 0 0 0 0 0 0 0 0 0 0 0 0 0 0 0 0 0 0 0 0 0 0 0 0 0 0 0 0 0 0 0 0 0 0 0 0 0 0 0 0 0 0 0 0 0 0 0 0 0 0 0 0 0\n",
      "11/21/2019 09:25:18 - INFO - bert -   *** Example ***\n",
      "11/21/2019 09:25:18 - INFO - bert -   tokens: [CLS] how do i make a network diagram in d ##3 ? [SEP] looking at the source for fl ##ot 0 . 7 , there is not included functionality to highlight lines . however , if you wanted to extend fl ##ot to do what you want . . . fl ##ot has an \" over ##lay \" canvas which it uses to do effects like highlighting . this has the associated context in the source . if you look at the method you can see how highlighting is done for data ##points . you could write a similar method for lines . the function it ##erate ##s over an array of highlight ##able objects - - you would want to extend that to handle \" line \" objects as well . finally you would need to write a method to add / remove lines from the array of highlight ##able objects , analogous to the existing and methods . notice these methods are made public using the lines : [SEP]\n",
      "11/21/2019 09:25:18 - INFO - bert -   input_ids: 101 2129 2079 1045 2191 1037 2897 16403 1999 1040 2509 1029 102 2559 2012 1996 3120 2005 13109 4140 1014 1012 1021 1010 2045 2003 2025 2443 15380 2000 12944 3210 1012 2174 1010 2065 2017 2359 2000 7949 13109 4140 2000 2079 2054 2017 2215 1012 1012 1012 13109 4140 2038 2019 1000 2058 8485 1000 10683 2029 2009 3594 2000 2079 3896 2066 20655 1012 2023 2038 1996 3378 6123 1999 1996 3120 1012 2065 2017 2298 2012 1996 4118 2017 2064 2156 2129 20655 2003 2589 2005 2951 26521 1012 2017 2071 4339 1037 2714 4118 2005 3210 1012 1996 3853 2009 22139 2015 2058 2019 9140 1997 12944 3085 5200 1011 1011 2017 2052 2215 2000 7949 2008 2000 5047 1000 2240 1000 5200 2004 2092 1012 2633 2017 2052 2342 2000 4339 1037 4118 2000 5587 1013 6366 3210 2013 1996 9140 1997 12944 3085 5200 1010 19639 2000 1996 4493 1998 4725 1012 5060 2122 4725 2024 2081 2270 2478 1996 3210 1024 102 0 0 0 0 0 0 0 0 0 0 0 0 0 0 0 0 0 0 0 0 0 0 0 0 0 0 0 0 0\n",
      "11/21/2019 09:25:18 - INFO - bert -   input_mask: 1 1 1 1 1 1 1 1 1 1 1 1 1 1 1 1 1 1 1 1 1 1 1 1 1 1 1 1 1 1 1 1 1 1 1 1 1 1 1 1 1 1 1 1 1 1 1 1 1 1 1 1 1 1 1 1 1 1 1 1 1 1 1 1 1 1 1 1 1 1 1 1 1 1 1 1 1 1 1 1 1 1 1 1 1 1 1 1 1 1 1 1 1 1 1 1 1 1 1 1 1 1 1 1 1 1 1 1 1 1 1 1 1 1 1 1 1 1 1 1 1 1 1 1 1 1 1 1 1 1 1 1 1 1 1 1 1 1 1 1 1 1 1 1 1 1 1 1 1 1 1 1 1 1 1 1 1 1 1 1 1 1 1 1 1 1 1 1 1 1 1 0 0 0 0 0 0 0 0 0 0 0 0 0 0 0 0 0 0 0 0 0 0 0 0 0 0 0 0 0\n",
      "11/21/2019 09:25:18 - INFO - bert -   segment_ids: 0 0 0 0 0 0 0 0 0 0 0 0 0 1 1 1 1 1 1 1 1 1 1 1 1 1 1 1 1 1 1 1 1 1 1 1 1 1 1 1 1 1 1 1 1 1 1 1 1 1 1 1 1 1 1 1 1 1 1 1 1 1 1 1 1 1 1 1 1 1 1 1 1 1 1 1 1 1 1 1 1 1 1 1 1 1 1 1 1 1 1 1 1 1 1 1 1 1 1 1 1 1 1 1 1 1 1 1 1 1 1 1 1 1 1 1 1 1 1 1 1 1 1 1 1 1 1 1 1 1 1 1 1 1 1 1 1 1 1 1 1 1 1 1 1 1 1 1 1 1 1 1 1 1 1 1 1 1 1 1 1 1 1 1 1 1 1 1 1 1 1 0 0 0 0 0 0 0 0 0 0 0 0 0 0 0 0 0 0 0 0 0 0 0 0 0 0 0 0 0\n",
      "11/21/2019 09:25:18 - INFO - bert -   *** Example ***\n",
      "11/21/2019 09:25:18 - INFO - bert -   tokens: [CLS] how do i make a network diagram in d ##3 ? [SEP] this question has been sitting long enough , that it is time to document an answer for poster ##ity . the short answer is that highly - customized data visual ##izations cannot be done using function wrap ##pers from the ' lattice ' and ' g ##gp ##lot ##2 ' packages . the purpose of a function wrap ##per is to take some of the decisions out of your hands , so you will always be limited to the decisions originally envisioned by the function code ##r . i highly recommend everyone learn the ' lattice ' or ' g ##gp ##lot ##2 ' packages , but these packages are more useful for data exploration than for being creative with data visual ##izations . this answer is for those who want to create a customized visual . the following process may take half a day , but that is significantly less time than it would take to hack the ' lattice ' or ' g ##gp ##lot ##2 ' packages into the shape you want . this isn ' t a criticism of either of those [SEP]\n",
      "11/21/2019 09:25:18 - INFO - bert -   input_ids: 101 2129 2079 1045 2191 1037 2897 16403 1999 1040 2509 1029 102 2023 3160 2038 2042 3564 2146 2438 1010 2008 2009 2003 2051 2000 6254 2019 3437 2005 13082 3012 1012 1996 2460 3437 2003 2008 3811 1011 28749 2951 5107 22318 3685 2022 2589 2478 3853 10236 7347 2013 1996 1005 17779 1005 1998 1005 1043 21600 10994 2475 1005 14555 1012 1996 3800 1997 1037 3853 10236 4842 2003 2000 2202 2070 1997 1996 6567 2041 1997 2115 2398 1010 2061 2017 2097 2467 2022 3132 2000 1996 6567 2761 18035 2011 1996 3853 3642 2099 1012 1045 3811 16755 3071 4553 1996 1005 17779 1005 2030 1005 1043 21600 10994 2475 1005 14555 1010 2021 2122 14555 2024 2062 6179 2005 2951 8993 2084 2005 2108 5541 2007 2951 5107 22318 1012 2023 3437 2003 2005 2216 2040 2215 2000 3443 1037 28749 5107 1012 1996 2206 2832 2089 2202 2431 1037 2154 1010 2021 2008 2003 6022 2625 2051 2084 2009 2052 2202 2000 20578 1996 1005 17779 1005 2030 1005 1043 21600 10994 2475 1005 14555 2046 1996 4338 2017 2215 1012 2023 3475 1005 1056 1037 6256 1997 2593 1997 2216 102\n"
     ]
    },
    {
     "name": "stderr",
     "output_type": "stream",
     "text": [
      "11/21/2019 09:25:18 - INFO - bert -   input_mask: 1 1 1 1 1 1 1 1 1 1 1 1 1 1 1 1 1 1 1 1 1 1 1 1 1 1 1 1 1 1 1 1 1 1 1 1 1 1 1 1 1 1 1 1 1 1 1 1 1 1 1 1 1 1 1 1 1 1 1 1 1 1 1 1 1 1 1 1 1 1 1 1 1 1 1 1 1 1 1 1 1 1 1 1 1 1 1 1 1 1 1 1 1 1 1 1 1 1 1 1 1 1 1 1 1 1 1 1 1 1 1 1 1 1 1 1 1 1 1 1 1 1 1 1 1 1 1 1 1 1 1 1 1 1 1 1 1 1 1 1 1 1 1 1 1 1 1 1 1 1 1 1 1 1 1 1 1 1 1 1 1 1 1 1 1 1 1 1 1 1 1 1 1 1 1 1 1 1 1 1 1 1 1 1 1 1 1 1 1 1 1 1 1 1 1 1 1 1 1 1\n",
      "11/21/2019 09:25:18 - INFO - bert -   segment_ids: 0 0 0 0 0 0 0 0 0 0 0 0 0 1 1 1 1 1 1 1 1 1 1 1 1 1 1 1 1 1 1 1 1 1 1 1 1 1 1 1 1 1 1 1 1 1 1 1 1 1 1 1 1 1 1 1 1 1 1 1 1 1 1 1 1 1 1 1 1 1 1 1 1 1 1 1 1 1 1 1 1 1 1 1 1 1 1 1 1 1 1 1 1 1 1 1 1 1 1 1 1 1 1 1 1 1 1 1 1 1 1 1 1 1 1 1 1 1 1 1 1 1 1 1 1 1 1 1 1 1 1 1 1 1 1 1 1 1 1 1 1 1 1 1 1 1 1 1 1 1 1 1 1 1 1 1 1 1 1 1 1 1 1 1 1 1 1 1 1 1 1 1 1 1 1 1 1 1 1 1 1 1 1 1 1 1 1 1 1 1 1 1 1 1 1 1 1 1 1 1\n",
      "11/21/2019 09:25:18 - INFO - bert -   *** Example ***\n",
      "11/21/2019 09:25:18 - INFO - bert -   tokens: [CLS] how do i make a network diagram in d ##3 ? [SEP] the authentic ##ode ( t ##m ) times ##tam ##p protocol pre ##dates the time - stamp protocol defined in rfc ##31 ##6 ##1 . however ( and ii ##rc ) there is no direct support for asking a times ##tam ##p built in . net . so you can either : build a ts ##p client to get your times ##tam ##ps ; or pig ##gy ##back the existing free times ##tam ##p servers that are around for code signing . while i would suggest # 1 in most cases ( it ' s a standard and more future proof ) i ' m not sure if there are c # libraries available that supports that today . if you ' re interested in # 2 then i know ( because i ' ve written it ; - ) that the code is available inside mono ( mit . x ##11 licensed ) to support authentic ##ode ( t ##m ) and code signing ( including times ##tam ##ping ) . [SEP]\n",
      "11/21/2019 09:25:18 - INFO - bert -   input_ids: 101 2129 2079 1045 2191 1037 2897 16403 1999 1040 2509 1029 102 1996 14469 10244 1006 1056 2213 1007 2335 15464 2361 8778 3653 27122 1996 2051 1011 11359 8778 4225 1999 14645 21486 2575 2487 1012 2174 1006 1998 2462 11890 1007 2045 2003 2053 3622 2490 2005 4851 1037 2335 15464 2361 2328 1999 1012 5658 1012 2061 2017 2064 2593 1024 3857 1037 24529 2361 7396 2000 2131 2115 2335 15464 4523 1025 2030 10369 6292 5963 1996 4493 2489 2335 15464 2361 14903 2008 2024 2105 2005 3642 6608 1012 2096 1045 2052 6592 1001 1015 1999 2087 3572 1006 2009 1005 1055 1037 3115 1998 2062 2925 6947 1007 1045 1005 1049 2025 2469 2065 2045 2024 1039 1001 8860 2800 2008 6753 2008 2651 1012 2065 2017 1005 2128 4699 1999 1001 1016 2059 1045 2113 1006 2138 1045 1005 2310 2517 2009 1025 1011 1007 2008 1996 3642 2003 2800 2503 18847 1006 10210 1012 1060 14526 7000 1007 2000 2490 14469 10244 1006 1056 2213 1007 1998 3642 6608 1006 2164 2335 15464 4691 1007 1012 102 0 0 0 0 0 0 0 0 0 0 0 0 0 0\n",
      "11/21/2019 09:25:18 - INFO - bert -   input_mask: 1 1 1 1 1 1 1 1 1 1 1 1 1 1 1 1 1 1 1 1 1 1 1 1 1 1 1 1 1 1 1 1 1 1 1 1 1 1 1 1 1 1 1 1 1 1 1 1 1 1 1 1 1 1 1 1 1 1 1 1 1 1 1 1 1 1 1 1 1 1 1 1 1 1 1 1 1 1 1 1 1 1 1 1 1 1 1 1 1 1 1 1 1 1 1 1 1 1 1 1 1 1 1 1 1 1 1 1 1 1 1 1 1 1 1 1 1 1 1 1 1 1 1 1 1 1 1 1 1 1 1 1 1 1 1 1 1 1 1 1 1 1 1 1 1 1 1 1 1 1 1 1 1 1 1 1 1 1 1 1 1 1 1 1 1 1 1 1 1 1 1 1 1 1 1 1 1 1 1 1 1 1 1 1 1 1 0 0 0 0 0 0 0 0 0 0 0 0 0 0\n",
      "11/21/2019 09:25:18 - INFO - bert -   segment_ids: 0 0 0 0 0 0 0 0 0 0 0 0 0 1 1 1 1 1 1 1 1 1 1 1 1 1 1 1 1 1 1 1 1 1 1 1 1 1 1 1 1 1 1 1 1 1 1 1 1 1 1 1 1 1 1 1 1 1 1 1 1 1 1 1 1 1 1 1 1 1 1 1 1 1 1 1 1 1 1 1 1 1 1 1 1 1 1 1 1 1 1 1 1 1 1 1 1 1 1 1 1 1 1 1 1 1 1 1 1 1 1 1 1 1 1 1 1 1 1 1 1 1 1 1 1 1 1 1 1 1 1 1 1 1 1 1 1 1 1 1 1 1 1 1 1 1 1 1 1 1 1 1 1 1 1 1 1 1 1 1 1 1 1 1 1 1 1 1 1 1 1 1 1 1 1 1 1 1 1 1 1 1 1 1 1 1 0 0 0 0 0 0 0 0 0 0 0 0 0 0\n",
      "11/21/2019 09:25:22 - INFO - bert -   ***** Running evaluation *****\n",
      "11/21/2019 09:25:22 - INFO - bert -     Num examples = 3110\n",
      "11/21/2019 09:25:22 - INFO - bert -     Batch size = 128\n"
     ]
    },
    {
     "data": {
      "text/html": [
       "\n",
       "    <div>\n",
       "        <style>\n",
       "            /* Turns off some styling */\n",
       "            progress {\n",
       "                /* gets rid of default border in Firefox and Opera. */\n",
       "                border: none;\n",
       "                /* Needs to be in here for Safari polyfill so background images work as expected. */\n",
       "                background-size: auto;\n",
       "            }\n",
       "            .progress-bar-interrupted, .progress-bar-interrupted::-webkit-progress-bar {\n",
       "                background: #F44336;\n",
       "            }\n",
       "        </style>\n",
       "      <progress value='25' class='' max='25', style='width:300px; height:20px; vertical-align: middle;'></progress>\n",
       "      100.00% [25/25 00:19<00:00]\n",
       "    </div>\n",
       "    "
      ],
      "text/plain": [
       "<IPython.core.display.HTML object>"
      ]
     },
     "metadata": {},
     "output_type": "display_data"
    },
    {
     "name": "stderr",
     "output_type": "stream",
     "text": [
      "11/21/2019 09:25:41 - INFO - bert -   *** Example ***\n",
      "11/21/2019 09:25:41 - INFO - bert -   tokens: [CLS] how do i plot 2 data ##set ##s ? [SEP] points in is zero width , so you need to set the width of dod ##ging : [SEP]\n",
      "11/21/2019 09:25:41 - INFO - bert -   input_ids: 101 2129 2079 1045 5436 1016 2951 13462 2015 1029 102 2685 1999 2003 5717 9381 1010 2061 2017 2342 2000 2275 1996 9381 1997 26489 4726 1024 102 0 0 0 0 0 0 0 0 0 0 0 0 0 0 0 0 0 0 0 0 0 0 0 0 0 0 0 0 0 0 0 0 0 0 0 0 0 0 0 0 0 0 0 0 0 0 0 0 0 0 0 0 0 0 0 0 0 0 0 0 0 0 0 0 0 0 0 0 0 0 0 0 0 0 0 0 0 0 0 0 0 0 0 0 0 0 0 0 0 0 0 0 0 0 0 0 0 0 0 0 0 0 0 0 0 0 0 0 0 0 0 0 0 0 0 0 0 0 0 0 0 0 0 0 0 0 0 0 0 0 0 0 0 0 0 0 0 0 0 0 0 0 0 0 0 0 0 0 0 0 0 0 0 0 0 0 0 0 0 0 0 0 0 0 0 0 0 0 0 0 0\n",
      "11/21/2019 09:25:41 - INFO - bert -   input_mask: 1 1 1 1 1 1 1 1 1 1 1 1 1 1 1 1 1 1 1 1 1 1 1 1 1 1 1 1 1 0 0 0 0 0 0 0 0 0 0 0 0 0 0 0 0 0 0 0 0 0 0 0 0 0 0 0 0 0 0 0 0 0 0 0 0 0 0 0 0 0 0 0 0 0 0 0 0 0 0 0 0 0 0 0 0 0 0 0 0 0 0 0 0 0 0 0 0 0 0 0 0 0 0 0 0 0 0 0 0 0 0 0 0 0 0 0 0 0 0 0 0 0 0 0 0 0 0 0 0 0 0 0 0 0 0 0 0 0 0 0 0 0 0 0 0 0 0 0 0 0 0 0 0 0 0 0 0 0 0 0 0 0 0 0 0 0 0 0 0 0 0 0 0 0 0 0 0 0 0 0 0 0 0 0 0 0 0 0 0 0 0 0 0 0 0 0 0 0 0 0\n",
      "11/21/2019 09:25:41 - INFO - bert -   segment_ids: 0 0 0 0 0 0 0 0 0 0 0 1 1 1 1 1 1 1 1 1 1 1 1 1 1 1 1 1 1 0 0 0 0 0 0 0 0 0 0 0 0 0 0 0 0 0 0 0 0 0 0 0 0 0 0 0 0 0 0 0 0 0 0 0 0 0 0 0 0 0 0 0 0 0 0 0 0 0 0 0 0 0 0 0 0 0 0 0 0 0 0 0 0 0 0 0 0 0 0 0 0 0 0 0 0 0 0 0 0 0 0 0 0 0 0 0 0 0 0 0 0 0 0 0 0 0 0 0 0 0 0 0 0 0 0 0 0 0 0 0 0 0 0 0 0 0 0 0 0 0 0 0 0 0 0 0 0 0 0 0 0 0 0 0 0 0 0 0 0 0 0 0 0 0 0 0 0 0 0 0 0 0 0 0 0 0 0 0 0 0 0 0 0 0 0 0 0 0 0 0\n",
      "11/21/2019 09:25:41 - INFO - bert -   *** Example ***\n",
      "11/21/2019 09:25:41 - INFO - bert -   tokens: [CLS] how do i plot 2 data ##set ##s ? [SEP] uno ##con ##v can convert em ##f to pdf and ti ##ff via command - line : for pdf : uno ##con ##v file ##name . em ##f for ti ##ff : uno ##con ##v - f ti ##ff file ##name . em ##f it doesn ' t seem to support ps file export , though . you are still required to install open ##off ##ice . org / libre ##off ##ice because this tool uses them as the back ##end . [SEP]\n",
      "11/21/2019 09:25:41 - INFO - bert -   input_ids: 101 2129 2079 1045 5436 1016 2951 13462 2015 1029 102 27776 8663 2615 2064 10463 7861 2546 2000 11135 1998 14841 4246 3081 3094 1011 2240 1024 2005 11135 1024 27776 8663 2615 5371 18442 1012 7861 2546 2005 14841 4246 1024 27776 8663 2615 1011 1042 14841 4246 5371 18442 1012 7861 2546 2009 2987 1005 1056 4025 2000 2490 8827 5371 9167 1010 2295 1012 2017 2024 2145 3223 2000 16500 2330 7245 6610 1012 8917 1013 21091 7245 6610 2138 2023 6994 3594 2068 2004 1996 2067 10497 1012 102 0 0 0 0 0 0 0 0 0 0 0 0 0 0 0 0 0 0 0 0 0 0 0 0 0 0 0 0 0 0 0 0 0 0 0 0 0 0 0 0 0 0 0 0 0 0 0 0 0 0 0 0 0 0 0 0 0 0 0 0 0 0 0 0 0 0 0 0 0 0 0 0 0 0 0 0 0 0 0 0 0 0 0 0 0 0 0 0 0 0 0 0 0 0 0 0 0 0 0 0 0 0 0 0 0 0\n",
      "11/21/2019 09:25:41 - INFO - bert -   input_mask: 1 1 1 1 1 1 1 1 1 1 1 1 1 1 1 1 1 1 1 1 1 1 1 1 1 1 1 1 1 1 1 1 1 1 1 1 1 1 1 1 1 1 1 1 1 1 1 1 1 1 1 1 1 1 1 1 1 1 1 1 1 1 1 1 1 1 1 1 1 1 1 1 1 1 1 1 1 1 1 1 1 1 1 1 1 1 1 1 1 1 1 1 1 1 0 0 0 0 0 0 0 0 0 0 0 0 0 0 0 0 0 0 0 0 0 0 0 0 0 0 0 0 0 0 0 0 0 0 0 0 0 0 0 0 0 0 0 0 0 0 0 0 0 0 0 0 0 0 0 0 0 0 0 0 0 0 0 0 0 0 0 0 0 0 0 0 0 0 0 0 0 0 0 0 0 0 0 0 0 0 0 0 0 0 0 0 0 0 0 0 0 0 0 0 0 0 0 0 0 0\n",
      "11/21/2019 09:25:41 - INFO - bert -   segment_ids: 0 0 0 0 0 0 0 0 0 0 0 1 1 1 1 1 1 1 1 1 1 1 1 1 1 1 1 1 1 1 1 1 1 1 1 1 1 1 1 1 1 1 1 1 1 1 1 1 1 1 1 1 1 1 1 1 1 1 1 1 1 1 1 1 1 1 1 1 1 1 1 1 1 1 1 1 1 1 1 1 1 1 1 1 1 1 1 1 1 1 1 1 1 1 0 0 0 0 0 0 0 0 0 0 0 0 0 0 0 0 0 0 0 0 0 0 0 0 0 0 0 0 0 0 0 0 0 0 0 0 0 0 0 0 0 0 0 0 0 0 0 0 0 0 0 0 0 0 0 0 0 0 0 0 0 0 0 0 0 0 0 0 0 0 0 0 0 0 0 0 0 0 0 0 0 0 0 0 0 0 0 0 0 0 0 0 0 0 0 0 0 0 0 0 0 0 0 0 0 0\n",
      "11/21/2019 09:25:41 - INFO - bert -   *** Example ***\n",
      "11/21/2019 09:25:41 - INFO - bert -   tokens: [CLS] how do i plot 2 data ##set ##s ? [SEP] looking at the source for fl ##ot 0 . 7 , there is not included functionality to highlight lines . however , if you wanted to extend fl ##ot to do what you want . . . fl ##ot has an \" over ##lay \" canvas which it uses to do effects like highlighting . this has the associated context in the source . if you look at the method you can see how highlighting is done for data ##points . you could write a similar method for lines . the function it ##erate ##s over an array of highlight ##able objects - - you would want to extend that to handle \" line \" objects as well . finally you would need to write a method to add / remove lines from the array of highlight ##able objects , analogous to the existing and methods . notice these methods are made public using the lines : [SEP]\n",
      "11/21/2019 09:25:41 - INFO - bert -   input_ids: 101 2129 2079 1045 5436 1016 2951 13462 2015 1029 102 2559 2012 1996 3120 2005 13109 4140 1014 1012 1021 1010 2045 2003 2025 2443 15380 2000 12944 3210 1012 2174 1010 2065 2017 2359 2000 7949 13109 4140 2000 2079 2054 2017 2215 1012 1012 1012 13109 4140 2038 2019 1000 2058 8485 1000 10683 2029 2009 3594 2000 2079 3896 2066 20655 1012 2023 2038 1996 3378 6123 1999 1996 3120 1012 2065 2017 2298 2012 1996 4118 2017 2064 2156 2129 20655 2003 2589 2005 2951 26521 1012 2017 2071 4339 1037 2714 4118 2005 3210 1012 1996 3853 2009 22139 2015 2058 2019 9140 1997 12944 3085 5200 1011 1011 2017 2052 2215 2000 7949 2008 2000 5047 1000 2240 1000 5200 2004 2092 1012 2633 2017 2052 2342 2000 4339 1037 4118 2000 5587 1013 6366 3210 2013 1996 9140 1997 12944 3085 5200 1010 19639 2000 1996 4493 1998 4725 1012 5060 2122 4725 2024 2081 2270 2478 1996 3210 1024 102 0 0 0 0 0 0 0 0 0 0 0 0 0 0 0 0 0 0 0 0 0 0 0 0 0 0 0 0 0 0 0\n",
      "11/21/2019 09:25:41 - INFO - bert -   input_mask: 1 1 1 1 1 1 1 1 1 1 1 1 1 1 1 1 1 1 1 1 1 1 1 1 1 1 1 1 1 1 1 1 1 1 1 1 1 1 1 1 1 1 1 1 1 1 1 1 1 1 1 1 1 1 1 1 1 1 1 1 1 1 1 1 1 1 1 1 1 1 1 1 1 1 1 1 1 1 1 1 1 1 1 1 1 1 1 1 1 1 1 1 1 1 1 1 1 1 1 1 1 1 1 1 1 1 1 1 1 1 1 1 1 1 1 1 1 1 1 1 1 1 1 1 1 1 1 1 1 1 1 1 1 1 1 1 1 1 1 1 1 1 1 1 1 1 1 1 1 1 1 1 1 1 1 1 1 1 1 1 1 1 1 1 1 1 1 1 1 0 0 0 0 0 0 0 0 0 0 0 0 0 0 0 0 0 0 0 0 0 0 0 0 0 0 0 0 0 0 0\n",
      "11/21/2019 09:25:41 - INFO - bert -   segment_ids: 0 0 0 0 0 0 0 0 0 0 0 1 1 1 1 1 1 1 1 1 1 1 1 1 1 1 1 1 1 1 1 1 1 1 1 1 1 1 1 1 1 1 1 1 1 1 1 1 1 1 1 1 1 1 1 1 1 1 1 1 1 1 1 1 1 1 1 1 1 1 1 1 1 1 1 1 1 1 1 1 1 1 1 1 1 1 1 1 1 1 1 1 1 1 1 1 1 1 1 1 1 1 1 1 1 1 1 1 1 1 1 1 1 1 1 1 1 1 1 1 1 1 1 1 1 1 1 1 1 1 1 1 1 1 1 1 1 1 1 1 1 1 1 1 1 1 1 1 1 1 1 1 1 1 1 1 1 1 1 1 1 1 1 1 1 1 1 1 1 0 0 0 0 0 0 0 0 0 0 0 0 0 0 0 0 0 0 0 0 0 0 0 0 0 0 0 0 0 0 0\n",
      "11/21/2019 09:25:41 - INFO - bert -   *** Example ***\n",
      "11/21/2019 09:25:41 - INFO - bert -   tokens: [CLS] how do i plot 2 data ##set ##s ? [SEP] this question has been sitting long enough , that it is time to document an answer for poster ##ity . the short answer is that highly - customized data visual ##izations cannot be done using function wrap ##pers from the ' lattice ' and ' g ##gp ##lot ##2 ' packages . the purpose of a function wrap ##per is to take some of the decisions out of your hands , so you will always be limited to the decisions originally envisioned by the function code ##r . i highly recommend everyone learn the ' lattice ' or ' g ##gp ##lot ##2 ' packages , but these packages are more useful for data exploration than for being creative with data visual ##izations . this answer is for those who want to create a customized visual . the following process may take half a day , but that is significantly less time than it would take to hack the ' lattice ' or ' g ##gp ##lot ##2 ' packages into the shape you want . this isn ' t a criticism of either of those packages ; [SEP]\n",
      "11/21/2019 09:25:41 - INFO - bert -   input_ids: 101 2129 2079 1045 5436 1016 2951 13462 2015 1029 102 2023 3160 2038 2042 3564 2146 2438 1010 2008 2009 2003 2051 2000 6254 2019 3437 2005 13082 3012 1012 1996 2460 3437 2003 2008 3811 1011 28749 2951 5107 22318 3685 2022 2589 2478 3853 10236 7347 2013 1996 1005 17779 1005 1998 1005 1043 21600 10994 2475 1005 14555 1012 1996 3800 1997 1037 3853 10236 4842 2003 2000 2202 2070 1997 1996 6567 2041 1997 2115 2398 1010 2061 2017 2097 2467 2022 3132 2000 1996 6567 2761 18035 2011 1996 3853 3642 2099 1012 1045 3811 16755 3071 4553 1996 1005 17779 1005 2030 1005 1043 21600 10994 2475 1005 14555 1010 2021 2122 14555 2024 2062 6179 2005 2951 8993 2084 2005 2108 5541 2007 2951 5107 22318 1012 2023 3437 2003 2005 2216 2040 2215 2000 3443 1037 28749 5107 1012 1996 2206 2832 2089 2202 2431 1037 2154 1010 2021 2008 2003 6022 2625 2051 2084 2009 2052 2202 2000 20578 1996 1005 17779 1005 2030 1005 1043 21600 10994 2475 1005 14555 2046 1996 4338 2017 2215 1012 2023 3475 1005 1056 1037 6256 1997 2593 1997 2216 14555 1025 102\n"
     ]
    },
    {
     "name": "stderr",
     "output_type": "stream",
     "text": [
      "11/21/2019 09:25:41 - INFO - bert -   input_mask: 1 1 1 1 1 1 1 1 1 1 1 1 1 1 1 1 1 1 1 1 1 1 1 1 1 1 1 1 1 1 1 1 1 1 1 1 1 1 1 1 1 1 1 1 1 1 1 1 1 1 1 1 1 1 1 1 1 1 1 1 1 1 1 1 1 1 1 1 1 1 1 1 1 1 1 1 1 1 1 1 1 1 1 1 1 1 1 1 1 1 1 1 1 1 1 1 1 1 1 1 1 1 1 1 1 1 1 1 1 1 1 1 1 1 1 1 1 1 1 1 1 1 1 1 1 1 1 1 1 1 1 1 1 1 1 1 1 1 1 1 1 1 1 1 1 1 1 1 1 1 1 1 1 1 1 1 1 1 1 1 1 1 1 1 1 1 1 1 1 1 1 1 1 1 1 1 1 1 1 1 1 1 1 1 1 1 1 1 1 1 1 1 1 1 1 1 1 1 1 1\n",
      "11/21/2019 09:25:41 - INFO - bert -   segment_ids: 0 0 0 0 0 0 0 0 0 0 0 1 1 1 1 1 1 1 1 1 1 1 1 1 1 1 1 1 1 1 1 1 1 1 1 1 1 1 1 1 1 1 1 1 1 1 1 1 1 1 1 1 1 1 1 1 1 1 1 1 1 1 1 1 1 1 1 1 1 1 1 1 1 1 1 1 1 1 1 1 1 1 1 1 1 1 1 1 1 1 1 1 1 1 1 1 1 1 1 1 1 1 1 1 1 1 1 1 1 1 1 1 1 1 1 1 1 1 1 1 1 1 1 1 1 1 1 1 1 1 1 1 1 1 1 1 1 1 1 1 1 1 1 1 1 1 1 1 1 1 1 1 1 1 1 1 1 1 1 1 1 1 1 1 1 1 1 1 1 1 1 1 1 1 1 1 1 1 1 1 1 1 1 1 1 1 1 1 1 1 1 1 1 1 1 1 1 1 1 1\n",
      "11/21/2019 09:25:41 - INFO - bert -   *** Example ***\n",
      "11/21/2019 09:25:41 - INFO - bert -   tokens: [CLS] how do i plot 2 data ##set ##s ? [SEP] the authentic ##ode ( t ##m ) times ##tam ##p protocol pre ##dates the time - stamp protocol defined in rfc ##31 ##6 ##1 . however ( and ii ##rc ) there is no direct support for asking a times ##tam ##p built in . net . so you can either : build a ts ##p client to get your times ##tam ##ps ; or pig ##gy ##back the existing free times ##tam ##p servers that are around for code signing . while i would suggest # 1 in most cases ( it ' s a standard and more future proof ) i ' m not sure if there are c # libraries available that supports that today . if you ' re interested in # 2 then i know ( because i ' ve written it ; - ) that the code is available inside mono ( mit . x ##11 licensed ) to support authentic ##ode ( t ##m ) and code signing ( including times ##tam ##ping ) . [SEP]\n",
      "11/21/2019 09:25:41 - INFO - bert -   input_ids: 101 2129 2079 1045 5436 1016 2951 13462 2015 1029 102 1996 14469 10244 1006 1056 2213 1007 2335 15464 2361 8778 3653 27122 1996 2051 1011 11359 8778 4225 1999 14645 21486 2575 2487 1012 2174 1006 1998 2462 11890 1007 2045 2003 2053 3622 2490 2005 4851 1037 2335 15464 2361 2328 1999 1012 5658 1012 2061 2017 2064 2593 1024 3857 1037 24529 2361 7396 2000 2131 2115 2335 15464 4523 1025 2030 10369 6292 5963 1996 4493 2489 2335 15464 2361 14903 2008 2024 2105 2005 3642 6608 1012 2096 1045 2052 6592 1001 1015 1999 2087 3572 1006 2009 1005 1055 1037 3115 1998 2062 2925 6947 1007 1045 1005 1049 2025 2469 2065 2045 2024 1039 1001 8860 2800 2008 6753 2008 2651 1012 2065 2017 1005 2128 4699 1999 1001 1016 2059 1045 2113 1006 2138 1045 1005 2310 2517 2009 1025 1011 1007 2008 1996 3642 2003 2800 2503 18847 1006 10210 1012 1060 14526 7000 1007 2000 2490 14469 10244 1006 1056 2213 1007 1998 3642 6608 1006 2164 2335 15464 4691 1007 1012 102 0 0 0 0 0 0 0 0 0 0 0 0 0 0 0 0\n",
      "11/21/2019 09:25:41 - INFO - bert -   input_mask: 1 1 1 1 1 1 1 1 1 1 1 1 1 1 1 1 1 1 1 1 1 1 1 1 1 1 1 1 1 1 1 1 1 1 1 1 1 1 1 1 1 1 1 1 1 1 1 1 1 1 1 1 1 1 1 1 1 1 1 1 1 1 1 1 1 1 1 1 1 1 1 1 1 1 1 1 1 1 1 1 1 1 1 1 1 1 1 1 1 1 1 1 1 1 1 1 1 1 1 1 1 1 1 1 1 1 1 1 1 1 1 1 1 1 1 1 1 1 1 1 1 1 1 1 1 1 1 1 1 1 1 1 1 1 1 1 1 1 1 1 1 1 1 1 1 1 1 1 1 1 1 1 1 1 1 1 1 1 1 1 1 1 1 1 1 1 1 1 1 1 1 1 1 1 1 1 1 1 1 1 1 1 1 1 0 0 0 0 0 0 0 0 0 0 0 0 0 0 0 0\n",
      "11/21/2019 09:25:41 - INFO - bert -   segment_ids: 0 0 0 0 0 0 0 0 0 0 0 1 1 1 1 1 1 1 1 1 1 1 1 1 1 1 1 1 1 1 1 1 1 1 1 1 1 1 1 1 1 1 1 1 1 1 1 1 1 1 1 1 1 1 1 1 1 1 1 1 1 1 1 1 1 1 1 1 1 1 1 1 1 1 1 1 1 1 1 1 1 1 1 1 1 1 1 1 1 1 1 1 1 1 1 1 1 1 1 1 1 1 1 1 1 1 1 1 1 1 1 1 1 1 1 1 1 1 1 1 1 1 1 1 1 1 1 1 1 1 1 1 1 1 1 1 1 1 1 1 1 1 1 1 1 1 1 1 1 1 1 1 1 1 1 1 1 1 1 1 1 1 1 1 1 1 1 1 1 1 1 1 1 1 1 1 1 1 1 1 1 1 1 1 0 0 0 0 0 0 0 0 0 0 0 0 0 0 0 0\n",
      "11/21/2019 09:25:45 - INFO - bert -   ***** Running evaluation *****\n",
      "11/21/2019 09:25:45 - INFO - bert -     Num examples = 3110\n",
      "11/21/2019 09:25:45 - INFO - bert -     Batch size = 128\n"
     ]
    },
    {
     "data": {
      "text/html": [
       "\n",
       "    <div>\n",
       "        <style>\n",
       "            /* Turns off some styling */\n",
       "            progress {\n",
       "                /* gets rid of default border in Firefox and Opera. */\n",
       "                border: none;\n",
       "                /* Needs to be in here for Safari polyfill so background images work as expected. */\n",
       "                background-size: auto;\n",
       "            }\n",
       "            .progress-bar-interrupted, .progress-bar-interrupted::-webkit-progress-bar {\n",
       "                background: #F44336;\n",
       "            }\n",
       "        </style>\n",
       "      <progress value='25' class='' max='25', style='width:300px; height:20px; vertical-align: middle;'></progress>\n",
       "      100.00% [25/25 00:19<00:00]\n",
       "    </div>\n",
       "    "
      ],
      "text/plain": [
       "<IPython.core.display.HTML object>"
      ]
     },
     "metadata": {},
     "output_type": "display_data"
    },
    {
     "name": "stderr",
     "output_type": "stream",
     "text": [
      "11/21/2019 09:26:05 - INFO - bert -   *** Example ***\n",
      "11/21/2019 09:26:05 - INFO - bert -   tokens: [CLS] how can i an ##imate a bar chart in python ? [SEP] points in is zero width , so you need to set the width of dod ##ging : [SEP]\n",
      "11/21/2019 09:26:05 - INFO - bert -   input_ids: 101 2129 2064 1045 2019 21499 1037 3347 3673 1999 18750 1029 102 2685 1999 2003 5717 9381 1010 2061 2017 2342 2000 2275 1996 9381 1997 26489 4726 1024 102 0 0 0 0 0 0 0 0 0 0 0 0 0 0 0 0 0 0 0 0 0 0 0 0 0 0 0 0 0 0 0 0 0 0 0 0 0 0 0 0 0 0 0 0 0 0 0 0 0 0 0 0 0 0 0 0 0 0 0 0 0 0 0 0 0 0 0 0 0 0 0 0 0 0 0 0 0 0 0 0 0 0 0 0 0 0 0 0 0 0 0 0 0 0 0 0 0 0 0 0 0 0 0 0 0 0 0 0 0 0 0 0 0 0 0 0 0 0 0 0 0 0 0 0 0 0 0 0 0 0 0 0 0 0 0 0 0 0 0 0 0 0 0 0 0 0 0 0 0 0 0 0 0 0 0 0 0 0 0 0 0 0 0 0 0 0 0 0 0\n",
      "11/21/2019 09:26:05 - INFO - bert -   input_mask: 1 1 1 1 1 1 1 1 1 1 1 1 1 1 1 1 1 1 1 1 1 1 1 1 1 1 1 1 1 1 1 0 0 0 0 0 0 0 0 0 0 0 0 0 0 0 0 0 0 0 0 0 0 0 0 0 0 0 0 0 0 0 0 0 0 0 0 0 0 0 0 0 0 0 0 0 0 0 0 0 0 0 0 0 0 0 0 0 0 0 0 0 0 0 0 0 0 0 0 0 0 0 0 0 0 0 0 0 0 0 0 0 0 0 0 0 0 0 0 0 0 0 0 0 0 0 0 0 0 0 0 0 0 0 0 0 0 0 0 0 0 0 0 0 0 0 0 0 0 0 0 0 0 0 0 0 0 0 0 0 0 0 0 0 0 0 0 0 0 0 0 0 0 0 0 0 0 0 0 0 0 0 0 0 0 0 0 0 0 0 0 0 0 0 0 0 0 0 0 0\n",
      "11/21/2019 09:26:05 - INFO - bert -   segment_ids: 0 0 0 0 0 0 0 0 0 0 0 0 0 1 1 1 1 1 1 1 1 1 1 1 1 1 1 1 1 1 1 0 0 0 0 0 0 0 0 0 0 0 0 0 0 0 0 0 0 0 0 0 0 0 0 0 0 0 0 0 0 0 0 0 0 0 0 0 0 0 0 0 0 0 0 0 0 0 0 0 0 0 0 0 0 0 0 0 0 0 0 0 0 0 0 0 0 0 0 0 0 0 0 0 0 0 0 0 0 0 0 0 0 0 0 0 0 0 0 0 0 0 0 0 0 0 0 0 0 0 0 0 0 0 0 0 0 0 0 0 0 0 0 0 0 0 0 0 0 0 0 0 0 0 0 0 0 0 0 0 0 0 0 0 0 0 0 0 0 0 0 0 0 0 0 0 0 0 0 0 0 0 0 0 0 0 0 0 0 0 0 0 0 0 0 0 0 0 0 0\n",
      "11/21/2019 09:26:05 - INFO - bert -   *** Example ***\n",
      "11/21/2019 09:26:05 - INFO - bert -   tokens: [CLS] how can i an ##imate a bar chart in python ? [SEP] uno ##con ##v can convert em ##f to pdf and ti ##ff via command - line : for pdf : uno ##con ##v file ##name . em ##f for ti ##ff : uno ##con ##v - f ti ##ff file ##name . em ##f it doesn ' t seem to support ps file export , though . you are still required to install open ##off ##ice . org / libre ##off ##ice because this tool uses them as the back ##end . [SEP]\n",
      "11/21/2019 09:26:05 - INFO - bert -   input_ids: 101 2129 2064 1045 2019 21499 1037 3347 3673 1999 18750 1029 102 27776 8663 2615 2064 10463 7861 2546 2000 11135 1998 14841 4246 3081 3094 1011 2240 1024 2005 11135 1024 27776 8663 2615 5371 18442 1012 7861 2546 2005 14841 4246 1024 27776 8663 2615 1011 1042 14841 4246 5371 18442 1012 7861 2546 2009 2987 1005 1056 4025 2000 2490 8827 5371 9167 1010 2295 1012 2017 2024 2145 3223 2000 16500 2330 7245 6610 1012 8917 1013 21091 7245 6610 2138 2023 6994 3594 2068 2004 1996 2067 10497 1012 102 0 0 0 0 0 0 0 0 0 0 0 0 0 0 0 0 0 0 0 0 0 0 0 0 0 0 0 0 0 0 0 0 0 0 0 0 0 0 0 0 0 0 0 0 0 0 0 0 0 0 0 0 0 0 0 0 0 0 0 0 0 0 0 0 0 0 0 0 0 0 0 0 0 0 0 0 0 0 0 0 0 0 0 0 0 0 0 0 0 0 0 0 0 0 0 0 0 0 0 0 0 0 0 0\n",
      "11/21/2019 09:26:05 - INFO - bert -   input_mask: 1 1 1 1 1 1 1 1 1 1 1 1 1 1 1 1 1 1 1 1 1 1 1 1 1 1 1 1 1 1 1 1 1 1 1 1 1 1 1 1 1 1 1 1 1 1 1 1 1 1 1 1 1 1 1 1 1 1 1 1 1 1 1 1 1 1 1 1 1 1 1 1 1 1 1 1 1 1 1 1 1 1 1 1 1 1 1 1 1 1 1 1 1 1 1 1 0 0 0 0 0 0 0 0 0 0 0 0 0 0 0 0 0 0 0 0 0 0 0 0 0 0 0 0 0 0 0 0 0 0 0 0 0 0 0 0 0 0 0 0 0 0 0 0 0 0 0 0 0 0 0 0 0 0 0 0 0 0 0 0 0 0 0 0 0 0 0 0 0 0 0 0 0 0 0 0 0 0 0 0 0 0 0 0 0 0 0 0 0 0 0 0 0 0 0 0 0 0 0 0\n",
      "11/21/2019 09:26:05 - INFO - bert -   segment_ids: 0 0 0 0 0 0 0 0 0 0 0 0 0 1 1 1 1 1 1 1 1 1 1 1 1 1 1 1 1 1 1 1 1 1 1 1 1 1 1 1 1 1 1 1 1 1 1 1 1 1 1 1 1 1 1 1 1 1 1 1 1 1 1 1 1 1 1 1 1 1 1 1 1 1 1 1 1 1 1 1 1 1 1 1 1 1 1 1 1 1 1 1 1 1 1 1 0 0 0 0 0 0 0 0 0 0 0 0 0 0 0 0 0 0 0 0 0 0 0 0 0 0 0 0 0 0 0 0 0 0 0 0 0 0 0 0 0 0 0 0 0 0 0 0 0 0 0 0 0 0 0 0 0 0 0 0 0 0 0 0 0 0 0 0 0 0 0 0 0 0 0 0 0 0 0 0 0 0 0 0 0 0 0 0 0 0 0 0 0 0 0 0 0 0 0 0 0 0 0 0\n",
      "11/21/2019 09:26:05 - INFO - bert -   *** Example ***\n",
      "11/21/2019 09:26:05 - INFO - bert -   tokens: [CLS] how can i an ##imate a bar chart in python ? [SEP] looking at the source for fl ##ot 0 . 7 , there is not included functionality to highlight lines . however , if you wanted to extend fl ##ot to do what you want . . . fl ##ot has an \" over ##lay \" canvas which it uses to do effects like highlighting . this has the associated context in the source . if you look at the method you can see how highlighting is done for data ##points . you could write a similar method for lines . the function it ##erate ##s over an array of highlight ##able objects - - you would want to extend that to handle \" line \" objects as well . finally you would need to write a method to add / remove lines from the array of highlight ##able objects , analogous to the existing and methods . notice these methods are made public using the lines : [SEP]\n",
      "11/21/2019 09:26:05 - INFO - bert -   input_ids: 101 2129 2064 1045 2019 21499 1037 3347 3673 1999 18750 1029 102 2559 2012 1996 3120 2005 13109 4140 1014 1012 1021 1010 2045 2003 2025 2443 15380 2000 12944 3210 1012 2174 1010 2065 2017 2359 2000 7949 13109 4140 2000 2079 2054 2017 2215 1012 1012 1012 13109 4140 2038 2019 1000 2058 8485 1000 10683 2029 2009 3594 2000 2079 3896 2066 20655 1012 2023 2038 1996 3378 6123 1999 1996 3120 1012 2065 2017 2298 2012 1996 4118 2017 2064 2156 2129 20655 2003 2589 2005 2951 26521 1012 2017 2071 4339 1037 2714 4118 2005 3210 1012 1996 3853 2009 22139 2015 2058 2019 9140 1997 12944 3085 5200 1011 1011 2017 2052 2215 2000 7949 2008 2000 5047 1000 2240 1000 5200 2004 2092 1012 2633 2017 2052 2342 2000 4339 1037 4118 2000 5587 1013 6366 3210 2013 1996 9140 1997 12944 3085 5200 1010 19639 2000 1996 4493 1998 4725 1012 5060 2122 4725 2024 2081 2270 2478 1996 3210 1024 102 0 0 0 0 0 0 0 0 0 0 0 0 0 0 0 0 0 0 0 0 0 0 0 0 0 0 0 0 0\n",
      "11/21/2019 09:26:05 - INFO - bert -   input_mask: 1 1 1 1 1 1 1 1 1 1 1 1 1 1 1 1 1 1 1 1 1 1 1 1 1 1 1 1 1 1 1 1 1 1 1 1 1 1 1 1 1 1 1 1 1 1 1 1 1 1 1 1 1 1 1 1 1 1 1 1 1 1 1 1 1 1 1 1 1 1 1 1 1 1 1 1 1 1 1 1 1 1 1 1 1 1 1 1 1 1 1 1 1 1 1 1 1 1 1 1 1 1 1 1 1 1 1 1 1 1 1 1 1 1 1 1 1 1 1 1 1 1 1 1 1 1 1 1 1 1 1 1 1 1 1 1 1 1 1 1 1 1 1 1 1 1 1 1 1 1 1 1 1 1 1 1 1 1 1 1 1 1 1 1 1 1 1 1 1 1 1 0 0 0 0 0 0 0 0 0 0 0 0 0 0 0 0 0 0 0 0 0 0 0 0 0 0 0 0 0\n",
      "11/21/2019 09:26:05 - INFO - bert -   segment_ids: 0 0 0 0 0 0 0 0 0 0 0 0 0 1 1 1 1 1 1 1 1 1 1 1 1 1 1 1 1 1 1 1 1 1 1 1 1 1 1 1 1 1 1 1 1 1 1 1 1 1 1 1 1 1 1 1 1 1 1 1 1 1 1 1 1 1 1 1 1 1 1 1 1 1 1 1 1 1 1 1 1 1 1 1 1 1 1 1 1 1 1 1 1 1 1 1 1 1 1 1 1 1 1 1 1 1 1 1 1 1 1 1 1 1 1 1 1 1 1 1 1 1 1 1 1 1 1 1 1 1 1 1 1 1 1 1 1 1 1 1 1 1 1 1 1 1 1 1 1 1 1 1 1 1 1 1 1 1 1 1 1 1 1 1 1 1 1 1 1 1 1 0 0 0 0 0 0 0 0 0 0 0 0 0 0 0 0 0 0 0 0 0 0 0 0 0 0 0 0 0\n",
      "11/21/2019 09:26:05 - INFO - bert -   *** Example ***\n",
      "11/21/2019 09:26:05 - INFO - bert -   tokens: [CLS] how can i an ##imate a bar chart in python ? [SEP] this question has been sitting long enough , that it is time to document an answer for poster ##ity . the short answer is that highly - customized data visual ##izations cannot be done using function wrap ##pers from the ' lattice ' and ' g ##gp ##lot ##2 ' packages . the purpose of a function wrap ##per is to take some of the decisions out of your hands , so you will always be limited to the decisions originally envisioned by the function code ##r . i highly recommend everyone learn the ' lattice ' or ' g ##gp ##lot ##2 ' packages , but these packages are more useful for data exploration than for being creative with data visual ##izations . this answer is for those who want to create a customized visual . the following process may take half a day , but that is significantly less time than it would take to hack the ' lattice ' or ' g ##gp ##lot ##2 ' packages into the shape you want . this isn ' t a criticism of either of those [SEP]\n",
      "11/21/2019 09:26:05 - INFO - bert -   input_ids: 101 2129 2064 1045 2019 21499 1037 3347 3673 1999 18750 1029 102 2023 3160 2038 2042 3564 2146 2438 1010 2008 2009 2003 2051 2000 6254 2019 3437 2005 13082 3012 1012 1996 2460 3437 2003 2008 3811 1011 28749 2951 5107 22318 3685 2022 2589 2478 3853 10236 7347 2013 1996 1005 17779 1005 1998 1005 1043 21600 10994 2475 1005 14555 1012 1996 3800 1997 1037 3853 10236 4842 2003 2000 2202 2070 1997 1996 6567 2041 1997 2115 2398 1010 2061 2017 2097 2467 2022 3132 2000 1996 6567 2761 18035 2011 1996 3853 3642 2099 1012 1045 3811 16755 3071 4553 1996 1005 17779 1005 2030 1005 1043 21600 10994 2475 1005 14555 1010 2021 2122 14555 2024 2062 6179 2005 2951 8993 2084 2005 2108 5541 2007 2951 5107 22318 1012 2023 3437 2003 2005 2216 2040 2215 2000 3443 1037 28749 5107 1012 1996 2206 2832 2089 2202 2431 1037 2154 1010 2021 2008 2003 6022 2625 2051 2084 2009 2052 2202 2000 20578 1996 1005 17779 1005 2030 1005 1043 21600 10994 2475 1005 14555 2046 1996 4338 2017 2215 1012 2023 3475 1005 1056 1037 6256 1997 2593 1997 2216 102\n"
     ]
    },
    {
     "name": "stderr",
     "output_type": "stream",
     "text": [
      "11/21/2019 09:26:05 - INFO - bert -   input_mask: 1 1 1 1 1 1 1 1 1 1 1 1 1 1 1 1 1 1 1 1 1 1 1 1 1 1 1 1 1 1 1 1 1 1 1 1 1 1 1 1 1 1 1 1 1 1 1 1 1 1 1 1 1 1 1 1 1 1 1 1 1 1 1 1 1 1 1 1 1 1 1 1 1 1 1 1 1 1 1 1 1 1 1 1 1 1 1 1 1 1 1 1 1 1 1 1 1 1 1 1 1 1 1 1 1 1 1 1 1 1 1 1 1 1 1 1 1 1 1 1 1 1 1 1 1 1 1 1 1 1 1 1 1 1 1 1 1 1 1 1 1 1 1 1 1 1 1 1 1 1 1 1 1 1 1 1 1 1 1 1 1 1 1 1 1 1 1 1 1 1 1 1 1 1 1 1 1 1 1 1 1 1 1 1 1 1 1 1 1 1 1 1 1 1 1 1 1 1 1 1\n",
      "11/21/2019 09:26:05 - INFO - bert -   segment_ids: 0 0 0 0 0 0 0 0 0 0 0 0 0 1 1 1 1 1 1 1 1 1 1 1 1 1 1 1 1 1 1 1 1 1 1 1 1 1 1 1 1 1 1 1 1 1 1 1 1 1 1 1 1 1 1 1 1 1 1 1 1 1 1 1 1 1 1 1 1 1 1 1 1 1 1 1 1 1 1 1 1 1 1 1 1 1 1 1 1 1 1 1 1 1 1 1 1 1 1 1 1 1 1 1 1 1 1 1 1 1 1 1 1 1 1 1 1 1 1 1 1 1 1 1 1 1 1 1 1 1 1 1 1 1 1 1 1 1 1 1 1 1 1 1 1 1 1 1 1 1 1 1 1 1 1 1 1 1 1 1 1 1 1 1 1 1 1 1 1 1 1 1 1 1 1 1 1 1 1 1 1 1 1 1 1 1 1 1 1 1 1 1 1 1 1 1 1 1 1 1\n",
      "11/21/2019 09:26:05 - INFO - bert -   *** Example ***\n",
      "11/21/2019 09:26:05 - INFO - bert -   tokens: [CLS] how can i an ##imate a bar chart in python ? [SEP] the authentic ##ode ( t ##m ) times ##tam ##p protocol pre ##dates the time - stamp protocol defined in rfc ##31 ##6 ##1 . however ( and ii ##rc ) there is no direct support for asking a times ##tam ##p built in . net . so you can either : build a ts ##p client to get your times ##tam ##ps ; or pig ##gy ##back the existing free times ##tam ##p servers that are around for code signing . while i would suggest # 1 in most cases ( it ' s a standard and more future proof ) i ' m not sure if there are c # libraries available that supports that today . if you ' re interested in # 2 then i know ( because i ' ve written it ; - ) that the code is available inside mono ( mit . x ##11 licensed ) to support authentic ##ode ( t ##m ) and code signing ( including times ##tam ##ping ) . [SEP]\n",
      "11/21/2019 09:26:05 - INFO - bert -   input_ids: 101 2129 2064 1045 2019 21499 1037 3347 3673 1999 18750 1029 102 1996 14469 10244 1006 1056 2213 1007 2335 15464 2361 8778 3653 27122 1996 2051 1011 11359 8778 4225 1999 14645 21486 2575 2487 1012 2174 1006 1998 2462 11890 1007 2045 2003 2053 3622 2490 2005 4851 1037 2335 15464 2361 2328 1999 1012 5658 1012 2061 2017 2064 2593 1024 3857 1037 24529 2361 7396 2000 2131 2115 2335 15464 4523 1025 2030 10369 6292 5963 1996 4493 2489 2335 15464 2361 14903 2008 2024 2105 2005 3642 6608 1012 2096 1045 2052 6592 1001 1015 1999 2087 3572 1006 2009 1005 1055 1037 3115 1998 2062 2925 6947 1007 1045 1005 1049 2025 2469 2065 2045 2024 1039 1001 8860 2800 2008 6753 2008 2651 1012 2065 2017 1005 2128 4699 1999 1001 1016 2059 1045 2113 1006 2138 1045 1005 2310 2517 2009 1025 1011 1007 2008 1996 3642 2003 2800 2503 18847 1006 10210 1012 1060 14526 7000 1007 2000 2490 14469 10244 1006 1056 2213 1007 1998 3642 6608 1006 2164 2335 15464 4691 1007 1012 102 0 0 0 0 0 0 0 0 0 0 0 0 0 0\n",
      "11/21/2019 09:26:05 - INFO - bert -   input_mask: 1 1 1 1 1 1 1 1 1 1 1 1 1 1 1 1 1 1 1 1 1 1 1 1 1 1 1 1 1 1 1 1 1 1 1 1 1 1 1 1 1 1 1 1 1 1 1 1 1 1 1 1 1 1 1 1 1 1 1 1 1 1 1 1 1 1 1 1 1 1 1 1 1 1 1 1 1 1 1 1 1 1 1 1 1 1 1 1 1 1 1 1 1 1 1 1 1 1 1 1 1 1 1 1 1 1 1 1 1 1 1 1 1 1 1 1 1 1 1 1 1 1 1 1 1 1 1 1 1 1 1 1 1 1 1 1 1 1 1 1 1 1 1 1 1 1 1 1 1 1 1 1 1 1 1 1 1 1 1 1 1 1 1 1 1 1 1 1 1 1 1 1 1 1 1 1 1 1 1 1 1 1 1 1 1 1 0 0 0 0 0 0 0 0 0 0 0 0 0 0\n",
      "11/21/2019 09:26:05 - INFO - bert -   segment_ids: 0 0 0 0 0 0 0 0 0 0 0 0 0 1 1 1 1 1 1 1 1 1 1 1 1 1 1 1 1 1 1 1 1 1 1 1 1 1 1 1 1 1 1 1 1 1 1 1 1 1 1 1 1 1 1 1 1 1 1 1 1 1 1 1 1 1 1 1 1 1 1 1 1 1 1 1 1 1 1 1 1 1 1 1 1 1 1 1 1 1 1 1 1 1 1 1 1 1 1 1 1 1 1 1 1 1 1 1 1 1 1 1 1 1 1 1 1 1 1 1 1 1 1 1 1 1 1 1 1 1 1 1 1 1 1 1 1 1 1 1 1 1 1 1 1 1 1 1 1 1 1 1 1 1 1 1 1 1 1 1 1 1 1 1 1 1 1 1 1 1 1 1 1 1 1 1 1 1 1 1 1 1 1 1 1 1 0 0 0 0 0 0 0 0 0 0 0 0 0 0\n",
      "11/21/2019 09:26:09 - INFO - bert -   ***** Running evaluation *****\n",
      "11/21/2019 09:26:09 - INFO - bert -     Num examples = 3110\n",
      "11/21/2019 09:26:09 - INFO - bert -     Batch size = 128\n"
     ]
    },
    {
     "data": {
      "text/html": [
       "\n",
       "    <div>\n",
       "        <style>\n",
       "            /* Turns off some styling */\n",
       "            progress {\n",
       "                /* gets rid of default border in Firefox and Opera. */\n",
       "                border: none;\n",
       "                /* Needs to be in here for Safari polyfill so background images work as expected. */\n",
       "                background-size: auto;\n",
       "            }\n",
       "            .progress-bar-interrupted, .progress-bar-interrupted::-webkit-progress-bar {\n",
       "                background: #F44336;\n",
       "            }\n",
       "        </style>\n",
       "      <progress value='25' class='' max='25', style='width:300px; height:20px; vertical-align: middle;'></progress>\n",
       "      100.00% [25/25 00:19<00:00]\n",
       "    </div>\n",
       "    "
      ],
      "text/plain": [
       "<IPython.core.display.HTML object>"
      ]
     },
     "metadata": {},
     "output_type": "display_data"
    },
    {
     "name": "stderr",
     "output_type": "stream",
     "text": [
      "11/21/2019 09:26:29 - INFO - bert -   *** Example ***\n",
      "11/21/2019 09:26:29 - INFO - bert -   tokens: [CLS] i know how to create a line chart with mat ##pl ##ot ##lib , but how do i do it in r ? [SEP] points in is zero width , so you need to set the width of dod ##ging : [SEP]\n",
      "11/21/2019 09:26:29 - INFO - bert -   input_ids: 101 1045 2113 2129 2000 3443 1037 2240 3673 2007 13523 24759 4140 29521 1010 2021 2129 2079 1045 2079 2009 1999 1054 1029 102 2685 1999 2003 5717 9381 1010 2061 2017 2342 2000 2275 1996 9381 1997 26489 4726 1024 102 0 0 0 0 0 0 0 0 0 0 0 0 0 0 0 0 0 0 0 0 0 0 0 0 0 0 0 0 0 0 0 0 0 0 0 0 0 0 0 0 0 0 0 0 0 0 0 0 0 0 0 0 0 0 0 0 0 0 0 0 0 0 0 0 0 0 0 0 0 0 0 0 0 0 0 0 0 0 0 0 0 0 0 0 0 0 0 0 0 0 0 0 0 0 0 0 0 0 0 0 0 0 0 0 0 0 0 0 0 0 0 0 0 0 0 0 0 0 0 0 0 0 0 0 0 0 0 0 0 0 0 0 0 0 0 0 0 0 0 0 0 0 0 0 0 0 0 0 0 0 0 0 0 0 0 0 0\n",
      "11/21/2019 09:26:29 - INFO - bert -   input_mask: 1 1 1 1 1 1 1 1 1 1 1 1 1 1 1 1 1 1 1 1 1 1 1 1 1 1 1 1 1 1 1 1 1 1 1 1 1 1 1 1 1 1 1 0 0 0 0 0 0 0 0 0 0 0 0 0 0 0 0 0 0 0 0 0 0 0 0 0 0 0 0 0 0 0 0 0 0 0 0 0 0 0 0 0 0 0 0 0 0 0 0 0 0 0 0 0 0 0 0 0 0 0 0 0 0 0 0 0 0 0 0 0 0 0 0 0 0 0 0 0 0 0 0 0 0 0 0 0 0 0 0 0 0 0 0 0 0 0 0 0 0 0 0 0 0 0 0 0 0 0 0 0 0 0 0 0 0 0 0 0 0 0 0 0 0 0 0 0 0 0 0 0 0 0 0 0 0 0 0 0 0 0 0 0 0 0 0 0 0 0 0 0 0 0 0 0 0 0 0 0\n",
      "11/21/2019 09:26:29 - INFO - bert -   segment_ids: 0 0 0 0 0 0 0 0 0 0 0 0 0 0 0 0 0 0 0 0 0 0 0 0 0 1 1 1 1 1 1 1 1 1 1 1 1 1 1 1 1 1 1 0 0 0 0 0 0 0 0 0 0 0 0 0 0 0 0 0 0 0 0 0 0 0 0 0 0 0 0 0 0 0 0 0 0 0 0 0 0 0 0 0 0 0 0 0 0 0 0 0 0 0 0 0 0 0 0 0 0 0 0 0 0 0 0 0 0 0 0 0 0 0 0 0 0 0 0 0 0 0 0 0 0 0 0 0 0 0 0 0 0 0 0 0 0 0 0 0 0 0 0 0 0 0 0 0 0 0 0 0 0 0 0 0 0 0 0 0 0 0 0 0 0 0 0 0 0 0 0 0 0 0 0 0 0 0 0 0 0 0 0 0 0 0 0 0 0 0 0 0 0 0 0 0 0 0 0 0\n",
      "11/21/2019 09:26:29 - INFO - bert -   *** Example ***\n",
      "11/21/2019 09:26:29 - INFO - bert -   tokens: [CLS] i know how to create a line chart with mat ##pl ##ot ##lib , but how do i do it in r ? [SEP] uno ##con ##v can convert em ##f to pdf and ti ##ff via command - line : for pdf : uno ##con ##v file ##name . em ##f for ti ##ff : uno ##con ##v - f ti ##ff file ##name . em ##f it doesn ' t seem to support ps file export , though . you are still required to install open ##off ##ice . org / libre ##off ##ice because this tool uses them as the back ##end . [SEP]\n",
      "11/21/2019 09:26:29 - INFO - bert -   input_ids: 101 1045 2113 2129 2000 3443 1037 2240 3673 2007 13523 24759 4140 29521 1010 2021 2129 2079 1045 2079 2009 1999 1054 1029 102 27776 8663 2615 2064 10463 7861 2546 2000 11135 1998 14841 4246 3081 3094 1011 2240 1024 2005 11135 1024 27776 8663 2615 5371 18442 1012 7861 2546 2005 14841 4246 1024 27776 8663 2615 1011 1042 14841 4246 5371 18442 1012 7861 2546 2009 2987 1005 1056 4025 2000 2490 8827 5371 9167 1010 2295 1012 2017 2024 2145 3223 2000 16500 2330 7245 6610 1012 8917 1013 21091 7245 6610 2138 2023 6994 3594 2068 2004 1996 2067 10497 1012 102 0 0 0 0 0 0 0 0 0 0 0 0 0 0 0 0 0 0 0 0 0 0 0 0 0 0 0 0 0 0 0 0 0 0 0 0 0 0 0 0 0 0 0 0 0 0 0 0 0 0 0 0 0 0 0 0 0 0 0 0 0 0 0 0 0 0 0 0 0 0 0 0 0 0 0 0 0 0 0 0 0 0 0 0 0 0 0 0 0 0 0 0\n",
      "11/21/2019 09:26:29 - INFO - bert -   input_mask: 1 1 1 1 1 1 1 1 1 1 1 1 1 1 1 1 1 1 1 1 1 1 1 1 1 1 1 1 1 1 1 1 1 1 1 1 1 1 1 1 1 1 1 1 1 1 1 1 1 1 1 1 1 1 1 1 1 1 1 1 1 1 1 1 1 1 1 1 1 1 1 1 1 1 1 1 1 1 1 1 1 1 1 1 1 1 1 1 1 1 1 1 1 1 1 1 1 1 1 1 1 1 1 1 1 1 1 1 0 0 0 0 0 0 0 0 0 0 0 0 0 0 0 0 0 0 0 0 0 0 0 0 0 0 0 0 0 0 0 0 0 0 0 0 0 0 0 0 0 0 0 0 0 0 0 0 0 0 0 0 0 0 0 0 0 0 0 0 0 0 0 0 0 0 0 0 0 0 0 0 0 0 0 0 0 0 0 0 0 0 0 0 0 0 0 0 0 0 0 0\n",
      "11/21/2019 09:26:29 - INFO - bert -   segment_ids: 0 0 0 0 0 0 0 0 0 0 0 0 0 0 0 0 0 0 0 0 0 0 0 0 0 1 1 1 1 1 1 1 1 1 1 1 1 1 1 1 1 1 1 1 1 1 1 1 1 1 1 1 1 1 1 1 1 1 1 1 1 1 1 1 1 1 1 1 1 1 1 1 1 1 1 1 1 1 1 1 1 1 1 1 1 1 1 1 1 1 1 1 1 1 1 1 1 1 1 1 1 1 1 1 1 1 1 1 0 0 0 0 0 0 0 0 0 0 0 0 0 0 0 0 0 0 0 0 0 0 0 0 0 0 0 0 0 0 0 0 0 0 0 0 0 0 0 0 0 0 0 0 0 0 0 0 0 0 0 0 0 0 0 0 0 0 0 0 0 0 0 0 0 0 0 0 0 0 0 0 0 0 0 0 0 0 0 0 0 0 0 0 0 0 0 0 0 0 0 0\n",
      "11/21/2019 09:26:29 - INFO - bert -   *** Example ***\n",
      "11/21/2019 09:26:29 - INFO - bert -   tokens: [CLS] i know how to create a line chart with mat ##pl ##ot ##lib , but how do i do it in r ? [SEP] looking at the source for fl ##ot 0 . 7 , there is not included functionality to highlight lines . however , if you wanted to extend fl ##ot to do what you want . . . fl ##ot has an \" over ##lay \" canvas which it uses to do effects like highlighting . this has the associated context in the source . if you look at the method you can see how highlighting is done for data ##points . you could write a similar method for lines . the function it ##erate ##s over an array of highlight ##able objects - - you would want to extend that to handle \" line \" objects as well . finally you would need to write a method to add / remove lines from the array of highlight ##able objects , analogous to the existing and methods . notice these methods are made public using the lines : [SEP]\n",
      "11/21/2019 09:26:29 - INFO - bert -   input_ids: 101 1045 2113 2129 2000 3443 1037 2240 3673 2007 13523 24759 4140 29521 1010 2021 2129 2079 1045 2079 2009 1999 1054 1029 102 2559 2012 1996 3120 2005 13109 4140 1014 1012 1021 1010 2045 2003 2025 2443 15380 2000 12944 3210 1012 2174 1010 2065 2017 2359 2000 7949 13109 4140 2000 2079 2054 2017 2215 1012 1012 1012 13109 4140 2038 2019 1000 2058 8485 1000 10683 2029 2009 3594 2000 2079 3896 2066 20655 1012 2023 2038 1996 3378 6123 1999 1996 3120 1012 2065 2017 2298 2012 1996 4118 2017 2064 2156 2129 20655 2003 2589 2005 2951 26521 1012 2017 2071 4339 1037 2714 4118 2005 3210 1012 1996 3853 2009 22139 2015 2058 2019 9140 1997 12944 3085 5200 1011 1011 2017 2052 2215 2000 7949 2008 2000 5047 1000 2240 1000 5200 2004 2092 1012 2633 2017 2052 2342 2000 4339 1037 4118 2000 5587 1013 6366 3210 2013 1996 9140 1997 12944 3085 5200 1010 19639 2000 1996 4493 1998 4725 1012 5060 2122 4725 2024 2081 2270 2478 1996 3210 1024 102 0 0 0 0 0 0 0 0 0 0 0 0 0 0 0 0 0\n",
      "11/21/2019 09:26:29 - INFO - bert -   input_mask: 1 1 1 1 1 1 1 1 1 1 1 1 1 1 1 1 1 1 1 1 1 1 1 1 1 1 1 1 1 1 1 1 1 1 1 1 1 1 1 1 1 1 1 1 1 1 1 1 1 1 1 1 1 1 1 1 1 1 1 1 1 1 1 1 1 1 1 1 1 1 1 1 1 1 1 1 1 1 1 1 1 1 1 1 1 1 1 1 1 1 1 1 1 1 1 1 1 1 1 1 1 1 1 1 1 1 1 1 1 1 1 1 1 1 1 1 1 1 1 1 1 1 1 1 1 1 1 1 1 1 1 1 1 1 1 1 1 1 1 1 1 1 1 1 1 1 1 1 1 1 1 1 1 1 1 1 1 1 1 1 1 1 1 1 1 1 1 1 1 1 1 1 1 1 1 1 1 1 1 1 1 1 1 0 0 0 0 0 0 0 0 0 0 0 0 0 0 0 0 0\n",
      "11/21/2019 09:26:29 - INFO - bert -   segment_ids: 0 0 0 0 0 0 0 0 0 0 0 0 0 0 0 0 0 0 0 0 0 0 0 0 0 1 1 1 1 1 1 1 1 1 1 1 1 1 1 1 1 1 1 1 1 1 1 1 1 1 1 1 1 1 1 1 1 1 1 1 1 1 1 1 1 1 1 1 1 1 1 1 1 1 1 1 1 1 1 1 1 1 1 1 1 1 1 1 1 1 1 1 1 1 1 1 1 1 1 1 1 1 1 1 1 1 1 1 1 1 1 1 1 1 1 1 1 1 1 1 1 1 1 1 1 1 1 1 1 1 1 1 1 1 1 1 1 1 1 1 1 1 1 1 1 1 1 1 1 1 1 1 1 1 1 1 1 1 1 1 1 1 1 1 1 1 1 1 1 1 1 1 1 1 1 1 1 1 1 1 1 1 1 0 0 0 0 0 0 0 0 0 0 0 0 0 0 0 0 0\n",
      "11/21/2019 09:26:29 - INFO - bert -   *** Example ***\n",
      "11/21/2019 09:26:29 - INFO - bert -   tokens: [CLS] i know how to create a line chart with mat ##pl ##ot ##lib , but how do i do it in r ? [SEP] this question has been sitting long enough , that it is time to document an answer for poster ##ity . the short answer is that highly - customized data visual ##izations cannot be done using function wrap ##pers from the ' lattice ' and ' g ##gp ##lot ##2 ' packages . the purpose of a function wrap ##per is to take some of the decisions out of your hands , so you will always be limited to the decisions originally envisioned by the function code ##r . i highly recommend everyone learn the ' lattice ' or ' g ##gp ##lot ##2 ' packages , but these packages are more useful for data exploration than for being creative with data visual ##izations . this answer is for those who want to create a customized visual . the following process may take half a day , but that is significantly less time than it would take to hack the ' lattice ' or ' g ##gp ##lot ##2 ' packages into the shape you [SEP]\n",
      "11/21/2019 09:26:29 - INFO - bert -   input_ids: 101 1045 2113 2129 2000 3443 1037 2240 3673 2007 13523 24759 4140 29521 1010 2021 2129 2079 1045 2079 2009 1999 1054 1029 102 2023 3160 2038 2042 3564 2146 2438 1010 2008 2009 2003 2051 2000 6254 2019 3437 2005 13082 3012 1012 1996 2460 3437 2003 2008 3811 1011 28749 2951 5107 22318 3685 2022 2589 2478 3853 10236 7347 2013 1996 1005 17779 1005 1998 1005 1043 21600 10994 2475 1005 14555 1012 1996 3800 1997 1037 3853 10236 4842 2003 2000 2202 2070 1997 1996 6567 2041 1997 2115 2398 1010 2061 2017 2097 2467 2022 3132 2000 1996 6567 2761 18035 2011 1996 3853 3642 2099 1012 1045 3811 16755 3071 4553 1996 1005 17779 1005 2030 1005 1043 21600 10994 2475 1005 14555 1010 2021 2122 14555 2024 2062 6179 2005 2951 8993 2084 2005 2108 5541 2007 2951 5107 22318 1012 2023 3437 2003 2005 2216 2040 2215 2000 3443 1037 28749 5107 1012 1996 2206 2832 2089 2202 2431 1037 2154 1010 2021 2008 2003 6022 2625 2051 2084 2009 2052 2202 2000 20578 1996 1005 17779 1005 2030 1005 1043 21600 10994 2475 1005 14555 2046 1996 4338 2017 102\n"
     ]
    },
    {
     "name": "stderr",
     "output_type": "stream",
     "text": [
      "11/21/2019 09:26:29 - INFO - bert -   input_mask: 1 1 1 1 1 1 1 1 1 1 1 1 1 1 1 1 1 1 1 1 1 1 1 1 1 1 1 1 1 1 1 1 1 1 1 1 1 1 1 1 1 1 1 1 1 1 1 1 1 1 1 1 1 1 1 1 1 1 1 1 1 1 1 1 1 1 1 1 1 1 1 1 1 1 1 1 1 1 1 1 1 1 1 1 1 1 1 1 1 1 1 1 1 1 1 1 1 1 1 1 1 1 1 1 1 1 1 1 1 1 1 1 1 1 1 1 1 1 1 1 1 1 1 1 1 1 1 1 1 1 1 1 1 1 1 1 1 1 1 1 1 1 1 1 1 1 1 1 1 1 1 1 1 1 1 1 1 1 1 1 1 1 1 1 1 1 1 1 1 1 1 1 1 1 1 1 1 1 1 1 1 1 1 1 1 1 1 1 1 1 1 1 1 1 1 1 1 1 1 1\n",
      "11/21/2019 09:26:29 - INFO - bert -   segment_ids: 0 0 0 0 0 0 0 0 0 0 0 0 0 0 0 0 0 0 0 0 0 0 0 0 0 1 1 1 1 1 1 1 1 1 1 1 1 1 1 1 1 1 1 1 1 1 1 1 1 1 1 1 1 1 1 1 1 1 1 1 1 1 1 1 1 1 1 1 1 1 1 1 1 1 1 1 1 1 1 1 1 1 1 1 1 1 1 1 1 1 1 1 1 1 1 1 1 1 1 1 1 1 1 1 1 1 1 1 1 1 1 1 1 1 1 1 1 1 1 1 1 1 1 1 1 1 1 1 1 1 1 1 1 1 1 1 1 1 1 1 1 1 1 1 1 1 1 1 1 1 1 1 1 1 1 1 1 1 1 1 1 1 1 1 1 1 1 1 1 1 1 1 1 1 1 1 1 1 1 1 1 1 1 1 1 1 1 1 1 1 1 1 1 1 1 1 1 1 1 1\n",
      "11/21/2019 09:26:29 - INFO - bert -   *** Example ***\n",
      "11/21/2019 09:26:29 - INFO - bert -   tokens: [CLS] i know how to create a line chart with mat ##pl ##ot ##lib , but how do i do it in r ? [SEP] the authentic ##ode ( t ##m ) times ##tam ##p protocol pre ##dates the time - stamp protocol defined in rfc ##31 ##6 ##1 . however ( and ii ##rc ) there is no direct support for asking a times ##tam ##p built in . net . so you can either : build a ts ##p client to get your times ##tam ##ps ; or pig ##gy ##back the existing free times ##tam ##p servers that are around for code signing . while i would suggest # 1 in most cases ( it ' s a standard and more future proof ) i ' m not sure if there are c # libraries available that supports that today . if you ' re interested in # 2 then i know ( because i ' ve written it ; - ) that the code is available inside mono ( mit . x ##11 licensed ) to support authentic ##ode ( t ##m ) and code signing ( including times ##tam ##ping ) . [SEP]\n",
      "11/21/2019 09:26:29 - INFO - bert -   input_ids: 101 1045 2113 2129 2000 3443 1037 2240 3673 2007 13523 24759 4140 29521 1010 2021 2129 2079 1045 2079 2009 1999 1054 1029 102 1996 14469 10244 1006 1056 2213 1007 2335 15464 2361 8778 3653 27122 1996 2051 1011 11359 8778 4225 1999 14645 21486 2575 2487 1012 2174 1006 1998 2462 11890 1007 2045 2003 2053 3622 2490 2005 4851 1037 2335 15464 2361 2328 1999 1012 5658 1012 2061 2017 2064 2593 1024 3857 1037 24529 2361 7396 2000 2131 2115 2335 15464 4523 1025 2030 10369 6292 5963 1996 4493 2489 2335 15464 2361 14903 2008 2024 2105 2005 3642 6608 1012 2096 1045 2052 6592 1001 1015 1999 2087 3572 1006 2009 1005 1055 1037 3115 1998 2062 2925 6947 1007 1045 1005 1049 2025 2469 2065 2045 2024 1039 1001 8860 2800 2008 6753 2008 2651 1012 2065 2017 1005 2128 4699 1999 1001 1016 2059 1045 2113 1006 2138 1045 1005 2310 2517 2009 1025 1011 1007 2008 1996 3642 2003 2800 2503 18847 1006 10210 1012 1060 14526 7000 1007 2000 2490 14469 10244 1006 1056 2213 1007 1998 3642 6608 1006 2164 2335 15464 4691 1007 1012 102 0 0\n",
      "11/21/2019 09:26:29 - INFO - bert -   input_mask: 1 1 1 1 1 1 1 1 1 1 1 1 1 1 1 1 1 1 1 1 1 1 1 1 1 1 1 1 1 1 1 1 1 1 1 1 1 1 1 1 1 1 1 1 1 1 1 1 1 1 1 1 1 1 1 1 1 1 1 1 1 1 1 1 1 1 1 1 1 1 1 1 1 1 1 1 1 1 1 1 1 1 1 1 1 1 1 1 1 1 1 1 1 1 1 1 1 1 1 1 1 1 1 1 1 1 1 1 1 1 1 1 1 1 1 1 1 1 1 1 1 1 1 1 1 1 1 1 1 1 1 1 1 1 1 1 1 1 1 1 1 1 1 1 1 1 1 1 1 1 1 1 1 1 1 1 1 1 1 1 1 1 1 1 1 1 1 1 1 1 1 1 1 1 1 1 1 1 1 1 1 1 1 1 1 1 1 1 1 1 1 1 1 1 1 1 1 1 0 0\n",
      "11/21/2019 09:26:29 - INFO - bert -   segment_ids: 0 0 0 0 0 0 0 0 0 0 0 0 0 0 0 0 0 0 0 0 0 0 0 0 0 1 1 1 1 1 1 1 1 1 1 1 1 1 1 1 1 1 1 1 1 1 1 1 1 1 1 1 1 1 1 1 1 1 1 1 1 1 1 1 1 1 1 1 1 1 1 1 1 1 1 1 1 1 1 1 1 1 1 1 1 1 1 1 1 1 1 1 1 1 1 1 1 1 1 1 1 1 1 1 1 1 1 1 1 1 1 1 1 1 1 1 1 1 1 1 1 1 1 1 1 1 1 1 1 1 1 1 1 1 1 1 1 1 1 1 1 1 1 1 1 1 1 1 1 1 1 1 1 1 1 1 1 1 1 1 1 1 1 1 1 1 1 1 1 1 1 1 1 1 1 1 1 1 1 1 1 1 1 1 1 1 1 1 1 1 1 1 1 1 1 1 1 1 0 0\n",
      "11/21/2019 09:26:33 - INFO - bert -   ***** Running evaluation *****\n",
      "11/21/2019 09:26:33 - INFO - bert -     Num examples = 3110\n",
      "11/21/2019 09:26:33 - INFO - bert -     Batch size = 128\n"
     ]
    },
    {
     "data": {
      "text/html": [
       "\n",
       "    <div>\n",
       "        <style>\n",
       "            /* Turns off some styling */\n",
       "            progress {\n",
       "                /* gets rid of default border in Firefox and Opera. */\n",
       "                border: none;\n",
       "                /* Needs to be in here for Safari polyfill so background images work as expected. */\n",
       "                background-size: auto;\n",
       "            }\n",
       "            .progress-bar-interrupted, .progress-bar-interrupted::-webkit-progress-bar {\n",
       "                background: #F44336;\n",
       "            }\n",
       "        </style>\n",
       "      <progress value='25' class='' max='25', style='width:300px; height:20px; vertical-align: middle;'></progress>\n",
       "      100.00% [25/25 00:19<00:00]\n",
       "    </div>\n",
       "    "
      ],
      "text/plain": [
       "<IPython.core.display.HTML object>"
      ]
     },
     "metadata": {},
     "output_type": "display_data"
    },
    {
     "name": "stderr",
     "output_type": "stream",
     "text": [
      "11/21/2019 09:26:53 - INFO - bert -   *** Example ***\n",
      "11/21/2019 09:26:53 - INFO - bert -   tokens: [CLS] what is the easiest way to create a heat map of the us ? [SEP] points in is zero width , so you need to set the width of dod ##ging : [SEP]\n",
      "11/21/2019 09:26:53 - INFO - bert -   input_ids: 101 2054 2003 1996 25551 2126 2000 3443 1037 3684 4949 1997 1996 2149 1029 102 2685 1999 2003 5717 9381 1010 2061 2017 2342 2000 2275 1996 9381 1997 26489 4726 1024 102 0 0 0 0 0 0 0 0 0 0 0 0 0 0 0 0 0 0 0 0 0 0 0 0 0 0 0 0 0 0 0 0 0 0 0 0 0 0 0 0 0 0 0 0 0 0 0 0 0 0 0 0 0 0 0 0 0 0 0 0 0 0 0 0 0 0 0 0 0 0 0 0 0 0 0 0 0 0 0 0 0 0 0 0 0 0 0 0 0 0 0 0 0 0 0 0 0 0 0 0 0 0 0 0 0 0 0 0 0 0 0 0 0 0 0 0 0 0 0 0 0 0 0 0 0 0 0 0 0 0 0 0 0 0 0 0 0 0 0 0 0 0 0 0 0 0 0 0 0 0 0 0 0 0 0 0 0 0 0 0 0 0 0 0 0 0\n",
      "11/21/2019 09:26:53 - INFO - bert -   input_mask: 1 1 1 1 1 1 1 1 1 1 1 1 1 1 1 1 1 1 1 1 1 1 1 1 1 1 1 1 1 1 1 1 1 1 0 0 0 0 0 0 0 0 0 0 0 0 0 0 0 0 0 0 0 0 0 0 0 0 0 0 0 0 0 0 0 0 0 0 0 0 0 0 0 0 0 0 0 0 0 0 0 0 0 0 0 0 0 0 0 0 0 0 0 0 0 0 0 0 0 0 0 0 0 0 0 0 0 0 0 0 0 0 0 0 0 0 0 0 0 0 0 0 0 0 0 0 0 0 0 0 0 0 0 0 0 0 0 0 0 0 0 0 0 0 0 0 0 0 0 0 0 0 0 0 0 0 0 0 0 0 0 0 0 0 0 0 0 0 0 0 0 0 0 0 0 0 0 0 0 0 0 0 0 0 0 0 0 0 0 0 0 0 0 0 0 0 0 0 0 0\n",
      "11/21/2019 09:26:53 - INFO - bert -   segment_ids: 0 0 0 0 0 0 0 0 0 0 0 0 0 0 0 0 1 1 1 1 1 1 1 1 1 1 1 1 1 1 1 1 1 1 0 0 0 0 0 0 0 0 0 0 0 0 0 0 0 0 0 0 0 0 0 0 0 0 0 0 0 0 0 0 0 0 0 0 0 0 0 0 0 0 0 0 0 0 0 0 0 0 0 0 0 0 0 0 0 0 0 0 0 0 0 0 0 0 0 0 0 0 0 0 0 0 0 0 0 0 0 0 0 0 0 0 0 0 0 0 0 0 0 0 0 0 0 0 0 0 0 0 0 0 0 0 0 0 0 0 0 0 0 0 0 0 0 0 0 0 0 0 0 0 0 0 0 0 0 0 0 0 0 0 0 0 0 0 0 0 0 0 0 0 0 0 0 0 0 0 0 0 0 0 0 0 0 0 0 0 0 0 0 0 0 0 0 0 0 0\n",
      "11/21/2019 09:26:53 - INFO - bert -   *** Example ***\n",
      "11/21/2019 09:26:53 - INFO - bert -   tokens: [CLS] what is the easiest way to create a heat map of the us ? [SEP] uno ##con ##v can convert em ##f to pdf and ti ##ff via command - line : for pdf : uno ##con ##v file ##name . em ##f for ti ##ff : uno ##con ##v - f ti ##ff file ##name . em ##f it doesn ' t seem to support ps file export , though . you are still required to install open ##off ##ice . org / libre ##off ##ice because this tool uses them as the back ##end . [SEP]\n",
      "11/21/2019 09:26:53 - INFO - bert -   input_ids: 101 2054 2003 1996 25551 2126 2000 3443 1037 3684 4949 1997 1996 2149 1029 102 27776 8663 2615 2064 10463 7861 2546 2000 11135 1998 14841 4246 3081 3094 1011 2240 1024 2005 11135 1024 27776 8663 2615 5371 18442 1012 7861 2546 2005 14841 4246 1024 27776 8663 2615 1011 1042 14841 4246 5371 18442 1012 7861 2546 2009 2987 1005 1056 4025 2000 2490 8827 5371 9167 1010 2295 1012 2017 2024 2145 3223 2000 16500 2330 7245 6610 1012 8917 1013 21091 7245 6610 2138 2023 6994 3594 2068 2004 1996 2067 10497 1012 102 0 0 0 0 0 0 0 0 0 0 0 0 0 0 0 0 0 0 0 0 0 0 0 0 0 0 0 0 0 0 0 0 0 0 0 0 0 0 0 0 0 0 0 0 0 0 0 0 0 0 0 0 0 0 0 0 0 0 0 0 0 0 0 0 0 0 0 0 0 0 0 0 0 0 0 0 0 0 0 0 0 0 0 0 0 0 0 0 0 0 0 0 0 0 0 0 0 0 0 0 0\n",
      "11/21/2019 09:26:53 - INFO - bert -   input_mask: 1 1 1 1 1 1 1 1 1 1 1 1 1 1 1 1 1 1 1 1 1 1 1 1 1 1 1 1 1 1 1 1 1 1 1 1 1 1 1 1 1 1 1 1 1 1 1 1 1 1 1 1 1 1 1 1 1 1 1 1 1 1 1 1 1 1 1 1 1 1 1 1 1 1 1 1 1 1 1 1 1 1 1 1 1 1 1 1 1 1 1 1 1 1 1 1 1 1 1 0 0 0 0 0 0 0 0 0 0 0 0 0 0 0 0 0 0 0 0 0 0 0 0 0 0 0 0 0 0 0 0 0 0 0 0 0 0 0 0 0 0 0 0 0 0 0 0 0 0 0 0 0 0 0 0 0 0 0 0 0 0 0 0 0 0 0 0 0 0 0 0 0 0 0 0 0 0 0 0 0 0 0 0 0 0 0 0 0 0 0 0 0 0 0 0 0 0 0 0 0\n",
      "11/21/2019 09:26:53 - INFO - bert -   segment_ids: 0 0 0 0 0 0 0 0 0 0 0 0 0 0 0 0 1 1 1 1 1 1 1 1 1 1 1 1 1 1 1 1 1 1 1 1 1 1 1 1 1 1 1 1 1 1 1 1 1 1 1 1 1 1 1 1 1 1 1 1 1 1 1 1 1 1 1 1 1 1 1 1 1 1 1 1 1 1 1 1 1 1 1 1 1 1 1 1 1 1 1 1 1 1 1 1 1 1 1 0 0 0 0 0 0 0 0 0 0 0 0 0 0 0 0 0 0 0 0 0 0 0 0 0 0 0 0 0 0 0 0 0 0 0 0 0 0 0 0 0 0 0 0 0 0 0 0 0 0 0 0 0 0 0 0 0 0 0 0 0 0 0 0 0 0 0 0 0 0 0 0 0 0 0 0 0 0 0 0 0 0 0 0 0 0 0 0 0 0 0 0 0 0 0 0 0 0 0 0 0\n",
      "11/21/2019 09:26:53 - INFO - bert -   *** Example ***\n",
      "11/21/2019 09:26:53 - INFO - bert -   tokens: [CLS] what is the easiest way to create a heat map of the us ? [SEP] looking at the source for fl ##ot 0 . 7 , there is not included functionality to highlight lines . however , if you wanted to extend fl ##ot to do what you want . . . fl ##ot has an \" over ##lay \" canvas which it uses to do effects like highlighting . this has the associated context in the source . if you look at the method you can see how highlighting is done for data ##points . you could write a similar method for lines . the function it ##erate ##s over an array of highlight ##able objects - - you would want to extend that to handle \" line \" objects as well . finally you would need to write a method to add / remove lines from the array of highlight ##able objects , analogous to the existing and methods . notice these methods are made public using the lines : [SEP]\n",
      "11/21/2019 09:26:53 - INFO - bert -   input_ids: 101 2054 2003 1996 25551 2126 2000 3443 1037 3684 4949 1997 1996 2149 1029 102 2559 2012 1996 3120 2005 13109 4140 1014 1012 1021 1010 2045 2003 2025 2443 15380 2000 12944 3210 1012 2174 1010 2065 2017 2359 2000 7949 13109 4140 2000 2079 2054 2017 2215 1012 1012 1012 13109 4140 2038 2019 1000 2058 8485 1000 10683 2029 2009 3594 2000 2079 3896 2066 20655 1012 2023 2038 1996 3378 6123 1999 1996 3120 1012 2065 2017 2298 2012 1996 4118 2017 2064 2156 2129 20655 2003 2589 2005 2951 26521 1012 2017 2071 4339 1037 2714 4118 2005 3210 1012 1996 3853 2009 22139 2015 2058 2019 9140 1997 12944 3085 5200 1011 1011 2017 2052 2215 2000 7949 2008 2000 5047 1000 2240 1000 5200 2004 2092 1012 2633 2017 2052 2342 2000 4339 1037 4118 2000 5587 1013 6366 3210 2013 1996 9140 1997 12944 3085 5200 1010 19639 2000 1996 4493 1998 4725 1012 5060 2122 4725 2024 2081 2270 2478 1996 3210 1024 102 0 0 0 0 0 0 0 0 0 0 0 0 0 0 0 0 0 0 0 0 0 0 0 0 0 0\n",
      "11/21/2019 09:26:53 - INFO - bert -   input_mask: 1 1 1 1 1 1 1 1 1 1 1 1 1 1 1 1 1 1 1 1 1 1 1 1 1 1 1 1 1 1 1 1 1 1 1 1 1 1 1 1 1 1 1 1 1 1 1 1 1 1 1 1 1 1 1 1 1 1 1 1 1 1 1 1 1 1 1 1 1 1 1 1 1 1 1 1 1 1 1 1 1 1 1 1 1 1 1 1 1 1 1 1 1 1 1 1 1 1 1 1 1 1 1 1 1 1 1 1 1 1 1 1 1 1 1 1 1 1 1 1 1 1 1 1 1 1 1 1 1 1 1 1 1 1 1 1 1 1 1 1 1 1 1 1 1 1 1 1 1 1 1 1 1 1 1 1 1 1 1 1 1 1 1 1 1 1 1 1 1 1 1 1 1 1 0 0 0 0 0 0 0 0 0 0 0 0 0 0 0 0 0 0 0 0 0 0 0 0 0 0\n",
      "11/21/2019 09:26:53 - INFO - bert -   segment_ids: 0 0 0 0 0 0 0 0 0 0 0 0 0 0 0 0 1 1 1 1 1 1 1 1 1 1 1 1 1 1 1 1 1 1 1 1 1 1 1 1 1 1 1 1 1 1 1 1 1 1 1 1 1 1 1 1 1 1 1 1 1 1 1 1 1 1 1 1 1 1 1 1 1 1 1 1 1 1 1 1 1 1 1 1 1 1 1 1 1 1 1 1 1 1 1 1 1 1 1 1 1 1 1 1 1 1 1 1 1 1 1 1 1 1 1 1 1 1 1 1 1 1 1 1 1 1 1 1 1 1 1 1 1 1 1 1 1 1 1 1 1 1 1 1 1 1 1 1 1 1 1 1 1 1 1 1 1 1 1 1 1 1 1 1 1 1 1 1 1 1 1 1 1 1 0 0 0 0 0 0 0 0 0 0 0 0 0 0 0 0 0 0 0 0 0 0 0 0 0 0\n",
      "11/21/2019 09:26:53 - INFO - bert -   *** Example ***\n",
      "11/21/2019 09:26:53 - INFO - bert -   tokens: [CLS] what is the easiest way to create a heat map of the us ? [SEP] this question has been sitting long enough , that it is time to document an answer for poster ##ity . the short answer is that highly - customized data visual ##izations cannot be done using function wrap ##pers from the ' lattice ' and ' g ##gp ##lot ##2 ' packages . the purpose of a function wrap ##per is to take some of the decisions out of your hands , so you will always be limited to the decisions originally envisioned by the function code ##r . i highly recommend everyone learn the ' lattice ' or ' g ##gp ##lot ##2 ' packages , but these packages are more useful for data exploration than for being creative with data visual ##izations . this answer is for those who want to create a customized visual . the following process may take half a day , but that is significantly less time than it would take to hack the ' lattice ' or ' g ##gp ##lot ##2 ' packages into the shape you want . this isn ' t a criticism of [SEP]\n",
      "11/21/2019 09:26:53 - INFO - bert -   input_ids: 101 2054 2003 1996 25551 2126 2000 3443 1037 3684 4949 1997 1996 2149 1029 102 2023 3160 2038 2042 3564 2146 2438 1010 2008 2009 2003 2051 2000 6254 2019 3437 2005 13082 3012 1012 1996 2460 3437 2003 2008 3811 1011 28749 2951 5107 22318 3685 2022 2589 2478 3853 10236 7347 2013 1996 1005 17779 1005 1998 1005 1043 21600 10994 2475 1005 14555 1012 1996 3800 1997 1037 3853 10236 4842 2003 2000 2202 2070 1997 1996 6567 2041 1997 2115 2398 1010 2061 2017 2097 2467 2022 3132 2000 1996 6567 2761 18035 2011 1996 3853 3642 2099 1012 1045 3811 16755 3071 4553 1996 1005 17779 1005 2030 1005 1043 21600 10994 2475 1005 14555 1010 2021 2122 14555 2024 2062 6179 2005 2951 8993 2084 2005 2108 5541 2007 2951 5107 22318 1012 2023 3437 2003 2005 2216 2040 2215 2000 3443 1037 28749 5107 1012 1996 2206 2832 2089 2202 2431 1037 2154 1010 2021 2008 2003 6022 2625 2051 2084 2009 2052 2202 2000 20578 1996 1005 17779 1005 2030 1005 1043 21600 10994 2475 1005 14555 2046 1996 4338 2017 2215 1012 2023 3475 1005 1056 1037 6256 1997 102\n"
     ]
    },
    {
     "name": "stderr",
     "output_type": "stream",
     "text": [
      "11/21/2019 09:26:53 - INFO - bert -   input_mask: 1 1 1 1 1 1 1 1 1 1 1 1 1 1 1 1 1 1 1 1 1 1 1 1 1 1 1 1 1 1 1 1 1 1 1 1 1 1 1 1 1 1 1 1 1 1 1 1 1 1 1 1 1 1 1 1 1 1 1 1 1 1 1 1 1 1 1 1 1 1 1 1 1 1 1 1 1 1 1 1 1 1 1 1 1 1 1 1 1 1 1 1 1 1 1 1 1 1 1 1 1 1 1 1 1 1 1 1 1 1 1 1 1 1 1 1 1 1 1 1 1 1 1 1 1 1 1 1 1 1 1 1 1 1 1 1 1 1 1 1 1 1 1 1 1 1 1 1 1 1 1 1 1 1 1 1 1 1 1 1 1 1 1 1 1 1 1 1 1 1 1 1 1 1 1 1 1 1 1 1 1 1 1 1 1 1 1 1 1 1 1 1 1 1 1 1 1 1 1 1\n",
      "11/21/2019 09:26:53 - INFO - bert -   segment_ids: 0 0 0 0 0 0 0 0 0 0 0 0 0 0 0 0 1 1 1 1 1 1 1 1 1 1 1 1 1 1 1 1 1 1 1 1 1 1 1 1 1 1 1 1 1 1 1 1 1 1 1 1 1 1 1 1 1 1 1 1 1 1 1 1 1 1 1 1 1 1 1 1 1 1 1 1 1 1 1 1 1 1 1 1 1 1 1 1 1 1 1 1 1 1 1 1 1 1 1 1 1 1 1 1 1 1 1 1 1 1 1 1 1 1 1 1 1 1 1 1 1 1 1 1 1 1 1 1 1 1 1 1 1 1 1 1 1 1 1 1 1 1 1 1 1 1 1 1 1 1 1 1 1 1 1 1 1 1 1 1 1 1 1 1 1 1 1 1 1 1 1 1 1 1 1 1 1 1 1 1 1 1 1 1 1 1 1 1 1 1 1 1 1 1 1 1 1 1 1 1\n",
      "11/21/2019 09:26:53 - INFO - bert -   *** Example ***\n",
      "11/21/2019 09:26:53 - INFO - bert -   tokens: [CLS] what is the easiest way to create a heat map of the us ? [SEP] the authentic ##ode ( t ##m ) times ##tam ##p protocol pre ##dates the time - stamp protocol defined in rfc ##31 ##6 ##1 . however ( and ii ##rc ) there is no direct support for asking a times ##tam ##p built in . net . so you can either : build a ts ##p client to get your times ##tam ##ps ; or pig ##gy ##back the existing free times ##tam ##p servers that are around for code signing . while i would suggest # 1 in most cases ( it ' s a standard and more future proof ) i ' m not sure if there are c # libraries available that supports that today . if you ' re interested in # 2 then i know ( because i ' ve written it ; - ) that the code is available inside mono ( mit . x ##11 licensed ) to support authentic ##ode ( t ##m ) and code signing ( including times ##tam ##ping ) . [SEP]\n",
      "11/21/2019 09:26:53 - INFO - bert -   input_ids: 101 2054 2003 1996 25551 2126 2000 3443 1037 3684 4949 1997 1996 2149 1029 102 1996 14469 10244 1006 1056 2213 1007 2335 15464 2361 8778 3653 27122 1996 2051 1011 11359 8778 4225 1999 14645 21486 2575 2487 1012 2174 1006 1998 2462 11890 1007 2045 2003 2053 3622 2490 2005 4851 1037 2335 15464 2361 2328 1999 1012 5658 1012 2061 2017 2064 2593 1024 3857 1037 24529 2361 7396 2000 2131 2115 2335 15464 4523 1025 2030 10369 6292 5963 1996 4493 2489 2335 15464 2361 14903 2008 2024 2105 2005 3642 6608 1012 2096 1045 2052 6592 1001 1015 1999 2087 3572 1006 2009 1005 1055 1037 3115 1998 2062 2925 6947 1007 1045 1005 1049 2025 2469 2065 2045 2024 1039 1001 8860 2800 2008 6753 2008 2651 1012 2065 2017 1005 2128 4699 1999 1001 1016 2059 1045 2113 1006 2138 1045 1005 2310 2517 2009 1025 1011 1007 2008 1996 3642 2003 2800 2503 18847 1006 10210 1012 1060 14526 7000 1007 2000 2490 14469 10244 1006 1056 2213 1007 1998 3642 6608 1006 2164 2335 15464 4691 1007 1012 102 0 0 0 0 0 0 0 0 0 0 0\n",
      "11/21/2019 09:26:53 - INFO - bert -   input_mask: 1 1 1 1 1 1 1 1 1 1 1 1 1 1 1 1 1 1 1 1 1 1 1 1 1 1 1 1 1 1 1 1 1 1 1 1 1 1 1 1 1 1 1 1 1 1 1 1 1 1 1 1 1 1 1 1 1 1 1 1 1 1 1 1 1 1 1 1 1 1 1 1 1 1 1 1 1 1 1 1 1 1 1 1 1 1 1 1 1 1 1 1 1 1 1 1 1 1 1 1 1 1 1 1 1 1 1 1 1 1 1 1 1 1 1 1 1 1 1 1 1 1 1 1 1 1 1 1 1 1 1 1 1 1 1 1 1 1 1 1 1 1 1 1 1 1 1 1 1 1 1 1 1 1 1 1 1 1 1 1 1 1 1 1 1 1 1 1 1 1 1 1 1 1 1 1 1 1 1 1 1 1 1 1 1 1 1 1 1 0 0 0 0 0 0 0 0 0 0 0\n",
      "11/21/2019 09:26:53 - INFO - bert -   segment_ids: 0 0 0 0 0 0 0 0 0 0 0 0 0 0 0 0 1 1 1 1 1 1 1 1 1 1 1 1 1 1 1 1 1 1 1 1 1 1 1 1 1 1 1 1 1 1 1 1 1 1 1 1 1 1 1 1 1 1 1 1 1 1 1 1 1 1 1 1 1 1 1 1 1 1 1 1 1 1 1 1 1 1 1 1 1 1 1 1 1 1 1 1 1 1 1 1 1 1 1 1 1 1 1 1 1 1 1 1 1 1 1 1 1 1 1 1 1 1 1 1 1 1 1 1 1 1 1 1 1 1 1 1 1 1 1 1 1 1 1 1 1 1 1 1 1 1 1 1 1 1 1 1 1 1 1 1 1 1 1 1 1 1 1 1 1 1 1 1 1 1 1 1 1 1 1 1 1 1 1 1 1 1 1 1 1 1 1 1 1 0 0 0 0 0 0 0 0 0 0 0\n",
      "11/21/2019 09:26:57 - INFO - bert -   ***** Running evaluation *****\n",
      "11/21/2019 09:26:57 - INFO - bert -     Num examples = 3110\n",
      "11/21/2019 09:26:57 - INFO - bert -     Batch size = 128\n"
     ]
    },
    {
     "data": {
      "text/html": [
       "\n",
       "    <div>\n",
       "        <style>\n",
       "            /* Turns off some styling */\n",
       "            progress {\n",
       "                /* gets rid of default border in Firefox and Opera. */\n",
       "                border: none;\n",
       "                /* Needs to be in here for Safari polyfill so background images work as expected. */\n",
       "                background-size: auto;\n",
       "            }\n",
       "            .progress-bar-interrupted, .progress-bar-interrupted::-webkit-progress-bar {\n",
       "                background: #F44336;\n",
       "            }\n",
       "        </style>\n",
       "      <progress value='25' class='' max='25', style='width:300px; height:20px; vertical-align: middle;'></progress>\n",
       "      100.00% [25/25 00:19<00:00]\n",
       "    </div>\n",
       "    "
      ],
      "text/plain": [
       "<IPython.core.display.HTML object>"
      ]
     },
     "metadata": {},
     "output_type": "display_data"
    },
    {
     "name": "stderr",
     "output_type": "stream",
     "text": [
      "11/21/2019 09:27:17 - INFO - bert -   *** Example ***\n",
      "11/21/2019 09:27:17 - INFO - bert -   tokens: [CLS] how can i an ##imate a cho ##rop ##let ##h in table ##au ? in power ##bi ? in d ##3 ? [SEP] points in is zero width , so you need to set the width of dod ##ging : [SEP]\n",
      "11/21/2019 09:27:17 - INFO - bert -   input_ids: 101 2129 2064 1045 2019 21499 1037 16480 18981 7485 2232 1999 2795 4887 1029 1999 2373 5638 1029 1999 1040 2509 1029 102 2685 1999 2003 5717 9381 1010 2061 2017 2342 2000 2275 1996 9381 1997 26489 4726 1024 102 0 0 0 0 0 0 0 0 0 0 0 0 0 0 0 0 0 0 0 0 0 0 0 0 0 0 0 0 0 0 0 0 0 0 0 0 0 0 0 0 0 0 0 0 0 0 0 0 0 0 0 0 0 0 0 0 0 0 0 0 0 0 0 0 0 0 0 0 0 0 0 0 0 0 0 0 0 0 0 0 0 0 0 0 0 0 0 0 0 0 0 0 0 0 0 0 0 0 0 0 0 0 0 0 0 0 0 0 0 0 0 0 0 0 0 0 0 0 0 0 0 0 0 0 0 0 0 0 0 0 0 0 0 0 0 0 0 0 0 0 0 0 0 0 0 0 0 0 0 0 0 0 0 0 0 0 0 0\n",
      "11/21/2019 09:27:17 - INFO - bert -   input_mask: 1 1 1 1 1 1 1 1 1 1 1 1 1 1 1 1 1 1 1 1 1 1 1 1 1 1 1 1 1 1 1 1 1 1 1 1 1 1 1 1 1 1 0 0 0 0 0 0 0 0 0 0 0 0 0 0 0 0 0 0 0 0 0 0 0 0 0 0 0 0 0 0 0 0 0 0 0 0 0 0 0 0 0 0 0 0 0 0 0 0 0 0 0 0 0 0 0 0 0 0 0 0 0 0 0 0 0 0 0 0 0 0 0 0 0 0 0 0 0 0 0 0 0 0 0 0 0 0 0 0 0 0 0 0 0 0 0 0 0 0 0 0 0 0 0 0 0 0 0 0 0 0 0 0 0 0 0 0 0 0 0 0 0 0 0 0 0 0 0 0 0 0 0 0 0 0 0 0 0 0 0 0 0 0 0 0 0 0 0 0 0 0 0 0 0 0 0 0 0 0\n",
      "11/21/2019 09:27:17 - INFO - bert -   segment_ids: 0 0 0 0 0 0 0 0 0 0 0 0 0 0 0 0 0 0 0 0 0 0 0 0 1 1 1 1 1 1 1 1 1 1 1 1 1 1 1 1 1 1 0 0 0 0 0 0 0 0 0 0 0 0 0 0 0 0 0 0 0 0 0 0 0 0 0 0 0 0 0 0 0 0 0 0 0 0 0 0 0 0 0 0 0 0 0 0 0 0 0 0 0 0 0 0 0 0 0 0 0 0 0 0 0 0 0 0 0 0 0 0 0 0 0 0 0 0 0 0 0 0 0 0 0 0 0 0 0 0 0 0 0 0 0 0 0 0 0 0 0 0 0 0 0 0 0 0 0 0 0 0 0 0 0 0 0 0 0 0 0 0 0 0 0 0 0 0 0 0 0 0 0 0 0 0 0 0 0 0 0 0 0 0 0 0 0 0 0 0 0 0 0 0 0 0 0 0 0 0\n",
      "11/21/2019 09:27:17 - INFO - bert -   *** Example ***\n",
      "11/21/2019 09:27:17 - INFO - bert -   tokens: [CLS] how can i an ##imate a cho ##rop ##let ##h in table ##au ? in power ##bi ? in d ##3 ? [SEP] uno ##con ##v can convert em ##f to pdf and ti ##ff via command - line : for pdf : uno ##con ##v file ##name . em ##f for ti ##ff : uno ##con ##v - f ti ##ff file ##name . em ##f it doesn ' t seem to support ps file export , though . you are still required to install open ##off ##ice . org / libre ##off ##ice because this tool uses them as the back ##end . [SEP]\n",
      "11/21/2019 09:27:17 - INFO - bert -   input_ids: 101 2129 2064 1045 2019 21499 1037 16480 18981 7485 2232 1999 2795 4887 1029 1999 2373 5638 1029 1999 1040 2509 1029 102 27776 8663 2615 2064 10463 7861 2546 2000 11135 1998 14841 4246 3081 3094 1011 2240 1024 2005 11135 1024 27776 8663 2615 5371 18442 1012 7861 2546 2005 14841 4246 1024 27776 8663 2615 1011 1042 14841 4246 5371 18442 1012 7861 2546 2009 2987 1005 1056 4025 2000 2490 8827 5371 9167 1010 2295 1012 2017 2024 2145 3223 2000 16500 2330 7245 6610 1012 8917 1013 21091 7245 6610 2138 2023 6994 3594 2068 2004 1996 2067 10497 1012 102 0 0 0 0 0 0 0 0 0 0 0 0 0 0 0 0 0 0 0 0 0 0 0 0 0 0 0 0 0 0 0 0 0 0 0 0 0 0 0 0 0 0 0 0 0 0 0 0 0 0 0 0 0 0 0 0 0 0 0 0 0 0 0 0 0 0 0 0 0 0 0 0 0 0 0 0 0 0 0 0 0 0 0 0 0 0 0 0 0 0 0 0 0\n",
      "11/21/2019 09:27:17 - INFO - bert -   input_mask: 1 1 1 1 1 1 1 1 1 1 1 1 1 1 1 1 1 1 1 1 1 1 1 1 1 1 1 1 1 1 1 1 1 1 1 1 1 1 1 1 1 1 1 1 1 1 1 1 1 1 1 1 1 1 1 1 1 1 1 1 1 1 1 1 1 1 1 1 1 1 1 1 1 1 1 1 1 1 1 1 1 1 1 1 1 1 1 1 1 1 1 1 1 1 1 1 1 1 1 1 1 1 1 1 1 1 1 0 0 0 0 0 0 0 0 0 0 0 0 0 0 0 0 0 0 0 0 0 0 0 0 0 0 0 0 0 0 0 0 0 0 0 0 0 0 0 0 0 0 0 0 0 0 0 0 0 0 0 0 0 0 0 0 0 0 0 0 0 0 0 0 0 0 0 0 0 0 0 0 0 0 0 0 0 0 0 0 0 0 0 0 0 0 0 0 0 0 0 0 0\n",
      "11/21/2019 09:27:17 - INFO - bert -   segment_ids: 0 0 0 0 0 0 0 0 0 0 0 0 0 0 0 0 0 0 0 0 0 0 0 0 1 1 1 1 1 1 1 1 1 1 1 1 1 1 1 1 1 1 1 1 1 1 1 1 1 1 1 1 1 1 1 1 1 1 1 1 1 1 1 1 1 1 1 1 1 1 1 1 1 1 1 1 1 1 1 1 1 1 1 1 1 1 1 1 1 1 1 1 1 1 1 1 1 1 1 1 1 1 1 1 1 1 1 0 0 0 0 0 0 0 0 0 0 0 0 0 0 0 0 0 0 0 0 0 0 0 0 0 0 0 0 0 0 0 0 0 0 0 0 0 0 0 0 0 0 0 0 0 0 0 0 0 0 0 0 0 0 0 0 0 0 0 0 0 0 0 0 0 0 0 0 0 0 0 0 0 0 0 0 0 0 0 0 0 0 0 0 0 0 0 0 0 0 0 0 0\n",
      "11/21/2019 09:27:17 - INFO - bert -   *** Example ***\n",
      "11/21/2019 09:27:17 - INFO - bert -   tokens: [CLS] how can i an ##imate a cho ##rop ##let ##h in table ##au ? in power ##bi ? in d ##3 ? [SEP] looking at the source for fl ##ot 0 . 7 , there is not included functionality to highlight lines . however , if you wanted to extend fl ##ot to do what you want . . . fl ##ot has an \" over ##lay \" canvas which it uses to do effects like highlighting . this has the associated context in the source . if you look at the method you can see how highlighting is done for data ##points . you could write a similar method for lines . the function it ##erate ##s over an array of highlight ##able objects - - you would want to extend that to handle \" line \" objects as well . finally you would need to write a method to add / remove lines from the array of highlight ##able objects , analogous to the existing and methods . notice these methods are made public using the lines : [SEP]\n",
      "11/21/2019 09:27:17 - INFO - bert -   input_ids: 101 2129 2064 1045 2019 21499 1037 16480 18981 7485 2232 1999 2795 4887 1029 1999 2373 5638 1029 1999 1040 2509 1029 102 2559 2012 1996 3120 2005 13109 4140 1014 1012 1021 1010 2045 2003 2025 2443 15380 2000 12944 3210 1012 2174 1010 2065 2017 2359 2000 7949 13109 4140 2000 2079 2054 2017 2215 1012 1012 1012 13109 4140 2038 2019 1000 2058 8485 1000 10683 2029 2009 3594 2000 2079 3896 2066 20655 1012 2023 2038 1996 3378 6123 1999 1996 3120 1012 2065 2017 2298 2012 1996 4118 2017 2064 2156 2129 20655 2003 2589 2005 2951 26521 1012 2017 2071 4339 1037 2714 4118 2005 3210 1012 1996 3853 2009 22139 2015 2058 2019 9140 1997 12944 3085 5200 1011 1011 2017 2052 2215 2000 7949 2008 2000 5047 1000 2240 1000 5200 2004 2092 1012 2633 2017 2052 2342 2000 4339 1037 4118 2000 5587 1013 6366 3210 2013 1996 9140 1997 12944 3085 5200 1010 19639 2000 1996 4493 1998 4725 1012 5060 2122 4725 2024 2081 2270 2478 1996 3210 1024 102 0 0 0 0 0 0 0 0 0 0 0 0 0 0 0 0 0 0\n",
      "11/21/2019 09:27:17 - INFO - bert -   input_mask: 1 1 1 1 1 1 1 1 1 1 1 1 1 1 1 1 1 1 1 1 1 1 1 1 1 1 1 1 1 1 1 1 1 1 1 1 1 1 1 1 1 1 1 1 1 1 1 1 1 1 1 1 1 1 1 1 1 1 1 1 1 1 1 1 1 1 1 1 1 1 1 1 1 1 1 1 1 1 1 1 1 1 1 1 1 1 1 1 1 1 1 1 1 1 1 1 1 1 1 1 1 1 1 1 1 1 1 1 1 1 1 1 1 1 1 1 1 1 1 1 1 1 1 1 1 1 1 1 1 1 1 1 1 1 1 1 1 1 1 1 1 1 1 1 1 1 1 1 1 1 1 1 1 1 1 1 1 1 1 1 1 1 1 1 1 1 1 1 1 1 1 1 1 1 1 1 1 1 1 1 1 1 0 0 0 0 0 0 0 0 0 0 0 0 0 0 0 0 0 0\n",
      "11/21/2019 09:27:17 - INFO - bert -   segment_ids: 0 0 0 0 0 0 0 0 0 0 0 0 0 0 0 0 0 0 0 0 0 0 0 0 1 1 1 1 1 1 1 1 1 1 1 1 1 1 1 1 1 1 1 1 1 1 1 1 1 1 1 1 1 1 1 1 1 1 1 1 1 1 1 1 1 1 1 1 1 1 1 1 1 1 1 1 1 1 1 1 1 1 1 1 1 1 1 1 1 1 1 1 1 1 1 1 1 1 1 1 1 1 1 1 1 1 1 1 1 1 1 1 1 1 1 1 1 1 1 1 1 1 1 1 1 1 1 1 1 1 1 1 1 1 1 1 1 1 1 1 1 1 1 1 1 1 1 1 1 1 1 1 1 1 1 1 1 1 1 1 1 1 1 1 1 1 1 1 1 1 1 1 1 1 1 1 1 1 1 1 1 1 0 0 0 0 0 0 0 0 0 0 0 0 0 0 0 0 0 0\n",
      "11/21/2019 09:27:17 - INFO - bert -   *** Example ***\n",
      "11/21/2019 09:27:17 - INFO - bert -   tokens: [CLS] how can i an ##imate a cho ##rop ##let ##h in table ##au ? in power ##bi ? in d ##3 ? [SEP] this question has been sitting long enough , that it is time to document an answer for poster ##ity . the short answer is that highly - customized data visual ##izations cannot be done using function wrap ##pers from the ' lattice ' and ' g ##gp ##lot ##2 ' packages . the purpose of a function wrap ##per is to take some of the decisions out of your hands , so you will always be limited to the decisions originally envisioned by the function code ##r . i highly recommend everyone learn the ' lattice ' or ' g ##gp ##lot ##2 ' packages , but these packages are more useful for data exploration than for being creative with data visual ##izations . this answer is for those who want to create a customized visual . the following process may take half a day , but that is significantly less time than it would take to hack the ' lattice ' or ' g ##gp ##lot ##2 ' packages into the shape you want [SEP]\n",
      "11/21/2019 09:27:17 - INFO - bert -   input_ids: 101 2129 2064 1045 2019 21499 1037 16480 18981 7485 2232 1999 2795 4887 1029 1999 2373 5638 1029 1999 1040 2509 1029 102 2023 3160 2038 2042 3564 2146 2438 1010 2008 2009 2003 2051 2000 6254 2019 3437 2005 13082 3012 1012 1996 2460 3437 2003 2008 3811 1011 28749 2951 5107 22318 3685 2022 2589 2478 3853 10236 7347 2013 1996 1005 17779 1005 1998 1005 1043 21600 10994 2475 1005 14555 1012 1996 3800 1997 1037 3853 10236 4842 2003 2000 2202 2070 1997 1996 6567 2041 1997 2115 2398 1010 2061 2017 2097 2467 2022 3132 2000 1996 6567 2761 18035 2011 1996 3853 3642 2099 1012 1045 3811 16755 3071 4553 1996 1005 17779 1005 2030 1005 1043 21600 10994 2475 1005 14555 1010 2021 2122 14555 2024 2062 6179 2005 2951 8993 2084 2005 2108 5541 2007 2951 5107 22318 1012 2023 3437 2003 2005 2216 2040 2215 2000 3443 1037 28749 5107 1012 1996 2206 2832 2089 2202 2431 1037 2154 1010 2021 2008 2003 6022 2625 2051 2084 2009 2052 2202 2000 20578 1996 1005 17779 1005 2030 1005 1043 21600 10994 2475 1005 14555 2046 1996 4338 2017 2215 102\n"
     ]
    },
    {
     "name": "stderr",
     "output_type": "stream",
     "text": [
      "11/21/2019 09:27:17 - INFO - bert -   input_mask: 1 1 1 1 1 1 1 1 1 1 1 1 1 1 1 1 1 1 1 1 1 1 1 1 1 1 1 1 1 1 1 1 1 1 1 1 1 1 1 1 1 1 1 1 1 1 1 1 1 1 1 1 1 1 1 1 1 1 1 1 1 1 1 1 1 1 1 1 1 1 1 1 1 1 1 1 1 1 1 1 1 1 1 1 1 1 1 1 1 1 1 1 1 1 1 1 1 1 1 1 1 1 1 1 1 1 1 1 1 1 1 1 1 1 1 1 1 1 1 1 1 1 1 1 1 1 1 1 1 1 1 1 1 1 1 1 1 1 1 1 1 1 1 1 1 1 1 1 1 1 1 1 1 1 1 1 1 1 1 1 1 1 1 1 1 1 1 1 1 1 1 1 1 1 1 1 1 1 1 1 1 1 1 1 1 1 1 1 1 1 1 1 1 1 1 1 1 1 1 1\n",
      "11/21/2019 09:27:17 - INFO - bert -   segment_ids: 0 0 0 0 0 0 0 0 0 0 0 0 0 0 0 0 0 0 0 0 0 0 0 0 1 1 1 1 1 1 1 1 1 1 1 1 1 1 1 1 1 1 1 1 1 1 1 1 1 1 1 1 1 1 1 1 1 1 1 1 1 1 1 1 1 1 1 1 1 1 1 1 1 1 1 1 1 1 1 1 1 1 1 1 1 1 1 1 1 1 1 1 1 1 1 1 1 1 1 1 1 1 1 1 1 1 1 1 1 1 1 1 1 1 1 1 1 1 1 1 1 1 1 1 1 1 1 1 1 1 1 1 1 1 1 1 1 1 1 1 1 1 1 1 1 1 1 1 1 1 1 1 1 1 1 1 1 1 1 1 1 1 1 1 1 1 1 1 1 1 1 1 1 1 1 1 1 1 1 1 1 1 1 1 1 1 1 1 1 1 1 1 1 1 1 1 1 1 1 1\n",
      "11/21/2019 09:27:17 - INFO - bert -   *** Example ***\n",
      "11/21/2019 09:27:17 - INFO - bert -   tokens: [CLS] how can i an ##imate a cho ##rop ##let ##h in table ##au ? in power ##bi ? in d ##3 ? [SEP] the authentic ##ode ( t ##m ) times ##tam ##p protocol pre ##dates the time - stamp protocol defined in rfc ##31 ##6 ##1 . however ( and ii ##rc ) there is no direct support for asking a times ##tam ##p built in . net . so you can either : build a ts ##p client to get your times ##tam ##ps ; or pig ##gy ##back the existing free times ##tam ##p servers that are around for code signing . while i would suggest # 1 in most cases ( it ' s a standard and more future proof ) i ' m not sure if there are c # libraries available that supports that today . if you ' re interested in # 2 then i know ( because i ' ve written it ; - ) that the code is available inside mono ( mit . x ##11 licensed ) to support authentic ##ode ( t ##m ) and code signing ( including times ##tam ##ping ) . [SEP]\n",
      "11/21/2019 09:27:17 - INFO - bert -   input_ids: 101 2129 2064 1045 2019 21499 1037 16480 18981 7485 2232 1999 2795 4887 1029 1999 2373 5638 1029 1999 1040 2509 1029 102 1996 14469 10244 1006 1056 2213 1007 2335 15464 2361 8778 3653 27122 1996 2051 1011 11359 8778 4225 1999 14645 21486 2575 2487 1012 2174 1006 1998 2462 11890 1007 2045 2003 2053 3622 2490 2005 4851 1037 2335 15464 2361 2328 1999 1012 5658 1012 2061 2017 2064 2593 1024 3857 1037 24529 2361 7396 2000 2131 2115 2335 15464 4523 1025 2030 10369 6292 5963 1996 4493 2489 2335 15464 2361 14903 2008 2024 2105 2005 3642 6608 1012 2096 1045 2052 6592 1001 1015 1999 2087 3572 1006 2009 1005 1055 1037 3115 1998 2062 2925 6947 1007 1045 1005 1049 2025 2469 2065 2045 2024 1039 1001 8860 2800 2008 6753 2008 2651 1012 2065 2017 1005 2128 4699 1999 1001 1016 2059 1045 2113 1006 2138 1045 1005 2310 2517 2009 1025 1011 1007 2008 1996 3642 2003 2800 2503 18847 1006 10210 1012 1060 14526 7000 1007 2000 2490 14469 10244 1006 1056 2213 1007 1998 3642 6608 1006 2164 2335 15464 4691 1007 1012 102 0 0 0\n",
      "11/21/2019 09:27:17 - INFO - bert -   input_mask: 1 1 1 1 1 1 1 1 1 1 1 1 1 1 1 1 1 1 1 1 1 1 1 1 1 1 1 1 1 1 1 1 1 1 1 1 1 1 1 1 1 1 1 1 1 1 1 1 1 1 1 1 1 1 1 1 1 1 1 1 1 1 1 1 1 1 1 1 1 1 1 1 1 1 1 1 1 1 1 1 1 1 1 1 1 1 1 1 1 1 1 1 1 1 1 1 1 1 1 1 1 1 1 1 1 1 1 1 1 1 1 1 1 1 1 1 1 1 1 1 1 1 1 1 1 1 1 1 1 1 1 1 1 1 1 1 1 1 1 1 1 1 1 1 1 1 1 1 1 1 1 1 1 1 1 1 1 1 1 1 1 1 1 1 1 1 1 1 1 1 1 1 1 1 1 1 1 1 1 1 1 1 1 1 1 1 1 1 1 1 1 1 1 1 1 1 1 0 0 0\n",
      "11/21/2019 09:27:17 - INFO - bert -   segment_ids: 0 0 0 0 0 0 0 0 0 0 0 0 0 0 0 0 0 0 0 0 0 0 0 0 1 1 1 1 1 1 1 1 1 1 1 1 1 1 1 1 1 1 1 1 1 1 1 1 1 1 1 1 1 1 1 1 1 1 1 1 1 1 1 1 1 1 1 1 1 1 1 1 1 1 1 1 1 1 1 1 1 1 1 1 1 1 1 1 1 1 1 1 1 1 1 1 1 1 1 1 1 1 1 1 1 1 1 1 1 1 1 1 1 1 1 1 1 1 1 1 1 1 1 1 1 1 1 1 1 1 1 1 1 1 1 1 1 1 1 1 1 1 1 1 1 1 1 1 1 1 1 1 1 1 1 1 1 1 1 1 1 1 1 1 1 1 1 1 1 1 1 1 1 1 1 1 1 1 1 1 1 1 1 1 1 1 1 1 1 1 1 1 1 1 1 1 1 0 0 0\n",
      "11/21/2019 09:27:21 - INFO - bert -   ***** Running evaluation *****\n",
      "11/21/2019 09:27:21 - INFO - bert -     Num examples = 3110\n",
      "11/21/2019 09:27:21 - INFO - bert -     Batch size = 128\n"
     ]
    },
    {
     "data": {
      "text/html": [
       "\n",
       "    <div>\n",
       "        <style>\n",
       "            /* Turns off some styling */\n",
       "            progress {\n",
       "                /* gets rid of default border in Firefox and Opera. */\n",
       "                border: none;\n",
       "                /* Needs to be in here for Safari polyfill so background images work as expected. */\n",
       "                background-size: auto;\n",
       "            }\n",
       "            .progress-bar-interrupted, .progress-bar-interrupted::-webkit-progress-bar {\n",
       "                background: #F44336;\n",
       "            }\n",
       "        </style>\n",
       "      <progress value='25' class='' max='25', style='width:300px; height:20px; vertical-align: middle;'></progress>\n",
       "      100.00% [25/25 00:19<00:00]\n",
       "    </div>\n",
       "    "
      ],
      "text/plain": [
       "<IPython.core.display.HTML object>"
      ]
     },
     "metadata": {},
     "output_type": "display_data"
    }
   ],
   "source": [
    "question_list = [\n",
    "    'Is there a way to visualize the distribution of my data?',\n",
    "    'How do I show data on a map?',\n",
    "    'How can I illustrate changes in my data over time?',\n",
    "    'Is there a way to show a “heatmap” of my data?',\n",
    "    'How can I present a picture of a network?',\n",
    "    'How can I plot a comparison of two data sets?',\n",
    "    'How can I create a chart without coding?',\n",
    "    'When should I use a bar chart versus a pie chart?',\n",
    "    'What is the easiest way to create a diagram of a network?',\n",
    "    'I need help creating a visualization/diagram/presentation of my data',\n",
    "    'When should I use a scatter plot?',\n",
    "    'Data visualization tips',\n",
    "    'How do I make a network diagram in d3?',\n",
    "    'How do I plot 2 datasets?',\n",
    "    'How can I animate a bar chart in Python?',\n",
    "    'I know how to create a line chart with matplotlib, but how do I do it in R?',\n",
    "    'What is the easiest way to create a heat map of the US?',\n",
    "    'How can I animate a choropleth in Tableau?  In PowerBI?  In D3?'\n",
    "]\n",
    "\n",
    "def g1(question_list, m):\n",
    "    res = []\n",
    "    res_df = pd.DataFrame()\n",
    "    for q in question_list:\n",
    "        similar_que, similar_ans = m.get_similar_documents(query = q, num_results = 5)\n",
    "        t1 = m.best_matches.copy()\n",
    "        t1[\"user_input\"] = q\n",
    "        t2 = t1[[\n",
    "            \"user_input\"\n",
    "            , \"similarity\"\n",
    "            , \"q_id\"\n",
    "            , \"q_title\"\n",
    "            , \"tags\"\n",
    "            , \"accepted_answer_id\"\n",
    "            , \"a_body\"\n",
    "            , \"a_cleaned_body\"\n",
    "        ]]\n",
    "        res.append(t2)\n",
    "    res_df = pd.concat(res)\n",
    "    res_df.sort_values([\"user_input\", \"similarity\"], ascending=[True, False])\n",
    "    return(res_df)\n",
    "\n",
    "t1 = g1(question_list,m)"
   ]
  },
  {
   "cell_type": "code",
   "execution_count": 30,
   "metadata": {},
   "outputs": [
    {
     "data": {
      "text/html": [
       "<div>\n",
       "<style scoped>\n",
       "    .dataframe tbody tr th:only-of-type {\n",
       "        vertical-align: middle;\n",
       "    }\n",
       "\n",
       "    .dataframe tbody tr th {\n",
       "        vertical-align: top;\n",
       "    }\n",
       "\n",
       "    .dataframe thead th {\n",
       "        text-align: right;\n",
       "    }\n",
       "</style>\n",
       "<table border=\"1\" class=\"dataframe\">\n",
       "  <thead>\n",
       "    <tr style=\"text-align: right;\">\n",
       "      <th></th>\n",
       "      <th>user_input</th>\n",
       "      <th>similarity</th>\n",
       "      <th>q_id</th>\n",
       "      <th>q_title</th>\n",
       "      <th>tags</th>\n",
       "      <th>accepted_answer_id</th>\n",
       "      <th>a_body</th>\n",
       "      <th>a_cleaned_body</th>\n",
       "    </tr>\n",
       "  </thead>\n",
       "  <tbody>\n",
       "    <tr>\n",
       "      <th>3</th>\n",
       "      <td>Is there a way to visualize the distribution o...</td>\n",
       "      <td>0.999996</td>\n",
       "      <td>7688275</td>\n",
       "      <td>save yaxis legends as a separate grob?</td>\n",
       "      <td>rggplot2</td>\n",
       "      <td>15642634.0</td>\n",
       "      <td>&lt;p&gt;This question has been sitting long enough,...</td>\n",
       "      <td>This question has been sitting long enough, t...</td>\n",
       "    </tr>\n",
       "    <tr>\n",
       "      <th>1432</th>\n",
       "      <td>Is there a way to visualize the distribution o...</td>\n",
       "      <td>0.999996</td>\n",
       "      <td>36205526</td>\n",
       "      <td>Tooltip bug with dynamic google charts</td>\n",
       "      <td>javascriptsvgdynamicchartstimeline</td>\n",
       "      <td>36206232.0</td>\n",
       "      <td>&lt;p&gt;So I found the solution , &lt;/p&gt;\\r\\r\\r\\n\\r\\r\\...</td>\n",
       "      <td>So I found the solution , Every time you \"red...</td>\n",
       "    </tr>\n",
       "    <tr>\n",
       "      <th>1870</th>\n",
       "      <td>Is there a way to visualize the distribution o...</td>\n",
       "      <td>0.999996</td>\n",
       "      <td>50689123</td>\n",
       "      <td>Making a solid contour using seaborn in Python</td>\n",
       "      <td>pythonplotseaborn</td>\n",
       "      <td>50689263.0</td>\n",
       "      <td>&lt;p&gt;You are referring to a &lt;code&gt;kdeplot&lt;/code&gt;...</td>\n",
       "      <td>You are referring to a here. This usually nee...</td>\n",
       "    </tr>\n",
       "    <tr>\n",
       "      <th>1067</th>\n",
       "      <td>Is there a way to visualize the distribution o...</td>\n",
       "      <td>0.999995</td>\n",
       "      <td>15468622</td>\n",
       "      <td>Facebook search API without locale</td>\n",
       "      <td>facebookapifacebook-graph-apisearchlocale</td>\n",
       "      <td>15549177.0</td>\n",
       "      <td>&lt;p&gt;I don't think so. &lt;/p&gt;\\r\\r\\r\\n\\r\\r\\r\\n&lt;p&gt;If...</td>\n",
       "      <td>I don't think so. If you try a different quer...</td>\n",
       "    </tr>\n",
       "    <tr>\n",
       "      <th>2534</th>\n",
       "      <td>Is there a way to visualize the distribution o...</td>\n",
       "      <td>0.999995</td>\n",
       "      <td>15053686</td>\n",
       "      <td>Networkx: Overlapping edges when visualizing M...</td>\n",
       "      <td>pythonpython-2.7matplotlibgraphviznetworkx</td>\n",
       "      <td>15069150.0</td>\n",
       "      <td>&lt;p&gt;Unfortunately not.   It is technically poss...</td>\n",
       "      <td>Unfortunately not.   It is technically possib...</td>\n",
       "    </tr>\n",
       "    <tr>\n",
       "      <th>1295</th>\n",
       "      <td>How do I show data on a map?</td>\n",
       "      <td>0.999996</td>\n",
       "      <td>56212612</td>\n",
       "      <td>Calling a hook (useMutation) inside an event h...</td>\n",
       "      <td>reactjsgraphqlreact-hooksmutation</td>\n",
       "      <td>56212940.0</td>\n",
       "      <td>&lt;blockquote&gt;\\r\\r\\r\\n  &lt;p&gt;So, how do I call a m...</td>\n",
       "      <td>So, how do I call a mutation inside an event ...</td>\n",
       "    </tr>\n",
       "    <tr>\n",
       "      <th>2803</th>\n",
       "      <td>How do I show data on a map?</td>\n",
       "      <td>0.999995</td>\n",
       "      <td>1095419</td>\n",
       "      <td>Is there an API for openstreetmap?</td>\n",
       "      <td>apigeospatialopenstreetmap</td>\n",
       "      <td>16789444.0</td>\n",
       "      <td>&lt;p&gt;I've found a great API for reading Openstre...</td>\n",
       "      <td>I've found a great API for reading Openstreet...</td>\n",
       "    </tr>\n",
       "    <tr>\n",
       "      <th>2964</th>\n",
       "      <td>How do I show data on a map?</td>\n",
       "      <td>0.999995</td>\n",
       "      <td>34715002</td>\n",
       "      <td>How to validated geography polygon in SQL serv...</td>\n",
       "      <td>sql-server-2008validationpolygongeospatialgeog...</td>\n",
       "      <td>48818388.0</td>\n",
       "      <td>&lt;p&gt;This is working for me on SQL Server 2008. ...</td>\n",
       "      <td>This is working for me on SQL Server 2008. Af...</td>\n",
       "    </tr>\n",
       "    <tr>\n",
       "      <th>1432</th>\n",
       "      <td>How do I show data on a map?</td>\n",
       "      <td>0.999995</td>\n",
       "      <td>36205526</td>\n",
       "      <td>Tooltip bug with dynamic google charts</td>\n",
       "      <td>javascriptsvgdynamicchartstimeline</td>\n",
       "      <td>36206232.0</td>\n",
       "      <td>&lt;p&gt;So I found the solution , &lt;/p&gt;\\r\\r\\r\\n\\r\\r\\...</td>\n",
       "      <td>So I found the solution , Every time you \"red...</td>\n",
       "    </tr>\n",
       "    <tr>\n",
       "      <th>545</th>\n",
       "      <td>How do I show data on a map?</td>\n",
       "      <td>0.999995</td>\n",
       "      <td>2768762</td>\n",
       "      <td>Why should I use floats?</td>\n",
       "      <td>iphonequartz-graphics</td>\n",
       "      <td>2768945.0</td>\n",
       "      <td>&lt;p&gt;If you draw &lt;a href=\"http://en.wikipedia.or...</td>\n",
       "      <td>If you draw anti-aliased geometry, you need f...</td>\n",
       "    </tr>\n",
       "  </tbody>\n",
       "</table>\n",
       "</div>"
      ],
      "text/plain": [
       "                                             user_input  similarity      q_id  \\\n",
       "3     Is there a way to visualize the distribution o...    0.999996   7688275   \n",
       "1432  Is there a way to visualize the distribution o...    0.999996  36205526   \n",
       "1870  Is there a way to visualize the distribution o...    0.999996  50689123   \n",
       "1067  Is there a way to visualize the distribution o...    0.999995  15468622   \n",
       "2534  Is there a way to visualize the distribution o...    0.999995  15053686   \n",
       "1295                       How do I show data on a map?    0.999996  56212612   \n",
       "2803                       How do I show data on a map?    0.999995   1095419   \n",
       "2964                       How do I show data on a map?    0.999995  34715002   \n",
       "1432                       How do I show data on a map?    0.999995  36205526   \n",
       "545                        How do I show data on a map?    0.999995   2768762   \n",
       "\n",
       "                                                q_title  \\\n",
       "3                save yaxis legends as a separate grob?   \n",
       "1432             Tooltip bug with dynamic google charts   \n",
       "1870     Making a solid contour using seaborn in Python   \n",
       "1067                 Facebook search API without locale   \n",
       "2534  Networkx: Overlapping edges when visualizing M...   \n",
       "1295  Calling a hook (useMutation) inside an event h...   \n",
       "2803                 Is there an API for openstreetmap?   \n",
       "2964  How to validated geography polygon in SQL serv...   \n",
       "1432             Tooltip bug with dynamic google charts   \n",
       "545                            Why should I use floats?   \n",
       "\n",
       "                                                   tags  accepted_answer_id  \\\n",
       "3                                              rggplot2          15642634.0   \n",
       "1432                 javascriptsvgdynamicchartstimeline          36206232.0   \n",
       "1870                                  pythonplotseaborn          50689263.0   \n",
       "1067          facebookapifacebook-graph-apisearchlocale          15549177.0   \n",
       "2534         pythonpython-2.7matplotlibgraphviznetworkx          15069150.0   \n",
       "1295                  reactjsgraphqlreact-hooksmutation          56212940.0   \n",
       "2803                         apigeospatialopenstreetmap          16789444.0   \n",
       "2964  sql-server-2008validationpolygongeospatialgeog...          48818388.0   \n",
       "1432                 javascriptsvgdynamicchartstimeline          36206232.0   \n",
       "545                               iphonequartz-graphics           2768945.0   \n",
       "\n",
       "                                                 a_body  \\\n",
       "3     <p>This question has been sitting long enough,...   \n",
       "1432  <p>So I found the solution , </p>\\r\\r\\r\\n\\r\\r\\...   \n",
       "1870  <p>You are referring to a <code>kdeplot</code>...   \n",
       "1067  <p>I don't think so. </p>\\r\\r\\r\\n\\r\\r\\r\\n<p>If...   \n",
       "2534  <p>Unfortunately not.   It is technically poss...   \n",
       "1295  <blockquote>\\r\\r\\r\\n  <p>So, how do I call a m...   \n",
       "2803  <p>I've found a great API for reading Openstre...   \n",
       "2964  <p>This is working for me on SQL Server 2008. ...   \n",
       "1432  <p>So I found the solution , </p>\\r\\r\\r\\n\\r\\r\\...   \n",
       "545   <p>If you draw <a href=\"http://en.wikipedia.or...   \n",
       "\n",
       "                                         a_cleaned_body  \n",
       "3      This question has been sitting long enough, t...  \n",
       "1432   So I found the solution , Every time you \"red...  \n",
       "1870   You are referring to a here. This usually nee...  \n",
       "1067   I don't think so. If you try a different quer...  \n",
       "2534   Unfortunately not.   It is technically possib...  \n",
       "1295   So, how do I call a mutation inside an event ...  \n",
       "2803   I've found a great API for reading Openstreet...  \n",
       "2964   This is working for me on SQL Server 2008. Af...  \n",
       "1432   So I found the solution , Every time you \"red...  \n",
       "545    If you draw anti-aliased geometry, you need f...  "
      ]
     },
     "execution_count": 30,
     "metadata": {},
     "output_type": "execute_result"
    }
   ],
   "source": [
    "t1.head(10)"
   ]
  },
  {
   "cell_type": "code",
   "execution_count": 29,
   "metadata": {},
   "outputs": [],
   "source": [
    "p_out = \"../data/processed/similar_yyq5c.tsv\"\n",
    "t1.to_csv(p_out, sep = \"\\t\", index = False, encoding = \"utf-8\")"
   ]
  },
  {
   "cell_type": "code",
   "execution_count": 32,
   "metadata": {},
   "outputs": [],
   "source": [
    "p_out = \"../data/processed/similar_yyq5c.xlsx\"\n",
    "t1.to_excel(p_out)"
   ]
  }
 ],
 "metadata": {
  "kernelspec": {
   "display_name": "Python 3",
   "language": "python",
   "name": "python3"
  },
  "language_info": {
   "codemirror_mode": {
    "name": "ipython",
    "version": 3
   },
   "file_extension": ".py",
   "mimetype": "text/x-python",
   "name": "python",
   "nbconvert_exporter": "python",
   "pygments_lexer": "ipython3",
   "version": "3.7.5"
  }
 },
 "nbformat": 4,
 "nbformat_minor": 2
}
