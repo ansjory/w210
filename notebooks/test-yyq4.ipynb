{
 "cells": [
  {
   "cell_type": "markdown",
   "metadata": {},
   "source": [
    "# About\n",
    "\n",
    "test notebook to explore spacy and tfidf and cosine similarity\n",
    "\n",
    "https://www.dataquest.io/blog/tutorial-text-classification-in-python-using-spacy/\n",
    "\n",
    "\n",
    "use beautiful soup to extract the text only\n",
    "\n",
    "https://www.nltk.org/book/ch03.html\n",
    "\n",
    "bag of words\n",
    "\n",
    "https://medium.com/glose-team/%EF%B8%8F-fast-bag-of-words-using-spacy-and-cython-574c308a9ff3\n",
    "\n",
    "cosine similarity\n",
    "\n",
    "https://markhneedham.com/blog/2016/07/27/scitkit-learn-tfidf-and-cosine-similarity-for-computer-science-papers/"
   ]
  },
  {
   "cell_type": "code",
   "execution_count": 23,
   "metadata": {},
   "outputs": [],
   "source": [
    "import numpy as np\n",
    "import pandas as pd\n",
    "pd.set_option('display.max_colwidth', -1)"
   ]
  },
  {
   "cell_type": "markdown",
   "metadata": {},
   "source": [
    "# Loads Data"
   ]
  },
  {
   "cell_type": "code",
   "execution_count": 3,
   "metadata": {},
   "outputs": [
    {
     "name": "stderr",
     "output_type": "stream",
     "text": [
      "/home/yangyq/anaconda3/envs/w210/lib/python3.7/site-packages/IPython/core/interactiveshell.py:3058: DtypeWarning: Columns (8) have mixed types. Specify dtype option on import or set low_memory=False.\n",
      "  interactivity=interactivity, compiler=compiler, result=result)\n"
     ]
    }
   ],
   "source": [
    "p_questions = \"/mnt/disks/disk-1-w210-data/data/interim/stackexchange/stackoverflow/PostQuestionsFiltered_V3_parsed.tsv\"\n",
    "questions = pd.read_csv(p_questions, delimiter = \"\\t\", encoding = \"utf-8\")"
   ]
  },
  {
   "cell_type": "code",
   "execution_count": 4,
   "metadata": {},
   "outputs": [],
   "source": [
    "p_answers = \"/mnt/disks/disk-1-w210-data/data/interim/stackexchange/stackoverflow/PostAnswersFiltered_V3_parsed.tsv\"\n",
    "answers = pd.read_csv(p_answers, delimiter = \"\\t\", encoding = \"utf-8\")"
   ]
  },
  {
   "cell_type": "markdown",
   "metadata": {},
   "source": [
    "## sample"
   ]
  },
  {
   "cell_type": "code",
   "execution_count": 5,
   "metadata": {},
   "outputs": [],
   "source": [
    "t1 = questions[questions[\"accepted_answer_id\"] > 0]\n",
    "questions_sample = t1.sample(600)"
   ]
  },
  {
   "cell_type": "markdown",
   "metadata": {},
   "source": [
    "## corpus"
   ]
  },
  {
   "cell_type": "code",
   "execution_count": 6,
   "metadata": {},
   "outputs": [],
   "source": [
    "# constructs corpus\n",
    "# with question id, title, accepted answer id, answer body\n",
    "def construct_corpus(questions, answers = answers):\n",
    "    t1 = questions[[\"id\", \"title\", \"accepted_answer_id\"]].rename(columns = {\"id\" : \"q_id\", \"title\" : \"q_title\"})\n",
    "    t2 = answers[[\"id\", \"body\"]].rename(columns = {\"id\" : \"a_id\", \"body\" : \"a_body\"})\n",
    "    t3 = t1.merge(t2, left_on = \"accepted_answer_id\", right_on = \"a_id\", how = \"inner\").drop(columns = \"a_id\")\n",
    "    return(t3)"
   ]
  },
  {
   "cell_type": "code",
   "execution_count": 7,
   "metadata": {},
   "outputs": [
    {
     "data": {
      "text/html": [
       "<div>\n",
       "<style scoped>\n",
       "    .dataframe tbody tr th:only-of-type {\n",
       "        vertical-align: middle;\n",
       "    }\n",
       "\n",
       "    .dataframe tbody tr th {\n",
       "        vertical-align: top;\n",
       "    }\n",
       "\n",
       "    .dataframe thead th {\n",
       "        text-align: right;\n",
       "    }\n",
       "</style>\n",
       "<table border=\"1\" class=\"dataframe\">\n",
       "  <thead>\n",
       "    <tr style=\"text-align: right;\">\n",
       "      <th></th>\n",
       "      <th>q_id</th>\n",
       "      <th>q_title</th>\n",
       "      <th>accepted_answer_id</th>\n",
       "      <th>a_body</th>\n",
       "    </tr>\n",
       "  </thead>\n",
       "  <tbody>\n",
       "    <tr>\n",
       "      <td>0</td>\n",
       "      <td>1279779</td>\n",
       "      <td>What is the difference between \\r and \\n?</td>\n",
       "      <td>1279802.0</td>\n",
       "      <td>&lt;p&gt;They're different characters. &lt;code&gt;\\r&lt;/code&gt; is carriage return, and &lt;code&gt;\\n&lt;/code&gt; is line feed.&lt;/p&gt;\\r\\n\\r\\n&lt;p&gt;On \"old\" printers, &lt;code&gt;\\r&lt;/code&gt; sent the print head back to the start of the line, and &lt;code&gt;\\n&lt;/code&gt; advanced the paper by one line. Both were therefore necessary to start printing on the next line.&lt;/p&gt;\\r\\n\\r\\n&lt;p&gt;Obviously that's somewhat irrelevant now, although depending on the console you may still be able to use &lt;code&gt;\\r&lt;/code&gt; to move to the start of the line and overwrite the existing text.&lt;/p&gt;\\r\\n\\r\\n&lt;p&gt;More importantly, Unix tends to use &lt;code&gt;\\n&lt;/code&gt; as a line separator; Windows tends to use &lt;code&gt;\\r\\n&lt;/code&gt; as a line separator and Macs (up to OS 9) &lt;em&gt;used&lt;/em&gt; to use &lt;code&gt;\\r&lt;/code&gt; as the line separator. (Mac OS X is Unix-y, so uses &lt;code&gt;\\n&lt;/code&gt; instead; there may be some compatibility situations where &lt;code&gt;\\r&lt;/code&gt; is used instead though.)&lt;/p&gt;\\r\\n\\r\\n&lt;p&gt;For more information, see the &lt;a href=\"http://en.wikipedia.org/wiki/Newline\" rel=\"noreferrer\"&gt;Wikipedia newline article&lt;/a&gt;.&lt;/p&gt;\\r\\n\\r\\n&lt;p&gt;EDIT: This is language-sensitive. In C# and Java, for example, &lt;code&gt;\\n&lt;/code&gt; &lt;em&gt;always&lt;/em&gt; means Unicode U+000A, which is defined as line feed. In C and C++ the water is somewhat muddier, as the meaning is platform-specific. See comments for details.&lt;/p&gt;</td>\n",
       "    </tr>\n",
       "    <tr>\n",
       "      <td>1</td>\n",
       "      <td>28015965</td>\n",
       "      <td>Editing an element's style based on the \"value\" attribute of its child element</td>\n",
       "      <td>28015976.0</td>\n",
       "      <td>&lt;ul&gt;\\r\\n&lt;li&gt;In your example, &lt;code&gt;this&lt;/code&gt; doesn't refer to each element in your jQuery object. You can either loop through the object or, since &lt;a href=\"http://api.jquery.com/css/\" rel=\"nofollow\"&gt;&lt;code&gt;.css()&lt;/code&gt;&lt;/a&gt; handles looping for you, pass a callback function as the second parameter. The context of this function will be each element in the object.&lt;/li&gt;\\r\\n&lt;li&gt;jQuery has &lt;a href=\"http://api.jquery.com/val/\" rel=\"nofollow\"&gt;&lt;code&gt;.val()&lt;/code&gt;&lt;/a&gt; to get the value property of form elements.&lt;/li&gt;\\r\\n&lt;/ul&gt;\\r\\n\\r\\n\\r\\n\\r\\n&lt;pre&gt;&lt;code&gt;$(\".color-button\").css(\"background-color\", function(){\\r\\n    return $(this).find('input').val();\\r\\n});\\r\\n&lt;/code&gt;&lt;/pre&gt;\\r\\n\\r\\n&lt;p&gt;&lt;a href=\"http://jsfiddle.net/eqLo24pu/\" rel=\"nofollow\"&gt;&lt;strong&gt;JSFiddle&lt;/strong&gt;&lt;/a&gt;&lt;/p&gt;</td>\n",
       "    </tr>\n",
       "    <tr>\n",
       "      <td>2</td>\n",
       "      <td>43711355</td>\n",
       "      <td>Creating a color bar for a graph that does not contain a mappable?</td>\n",
       "      <td>43711456.0</td>\n",
       "      <td>&lt;p&gt;You can of course create your own ScalarMappable, &lt;/p&gt;\\r\\n\\r\\n&lt;pre&gt;&lt;code&gt;sm = plt.cm.ScalarMappable(cmap=...)\\r\\n&lt;/code&gt;&lt;/pre&gt;\\r\\n\\r\\n&lt;p&gt;which would then need to have an array mapping to colors (&lt;code&gt;sm.set_array()&lt;/code&gt;).&lt;/p&gt;\\r\\n\\r\\n&lt;pre&gt;&lt;code&gt;import matplotlib.pyplot as plt\\r\\nimport matplotlib.colors\\r\\nimport numpy as np\\r\\n\\r\\ncolorDict = {'red': [(0.0, 1.0, 1.0), (1.0, 0.0, 0.0)], 'green': [(0.0, 0.0, 0.0), (1.0, 1.0, 1.0)], 'blue': [(0.0, 0.0, 1.0), (1.0, 0.0, 0.0)]}\\r\\nrgColorMap = matplotlib.colors.LinearSegmentedColormap('RedGreen', colorDict, 10)\\r\\nseedColors = plt.cm.get_cmap(rgColorMap, 10)\\r\\n\\r\\nsm = plt.cm.ScalarMappable(cmap=seedColors)\\r\\nsm.set_array(range(1, 9))\\r\\nfig = plt.figure(figsize=(8.27, 11.69), dpi=100)\\r\\nfor lineInd in range(1, 9):\\r\\n    plt.plot([x for x in range(1, 10)], [y*lineInd for y in range(1, 10)], color=seedColors(lineInd))\\r\\n\\r\\n\\r\\nfig.colorbar(sm, ticks=range(1,9), boundaries=np.arange(0.5,9,1))\\r\\n\\r\\nplt.show()\\r\\n&lt;/code&gt;&lt;/pre&gt;\\r\\n\\r\\n&lt;p&gt;&lt;a href=\"https://i.stack.imgur.com/ref3O.png\" rel=\"nofollow noreferrer\"&gt;&lt;img src=\"https://i.stack.imgur.com/ref3O.png\" alt=\"enter image description here\"&gt;&lt;/a&gt;&lt;/p&gt;</td>\n",
       "    </tr>\n",
       "  </tbody>\n",
       "</table>\n",
       "</div>"
      ],
      "text/plain": [
       "       q_id  \\\n",
       "0  1279779    \n",
       "1  28015965   \n",
       "2  43711355   \n",
       "\n",
       "                                                                          q_title  \\\n",
       "0  What is the difference between \\r and \\n?                                        \n",
       "1  Editing an element's style based on the \"value\" attribute of its child element   \n",
       "2  Creating a color bar for a graph that does not contain a mappable?               \n",
       "\n",
       "   accepted_answer_id  \\\n",
       "0  1279802.0            \n",
       "1  28015976.0           \n",
       "2  43711456.0           \n",
       "\n",
       "                                                                                                                                                                                                                                                                                                                                                                                                                                                                                                                                                                                                                                                                                                                                                                                                                                                                                                                                                                                                                                                                                                                                                                                                                                                                                                                                                      a_body  \n",
       "0  <p>They're different characters. <code>\\r</code> is carriage return, and <code>\\n</code> is line feed.</p>\\r\\n\\r\\n<p>On \"old\" printers, <code>\\r</code> sent the print head back to the start of the line, and <code>\\n</code> advanced the paper by one line. Both were therefore necessary to start printing on the next line.</p>\\r\\n\\r\\n<p>Obviously that's somewhat irrelevant now, although depending on the console you may still be able to use <code>\\r</code> to move to the start of the line and overwrite the existing text.</p>\\r\\n\\r\\n<p>More importantly, Unix tends to use <code>\\n</code> as a line separator; Windows tends to use <code>\\r\\n</code> as a line separator and Macs (up to OS 9) <em>used</em> to use <code>\\r</code> as the line separator. (Mac OS X is Unix-y, so uses <code>\\n</code> instead; there may be some compatibility situations where <code>\\r</code> is used instead though.)</p>\\r\\n\\r\\n<p>For more information, see the <a href=\"http://en.wikipedia.org/wiki/Newline\" rel=\"noreferrer\">Wikipedia newline article</a>.</p>\\r\\n\\r\\n<p>EDIT: This is language-sensitive. In C# and Java, for example, <code>\\n</code> <em>always</em> means Unicode U+000A, which is defined as line feed. In C and C++ the water is somewhat muddier, as the meaning is platform-specific. See comments for details.</p>  \n",
       "1  <ul>\\r\\n<li>In your example, <code>this</code> doesn't refer to each element in your jQuery object. You can either loop through the object or, since <a href=\"http://api.jquery.com/css/\" rel=\"nofollow\"><code>.css()</code></a> handles looping for you, pass a callback function as the second parameter. The context of this function will be each element in the object.</li>\\r\\n<li>jQuery has <a href=\"http://api.jquery.com/val/\" rel=\"nofollow\"><code>.val()</code></a> to get the value property of form elements.</li>\\r\\n</ul>\\r\\n\\r\\n\\r\\n\\r\\n<pre><code>$(\".color-button\").css(\"background-color\", function(){\\r\\n    return $(this).find('input').val();\\r\\n});\\r\\n</code></pre>\\r\\n\\r\\n<p><a href=\"http://jsfiddle.net/eqLo24pu/\" rel=\"nofollow\"><strong>JSFiddle</strong></a></p>                                                                                                                                                                                                                                                                                                                                                                                                                                                                                                                                                           \n",
       "2  <p>You can of course create your own ScalarMappable, </p>\\r\\n\\r\\n<pre><code>sm = plt.cm.ScalarMappable(cmap=...)\\r\\n</code></pre>\\r\\n\\r\\n<p>which would then need to have an array mapping to colors (<code>sm.set_array()</code>).</p>\\r\\n\\r\\n<pre><code>import matplotlib.pyplot as plt\\r\\nimport matplotlib.colors\\r\\nimport numpy as np\\r\\n\\r\\ncolorDict = {'red': [(0.0, 1.0, 1.0), (1.0, 0.0, 0.0)], 'green': [(0.0, 0.0, 0.0), (1.0, 1.0, 1.0)], 'blue': [(0.0, 0.0, 1.0), (1.0, 0.0, 0.0)]}\\r\\nrgColorMap = matplotlib.colors.LinearSegmentedColormap('RedGreen', colorDict, 10)\\r\\nseedColors = plt.cm.get_cmap(rgColorMap, 10)\\r\\n\\r\\nsm = plt.cm.ScalarMappable(cmap=seedColors)\\r\\nsm.set_array(range(1, 9))\\r\\nfig = plt.figure(figsize=(8.27, 11.69), dpi=100)\\r\\nfor lineInd in range(1, 9):\\r\\n    plt.plot([x for x in range(1, 10)], [y*lineInd for y in range(1, 10)], color=seedColors(lineInd))\\r\\n\\r\\n\\r\\nfig.colorbar(sm, ticks=range(1,9), boundaries=np.arange(0.5,9,1))\\r\\n\\r\\nplt.show()\\r\\n</code></pre>\\r\\n\\r\\n<p><a href=\"https://i.stack.imgur.com/ref3O.png\" rel=\"nofollow noreferrer\"><img src=\"https://i.stack.imgur.com/ref3O.png\" alt=\"enter image description here\"></a></p>                                                                                                                                          "
      ]
     },
     "execution_count": 7,
     "metadata": {},
     "output_type": "execute_result"
    }
   ],
   "source": [
    "corpus = construct_corpus(questions_sample)\n",
    "corpus.head(3)"
   ]
  },
  {
   "cell_type": "markdown",
   "metadata": {},
   "source": [
    "# Create and Train Model"
   ]
  },
  {
   "cell_type": "markdown",
   "metadata": {},
   "source": [
    "## cleaner"
   ]
  },
  {
   "cell_type": "code",
   "execution_count": 8,
   "metadata": {},
   "outputs": [],
   "source": [
    "from sklearn.base import TransformerMixin\n",
    "from bs4 import BeautifulSoup\n",
    "\n",
    "# Custom transformer using spaCy\n",
    "class predictors(TransformerMixin):\n",
    "    def transform(self, X, **transform_params):\n",
    "        # Cleaning Text\n",
    "        return [clean_text(text) for text in X]\n",
    "\n",
    "    def fit(self, X, y=None, **fit_params):\n",
    "        return self\n",
    "\n",
    "    def get_params(self, deep=True):\n",
    "        return {}\n",
    "\n",
    "# Basic function to clean the text\n",
    "def clean_text(text):\n",
    "    # gets just the txt, without the html tags\n",
    "    t1 = BeautifulSoup(text, 'html.parser').get_text()\n",
    "    # Removing spaces and converting text into lowercase\n",
    "    t2 = t1.strip().lower()\n",
    "    return t2"
   ]
  },
  {
   "cell_type": "code",
   "execution_count": 20,
   "metadata": {
    "collapsed": true
   },
   "outputs": [
    {
     "name": "stdout",
     "output_type": "stream",
     "text": [
      "===========\n",
      "<ul>\r\n",
      "<li>In your example, <code>this</code> doesn't refer to each element in your jQuery object. You can either loop through the object or, since <a href=\"http://api.jquery.com/css/\" rel=\"nofollow\"><code>.css()</code></a> handles looping for you, pass a callback function as the second parameter. The context of this function will be each element in the object.</li>\r\n",
      "<li>jQuery has <a href=\"http://api.jquery.com/val/\" rel=\"nofollow\"><code>.val()</code></a> to get the value property of form elements.</li>\r\n",
      "</ul>\r\n",
      "\r\n",
      "\r\n",
      "\r\n",
      "<pre><code>$(\".color-button\").css(\"background-color\", function(){\r\n",
      "    return $(this).find('input').val();\r\n",
      "});\r\n",
      "</code></pre>\r\n",
      "\r\n",
      "<p><a href=\"http://jsfiddle.net/eqLo24pu/\" rel=\"nofollow\"><strong>JSFiddle</strong></a></p>\n",
      "===========\n",
      "in your example, this doesn't refer to each element in your jquery object. you can either loop through the object or, since .css() handles looping for you, pass a callback function as the second parameter. the context of this function will be each element in the object.\n",
      "jquery has .val() to get the value property of form elements.\n",
      "\n",
      "$(\".color-button\").css(\"background-color\", function(){\r\n",
      "    return $(this).find('input').val();\r\n",
      "});\r\n",
      "\n",
      "jsfiddle\n",
      "===========\n",
      "['in your example, this doesn\\'t refer to each element in your jquery object. you can either loop through the object or, since .css() handles looping for you, pass a callback function as the second parameter. the context of this function will be each element in the object.\\njquery has .val() to get the value property of form elements.\\n\\n$(\".color-button\").css(\"background-color\", function(){\\r\\n    return $(this).find(\\'input\\').val();\\r\\n});\\r\\n\\njsfiddle']\n"
     ]
    }
   ],
   "source": [
    "# tests on the cleaner\n",
    "t1 = predictors()\n",
    "t2 = corpus.iloc[1,3]\n",
    "print(\"===========\")\n",
    "print(t2)\n",
    "print(\"===========\")\n",
    "print(clean_text(t2))\n",
    "print(\"===========\")\n",
    "print(t1.transform([t2]))"
   ]
  },
  {
   "cell_type": "markdown",
   "metadata": {},
   "source": [
    "## tokenizer"
   ]
  },
  {
   "cell_type": "code",
   "execution_count": 22,
   "metadata": {},
   "outputs": [],
   "source": [
    "import string\n",
    "import spacy\n",
    "\n",
    "# Create our list of punctuation marks\n",
    "# TODO more punctuations???\n",
    "punctuations = string.punctuation\n",
    "\n",
    "# Create our list of stopwords\n",
    "# TODO en_core_web_sm ???\n",
    "nlp = spacy.load(\"en\")\n",
    "stop_words = spacy.lang.en.stop_words.STOP_WORDS\n",
    "\n",
    "# Load English tokenizer, tagger, parser, NER and word vectors\n",
    "parser = spacy.lang.en.English()\n",
    "\n",
    "# Creating our tokenizer function\n",
    "def spacy_tokenizer(sentence):\n",
    "    # Creating our token object, which is used to create documents with linguistic annotations.\n",
    "    mytokens = parser(sentence)\n",
    "\n",
    "    # Lemmatizing each token and converting each token into lowercase\n",
    "    mytokens = [ word.lemma_.lower().strip() if word.lemma_ != \"-PRON-\" else word.lower_ for word in mytokens ]\n",
    "\n",
    "    # Removing stop words\n",
    "    mytokens = [ word for word in mytokens if word not in stop_words and word not in punctuations ]\n",
    "\n",
    "    # return preprocessed list of tokens\n",
    "    return mytokens"
   ]
  },
  {
   "cell_type": "markdown",
   "metadata": {},
   "source": [
    "## vectorizer"
   ]
  },
  {
   "cell_type": "code",
   "execution_count": 24,
   "metadata": {},
   "outputs": [],
   "source": [
    "from sklearn.feature_extraction.text import TfidfVectorizer\n",
    "\n",
    "# TODO tweak min doc frequency???\n",
    "vectorizer = TfidfVectorizer(analyzer='word', ngram_range=(1,3), min_df = 0)"
   ]
  },
  {
   "cell_type": "markdown",
   "metadata": {},
   "source": [
    "## train model"
   ]
  },
  {
   "cell_type": "code",
   "execution_count": 27,
   "metadata": {},
   "outputs": [],
   "source": [
    "from sklearn.pipeline import Pipeline\n",
    "\n",
    "# Create pipeline using a custom cleaner, and our vectorizer\n",
    "pipe = Pipeline([\n",
    "    (\"cleaner\", predictors()),\n",
    "    ('vectorizer', vectorizer)\n",
    "])\n",
    "\n",
    "# model generation\n",
    "m1 = pipe.fit_transform(corpus.q_title)"
   ]
  },
  {
   "cell_type": "code",
   "execution_count": 28,
   "metadata": {
    "collapsed": true
   },
   "outputs": [
    {
     "name": "stdout",
     "output_type": "stream",
     "text": [
      "9424\n",
      "['10 12' '10 12 system' '10 android' '10 android runtime' '11' '11 bar'\n",
      " '11 bar graphs' '12' '12 system' '120' '120 170' '120 170 px' '150'\n",
      " '150 markers' '150 markers in' '170' '170 px' '1px' '1px dotted'\n",
      " '1px dotted border' '20' '20 frames' '20 frames per' '2003' '2003 2007'\n",
      " '2003 2007 do' '2007' '2007 do' '2007 do not' '2010' '2010 release'\n",
      " '2011' '2015' '2015 debugger' '2015 debugger visualizers' '2017'\n",
      " '2017 naming' '2017 naming convention' '2d' '2d graphics'\n",
      " '2d graphics library' '2d humanoid' '2d humanoid stickman'\n",
      " '2d optionally' '2d optionally 3d' '32' '32 32' '32 32 px' '32 bit'\n",
      " '32 bit imul' '32 px' '32 px to' '365' '365 using' '365 using work' '3d'\n",
      " '3d cube' '3d cube won' '3d drawing' '3d drawing library' '3d models'\n",
      " '3d models from' '3d occlusion' '3d occlusion culling' '3d points'\n",
      " '3d rotation' '3d rotation matrix' '3d space' '3d space using' '40'\n",
      " '40 words' '40 words of' '50' '50 2010' '50 2010 release' '64' '64 bit'\n",
      " '64 bit result' '90' '90 degs' '90 degs or' 'above' 'above it' 'abstract'\n",
      " 'abstract multiple' 'abstract multiple keywords' 'access'\n",
      " 'access derived' 'access derived objects' 'access kml' 'access kml file'\n",
      " 'access to' 'access to calendars' 'accessing' 'accessing elements'\n",
      " 'accessing elements from' 'accessing kotlin' 'accessing kotlin extension'\n",
      " 'accessing selection']\n"
     ]
    }
   ],
   "source": [
    "# inspect tokens\n",
    "tokens = vectorizer.get_feature_names()\n",
    "print(len(tokens))\n",
    "print(np.asarray(tokens[1:100]))"
   ]
  },
  {
   "cell_type": "code",
   "execution_count": 46,
   "metadata": {},
   "outputs": [],
   "source": [
    "from sklearn.metrics.pairwise import linear_kernel\n",
    "\n",
    "# helper function to compare a input question to every question in the corpus\n",
    "def find_similar(vectorizer, tfidf_matrix, question_input, top_n = 3):\n",
    "    t1 = vectorizer.transform([question_input])\n",
    "    cosine_similarities = linear_kernel(t1, tfidf_matrix).flatten()\n",
    "    related_docs_indices = [i for i in cosine_similarities.argsort()[::-1]]\n",
    "    return [(index, cosine_similarities[index]) for index in related_docs_indices][0:top_n]"
   ]
  },
  {
   "cell_type": "code",
   "execution_count": 35,
   "metadata": {},
   "outputs": [],
   "source": [
    "# helper function to decorate the results found by the find_similar function\n",
    "def decorate_answers(similar_qs, corpus = corpus):\n",
    "    t1 = pd.DataFrame(similar_qs, columns = [\"q_index\", \"cos_similarity\"]).set_index([\"q_index\"])\n",
    "    t2 = corpus.iloc[t1.index]\n",
    "    t3 = pd.concat([t1, t2], axis = 1)\n",
    "    return(t3)"
   ]
  },
  {
   "cell_type": "markdown",
   "metadata": {},
   "source": [
    "# match query"
   ]
  },
  {
   "cell_type": "code",
   "execution_count": 53,
   "metadata": {},
   "outputs": [
    {
     "data": {
      "text/plain": [
       "[(0, 1.0), (76, 0.21873194315878874), (99, 0.17297366660617064)]"
      ]
     },
     "execution_count": 53,
     "metadata": {},
     "output_type": "execute_result"
    }
   ],
   "source": [
    "# match on a question that is an exact match of an existing question\n",
    "# should contain at least 1 match with cosine similarity == 1\n",
    "similar_qs = find_similar(\n",
    "    vectorizer = vectorizer\n",
    "    , tfidf_matrix = m1\n",
    "    , question_input = \"What is the difference between \\r and \\n?\"\n",
    ")\n",
    "similar_qs"
   ]
  },
  {
   "cell_type": "code",
   "execution_count": 54,
   "metadata": {},
   "outputs": [
    {
     "data": {
      "text/html": [
       "<div>\n",
       "<style scoped>\n",
       "    .dataframe tbody tr th:only-of-type {\n",
       "        vertical-align: middle;\n",
       "    }\n",
       "\n",
       "    .dataframe tbody tr th {\n",
       "        vertical-align: top;\n",
       "    }\n",
       "\n",
       "    .dataframe thead th {\n",
       "        text-align: right;\n",
       "    }\n",
       "</style>\n",
       "<table border=\"1\" class=\"dataframe\">\n",
       "  <thead>\n",
       "    <tr style=\"text-align: right;\">\n",
       "      <th></th>\n",
       "      <th>cos_similarity</th>\n",
       "      <th>q_id</th>\n",
       "      <th>q_title</th>\n",
       "      <th>accepted_answer_id</th>\n",
       "      <th>a_body</th>\n",
       "    </tr>\n",
       "  </thead>\n",
       "  <tbody>\n",
       "    <tr>\n",
       "      <td>0</td>\n",
       "      <td>1.000000</td>\n",
       "      <td>1279779</td>\n",
       "      <td>What is the difference between \\r and \\n?</td>\n",
       "      <td>1279802.0</td>\n",
       "      <td>&lt;p&gt;They're different characters. &lt;code&gt;\\r&lt;/code&gt; is carriage return, and &lt;code&gt;\\n&lt;/code&gt; is line feed.&lt;/p&gt;\\r\\n\\r\\n&lt;p&gt;On \"old\" printers, &lt;code&gt;\\r&lt;/code&gt; sent the print head back to the start of the line, and &lt;code&gt;\\n&lt;/code&gt; advanced the paper by one line. Both were therefore necessary to start printing on the next line.&lt;/p&gt;\\r\\n\\r\\n&lt;p&gt;Obviously that's somewhat irrelevant now, although depending on the console you may still be able to use &lt;code&gt;\\r&lt;/code&gt; to move to the start of the line and overwrite the existing text.&lt;/p&gt;\\r\\n\\r\\n&lt;p&gt;More importantly, Unix tends to use &lt;code&gt;\\n&lt;/code&gt; as a line separator; Windows tends to use &lt;code&gt;\\r\\n&lt;/code&gt; as a line separator and Macs (up to OS 9) &lt;em&gt;used&lt;/em&gt; to use &lt;code&gt;\\r&lt;/code&gt; as the line separator. (Mac OS X is Unix-y, so uses &lt;code&gt;\\n&lt;/code&gt; instead; there may be some compatibility situations where &lt;code&gt;\\r&lt;/code&gt; is used instead though.)&lt;/p&gt;\\r\\n\\r\\n&lt;p&gt;For more information, see the &lt;a href=\"http://en.wikipedia.org/wiki/Newline\" rel=\"noreferrer\"&gt;Wikipedia newline article&lt;/a&gt;.&lt;/p&gt;\\r\\n\\r\\n&lt;p&gt;EDIT: This is language-sensitive. In C# and Java, for example, &lt;code&gt;\\n&lt;/code&gt; &lt;em&gt;always&lt;/em&gt; means Unicode U+000A, which is defined as line feed. In C and C++ the water is somewhat muddier, as the meaning is platform-specific. See comments for details.&lt;/p&gt;</td>\n",
       "    </tr>\n",
       "    <tr>\n",
       "      <td>76</td>\n",
       "      <td>0.218732</td>\n",
       "      <td>19610230</td>\n",
       "      <td>What is a \"brush\"?</td>\n",
       "      <td>19610465.0</td>\n",
       "      <td>&lt;p&gt;OK, I found what I was looking for, pretty much:&lt;/p&gt;\\r\\n\\r\\n&lt;blockquote&gt;\\r\\n  &lt;p&gt;Brushing means selecting a subset of the data items with an input device (mouse). This is usually done to highlight this subset, but it can also be done to delete it from the view or to de-emphasize it, if the user wants to focus on the other items.&lt;/p&gt;\\r\\n&lt;/blockquote&gt;\\r\\n\\r\\n&lt;p&gt;Original &lt;a href=\"http://old.vrvis.at/via/resources/DA-RVoigt/node10.html\" rel=\"noreferrer\"&gt;here&lt;/a&gt;.&lt;/p&gt;</td>\n",
       "    </tr>\n",
       "    <tr>\n",
       "      <td>99</td>\n",
       "      <td>0.172974</td>\n",
       "      <td>48626591</td>\n",
       "      <td>Order bars by difference between variables</td>\n",
       "      <td>48627032.0</td>\n",
       "      <td>&lt;p&gt;First of all, you shouldn't include &lt;code&gt;diff&lt;/code&gt; (your result column) when using &lt;code&gt;gather&lt;/code&gt;, it complicates things.&lt;br&gt;\\r\\nChange line &lt;code&gt;gather(na_item, values,  2:7)&lt;/code&gt; to &lt;code&gt;gather(na_item, values, 2:6)&lt;/code&gt;.&lt;/p&gt;\\r\\n\\r\\n&lt;p&gt;You can use this code to calculate difference and order (using &lt;code&gt;dplyr::arange&lt;/code&gt;) rows in descending order:&lt;/p&gt;\\r\\n\\r\\n&lt;pre&gt;&lt;code&gt;plotData &amp;lt;- data_1_4 %&amp;gt;% \\r\\n        spread(na_item, values) %&amp;gt;% \\r\\n        na.omit() %&amp;gt;% \\r\\n        mutate(HH_FIN_EX = P31_S14_S15 / B1GQ, \\r\\n               ACT_IND_CON_EXP = P41 / B1GQ, \\r\\n               diff = ACT_IND_CON_EXP - HH_FIN_EX) %&amp;gt;%\\r\\n        gather(na_item, values, 2:6) %&amp;gt;%\\r\\n        filter(na_item %in% c(\"HH_FIN_EX\", \"ACT_IND_CON_EXP\")) %&amp;gt;%\\r\\n        arrange(desc(diff))\\r\\n&lt;/code&gt;&lt;/pre&gt;\\r\\n\\r\\n&lt;p&gt;And plot it with: &lt;/p&gt;\\r\\n\\r\\n&lt;pre&gt;&lt;code&gt;ggplot(plotData, aes(geo, values, fill = na_item))+\\r\\n    geom_bar(stat = \"identity\", position = \"dodge\", color = \"black\") +\\r\\n    labs(x = \"Countries\", \\r\\n         y = \"As percentage of GDP\") +\\r\\n    scale_x_discrete(limits = plotData$geo)\\r\\n&lt;/code&gt;&lt;/pre&gt;\\r\\n\\r\\n&lt;p&gt;&lt;a href=\"https://i.stack.imgur.com/Wwlds.png\" rel=\"nofollow noreferrer\"&gt;&lt;img src=\"https://i.stack.imgur.com/Wwlds.png\" alt=\"enter image description here\"&gt;&lt;/a&gt;&lt;/p&gt;</td>\n",
       "    </tr>\n",
       "  </tbody>\n",
       "</table>\n",
       "</div>"
      ],
      "text/plain": [
       "    cos_similarity      q_id                                     q_title  \\\n",
       "0   1.000000        1279779   What is the difference between \\r and \\n?    \n",
       "76  0.218732        19610230  What is a \"brush\"?                           \n",
       "99  0.172974        48626591  Order bars by difference between variables   \n",
       "\n",
       "    accepted_answer_id  \\\n",
       "0   1279802.0            \n",
       "76  19610465.0           \n",
       "99  48627032.0           \n",
       "\n",
       "                                                                                                                                                                                                                                                                                                                                                                                                                                                                                                                                                                                                                                                                                                                                                                                                                                                                                                                                                                                                                                                                                                                                                                                                                                                                                                                                                              a_body  \n",
       "0   <p>They're different characters. <code>\\r</code> is carriage return, and <code>\\n</code> is line feed.</p>\\r\\n\\r\\n<p>On \"old\" printers, <code>\\r</code> sent the print head back to the start of the line, and <code>\\n</code> advanced the paper by one line. Both were therefore necessary to start printing on the next line.</p>\\r\\n\\r\\n<p>Obviously that's somewhat irrelevant now, although depending on the console you may still be able to use <code>\\r</code> to move to the start of the line and overwrite the existing text.</p>\\r\\n\\r\\n<p>More importantly, Unix tends to use <code>\\n</code> as a line separator; Windows tends to use <code>\\r\\n</code> as a line separator and Macs (up to OS 9) <em>used</em> to use <code>\\r</code> as the line separator. (Mac OS X is Unix-y, so uses <code>\\n</code> instead; there may be some compatibility situations where <code>\\r</code> is used instead though.)</p>\\r\\n\\r\\n<p>For more information, see the <a href=\"http://en.wikipedia.org/wiki/Newline\" rel=\"noreferrer\">Wikipedia newline article</a>.</p>\\r\\n\\r\\n<p>EDIT: This is language-sensitive. In C# and Java, for example, <code>\\n</code> <em>always</em> means Unicode U+000A, which is defined as line feed. In C and C++ the water is somewhat muddier, as the meaning is platform-specific. See comments for details.</p>         \n",
       "76  <p>OK, I found what I was looking for, pretty much:</p>\\r\\n\\r\\n<blockquote>\\r\\n  <p>Brushing means selecting a subset of the data items with an input device (mouse). This is usually done to highlight this subset, but it can also be done to delete it from the view or to de-emphasize it, if the user wants to focus on the other items.</p>\\r\\n</blockquote>\\r\\n\\r\\n<p>Original <a href=\"http://old.vrvis.at/via/resources/DA-RVoigt/node10.html\" rel=\"noreferrer\">here</a>.</p>                                                                                                                                                                                                                                                                                                                                                                                                                                                                                                                                                                                                                                                                                                                                                                                                                                                                            \n",
       "99  <p>First of all, you shouldn't include <code>diff</code> (your result column) when using <code>gather</code>, it complicates things.<br>\\r\\nChange line <code>gather(na_item, values,  2:7)</code> to <code>gather(na_item, values, 2:6)</code>.</p>\\r\\n\\r\\n<p>You can use this code to calculate difference and order (using <code>dplyr::arange</code>) rows in descending order:</p>\\r\\n\\r\\n<pre><code>plotData &lt;- data_1_4 %&gt;% \\r\\n        spread(na_item, values) %&gt;% \\r\\n        na.omit() %&gt;% \\r\\n        mutate(HH_FIN_EX = P31_S14_S15 / B1GQ, \\r\\n               ACT_IND_CON_EXP = P41 / B1GQ, \\r\\n               diff = ACT_IND_CON_EXP - HH_FIN_EX) %&gt;%\\r\\n        gather(na_item, values, 2:6) %&gt;%\\r\\n        filter(na_item %in% c(\"HH_FIN_EX\", \"ACT_IND_CON_EXP\")) %&gt;%\\r\\n        arrange(desc(diff))\\r\\n</code></pre>\\r\\n\\r\\n<p>And plot it with: </p>\\r\\n\\r\\n<pre><code>ggplot(plotData, aes(geo, values, fill = na_item))+\\r\\n    geom_bar(stat = \"identity\", position = \"dodge\", color = \"black\") +\\r\\n    labs(x = \"Countries\", \\r\\n         y = \"As percentage of GDP\") +\\r\\n    scale_x_discrete(limits = plotData$geo)\\r\\n</code></pre>\\r\\n\\r\\n<p><a href=\"https://i.stack.imgur.com/Wwlds.png\" rel=\"nofollow noreferrer\"><img src=\"https://i.stack.imgur.com/Wwlds.png\" alt=\"enter image description here\"></a></p>  "
      ]
     },
     "execution_count": 54,
     "metadata": {},
     "output_type": "execute_result"
    }
   ],
   "source": [
    "decorate_answers(similar_qs)"
   ]
  },
  {
   "cell_type": "code",
   "execution_count": 50,
   "metadata": {},
   "outputs": [
    {
     "data": {
      "text/plain": [
       "[(421, 0.22415787077417781),\n",
       " (158, 0.21872599155408767),\n",
       " (370, 0.2042866573746666)]"
      ]
     },
     "execution_count": 50,
     "metadata": {},
     "output_type": "execute_result"
    }
   ],
   "source": [
    "# match on a question that is not an existing question\n",
    "similar_qs = find_similar(\n",
    "    vectorizer = vectorizer\n",
    "    , tfidf_matrix = m1\n",
    "    , question_input = \"How do I create a bar chart?\"\n",
    ")\n",
    "similar_qs"
   ]
  },
  {
   "cell_type": "code",
   "execution_count": 51,
   "metadata": {},
   "outputs": [
    {
     "data": {
      "text/html": [
       "<div>\n",
       "<style scoped>\n",
       "    .dataframe tbody tr th:only-of-type {\n",
       "        vertical-align: middle;\n",
       "    }\n",
       "\n",
       "    .dataframe tbody tr th {\n",
       "        vertical-align: top;\n",
       "    }\n",
       "\n",
       "    .dataframe thead th {\n",
       "        text-align: right;\n",
       "    }\n",
       "</style>\n",
       "<table border=\"1\" class=\"dataframe\">\n",
       "  <thead>\n",
       "    <tr style=\"text-align: right;\">\n",
       "      <th></th>\n",
       "      <th>cos_similarity</th>\n",
       "      <th>q_id</th>\n",
       "      <th>q_title</th>\n",
       "      <th>accepted_answer_id</th>\n",
       "      <th>a_body</th>\n",
       "    </tr>\n",
       "  </thead>\n",
       "  <tbody>\n",
       "    <tr>\n",
       "      <td>421</td>\n",
       "      <td>0.224158</td>\n",
       "      <td>13824612</td>\n",
       "      <td>How do Loop this command?</td>\n",
       "      <td>13824655.0</td>\n",
       "      <td>&lt;p&gt;Use a loop, be it a &lt;code&gt;for&lt;/code&gt; or a &lt;code&gt;while&lt;/code&gt;. Using &lt;code&gt;goto&lt;/code&gt; for looping is not used anymore in any &lt;em&gt;modern&lt;/em&gt; language that I can think of! That kind of iteration is used in assembler, or in very primitive scripting/programming languages. Haven't you coded anything in the last, say, 20 years or so? :P&lt;/p&gt;</td>\n",
       "    </tr>\n",
       "    <tr>\n",
       "      <td>158</td>\n",
       "      <td>0.218726</td>\n",
       "      <td>7947150</td>\n",
       "      <td>How do you create multi colored pins in a map?</td>\n",
       "      <td>7948924.0</td>\n",
       "      <td>&lt;p&gt;Try changing:&lt;/p&gt;\\r\\n\\r\\n&lt;pre&gt;&lt;code&gt;if (tempPin.pinType == @\"VENUE\") {\\r\\n&lt;/code&gt;&lt;/pre&gt;\\r\\n\\r\\n&lt;p&gt;to:&lt;/p&gt;\\r\\n\\r\\n&lt;pre&gt;&lt;code&gt;if ([((mapPinAnnotation*)annotation).pinType isEqualToString:@\"VENUE\"]) {\\r\\n&lt;/code&gt;&lt;/pre&gt;</td>\n",
       "    </tr>\n",
       "    <tr>\n",
       "      <td>370</td>\n",
       "      <td>0.204287</td>\n",
       "      <td>54513904</td>\n",
       "      <td>Switch between pie charts and bar chart in highcharts</td>\n",
       "      <td>54514421.0</td>\n",
       "      <td>&lt;p&gt;You can add a custom item to the exporting menu and in &lt;code&gt;click&lt;/code&gt; event use &lt;code&gt;update&lt;/code&gt; method for the chart with new options:&lt;/p&gt;\\r\\n\\r\\n&lt;pre&gt;&lt;code&gt;exporting: {\\r\\n    menuItemDefinitions: {\\r\\n        // Custom definition\\r\\n        switchChart: {\\r\\n            onclick: function() {\\r\\n                var chartType = this.options.chart.type;\\r\\n\\r\\n                this.update({\\r\\n                    chart: {\\r\\n                        type: chartType === 'bar' ? 'pie' : 'bar'\\r\\n                    }\\r\\n                })\\r\\n            },\\r\\n            text: 'Switch chart'\\r\\n        }\\r\\n    },\\r\\n    buttons: {\\r\\n        contextButton: {\\r\\n            menuItems: [\"switchChart\", \"separator\", \"printChart\", \"separator\", \"downloadPNG\", \"downloadJPEG\", \"downloadPDF\", \"downloadSVG\"]\\r\\n        }\\r\\n    }\\r\\n},\\r\\n&lt;/code&gt;&lt;/pre&gt;\\r\\n\\r\\n&lt;p&gt;Live demo: &lt;a href=\"http://jsfiddle.net/BlackLabel/xdsgL6rm/\" rel=\"nofollow noreferrer\"&gt;http://jsfiddle.net/BlackLabel/xdsgL6rm/&lt;/a&gt;&lt;/p&gt;\\r\\n\\r\\n&lt;p&gt;API: &lt;/p&gt;\\r\\n\\r\\n&lt;p&gt;&lt;a href=\"https://api.highcharts.com/highcharts/exporting.buttons.contextButton.menuItems\" rel=\"nofollow noreferrer\"&gt;https://api.highcharts.com/highcharts/exporting.buttons.contextButton.menuItems&lt;/a&gt;&lt;/p&gt;\\r\\n\\r\\n&lt;p&gt;&lt;a href=\"https://api.highcharts.com/class-reference/Highcharts.Chart#update\" rel=\"nofollow noreferrer\"&gt;https://api.highcharts.com/class-reference/Highcharts.Chart#update&lt;/a&gt;&lt;/p&gt;</td>\n",
       "    </tr>\n",
       "  </tbody>\n",
       "</table>\n",
       "</div>"
      ],
      "text/plain": [
       "     cos_similarity      q_id  \\\n",
       "421  0.224158        13824612   \n",
       "158  0.218726        7947150    \n",
       "370  0.204287        54513904   \n",
       "\n",
       "                                                   q_title  \\\n",
       "421  How do Loop this command?                               \n",
       "158  How do you create multi colored pins in a map?          \n",
       "370  Switch between pie charts and bar chart in highcharts   \n",
       "\n",
       "     accepted_answer_id  \\\n",
       "421  13824655.0           \n",
       "158  7948924.0            \n",
       "370  54514421.0           \n",
       "\n",
       "                                                                                                                                                                                                                                                                                                                                                                                                                                                                                                                                                                                                                                                                                                                                                                                                                                                                                                                                                                                                                                                                                                                                                                                                                                                                                                                                                                                                                                                                                     a_body  \n",
       "421  <p>Use a loop, be it a <code>for</code> or a <code>while</code>. Using <code>goto</code> for looping is not used anymore in any <em>modern</em> language that I can think of! That kind of iteration is used in assembler, or in very primitive scripting/programming languages. Haven't you coded anything in the last, say, 20 years or so? :P</p>                                                                                                                                                                                                                                                                                                                                                                                                                                                                                                                                                                                                                                                                                                                                                                                                                                                                                                                                                                                                                                                                                                                                    \n",
       "158  <p>Try changing:</p>\\r\\n\\r\\n<pre><code>if (tempPin.pinType == @\"VENUE\") {\\r\\n</code></pre>\\r\\n\\r\\n<p>to:</p>\\r\\n\\r\\n<pre><code>if ([((mapPinAnnotation*)annotation).pinType isEqualToString:@\"VENUE\"]) {\\r\\n</code></pre>                                                                                                                                                                                                                                                                                                                                                                                                                                                                                                                                                                                                                                                                                                                                                                                                                                                                                                                                                                                                                                                                                                                                                                                                                                                               \n",
       "370  <p>You can add a custom item to the exporting menu and in <code>click</code> event use <code>update</code> method for the chart with new options:</p>\\r\\n\\r\\n<pre><code>exporting: {\\r\\n    menuItemDefinitions: {\\r\\n        // Custom definition\\r\\n        switchChart: {\\r\\n            onclick: function() {\\r\\n                var chartType = this.options.chart.type;\\r\\n\\r\\n                this.update({\\r\\n                    chart: {\\r\\n                        type: chartType === 'bar' ? 'pie' : 'bar'\\r\\n                    }\\r\\n                })\\r\\n            },\\r\\n            text: 'Switch chart'\\r\\n        }\\r\\n    },\\r\\n    buttons: {\\r\\n        contextButton: {\\r\\n            menuItems: [\"switchChart\", \"separator\", \"printChart\", \"separator\", \"downloadPNG\", \"downloadJPEG\", \"downloadPDF\", \"downloadSVG\"]\\r\\n        }\\r\\n    }\\r\\n},\\r\\n</code></pre>\\r\\n\\r\\n<p>Live demo: <a href=\"http://jsfiddle.net/BlackLabel/xdsgL6rm/\" rel=\"nofollow noreferrer\">http://jsfiddle.net/BlackLabel/xdsgL6rm/</a></p>\\r\\n\\r\\n<p>API: </p>\\r\\n\\r\\n<p><a href=\"https://api.highcharts.com/highcharts/exporting.buttons.contextButton.menuItems\" rel=\"nofollow noreferrer\">https://api.highcharts.com/highcharts/exporting.buttons.contextButton.menuItems</a></p>\\r\\n\\r\\n<p><a href=\"https://api.highcharts.com/class-reference/Highcharts.Chart#update\" rel=\"nofollow noreferrer\">https://api.highcharts.com/class-reference/Highcharts.Chart#update</a></p>  "
      ]
     },
     "execution_count": 51,
     "metadata": {},
     "output_type": "execute_result"
    }
   ],
   "source": [
    "decorate_answers(similar_qs)"
   ]
  }
 ],
 "metadata": {
  "kernelspec": {
   "display_name": "Python 3",
   "language": "python",
   "name": "python3"
  },
  "language_info": {
   "codemirror_mode": {
    "name": "ipython",
    "version": 3
   },
   "file_extension": ".py",
   "mimetype": "text/x-python",
   "name": "python",
   "nbconvert_exporter": "python",
   "pygments_lexer": "ipython3",
   "version": "3.7.4"
  }
 },
 "nbformat": 4,
 "nbformat_minor": 2
}
