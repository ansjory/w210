{
 "cells": [
  {
   "cell_type": "code",
   "execution_count": 2,
   "metadata": {},
   "outputs": [],
   "source": [
    "import pandas as pd\n",
    "import numpy as np\n",
    "import spacy\n",
    "\n",
    "import os"
   ]
  },
  {
   "cell_type": "markdown",
   "metadata": {},
   "source": [
    "# pickle???"
   ]
  },
  {
   "cell_type": "code",
   "execution_count": null,
   "metadata": {},
   "outputs": [
    {
     "name": "stdout",
     "output_type": "stream",
     "text": [
      "True\n"
     ]
    }
   ],
   "source": [
    "p1 = \"/mnt/disks/disk-1-w210-data/data/interim/stackexchange/stackoverflow/posts/PostsAfter2015.pkl\"\n",
    "print(os.path.exists(p1))\n",
    "t1 = pd.read_pickle(p1)"
   ]
  },
  {
   "cell_type": "code",
   "execution_count": null,
   "metadata": {},
   "outputs": [],
   "source": [
    "t1.head(3)"
   ]
  },
  {
   "cell_type": "markdown",
   "metadata": {},
   "source": [
    "# Tags"
   ]
  },
  {
   "cell_type": "code",
   "execution_count": 7,
   "metadata": {},
   "outputs": [
    {
     "name": "stdout",
     "output_type": "stream",
     "text": [
      "True\n"
     ]
    }
   ],
   "source": [
    "p2 = \"/mnt/disks/disk-1-w210-data/data/interim/stackexchange/stackoverflow/tags/tags.csv\"\n",
    "print(os.path.exists(p2))\n",
    "t2 = pd.read_csv(p2)"
   ]
  },
  {
   "cell_type": "code",
   "execution_count": 8,
   "metadata": {},
   "outputs": [
    {
     "data": {
      "text/html": [
       "<div>\n",
       "<style scoped>\n",
       "    .dataframe tbody tr th:only-of-type {\n",
       "        vertical-align: middle;\n",
       "    }\n",
       "\n",
       "    .dataframe tbody tr th {\n",
       "        vertical-align: top;\n",
       "    }\n",
       "\n",
       "    .dataframe thead th {\n",
       "        text-align: right;\n",
       "    }\n",
       "</style>\n",
       "<table border=\"1\" class=\"dataframe\">\n",
       "  <thead>\n",
       "    <tr style=\"text-align: right;\">\n",
       "      <th></th>\n",
       "      <th>_Id</th>\n",
       "      <th>_TagName</th>\n",
       "      <th>_Count</th>\n",
       "      <th>_ExcerptPostId</th>\n",
       "      <th>_WikiPostId</th>\n",
       "    </tr>\n",
       "  </thead>\n",
       "  <tbody>\n",
       "    <tr>\n",
       "      <td>0</td>\n",
       "      <td>1</td>\n",
       "      <td>.net</td>\n",
       "      <td>286702</td>\n",
       "      <td>3624959.0</td>\n",
       "      <td>3607476.0</td>\n",
       "    </tr>\n",
       "    <tr>\n",
       "      <td>1</td>\n",
       "      <td>2</td>\n",
       "      <td>html</td>\n",
       "      <td>844699</td>\n",
       "      <td>3673183.0</td>\n",
       "      <td>3673182.0</td>\n",
       "    </tr>\n",
       "    <tr>\n",
       "      <td>2</td>\n",
       "      <td>3</td>\n",
       "      <td>javascript</td>\n",
       "      <td>1862833</td>\n",
       "      <td>3624960.0</td>\n",
       "      <td>3607052.0</td>\n",
       "    </tr>\n",
       "  </tbody>\n",
       "</table>\n",
       "</div>"
      ],
      "text/plain": [
       "   _Id    _TagName   _Count  _ExcerptPostId  _WikiPostId\n",
       "0    1        .net   286702       3624959.0    3607476.0\n",
       "1    2        html   844699       3673183.0    3673182.0\n",
       "2    3  javascript  1862833       3624960.0    3607052.0"
      ]
     },
     "execution_count": 8,
     "metadata": {},
     "output_type": "execute_result"
    }
   ],
   "source": [
    "t2.head(3)"
   ]
  },
  {
   "cell_type": "code",
   "execution_count": 9,
   "metadata": {},
   "outputs": [
    {
     "data": {
      "text/plain": [
       "_Id               55665\n",
       "_TagName          55663\n",
       "_Count            55665\n",
       "_ExcerptPostId    41059\n",
       "_WikiPostId       41059\n",
       "dtype: int64"
      ]
     },
     "execution_count": 9,
     "metadata": {},
     "output_type": "execute_result"
    }
   ],
   "source": [
    "t2.count()"
   ]
  },
  {
   "cell_type": "markdown",
   "metadata": {},
   "source": [
    "# Badges"
   ]
  },
  {
   "cell_type": "code",
   "execution_count": 6,
   "metadata": {},
   "outputs": [
    {
     "name": "stdout",
     "output_type": "stream",
     "text": [
      "True\n",
      "   503090  173925         Teacher  2009-10-21T02:27:31.010  3  False\n",
      "0  503091   69680       Supporter  2009-10-21T02:27:32.243  3  False\n",
      "1  503092  143725  Autobiographer  2009-10-21T02:27:32.477  3  False\n",
      "2  503094  193518          Editor  2009-10-21T02:32:32.340  3  False\n",
      "   143291   6554       Editor  2008-10-07T15:37:31.960  3  False\n",
      "0  143292  13812      Scholar  2008-10-07T15:37:33.253  3  False\n",
      "1  143293  13667      Scholar  2008-10-07T15:37:33.253  3  False\n",
      "2  143294   2131  Nice Answer  2008-10-07T15:37:34.050  3  False\n",
      "   613474  221955 Autobiographer  2010-01-11T00:57:32.687  3  False\n",
      "0  613475  206861    Commentator  2010-01-11T00:57:33.857  3  False\n",
      "1  613476  227123        Teacher  2010-01-11T01:02:30.803  3  False\n",
      "2  613477   19208        Student  2010-01-11T01:02:33.613  3  False\n",
      "   384663  139230           Scholar  2009-07-20T02:02:31.693  3  False\n",
      "0  384664   63156        Tumbleweed  2009-07-20T02:02:33.190  3  False\n",
      "1  384665    4639  Notable Question  2009-07-20T02:02:39.477  2  False\n",
      "2  384667  140822         Supporter  2009-07-20T02:07:31.890  3  False\n",
      "   263406  78359           Teacher  2009-03-19T17:12:31.377  3  False\n",
      "0  263407  70417            Editor  2009-03-19T17:12:31.703  3  False\n",
      "1  263408  18017  Popular Question  2009-03-19T17:12:33.187  3  False\n",
      "2  263409  43277  Popular Question  2009-03-19T17:12:33.187  3  False\n",
      "   323850    1869  Nice Answer  2009-05-27T11:52:34.060  3  False\n",
      "0  323851  106762  Commentator  2009-05-27T11:52:34.233  3  False\n",
      "1  323854   22129       Critic  2009-05-27T11:57:33.223  3  False\n",
      "2  323856   33857  Good Answer  2009-05-27T11:57:35.487  2  False\n",
      "   82946  3718  Teacher  2008-09-15T08:55:03.923  3  False\n",
      "0  82947   994  Teacher  2008-09-15T08:55:03.957  3  False\n",
      "1  82949  3893  Teacher  2008-09-15T08:55:03.957  3  False\n",
      "2  82950  4591  Teacher  2008-09-15T08:55:03.957  3  False\n",
      "   444705  49246           Fanatic  2009-09-04T04:53:00.223  1  False\n",
      "0  444706  33051           Student  2009-09-04T04:57:31.323  3  False\n",
      "1  444707    823  Popular Question  2009-09-04T04:57:33.633  3  False\n",
      "2  444709  69545           Fanatic  2009-09-04T04:57:58.233  1  False\n",
      "   558183   68183 Civic Duty  2009-12-01T03:42:36.877  2  False\n",
      "0  558184  218589    Teacher  2009-12-01T03:47:31.437  3  False\n",
      "1  558185   77298    Student  2009-12-01T03:47:31.687  3  False\n",
      "2  558186  188280     Editor  2009-12-01T03:47:31.967  3  False\n",
      "   203430  14439       Nice Answer  2009-01-05T20:17:33.993  3  False\n",
      "0  203431  49380       Nice Answer  2009-01-05T20:17:34.010  3  False\n",
      "1  203432  27109  Popular Question  2009-01-05T20:17:34.040  3  False\n",
      "2  203433  18927  Popular Question  2009-01-05T20:17:34.057  3  False\n"
     ]
    }
   ],
   "source": [
    "p3 = \"/mnt/disks/disk-1-w210-data/data/interim/stackexchange/stackoverflow/badges\"\n",
    "print(os.path.exists(p3))\n",
    "\n",
    "\n",
    "for root, dirs, files in os.walk(p3):\n",
    "    for file in files:\n",
    "        if file.endswith(\".csv\"):\n",
    "            f1 = os.path.join(root, file)\n",
    "            f = open(f1, 'r')\n",
    "            t3 = pd.read_csv(f)\n",
    "            print(t3.head(3))\n",
    "            f.close()"
   ]
  }
 ],
 "metadata": {
  "kernelspec": {
   "display_name": "Python 3",
   "language": "python",
   "name": "python3"
  },
  "language_info": {
   "codemirror_mode": {
    "name": "ipython",
    "version": 3
   },
   "file_extension": ".py",
   "mimetype": "text/x-python",
   "name": "python",
   "nbconvert_exporter": "python",
   "pygments_lexer": "ipython3",
   "version": "3.7.4"
  }
 },
 "nbformat": 4,
 "nbformat_minor": 2
}
